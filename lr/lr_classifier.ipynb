{
 "cells": [
  {
   "cell_type": "markdown",
   "metadata": {},
   "source": [
    "# Imminent ICU Admission and Prolonged Stay Prediction using Logistic Regression"
   ]
  },
  {
   "cell_type": "markdown",
   "metadata": {},
   "source": [
    "## Imports & Inits"
   ]
  },
  {
   "cell_type": "code",
   "execution_count": null,
   "metadata": {
    "ExecuteTime": {
     "end_time": "2019-08-11T18:39:48.702296Z",
     "start_time": "2019-08-11T18:39:48.509581Z"
    }
   },
   "outputs": [],
   "source": [
    "%load_ext autoreload\n",
    "%autoreload 2"
   ]
  },
  {
   "cell_type": "code",
   "execution_count": null,
   "metadata": {
    "ExecuteTime": {
     "end_time": "2019-08-11T18:39:48.732403Z",
     "start_time": "2019-08-11T18:39:48.703935Z"
    },
    "scrolled": true
   },
   "outputs": [],
   "source": [
    "import sys\n",
    "sys.path.append('../')\n",
    "\n",
    "import matplotlib.pyplot as plt\n",
    "import seaborn as sns\n",
    "sns.set_style(\"darkgrid\")\n",
    "%matplotlib inline\n",
    "\n",
    "import numpy as np\n",
    "np.set_printoptions(precision=2)\n",
    "\n",
    "import re\n",
    "import pandas as pd\n",
    "import pickle\n",
    "from pathlib import Path\n",
    "\n",
    "from sklearn.feature_extraction.text import TfidfVectorizer\n",
    "from sklearn.linear_model import LogisticRegression\n",
    "from spacy.lang.en.stop_words import STOP_WORDS\n",
    "\n",
    "from utils.splits import set_group_splits\n",
    "from utils.metrics import BinaryAvgMetrics, get_best_model\n",
    "from utils.plots import *\n",
    "from args import args\n",
    "vars(args)"
   ]
  },
  {
   "cell_type": "code",
   "execution_count": null,
   "metadata": {
    "ExecuteTime": {
     "end_time": "2019-08-11T18:39:48.759197Z",
     "start_time": "2019-08-11T18:39:48.733810Z"
    }
   },
   "outputs": [],
   "source": [
    "def get_top_markers(feature_names, scores, n_markers=50):\n",
    "  p = re.compile('^[a-z\\s]+$')\n",
    "  sorted_idxs = np.argsort(scores)\n",
    "  markers = []\n",
    "  wts = []\n",
    "\n",
    "  for i in sorted_idxs:\n",
    "    marker = feature_names[i]\n",
    "    is_stop = False\n",
    "    for word in marker.split():\n",
    "      if word in STOP_WORDS or len(word) < 5:\n",
    "        is_stop = True\n",
    "        break\n",
    "    if p.match(marker) and not is_stop:\n",
    "      markers.append(marker)\n",
    "      wts.append(scores[i])\n",
    "\n",
    "  wts = np.asarray(wts)\n",
    "  df = pd.DataFrame({'markers': markers, 'score': wts/wts.sum()}, columns=['markers', 'score'])\n",
    "  \n",
    "  return df.head(n_markers), df.tail(n_markers).sort_values(by='score').reset_index(drop=True)"
   ]
  },
  {
   "cell_type": "markdown",
   "metadata": {},
   "source": [
    "## LR Model Dev"
   ]
  },
  {
   "cell_type": "code",
   "execution_count": null,
   "metadata": {
    "ExecuteTime": {
     "end_time": "2019-08-11T18:28:29.370792Z",
     "start_time": "2019-08-11T18:28:27.482928Z"
    }
   },
   "outputs": [],
   "source": [
    "seed = 643\n",
    "ori_df = pd.read_csv(args.dataset_csv, usecols=args.cols, parse_dates=args.dates)\n",
    "ia_df = ori_df.loc[(ori_df['imminent_adm_label'] != -1)][args.imminent_adm_cols].reset_index(drop=True)\n",
    "ps_df = ori_df.loc[(ori_df['chartinterval'] != 0)][args.prolonged_stay_cols].reset_index(drop=True)\n",
    "\n",
    "print(ia_df.shape)\n",
    "print(ps_df.shape)"
   ]
  },
  {
   "cell_type": "markdown",
   "metadata": {},
   "source": [
    "### Imminent ICU Admission"
   ]
  },
  {
   "cell_type": "code",
   "execution_count": null,
   "metadata": {
    "ExecuteTime": {
     "end_time": "2019-08-11T18:28:29.429475Z",
     "start_time": "2019-08-11T18:28:29.372385Z"
    }
   },
   "outputs": [],
   "source": [
    "df = set_group_splits(ia_df.copy(), group_col='hadm_id', seed=seed)\n",
    "vectorizer = TfidfVectorizer(sublinear_tf=True, ngram_range=(1,2), binary=True, max_features=60_000)"
   ]
  },
  {
   "cell_type": "code",
   "execution_count": null,
   "metadata": {
    "ExecuteTime": {
     "end_time": "2019-08-11T18:28:52.532363Z",
     "start_time": "2019-08-11T18:28:29.430785Z"
    }
   },
   "outputs": [],
   "source": [
    "x_train = vectorizer.fit_transform(df.loc[(df['split'] == 'train')]['processed_note'])\n",
    "x_test = vectorizer.transform(df.loc[(df['split'] == 'test')]['processed_note'])\n",
    "y_train = df.loc[(df['split'] == 'train')]['imminent_adm_label'].to_numpy()\n",
    "y_test = df.loc[(df['split'] == 'test')]['imminent_adm_label'].to_numpy()\n",
    "df.shape, x_train.shape, x_test.shape, y_train.shape, y_test.shape"
   ]
  },
  {
   "cell_type": "code",
   "execution_count": null,
   "metadata": {
    "ExecuteTime": {
     "end_time": "2019-08-11T18:28:52.575354Z",
     "start_time": "2019-08-11T18:28:52.534375Z"
    }
   },
   "outputs": [],
   "source": [
    "params = {\n",
    "  'class_weight': 'balanced',\n",
    "  'solver': 'liblinear',\n",
    "  'multi_class': 'ovr',\n",
    "  'dual': True,\n",
    "  'C': 0.336\n",
    "}"
   ]
  },
  {
   "cell_type": "code",
   "execution_count": null,
   "metadata": {
    "ExecuteTime": {
     "end_time": "2019-08-11T18:28:53.632468Z",
     "start_time": "2019-08-11T18:28:52.578689Z"
    }
   },
   "outputs": [],
   "source": [
    "clf = LogisticRegression(**params)\n",
    "\n",
    "clf.fit(x_train, y_train)\n",
    "prob = clf.predict_proba(x_test)[:, 1]"
   ]
  },
  {
   "cell_type": "code",
   "execution_count": null,
   "metadata": {
    "ExecuteTime": {
     "end_time": "2019-08-11T18:28:54.425420Z",
     "start_time": "2019-08-11T18:28:53.634487Z"
    }
   },
   "outputs": [],
   "source": [
    "fig, ax = plt.subplots(figsize=(20, 10))\n",
    "plot_youden(ax, y_test, prob, 0.1, 0.9, 40)"
   ]
  },
  {
   "cell_type": "code",
   "execution_count": null,
   "metadata": {
    "ExecuteTime": {
     "end_time": "2019-08-11T18:28:55.482025Z",
     "start_time": "2019-08-11T18:28:54.427043Z"
    }
   },
   "outputs": [],
   "source": [
    "fig, ax = plt.subplots(figsize=(20, 10))\n",
    "plot_thresh_range(ax, y_test, prob, 0.1, 0.9, 40)"
   ]
  },
  {
   "cell_type": "code",
   "execution_count": null,
   "metadata": {
    "ExecuteTime": {
     "end_time": "2019-08-11T18:28:55.762107Z",
     "start_time": "2019-08-11T18:28:55.483646Z"
    }
   },
   "outputs": [],
   "source": [
    "fig, ax = plt.subplots(figsize=(10,8))\n",
    "plot_roc(ax, y_test, prob)"
   ]
  },
  {
   "cell_type": "code",
   "execution_count": null,
   "metadata": {
    "ExecuteTime": {
     "end_time": "2019-08-11T18:28:55.817478Z",
     "start_time": "2019-08-11T18:28:55.763523Z"
    }
   },
   "outputs": [],
   "source": [
    "thresh = 0.45\n",
    "y_pred = (prob > thresh).astype(np.int64)\n",
    "cm = confusion_matrix(y_test, y_pred)\n",
    "tn,fp,fn,tp = cm[0][0],cm[0][1],cm[1][0],cm[1][1]\n",
    "sensitivity = tp/(tp+fn)\n",
    "specificity = tn/(tn+fp)\n",
    "ppv = tp/(tp+fp)\n",
    "npv = tn/(tn+fn)\n",
    "f1 = (2*ppv*sensitivity)/(ppv+sensitivity)\n",
    "auroc = roc_auc_score(y_test, prob)\n",
    "\n",
    "d = {\n",
    "  'sensitivity': np.round(sensitivity, 3),\n",
    "  'specificity': np.round(specificity, 3),\n",
    "  'ppv': np.round(ppv, 3),\n",
    "  'npv': np.round(npv, 3),\n",
    "  'f1': np.round(f1, 3),\n",
    "  'auroc': np.round(auroc, 3),\n",
    "}\n",
    "\n",
    "metrics = pd.DataFrame(d.values(), index=d.keys(), columns=['Value'])\n",
    "metrics"
   ]
  },
  {
   "cell_type": "code",
   "execution_count": null,
   "metadata": {
    "ExecuteTime": {
     "end_time": "2019-08-11T18:28:56.074168Z",
     "start_time": "2019-08-11T18:28:55.818840Z"
    },
    "code_folding": []
   },
   "outputs": [],
   "source": [
    "fig, ax = plt.subplots(figsize=(10, 8))\n",
    "plot_confusion_matrix(ax, cm, classes=['Delayed', 'Imminent'], normalize=False, title='Confusion matrix')"
   ]
  },
  {
   "cell_type": "code",
   "execution_count": null,
   "metadata": {
    "ExecuteTime": {
     "end_time": "2019-08-11T18:28:56.102917Z",
     "start_time": "2019-08-11T18:28:56.075745Z"
    }
   },
   "outputs": [],
   "source": [
    "# scores = clf.coef_[0]/clf.coef_[0].sum()\n",
    "\n",
    "# fig, ax = plt.subplots(1, 2, figsize=(20, 10))\n",
    "# neg_cloud, pos_cloud = get_wordcloud(vectorizer.get_feature_names(), scores, n_words=50)\n",
    "# ax[0].imshow(neg_cloud)\n",
    "# ax[0].axis('off')\n",
    "# ax[0].set_title('Delayed ICU Admission')\n",
    "# ax[1].imshow(pos_cloud)\n",
    "# ax[1].axis('off')\n",
    "# ax[1].set_title('Imminent ICU Admission')"
   ]
  },
  {
   "cell_type": "code",
   "execution_count": null,
   "metadata": {
    "ExecuteTime": {
     "end_time": "2019-08-11T18:28:56.280655Z",
     "start_time": "2019-08-11T18:28:56.104419Z"
    }
   },
   "outputs": [],
   "source": [
    "pos_df, neg_df = get_top_markers(vectorizer.get_feature_names(), clf.coef_[0], n_markers=50)\n",
    "neg_df['score'] = -neg_df['score']"
   ]
  },
  {
   "cell_type": "code",
   "execution_count": null,
   "metadata": {
    "ExecuteTime": {
     "end_time": "2019-08-11T18:29:03.351189Z",
     "start_time": "2019-08-11T18:28:56.282322Z"
    }
   },
   "outputs": [],
   "source": [
    "fig, ax = plt.subplots(1, 2, figsize=(15, 15))\n",
    "sns.barplot(x='score', y='markers', data=pos_df, color='b', ax=ax[0])\n",
    "sns.barplot(x='score', y='markers', data=neg_df, color='b', ax=ax[1])\n",
    "ax[0].set_xlabel('')\n",
    "ax[1].set_xlabel('')\n",
    "ax[1].set_ylabel('')\n",
    "\n",
    "plt.subplots_adjust(wspace = 0.3)\n",
    "fig.text(0.5, 0.1, 'Score', ha='center')\n",
    "fig.savefig(args.figdir/'markers.tif', dpi=300)"
   ]
  },
  {
   "cell_type": "markdown",
   "metadata": {},
   "source": [
    "### Prolonged ICU Stay"
   ]
  },
  {
   "cell_type": "code",
   "execution_count": null,
   "metadata": {
    "ExecuteTime": {
     "end_time": "2019-08-08T21:21:31.258735Z",
     "start_time": "2019-08-08T21:21:30.834482Z"
    }
   },
   "outputs": [],
   "source": [
    "df = set_group_splits(ps_df.copy(), group_col='hadm_id', seed=seed)\n",
    "vectorizer = TfidfVectorizer(sublinear_tf=True, ngram_range=(1,2), binary=True, max_features=60_000)"
   ]
  },
  {
   "cell_type": "code",
   "execution_count": null,
   "metadata": {
    "ExecuteTime": {
     "end_time": "2019-08-08T21:22:00.518180Z",
     "start_time": "2019-08-08T21:21:31.260554Z"
    }
   },
   "outputs": [],
   "source": [
    "x_train = vectorizer.fit_transform(df.loc[(df['split'] == 'train')]['processed_note'])\n",
    "x_test = vectorizer.transform(df.loc[(df['split'] == 'test')]['processed_note'])\n",
    "y_train = df.loc[(df['split'] == 'train')]['prolonged_stay_label'].to_numpy()\n",
    "y_test = df.loc[(df['split'] == 'test')]['prolonged_stay_label'].to_numpy()\n",
    "df.shape, x_train.shape, x_test.shape, y_train.shape, y_test.shape"
   ]
  },
  {
   "cell_type": "code",
   "execution_count": null,
   "metadata": {
    "ExecuteTime": {
     "end_time": "2019-08-08T21:22:00.554996Z",
     "start_time": "2019-08-08T21:22:00.520608Z"
    }
   },
   "outputs": [],
   "source": [
    "params = {\n",
    "  'class_weight': 'balanced',\n",
    "  'solver': 'liblinear',\n",
    "  'multi_class': 'ovr',\n",
    "  'dual': True,\n",
    "}"
   ]
  },
  {
   "cell_type": "code",
   "execution_count": null,
   "metadata": {
    "ExecuteTime": {
     "end_time": "2019-08-08T21:22:02.066194Z",
     "start_time": "2019-08-08T21:22:00.556940Z"
    }
   },
   "outputs": [],
   "source": [
    "clf = LogisticRegression(**params)\n",
    "\n",
    "clf.fit(x_train, y_train)\n",
    "prob = clf.predict_proba(x_test)[:, 1]"
   ]
  },
  {
   "cell_type": "code",
   "execution_count": null,
   "metadata": {
    "ExecuteTime": {
     "end_time": "2019-08-08T21:22:02.859592Z",
     "start_time": "2019-08-08T21:22:02.067691Z"
    }
   },
   "outputs": [],
   "source": [
    "fig, ax = plt.subplots(figsize=(20, 10))\n",
    "plot_youden(ax, y_test, prob, 0.1, 0.9, 40)"
   ]
  },
  {
   "cell_type": "code",
   "execution_count": null,
   "metadata": {
    "ExecuteTime": {
     "end_time": "2019-08-08T21:22:03.909409Z",
     "start_time": "2019-08-08T21:22:02.860781Z"
    }
   },
   "outputs": [],
   "source": [
    "fig, ax = plt.subplots(figsize=(20, 10))\n",
    "plot_thresh_range(ax, y_test, prob, 0.1, 0.89, 40)"
   ]
  },
  {
   "cell_type": "code",
   "execution_count": null,
   "metadata": {
    "ExecuteTime": {
     "end_time": "2019-08-08T21:22:04.360632Z",
     "start_time": "2019-08-08T21:22:03.910716Z"
    }
   },
   "outputs": [],
   "source": [
    "fig, ax = plt.subplots(figsize=(10,8))\n",
    "plot_roc(ax, y_test, prob)"
   ]
  },
  {
   "cell_type": "code",
   "execution_count": null,
   "metadata": {
    "ExecuteTime": {
     "end_time": "2019-08-08T21:22:04.407563Z",
     "start_time": "2019-08-08T21:22:04.362454Z"
    }
   },
   "outputs": [],
   "source": [
    "thresh = 0.41\n",
    "y_pred = (prob > thresh).astype(np.int64)\n",
    "cm = confusion_matrix(y_test, y_pred)\n",
    "tn,fp,fn,tp = cm[0][0],cm[0][1],cm[1][0],cm[1][1]\n",
    "prevalence = (fn+tp)/(tn+fp+fn+tp)\n",
    "sensitivity = tp/(tp+fn)\n",
    "specificity = tn/(tn+fp)\n",
    "ppv = tp/(tp+fp)\n",
    "npv = tn/(tn+fn)\n",
    "f1 = (2*ppv*sensitivity)/(ppv+sensitivity)\n",
    "auroc = roc_auc_score(y_test, prob)\n",
    "\n",
    "d = {\n",
    "  'sensitivity': np.round(sensitivity, 3),\n",
    "  'specificity': np.round(specificity, 3),\n",
    "  'ppv': np.round(ppv, 3),\n",
    "  'npv': np.round(npv, 3),\n",
    "  'f1': np.round(f1, 3),\n",
    "  'auroc': np.round(auroc, 3),\n",
    "  'prevalence': np.round(prevalence, 3),  \n",
    "}\n",
    "\n",
    "metrics = pd.DataFrame(d.values(), index=d.keys(), columns=['Value'])\n",
    "metrics"
   ]
  },
  {
   "cell_type": "code",
   "execution_count": null,
   "metadata": {
    "ExecuteTime": {
     "end_time": "2019-08-08T21:22:04.650188Z",
     "start_time": "2019-08-08T21:22:04.408704Z"
    },
    "code_folding": []
   },
   "outputs": [],
   "source": [
    "fig, ax = plt.subplots(figsize=(10, 8))\n",
    "plot_confusion_matrix(ax, cm, classes=['Short Stay', 'Prolonged Stay'], normalize=False, title='Confusion matrix')"
   ]
  },
  {
   "cell_type": "code",
   "execution_count": null,
   "metadata": {
    "ExecuteTime": {
     "end_time": "2019-07-10T10:15:35.919691Z",
     "start_time": "2019-07-10T10:15:34.930400Z"
    }
   },
   "outputs": [],
   "source": [
    "# scores = clf.coef_[0]/clf.coef_[0].sum()\n",
    "\n",
    "# fig, ax = plt.subplots(1, 2, figsize=(20, 10))\n",
    "# neg_cloud, pos_cloud = get_wordcloud(vectorizer.get_feature_names(), scores, n_words=50)\n",
    "# ax[0].imshow(neg_cloud)\n",
    "# ax[0].axis('off')\n",
    "# ax[0].set_title('Short Stay')\n",
    "# ax[1].imshow(pos_cloud)\n",
    "# ax[1].axis('off')\n",
    "# ax[1].set_title('Prolonged Stay')"
   ]
  },
  {
   "cell_type": "code",
   "execution_count": null,
   "metadata": {
    "ExecuteTime": {
     "end_time": "2019-08-08T21:22:04.826335Z",
     "start_time": "2019-08-08T21:22:04.652621Z"
    }
   },
   "outputs": [],
   "source": [
    "pos_df, neg_df = get_top_markers(vectorizer.get_feature_names(), clf.coef_[0])"
   ]
  },
  {
   "cell_type": "code",
   "execution_count": null,
   "metadata": {
    "ExecuteTime": {
     "end_time": "2019-08-08T21:22:06.221936Z",
     "start_time": "2019-08-08T21:22:04.827651Z"
    }
   },
   "outputs": [],
   "source": [
    "fig, ax = plt.subplots(1, 2, figsize=(15, 15))\n",
    "sns.barplot(x='score', y='markers', data=pos_df, color='b', ax=ax[0])\n",
    "sns.barplot(x='score', y='markers', data=neg_df, color='b', ax=ax[1])\n",
    "ax[0].set_xlabel('')\n",
    "ax[1].set_xlabel('')\n",
    "ax[1].set_ylabel('')\n",
    "\n",
    "plt.subplots_adjust(wspace = 0.3)\n",
    "fig.text(0.5, 0.1, 'Score', ha='center')"
   ]
  },
  {
   "cell_type": "markdown",
   "metadata": {},
   "source": [
    "## Metrics"
   ]
  },
  {
   "cell_type": "markdown",
   "metadata": {},
   "source": [
    "Taken from [here](https://www.dataschool.io/simple-guide-to-confusion-matrix-terminology/):\n",
    "\n",
    "1. Prevalence: `(fn + tp) / total`\n",
    "2. Sensitivity: AKA recall, true positive rate `tp / (tp + fn)`\n",
    "3. Specificity: AKA true negative rate `tn / (tn + fp)`\n",
    "4. Positive Predictive Value (PPV): AKA precision `tp / (tp + fp)`\n",
    "5. Negative Predictive Value (NPV): `tn / (tn + fn)`"
   ]
  },
  {
   "cell_type": "markdown",
   "metadata": {},
   "source": [
    "### Imminent ICU Admission"
   ]
  },
  {
   "cell_type": "code",
   "execution_count": null,
   "metadata": {
    "ExecuteTime": {
     "end_time": "2019-07-10T10:15:36.515085Z",
     "start_time": "2019-07-10T10:15:35.921533Z"
    }
   },
   "outputs": [],
   "source": [
    "with open(args.workdir/f'imminent_adm_preds.pkl', 'rb') as f:\n",
    "  targs = pickle.load(f)\n",
    "  preds = pickle.load(f)\n",
    "  probs = pickle.load(f)\n",
    "\n",
    "fnames = [f'imminent_adm_seed_{seed}.pkl' for seed in range(args.start_seed, args.start_seed + 100)]\n",
    "bam = BinaryAvgMetrics(targs, preds, probs)"
   ]
  },
  {
   "cell_type": "code",
   "execution_count": null,
   "metadata": {
    "ExecuteTime": {
     "end_time": "2019-07-10T10:15:36.796622Z",
     "start_time": "2019-07-10T10:15:36.518581Z"
    }
   },
   "outputs": [],
   "source": [
    "bam.get_avg_metrics(conf=0.95)"
   ]
  },
  {
   "cell_type": "code",
   "execution_count": null,
   "metadata": {
    "ExecuteTime": {
     "end_time": "2019-07-10T10:15:37.074200Z",
     "start_time": "2019-07-10T10:15:36.798743Z"
    }
   },
   "outputs": [],
   "source": [
    "get_best_model(bam, fnames)"
   ]
  },
  {
   "cell_type": "code",
   "execution_count": null,
   "metadata": {
    "ExecuteTime": {
     "end_time": "2019-07-10T10:15:37.640657Z",
     "start_time": "2019-07-10T10:15:37.075960Z"
    },
    "scrolled": false
   },
   "outputs": [],
   "source": [
    "fig, ax = plt.subplots(figsize=(10, 8))\n",
    "plot_mean_roc(ax, bam.targs, bam.probs, is_individual=False)"
   ]
  },
  {
   "cell_type": "code",
   "execution_count": null,
   "metadata": {
    "ExecuteTime": {
     "end_time": "2019-07-10T10:15:38.117222Z",
     "start_time": "2019-07-10T10:15:37.642652Z"
    }
   },
   "outputs": [],
   "source": [
    "fig, ax = plt.subplots(figsize=(10, 8))\n",
    "plot_confusion_matrix(ax, bam.cm_avg, classes=['Delayed', 'Imminent'], normalize=False, title='Confusion matrix')"
   ]
  },
  {
   "cell_type": "markdown",
   "metadata": {},
   "source": [
    "### Prolonged ICU Stay"
   ]
  },
  {
   "cell_type": "code",
   "execution_count": null,
   "metadata": {
    "ExecuteTime": {
     "end_time": "2019-07-10T10:15:38.864076Z",
     "start_time": "2019-07-10T10:15:38.119011Z"
    }
   },
   "outputs": [],
   "source": [
    "with open(args.workdir/f'prolonged_stay_preds.pkl', 'rb') as f:\n",
    "  targs = pickle.load(f)\n",
    "  preds = pickle.load(f)\n",
    "  probs = pickle.load(f)\n",
    "\n",
    "fnames = [f'prolonged_stay_seed_{seed}.pkl' for seed in range(args.start_seed, args.start_seed + 100)]\n",
    "bam = BinaryAvgMetrics(targs, preds, probs)"
   ]
  },
  {
   "cell_type": "code",
   "execution_count": null,
   "metadata": {
    "ExecuteTime": {
     "end_time": "2019-07-10T10:15:39.300809Z",
     "start_time": "2019-07-10T10:15:38.866030Z"
    }
   },
   "outputs": [],
   "source": [
    "bam.get_avg_metrics(conf=0.95)"
   ]
  },
  {
   "cell_type": "code",
   "execution_count": null,
   "metadata": {
    "ExecuteTime": {
     "end_time": "2019-07-10T10:15:39.707763Z",
     "start_time": "2019-07-10T10:15:39.303139Z"
    }
   },
   "outputs": [],
   "source": [
    "get_best_model(bam, fnames)"
   ]
  },
  {
   "cell_type": "code",
   "execution_count": null,
   "metadata": {
    "ExecuteTime": {
     "end_time": "2019-07-10T10:15:40.236927Z",
     "start_time": "2019-07-10T10:15:39.709441Z"
    }
   },
   "outputs": [],
   "source": [
    "fig, ax = plt.subplots(figsize=(10, 8))\n",
    "plot_mean_roc(ax, bam.targs, bam.probs)"
   ]
  },
  {
   "cell_type": "code",
   "execution_count": null,
   "metadata": {
    "ExecuteTime": {
     "end_time": "2019-07-10T10:15:40.550661Z",
     "start_time": "2019-07-10T10:15:40.238468Z"
    }
   },
   "outputs": [],
   "source": [
    "fig, ax = plt.subplots(figsize=(10, 8))\n",
    "plot_confusion_matrix(ax, bam.cm_avg, classes=['Short Stay', 'Prolonged Stay'], normalize=False, title='Confusion matrix')"
   ]
  },
  {
   "cell_type": "markdown",
   "metadata": {},
   "source": [
    "## Full Data"
   ]
  },
  {
   "cell_type": "code",
   "execution_count": null,
   "metadata": {
    "ExecuteTime": {
     "end_time": "2019-07-10T10:15:43.095680Z",
     "start_time": "2019-07-10T10:15:40.552984Z"
    }
   },
   "outputs": [],
   "source": [
    "seed = 643\n",
    "ori_df = pd.read_csv(args.dataset_csv, usecols=args.cols, parse_dates=args.dates)\n",
    "ori_df['relative_charttime'] = (ori_df['charttime'] - ori_df['intime'])\n",
    "\n",
    "ia_df = ori_df.loc[(ori_df['imminent_adm_label'] != -1)][args.imminent_adm_cols + ['relative_charttime']].reset_index(drop=True)\n",
    "\n",
    "ps_df = ori_df.loc[(ori_df['chartinterval'] != 0)][args.prolonged_stay_cols + ['relative_charttime']].reset_index(drop=True)"
   ]
  },
  {
   "cell_type": "code",
   "execution_count": null,
   "metadata": {
    "ExecuteTime": {
     "end_time": "2019-07-10T10:15:43.134506Z",
     "start_time": "2019-07-10T10:15:43.097921Z"
    }
   },
   "outputs": [],
   "source": [
    "interval_hours = 12\n",
    "starting_day = -20\n",
    "ending_day = -1"
   ]
  },
  {
   "cell_type": "markdown",
   "metadata": {},
   "source": [
    "### Predict Imminent ICU Admission"
   ]
  },
  {
   "cell_type": "code",
   "execution_count": null,
   "metadata": {
    "ExecuteTime": {
     "end_time": "2019-07-10T10:15:51.172851Z",
     "start_time": "2019-07-10T10:15:43.136318Z"
    }
   },
   "outputs": [],
   "source": [
    "df = set_group_splits(ia_df.copy(), pct=0.25, group_col='hadm_id', seed=seed)\n",
    "df['prob'] = -1\n",
    "\n",
    "vectorizer = TfidfVectorizer(min_df=args.min_freq, analyzer=str.split, sublinear_tf=True, ngram_range=(2,2))\n",
    "x_train = vectorizer.fit_transform(df.loc[(df['split'] == 'train')]['processed_note'])\n",
    "x_test = vectorizer.transform(df.loc[(df['split'] == 'test')]['processed_note'])\n",
    "y_train = df.loc[(df['split'] == 'train')]['imminent_adm_label'].to_numpy()\n",
    "y_test = df.loc[(df['split'] == 'test')]['imminent_adm_label'].to_numpy()\n",
    "df.shape, x_train.shape, x_test.shape, y_train.shape, y_test.shape"
   ]
  },
  {
   "cell_type": "code",
   "execution_count": null,
   "metadata": {
    "ExecuteTime": {
     "end_time": "2019-07-10T10:15:51.926605Z",
     "start_time": "2019-07-10T10:15:51.174574Z"
    }
   },
   "outputs": [],
   "source": [
    "from args import ia_params\n",
    "clf = LogisticRegression(**ia_params)\n",
    "\n",
    "clf.fit(x_train, y_train)\n",
    "df.loc[(df['split'] == 'test'), 'prob'] = clf.predict_proba(x_test)[:, 1]"
   ]
  },
  {
   "cell_type": "code",
   "execution_count": null,
   "metadata": {
    "ExecuteTime": {
     "end_time": "2019-07-10T10:15:54.018798Z",
     "start_time": "2019-07-10T10:15:51.928012Z"
    },
    "scrolled": false
   },
   "outputs": [],
   "source": [
    "fig, ax = plt.subplots(figsize=(15, 8))\n",
    "plot_prob(ax, df.loc[(df['split'] == 'test')], args.ia_thresh, starting_day, ending_day, interval_hours)"
   ]
  },
  {
   "cell_type": "code",
   "execution_count": null,
   "metadata": {
    "ExecuteTime": {
     "end_time": "2019-07-10T10:15:54.046264Z",
     "start_time": "2019-07-10T10:15:54.020156Z"
    }
   },
   "outputs": [],
   "source": [
    "scores = clf.coef_[0]/clf.coef_[0].sum()"
   ]
  },
  {
   "cell_type": "code",
   "execution_count": null,
   "metadata": {
    "ExecuteTime": {
     "end_time": "2019-07-10T10:15:54.787008Z",
     "start_time": "2019-07-10T10:15:54.047686Z"
    }
   },
   "outputs": [],
   "source": [
    "fig, ax = plt.subplots(1, 2, figsize=(20, 10))\n",
    "neg_cloud, pos_cloud = get_wordcloud(vectorizer.get_feature_names(), scores, n_words=50)\n",
    "ax[0].imshow(neg_cloud)\n",
    "ax[0].axis('off')\n",
    "ax[0].set_title('Negative Class')\n",
    "ax[1].imshow(pos_cloud)\n",
    "ax[1].axis('off')\n",
    "ax[1].set_title('Positive Class')"
   ]
  },
  {
   "cell_type": "markdown",
   "metadata": {},
   "source": [
    "### Predict Prolonged ICU Stay"
   ]
  },
  {
   "cell_type": "code",
   "execution_count": null,
   "metadata": {
    "ExecuteTime": {
     "end_time": "2019-07-10T10:16:02.744235Z",
     "start_time": "2019-07-10T10:15:54.788349Z"
    }
   },
   "outputs": [],
   "source": [
    "df = set_group_splits(ps_df.copy(), pct=0.25, group_col='hadm_id', seed=seed)\n",
    "df['prob'] = -1\n",
    "\n",
    "vectorizer = TfidfVectorizer(min_df=args.min_freq, analyzer=str.split, sublinear_tf=True, ngram_range=(2,2))\n",
    "x_train = vectorizer.fit_transform(df.loc[(df['split'] == 'train')]['processed_note'])\n",
    "x_test = vectorizer.transform(df.loc[(df['split'] == 'test')]['processed_note'])\n",
    "y_train = df.loc[(df['split'] == 'train')]['prolonged_stay_label'].to_numpy()\n",
    "y_test = df.loc[(df['split'] == 'test')]['prolonged_stay_label'].to_numpy()\n",
    "df.shape, x_train.shape, x_test.shape, y_train.shape, y_test.shape"
   ]
  },
  {
   "cell_type": "code",
   "execution_count": null,
   "metadata": {
    "ExecuteTime": {
     "end_time": "2019-07-10T10:16:03.623618Z",
     "start_time": "2019-07-10T10:16:02.745782Z"
    }
   },
   "outputs": [],
   "source": [
    "from args import ps_params\n",
    "clf = LogisticRegression(**ps_params)\n",
    "\n",
    "clf.fit(x_train, y_train)\n",
    "df.loc[(df['split'] == 'test'), 'prob'] = clf.predict_proba(x_test)[:, 1]"
   ]
  },
  {
   "cell_type": "code",
   "execution_count": null,
   "metadata": {
    "ExecuteTime": {
     "end_time": "2019-07-10T10:16:06.193065Z",
     "start_time": "2019-07-10T10:16:03.624876Z"
    }
   },
   "outputs": [],
   "source": [
    "fig, ax = plt.subplots(figsize=(15, 8))\n",
    "plot_prob(ax, df.loc[(df['split'] == 'test')], args.ia_thresh, starting_day, ending_day, interval_hours)"
   ]
  },
  {
   "cell_type": "code",
   "execution_count": null,
   "metadata": {
    "ExecuteTime": {
     "end_time": "2019-07-10T10:16:06.234940Z",
     "start_time": "2019-07-10T10:16:06.194274Z"
    }
   },
   "outputs": [],
   "source": [
    "scores = clf.coef_[0]/clf.coef_[0].sum()"
   ]
  },
  {
   "cell_type": "code",
   "execution_count": null,
   "metadata": {
    "ExecuteTime": {
     "end_time": "2019-07-10T10:16:07.027190Z",
     "start_time": "2019-07-10T10:16:06.236125Z"
    }
   },
   "outputs": [],
   "source": [
    "fig, ax = plt.subplots(1, 2, figsize=(20, 10))\n",
    "neg_cloud, pos_cloud = get_wordcloud(vectorizer.get_feature_names(), scores, n_words=50)\n",
    "ax[0].imshow(neg_cloud)\n",
    "ax[0].axis('off')\n",
    "ax[0].set_title('Negative Class')\n",
    "ax[1].imshow(pos_cloud)\n",
    "ax[1].axis('off')\n",
    "ax[1].set_title('Positive Class')"
   ]
  }
 ],
 "metadata": {
  "kernelspec": {
   "display_name": "Python 3",
   "language": "python",
   "name": "python3"
  },
  "language_info": {
   "codemirror_mode": {
    "name": "ipython",
    "version": 3
   },
   "file_extension": ".py",
   "mimetype": "text/x-python",
   "name": "python",
   "nbconvert_exporter": "python",
   "pygments_lexer": "ipython3",
   "version": "3.7.3"
  },
  "toc": {
   "base_numbering": 1,
   "nav_menu": {},
   "number_sections": true,
   "sideBar": true,
   "skip_h1_title": true,
   "title_cell": "Table of Contents",
   "title_sidebar": "Contents",
   "toc_cell": false,
   "toc_position": {},
   "toc_section_display": true,
   "toc_window_display": false
  }
 },
 "nbformat": 4,
 "nbformat_minor": 2
}
