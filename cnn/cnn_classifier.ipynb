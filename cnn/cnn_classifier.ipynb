{
 "cells": [
  {
   "cell_type": "markdown",
   "metadata": {},
   "source": [
    "# First ICU Prediction using CNN with Word Embeddings"
   ]
  },
  {
   "cell_type": "markdown",
   "metadata": {},
   "source": [
    "## Imports & Inits"
   ]
  },
  {
   "cell_type": "code",
   "execution_count": 1,
   "metadata": {
    "ExecuteTime": {
     "end_time": "2019-07-05T22:26:14.487983Z",
     "start_time": "2019-07-05T22:26:14.474221Z"
    }
   },
   "outputs": [],
   "source": [
    "%load_ext autoreload\n",
    "%autoreload 2"
   ]
  },
  {
   "cell_type": "code",
   "execution_count": 2,
   "metadata": {
    "ExecuteTime": {
     "end_time": "2019-07-05T22:26:16.567289Z",
     "start_time": "2019-07-05T22:26:14.489338Z"
    }
   },
   "outputs": [
    {
     "data": {
      "text/plain": [
       "{'workdir': PosixPath('../data/workdir/cnn'),\n",
       " 'modeldir': PosixPath('../data/workdir/cnn/models'),\n",
       " 'dataset_csv': PosixPath('../data/proc_dataset.csv'),\n",
       " 'cols': ['hadm_id',\n",
       "  'imminent_adm_label',\n",
       "  'prolonged_stay_label',\n",
       "  'processed_note',\n",
       "  'charttime',\n",
       "  'intime'],\n",
       " 'imminent_adm_cols': ['hadm_id', 'processed_note', 'imminent_adm_label'],\n",
       " 'prolonged_stay_cols': ['hadm_id', 'processed_note', 'prolonged_stay_label'],\n",
       " 'dates': ['charttime', 'intime'],\n",
       " 'batch_size': 128,\n",
       " 'min_freq': 3,\n",
       " 'hidden_dim': 100,\n",
       " 'dropout_p': 0.1,\n",
       " 'emb_dropout': 0.1,\n",
       " 'n_channels': 100,\n",
       " 'lr': 0.001,\n",
       " 'wd': 0.0,\n",
       " 'n_epochs': 10,\n",
       " 'checkpointer_save_total': 1,\n",
       " 'emb_path': PosixPath('../pretrained/glove/glove.6B.50d.txt'),\n",
       " 'emb_sz': 50,\n",
       " 'checkpointer_prefix': 'glove50_cnn',\n",
       " 'device': 'cuda:3',\n",
       " 'checkpointer_name': 'epoch',\n",
       " 'checkpointer_save_every': 5,\n",
       " 'early_stop_patience': 10,\n",
       " 'imminent_threshold': 0.2,\n",
       " 'discharge_threshold': 0.5,\n",
       " 'start_seed': 127}"
      ]
     },
     "execution_count": 2,
     "metadata": {},
     "output_type": "execute_result"
    }
   ],
   "source": [
    "import sys\n",
    "sys.path.append('../')\n",
    "\n",
    "import warnings\n",
    "with warnings.catch_warnings():\n",
    "    warnings.simplefilter(\"ignore\")\n",
    "\n",
    "import matplotlib.pyplot as plt\n",
    "%matplotlib inline\n",
    "\n",
    "import pickle\n",
    "import numpy as np\n",
    "import pandas as pd\n",
    "\n",
    "from collections import OrderedDict\n",
    "from functools import partial\n",
    "from sklearn.metrics import *\n",
    "\n",
    "import torch\n",
    "from torch import nn\n",
    "from torch import optim\n",
    "from torch.utils.data import DataLoader\n",
    "\n",
    "from ignite.engine import Events, create_supervised_evaluator\n",
    "from ignite.metrics import Accuracy, Loss, Precision, Recall\n",
    "from ignite.contrib.handlers.param_scheduler import CosineAnnealingScheduler\n",
    "\n",
    "from cnn_classifier.dataset import NoteDataset\n",
    "from cnn_classifier.model import NoteClassifier\n",
    "from cnn_classifier.containers import ModelContainer, DataContainer\n",
    "from cnn_classifier.trainer import IgniteTrainer\n",
    "from utils.embeddings import PretrainedEmbeddings\n",
    "from utils.plots import *\n",
    "from utils.metrics import BinaryAvgMetrics, get_best_model\n",
    "\n",
    "from utils.splits import set_group_splits, set_group_all_splits\n",
    "from args import args\n",
    "vars(args)"
   ]
  },
  {
   "cell_type": "markdown",
   "metadata": {},
   "source": [
    "## Functions"
   ]
  },
  {
   "cell_type": "code",
   "execution_count": 4,
   "metadata": {
    "ExecuteTime": {
     "end_time": "2019-07-05T22:27:25.029676Z",
     "start_time": "2019-07-05T22:27:25.003459Z"
    }
   },
   "outputs": [],
   "source": [
    "def get_sample(df, sample_pct=0.01, with_val=True, seed=None):\n",
    "  train = df.loc[(df['split']) == 'train'].sample(frac=sample_pct, random_state=seed)\n",
    "  train.reset_index(inplace=True, drop=True)\n",
    "\n",
    "  if with_val:\n",
    "    val = df.loc[(df['split']) == 'val'].sample(frac=sample_pct, random_state=seed)\n",
    "    val.reset_index(inplace=True, drop=True)\n",
    "    return pd.concat([train, val], axis=0) \n",
    "\n",
    "  return train"
   ]
  },
  {
   "cell_type": "code",
   "execution_count": 5,
   "metadata": {
    "ExecuteTime": {
     "end_time": "2019-07-05T22:27:25.054221Z",
     "start_time": "2019-07-05T22:27:25.030943Z"
    }
   },
   "outputs": [],
   "source": [
    "def convert_probs(output, thresh):\n",
    "  y_pred, y = output\n",
    "  y_pred = (torch.sigmoid(y_pred) > thresh).long()\n",
    "  return y_pred, y\n",
    "\n",
    "def predict_proba(clf, x_test):\n",
    "  return torch.sigmoid(clf(x_test)).detach().numpy()"
   ]
  },
  {
   "cell_type": "markdown",
   "metadata": {},
   "source": [
    "## CNN Dev"
   ]
  },
  {
   "cell_type": "code",
   "execution_count": 3,
   "metadata": {
    "ExecuteTime": {
     "end_time": "2019-07-05T22:27:24.116933Z",
     "start_time": "2019-07-05T22:27:22.111746Z"
    }
   },
   "outputs": [
    {
     "name": "stdout",
     "output_type": "stream",
     "text": [
      "(50809, 3)\n",
      "(75271, 3)\n"
     ]
    }
   ],
   "source": [
    "seed = 42\n",
    "ori_df = pd.read_csv(args.dataset_csv, usecols=args.cols, parse_dates=args.dates)\n",
    "ia_df = ori_df.loc[(ori_df['imminent_adm_label'] != -1)][args.imminent_adm_cols].reset_index(drop=True)\n",
    "ps_df = ori_df[args.prolonged_stay_cols].copy()\n",
    "\n",
    "print(ia_df.shape)\n",
    "print(ps_df.shape)"
   ]
  },
  {
   "cell_type": "markdown",
   "metadata": {},
   "source": [
    "### Predict Imminent ICU Admission"
   ]
  },
  {
   "cell_type": "code",
   "execution_count": 15,
   "metadata": {
    "ExecuteTime": {
     "end_time": "2019-07-05T23:08:15.079104Z",
     "start_time": "2019-07-05T23:07:59.375693Z"
    }
   },
   "outputs": [],
   "source": [
    "df = set_group_all_splits(ia_df.copy(), 'hadm_id', val_pct=0.1, test_pct=0.1, seed=seed)\n",
    "dc = DataContainer(df, 'imminent_adm_label', NoteDataset, args.workdir, bs=args.batch_size, with_test=True, min_freq=args.min_freq, create_vec=True, weighted_sampling=True)\n",
    "itr = iter(dc.train_dl)"
   ]
  },
  {
   "cell_type": "code",
   "execution_count": 16,
   "metadata": {
    "ExecuteTime": {
     "end_time": "2019-07-05T23:08:23.203099Z",
     "start_time": "2019-07-05T23:08:15.081237Z"
    }
   },
   "outputs": [],
   "source": [
    "pe = PretrainedEmbeddings.from_file(args.emb_path)\n",
    "pe.make_custom_embeddings(dc.get_vocab_tokens())\n",
    "\n",
    "classifier = NoteClassifier(args.emb_sz, dc.get_vocab_size(), args.n_channels, args.hidden_dim, dc.n_classes, dropout_p=args.dropout_p, emb_dropout=args.emb_dropout, pretrained=pe.custom_embeddings)\n",
    "optimizer = optim.Adam(classifier.parameters(), lr=args.lr, weight_decay=args.wd)\n",
    "reduce_lr = optim.lr_scheduler.ReduceLROnPlateau(optimizer, 'min', 0.5, 1)\n",
    "loss_fn = nn.BCEWithLogitsLoss()\n",
    "mc = ModelContainer(classifier, loss_fn, optimizer, reduce_lr)"
   ]
  },
  {
   "cell_type": "code",
   "execution_count": 17,
   "metadata": {
    "ExecuteTime": {
     "end_time": "2019-07-05T23:08:25.045258Z",
     "start_time": "2019-07-05T23:08:23.205596Z"
    }
   },
   "outputs": [
    {
     "name": "stdout",
     "output_type": "stream",
     "text": [
      "tensor(0.6934, grad_fn=<BinaryCrossEntropyWithLogitsBackward>)\n"
     ]
    }
   ],
   "source": [
    "x, y = next(itr)\n",
    "y_pred = classifier(x)\n",
    "print(loss_fn(y_pred, y))"
   ]
  },
  {
   "cell_type": "code",
   "execution_count": 18,
   "metadata": {
    "ExecuteTime": {
     "end_time": "2019-07-05T23:31:27.925072Z",
     "start_time": "2019-07-05T23:08:25.047440Z"
    },
    "scrolled": false
   },
   "outputs": [
    {
     "name": "stderr",
     "output_type": "stream",
     "text": [
      "Epoch [1/10]: [317/317] 100%|██████████, loss=6.02e-01 [01:35<00:00]\n"
     ]
    },
    {
     "name": "stdout",
     "output_type": "stream",
     "text": [
      "Training loss 0.587 \n",
      "Validation loss 0.589 \n"
     ]
    },
    {
     "name": "stderr",
     "output_type": "stream",
     "text": [
      "Epoch [2/10]: [317/317] 100%|██████████, loss=4.95e-01 [01:35<00:00]\n"
     ]
    },
    {
     "name": "stdout",
     "output_type": "stream",
     "text": [
      "Training loss 0.474 \n",
      "Validation loss 0.601 \n"
     ]
    },
    {
     "name": "stderr",
     "output_type": "stream",
     "text": [
      "Epoch [3/10]: [317/317] 100%|██████████, loss=4.21e-01 [01:37<00:00]\n"
     ]
    },
    {
     "name": "stdout",
     "output_type": "stream",
     "text": [
      "Training loss 0.417 \n",
      "Validation loss 0.494 \n"
     ]
    },
    {
     "name": "stderr",
     "output_type": "stream",
     "text": [
      "Epoch [4/10]: [317/317] 100%|██████████, loss=3.51e-01 [01:37<00:00]\n"
     ]
    },
    {
     "name": "stdout",
     "output_type": "stream",
     "text": [
      "Training loss 0.343 \n",
      "Validation loss 0.517 \n"
     ]
    },
    {
     "name": "stderr",
     "output_type": "stream",
     "text": [
      "Epoch [5/10]: [317/317] 100%|██████████, loss=3.00e-01 [01:37<00:00]\n"
     ]
    },
    {
     "name": "stdout",
     "output_type": "stream",
     "text": [
      "Training loss 0.279 \n",
      "Validation loss 0.691 \n"
     ]
    },
    {
     "name": "stderr",
     "output_type": "stream",
     "text": [
      "Epoch [6/10]: [317/317] 100%|██████████, loss=2.58e-01 [01:36<00:00]\n"
     ]
    },
    {
     "name": "stdout",
     "output_type": "stream",
     "text": [
      "Training loss 0.244 \n",
      "Validation loss 0.679 \n"
     ]
    },
    {
     "name": "stderr",
     "output_type": "stream",
     "text": [
      "Epoch [7/10]: [317/317] 100%|██████████, loss=2.43e-01 [01:37<00:00]\n"
     ]
    },
    {
     "name": "stdout",
     "output_type": "stream",
     "text": [
      "Training loss 0.223 \n",
      "Validation loss 0.770 \n"
     ]
    },
    {
     "name": "stderr",
     "output_type": "stream",
     "text": [
      "Epoch [8/10]: [317/317] 100%|██████████, loss=2.28e-01 [01:37<00:00]\n"
     ]
    },
    {
     "name": "stdout",
     "output_type": "stream",
     "text": [
      "Training loss 0.204 \n",
      "Validation loss 0.811 \n"
     ]
    },
    {
     "name": "stderr",
     "output_type": "stream",
     "text": [
      "Epoch [9/10]: [317/317] 100%|██████████, loss=2.13e-01 [01:38<00:00]\n"
     ]
    },
    {
     "name": "stdout",
     "output_type": "stream",
     "text": [
      "Training loss 0.197 \n",
      "Validation loss 0.840 \n"
     ]
    },
    {
     "name": "stderr",
     "output_type": "stream",
     "text": [
      "Epoch [10/10]: [317/317] 100%|██████████, loss=2.01e-01 [01:37<00:00]\n"
     ]
    },
    {
     "name": "stdout",
     "output_type": "stream",
     "text": [
      "Training loss 0.186 \n",
      "Validation loss 0.878 \n"
     ]
    }
   ],
   "source": [
    "bce_logits_wrapper = partial(convert_probs, thresh=args.imminent_threshold)\n",
    "metrics = OrderedDict({ 'loss': Loss(loss_fn)})\n",
    "ig = IgniteTrainer(mc, dc, args, metrics, log_training=False, early_stop=False)\n",
    "model_name = ig.run()"
   ]
  },
  {
   "cell_type": "code",
   "execution_count": 19,
   "metadata": {
    "ExecuteTime": {
     "end_time": "2019-07-05T23:32:29.888132Z",
     "start_time": "2019-07-05T23:31:27.926836Z"
    }
   },
   "outputs": [],
   "source": [
    "preds = []\n",
    "probs = []\n",
    "targs = []\n",
    "classifier = classifier.cpu()\n",
    "for x, y in dc.test_dl:\n",
    "  if len(targs) == 0:\n",
    "    targs.append(y.numpy())\n",
    "  else:\n",
    "    targs[0] = np.append(targs[0], y.numpy(), axis=0)\n",
    "    \n",
    "  prob = torch.sigmoid(classifier(x)).detach().numpy()\n",
    "  if len(probs) == 0:\n",
    "    probs.append(prob)\n",
    "  else:\n",
    "    probs[0] = np.append(probs[0], prob, axis=0)\n",
    "\n",
    "  pred = (prob > 0.5).astype(np.int64)\n",
    "  if len(preds) == 0:\n",
    "    preds.append(pred)\n",
    "  else:\n",
    "    preds[0] = np.append(preds[0], pred, axis=0)\n",
    "\n",
    "prob = np.squeeze(probs[0])\n",
    "pred = np.squeeze(preds[0])\n",
    "targ = np.squeeze(targs[0])"
   ]
  },
  {
   "cell_type": "code",
   "execution_count": 20,
   "metadata": {
    "ExecuteTime": {
     "end_time": "2019-07-05T23:32:30.820914Z",
     "start_time": "2019-07-05T23:32:29.889909Z"
    },
    "scrolled": false
   },
   "outputs": [
    {
     "data": {
      "image/png": "[encoded data removed]",
      "text/plain": [
       "<Figure size 864x576 with 1 Axes>"
      ]
     },
     "metadata": {
      "needs_background": "light"
     },
     "output_type": "display_data"
    }
   ],
   "source": [
    "fig, ax = plt.subplots(figsize=(12,8))\n",
    "plot_thresh_range(ax, targ, prob, 0.1, 0.9, 25)"
   ]
  },
  {
   "cell_type": "code",
   "execution_count": 21,
   "metadata": {
    "ExecuteTime": {
     "end_time": "2019-07-06T00:17:27.507949Z",
     "start_time": "2019-07-06T00:17:27.269208Z"
    }
   },
   "outputs": [
    {
     "data": {
      "text/html": [
       "<div>\n",
       "<style scoped>\n",
       "    .dataframe tbody tr th:only-of-type {\n",
       "        vertical-align: middle;\n",
       "    }\n",
       "\n",
       "    .dataframe tbody tr th {\n",
       "        vertical-align: top;\n",
       "    }\n",
       "\n",
       "    .dataframe thead th {\n",
       "        text-align: right;\n",
       "    }\n",
       "</style>\n",
       "<table border=\"1\" class=\"dataframe\">\n",
       "  <thead>\n",
       "    <tr style=\"text-align: right;\">\n",
       "      <th></th>\n",
       "      <th>Value</th>\n",
       "    </tr>\n",
       "  </thead>\n",
       "  <tbody>\n",
       "    <tr>\n",
       "      <th>sensitivity</th>\n",
       "      <td>0.722</td>\n",
       "    </tr>\n",
       "    <tr>\n",
       "      <th>specificity</th>\n",
       "      <td>0.708</td>\n",
       "    </tr>\n",
       "    <tr>\n",
       "      <th>ppv</th>\n",
       "      <td>0.410</td>\n",
       "    </tr>\n",
       "    <tr>\n",
       "      <th>npv</th>\n",
       "      <td>0.900</td>\n",
       "    </tr>\n",
       "    <tr>\n",
       "      <th>f1</th>\n",
       "      <td>0.523</td>\n",
       "    </tr>\n",
       "    <tr>\n",
       "      <th>auroc</th>\n",
       "      <td>0.782</td>\n",
       "    </tr>\n",
       "    <tr>\n",
       "      <th>prevalence</th>\n",
       "      <td>0.219</td>\n",
       "    </tr>\n",
       "  </tbody>\n",
       "</table>\n",
       "</div>"
      ],
      "text/plain": [
       "             Value\n",
       "sensitivity  0.722\n",
       "specificity  0.708\n",
       "ppv          0.410\n",
       "npv          0.900\n",
       "f1           0.523\n",
       "auroc        0.782\n",
       "prevalence   0.219"
      ]
     },
     "execution_count": 21,
     "metadata": {},
     "output_type": "execute_result"
    }
   ],
   "source": [
    "args.imminent_threshold = 0.2\n",
    "pred = (prob > args.imminent_threshold).astype(np.int64)\n",
    "cm = confusion_matrix(targ, pred)\n",
    "tn,fp,fn,tp = cm[0][0],cm[0][1],cm[1][0],cm[1][1]\n",
    "prevalence = (fn+tp)/(tn+fp+fn+tp)\n",
    "sensitivity = tp/(tp+fn)\n",
    "specificity = tn/(tn+fp)\n",
    "ppv = tp/(tp+fp)\n",
    "npv = tn/(tn+fn)\n",
    "f1 = (2*ppv*sensitivity)/(ppv+sensitivity)\n",
    "auroc = roc_auc_score(targ, prob)\n",
    "\n",
    "d = {\n",
    "  'sensitivity': np.round(sensitivity, 3),\n",
    "  'specificity': np.round(specificity, 3),\n",
    "  'ppv': np.round(ppv, 3),\n",
    "  'npv': np.round(npv, 3),\n",
    "  'f1': np.round(f1, 3),\n",
    "  'auroc': np.round(auroc, 3),\n",
    "  'prevalence': np.round(prevalence, 3),  \n",
    "}\n",
    "\n",
    "metrics = pd.DataFrame(d.values(), index=d.keys(), columns=['Value'])\n",
    "metrics"
   ]
  },
  {
   "cell_type": "code",
   "execution_count": 22,
   "metadata": {
    "ExecuteTime": {
     "end_time": "2019-07-06T00:17:34.421697Z",
     "start_time": "2019-07-06T00:17:34.231059Z"
    }
   },
   "outputs": [
    {
     "data": {
      "image/png": "[encoded data removed]",
      "text/plain": [
       "<Figure size 720x576 with 2 Axes>"
      ]
     },
     "metadata": {
      "needs_background": "light"
     },
     "output_type": "display_data"
    }
   ],
   "source": [
    "fig, ax = plt.subplots(figsize=(10, 8))\n",
    "plot_confusion_matrix(ax, cm, classes=['Delayed', 'Imminent'], normalize=False, title='Confusion matrix')"
   ]
  },
  {
   "cell_type": "markdown",
   "metadata": {},
   "source": [
    "### Predict Prolonged ICU Stay"
   ]
  },
  {
   "cell_type": "code",
   "execution_count": 7,
   "metadata": {
    "ExecuteTime": {
     "end_time": "2019-07-05T22:29:33.383935Z",
     "start_time": "2019-07-05T22:29:10.302754Z"
    }
   },
   "outputs": [],
   "source": [
    "df = set_group_all_splits(ps_df.copy(), 'hadm_id', val_pct=0.1, test_pct=0.1, seed=seed)\n",
    "dc = DataContainer(df, 'prolonged_stay_label', NoteDataset, args.workdir, bs=args.batch_size, with_test=True, min_freq=args.min_freq, create_vec=True, weighted_sampling=True)\n",
    "itr = iter(dc.train_dl)"
   ]
  },
  {
   "cell_type": "code",
   "execution_count": 8,
   "metadata": {
    "ExecuteTime": {
     "end_time": "2019-07-05T22:29:46.613262Z",
     "start_time": "2019-07-05T22:29:38.803889Z"
    }
   },
   "outputs": [],
   "source": [
    "pe = PretrainedEmbeddings.from_file(args.emb_path)\n",
    "pe.make_custom_embeddings(dc.get_vocab_tokens())\n",
    "\n",
    "classifier = NoteClassifier(args.emb_sz, dc.get_vocab_size(), args.n_channels, args.hidden_dim, dc.n_classes, dropout_p=args.dropout_p, emb_dropout=args.emb_dropout, pretrained=pe.custom_embeddings)\n",
    "optimizer = optim.Adam(classifier.parameters(), lr=args.lr, weight_decay=args.wd)\n",
    "reduce_lr = optim.lr_scheduler.ReduceLROnPlateau(optimizer, 'min', 0.5, 1)\n",
    "loss_fn = nn.BCEWithLogitsLoss()\n",
    "mc = ModelContainer(classifier, loss_fn, optimizer, reduce_lr)"
   ]
  },
  {
   "cell_type": "code",
   "execution_count": 9,
   "metadata": {
    "ExecuteTime": {
     "end_time": "2019-07-05T22:29:48.497116Z",
     "start_time": "2019-07-05T22:29:46.615055Z"
    }
   },
   "outputs": [
    {
     "name": "stdout",
     "output_type": "stream",
     "text": [
      "tensor(0.6933, grad_fn=<BinaryCrossEntropyWithLogitsBackward>)\n"
     ]
    }
   ],
   "source": [
    "x, y = next(itr)\n",
    "y_pred = classifier(x)\n",
    "print(loss_fn(y_pred, y))"
   ]
  },
  {
   "cell_type": "code",
   "execution_count": 10,
   "metadata": {
    "ExecuteTime": {
     "end_time": "2019-07-05T23:05:20.303185Z",
     "start_time": "2019-07-05T22:30:32.323758Z"
    },
    "scrolled": false
   },
   "outputs": [
    {
     "name": "stderr",
     "output_type": "stream",
     "text": [
      "Epoch [1/10]: [470/470] 100%|██████████, loss=6.90e-01 [02:24<00:00]\n"
     ]
    },
    {
     "name": "stdout",
     "output_type": "stream",
     "text": [
      "Training loss 0.689 \n",
      "Validation loss 0.687 \n"
     ]
    },
    {
     "name": "stderr",
     "output_type": "stream",
     "text": [
      "Epoch [2/10]: [470/470] 100%|██████████, loss=6.47e-01 [02:24<00:00]\n"
     ]
    },
    {
     "name": "stdout",
     "output_type": "stream",
     "text": [
      "Training loss 0.620 \n",
      "Validation loss 0.731 \n"
     ]
    },
    {
     "name": "stderr",
     "output_type": "stream",
     "text": [
      "Epoch [3/10]: [470/470] 100%|██████████, loss=5.73e-01 [02:26<00:00]\n"
     ]
    },
    {
     "name": "stdout",
     "output_type": "stream",
     "text": [
      "Training loss 0.558 \n",
      "Validation loss 0.859 \n"
     ]
    },
    {
     "name": "stderr",
     "output_type": "stream",
     "text": [
      "Epoch [4/10]: [470/470] 100%|██████████, loss=5.42e-01 [02:26<00:00]\n"
     ]
    },
    {
     "name": "stdout",
     "output_type": "stream",
     "text": [
      "Training loss 0.530 \n",
      "Validation loss 0.912 \n"
     ]
    },
    {
     "name": "stderr",
     "output_type": "stream",
     "text": [
      "Epoch [5/10]: [470/470] 100%|██████████, loss=5.14e-01 [02:23<00:00]\n"
     ]
    },
    {
     "name": "stdout",
     "output_type": "stream",
     "text": [
      "Training loss 0.499 \n",
      "Validation loss 0.849 \n"
     ]
    },
    {
     "name": "stderr",
     "output_type": "stream",
     "text": [
      "Epoch [6/10]: [470/470] 100%|██████████, loss=5.07e-01 [02:24<00:00]\n"
     ]
    },
    {
     "name": "stdout",
     "output_type": "stream",
     "text": [
      "Training loss 0.488 \n",
      "Validation loss 0.920 \n"
     ]
    },
    {
     "name": "stderr",
     "output_type": "stream",
     "text": [
      "Epoch [7/10]: [470/470] 100%|██████████, loss=4.89e-01 [02:25<00:00]\n"
     ]
    },
    {
     "name": "stdout",
     "output_type": "stream",
     "text": [
      "Training loss 0.470 \n",
      "Validation loss 0.905 \n"
     ]
    },
    {
     "name": "stderr",
     "output_type": "stream",
     "text": [
      "Epoch [8/10]: [470/470] 100%|██████████, loss=4.78e-01 [02:23<00:00]\n"
     ]
    },
    {
     "name": "stdout",
     "output_type": "stream",
     "text": [
      "Training loss 0.464 \n",
      "Validation loss 1.039 \n"
     ]
    },
    {
     "name": "stderr",
     "output_type": "stream",
     "text": [
      "Epoch [9/10]: [470/470] 100%|██████████, loss=4.64e-01 [02:26<00:00]\n"
     ]
    },
    {
     "name": "stdout",
     "output_type": "stream",
     "text": [
      "Training loss 0.443 \n",
      "Validation loss 0.934 \n"
     ]
    },
    {
     "name": "stderr",
     "output_type": "stream",
     "text": [
      "Epoch [10/10]: [470/470] 100%|██████████, loss=4.54e-01 [02:25<00:00]\n"
     ]
    },
    {
     "name": "stdout",
     "output_type": "stream",
     "text": [
      "Training loss 0.440 \n",
      "Validation loss 0.983 \n"
     ]
    }
   ],
   "source": [
    "bce_logits_wrapper = partial(convert_probs, thresh=args.imminent_threshold)\n",
    "metrics = OrderedDict({ 'loss': Loss(loss_fn)})\n",
    "ig = IgniteTrainer(mc, dc, args, metrics, log_training=False, early_stop=False)\n",
    "model_name = ig.run()"
   ]
  },
  {
   "cell_type": "code",
   "execution_count": 11,
   "metadata": {
    "ExecuteTime": {
     "end_time": "2019-07-05T23:07:02.989348Z",
     "start_time": "2019-07-05T23:05:26.187569Z"
    }
   },
   "outputs": [],
   "source": [
    "preds = []\n",
    "probs = []\n",
    "targs = []\n",
    "classifier = classifier.cpu()\n",
    "for x, y in dc.test_dl:\n",
    "  if len(targs) == 0:\n",
    "    targs.append(y.numpy())\n",
    "  else:\n",
    "    targs[0] = np.append(targs[0], y.numpy(), axis=0)\n",
    "    \n",
    "  prob = torch.sigmoid(classifier(x)).detach().numpy()\n",
    "  if len(probs) == 0:\n",
    "    probs.append(prob)\n",
    "  else:\n",
    "    probs[0] = np.append(probs[0], prob, axis=0)\n",
    "\n",
    "  pred = (prob > 0.5).astype(np.int64)\n",
    "  if len(preds) == 0:\n",
    "    preds.append(pred)\n",
    "  else:\n",
    "    preds[0] = np.append(preds[0], pred, axis=0)\n",
    "\n",
    "prob = np.squeeze(probs[0])\n",
    "pred = np.squeeze(preds[0])\n",
    "targ = np.squeeze(targs[0])"
   ]
  },
  {
   "cell_type": "code",
   "execution_count": 12,
   "metadata": {
    "ExecuteTime": {
     "end_time": "2019-07-05T23:07:14.026653Z",
     "start_time": "2019-07-05T23:07:12.923451Z"
    },
    "scrolled": false
   },
   "outputs": [
    {
     "data": {
      "image/png": "[encoded data removed]",
      "text/plain": [
       "<Figure size 864x576 with 1 Axes>"
      ]
     },
     "metadata": {
      "needs_background": "light"
     },
     "output_type": "display_data"
    }
   ],
   "source": [
    "fig, ax = plt.subplots(figsize=(12,8))\n",
    "plot_thresh_range(ax, targ, prob, 0.1, 0.9, 25)"
   ]
  },
  {
   "cell_type": "code",
   "execution_count": 13,
   "metadata": {
    "ExecuteTime": {
     "end_time": "2019-07-05T23:07:37.689294Z",
     "start_time": "2019-07-05T23:07:37.628008Z"
    }
   },
   "outputs": [
    {
     "data": {
      "text/html": [
       "<div>\n",
       "<style scoped>\n",
       "    .dataframe tbody tr th:only-of-type {\n",
       "        vertical-align: middle;\n",
       "    }\n",
       "\n",
       "    .dataframe tbody tr th {\n",
       "        vertical-align: top;\n",
       "    }\n",
       "\n",
       "    .dataframe thead th {\n",
       "        text-align: right;\n",
       "    }\n",
       "</style>\n",
       "<table border=\"1\" class=\"dataframe\">\n",
       "  <thead>\n",
       "    <tr style=\"text-align: right;\">\n",
       "      <th></th>\n",
       "      <th>Value</th>\n",
       "    </tr>\n",
       "  </thead>\n",
       "  <tbody>\n",
       "    <tr>\n",
       "      <th>sensitivity</th>\n",
       "      <td>0.661</td>\n",
       "    </tr>\n",
       "    <tr>\n",
       "      <th>specificity</th>\n",
       "      <td>0.406</td>\n",
       "    </tr>\n",
       "    <tr>\n",
       "      <th>ppv</th>\n",
       "      <td>0.448</td>\n",
       "    </tr>\n",
       "    <tr>\n",
       "      <th>npv</th>\n",
       "      <td>0.622</td>\n",
       "    </tr>\n",
       "    <tr>\n",
       "      <th>f1</th>\n",
       "      <td>0.534</td>\n",
       "    </tr>\n",
       "    <tr>\n",
       "      <th>auroc</th>\n",
       "      <td>0.535</td>\n",
       "    </tr>\n",
       "    <tr>\n",
       "      <th>prevalence</th>\n",
       "      <td>0.421</td>\n",
       "    </tr>\n",
       "  </tbody>\n",
       "</table>\n",
       "</div>"
      ],
      "text/plain": [
       "             Value\n",
       "sensitivity  0.661\n",
       "specificity  0.406\n",
       "ppv          0.448\n",
       "npv          0.622\n",
       "f1           0.534\n",
       "auroc        0.535\n",
       "prevalence   0.421"
      ]
     },
     "execution_count": 13,
     "metadata": {},
     "output_type": "execute_result"
    }
   ],
   "source": [
    "args.imminent_threshold = 0.33\n",
    "pred = (prob > args.imminent_threshold).astype(np.int64)\n",
    "cm = confusion_matrix(targ, pred)\n",
    "tn,fp,fn,tp = cm[0][0],cm[0][1],cm[1][0],cm[1][1]\n",
    "prevalence = (fn+tp)/(tn+fp+fn+tp)\n",
    "sensitivity = tp/(tp+fn)\n",
    "specificity = tn/(tn+fp)\n",
    "ppv = tp/(tp+fp)\n",
    "npv = tn/(tn+fn)\n",
    "f1 = (2*ppv*sensitivity)/(ppv+sensitivity)\n",
    "auroc = roc_auc_score(targ, prob)\n",
    "\n",
    "d = {\n",
    "  'sensitivity': np.round(sensitivity, 3),\n",
    "  'specificity': np.round(specificity, 3),\n",
    "  'ppv': np.round(ppv, 3),\n",
    "  'npv': np.round(npv, 3),\n",
    "  'f1': np.round(f1, 3),\n",
    "  'auroc': np.round(auroc, 3),\n",
    "  'prevalence': np.round(prevalence, 3),  \n",
    "}\n",
    "\n",
    "metrics = pd.DataFrame(d.values(), index=d.keys(), columns=['Value'])\n",
    "metrics"
   ]
  },
  {
   "cell_type": "code",
   "execution_count": 14,
   "metadata": {
    "ExecuteTime": {
     "end_time": "2019-07-05T23:07:42.356092Z",
     "start_time": "2019-07-05T23:07:42.145022Z"
    }
   },
   "outputs": [
    {
     "data": {
      "image/png": "[encoded data removed]",
      "text/plain": [
       "<Figure size 720x576 with 2 Axes>"
      ]
     },
     "metadata": {
      "needs_background": "light"
     },
     "output_type": "display_data"
    }
   ],
   "source": [
    "fig, ax = plt.subplots(figsize=(10, 8))\n",
    "plot_confusion_matrix(ax, cm, classes=['Delayed', 'Imminent'], normalize=False, title='Confusion matrix')"
   ]
  },
  {
   "cell_type": "markdown",
   "metadata": {},
   "source": [
    "## Testing"
   ]
  },
  {
   "cell_type": "code",
   "execution_count": null,
   "metadata": {
    "ExecuteTime": {
     "end_time": "2019-05-27T13:43:57.379625Z",
     "start_time": "2019-05-27T13:43:56.455972Z"
    }
   },
   "outputs": [],
   "source": [
    "dc = DataContainer(df, NoteDataset, args.workdir, bs=args.batch_size, with_test=True,\\\n",
    "                   min_freq=args.min_freq, load_vec=True)\n",
    "\n",
    "print(dc.get_dataset_size())\n",
    "print(dc.get_batch_sizes())\n",
    "print(dc.get_num_batches())"
   ]
  },
  {
   "cell_type": "code",
   "execution_count": null,
   "metadata": {
    "ExecuteTime": {
     "end_time": "2019-05-27T13:44:10.211949Z",
     "start_time": "2019-05-27T13:43:58.368212Z"
    }
   },
   "outputs": [],
   "source": [
    "pe = PretrainedEmbeddings.from_file(args.emb_path)\n",
    "pe.make_custom_embeddings(dc.get_vocab_tokens())\n",
    "\n",
    "classifier = NoteClassifier(args.emb_sz, dc.get_vocab_size(), args.n_channels, args.hidden_dim, dc.n_classes,\\\n",
    "                            dropout_p=args.dropout_p, pretrained=pe.custom_embeddings)\n",
    "\n",
    "state_dict = torch.load(args.modelfile)\n",
    "classifier.load_state_dict(state_dict);"
   ]
  },
  {
   "cell_type": "markdown",
   "metadata": {
    "ExecuteTime": {
     "end_time": "2019-05-20T10:42:51.919793Z",
     "start_time": "2019-05-20T10:42:51.730731Z"
    },
    "heading_collapsed": true
   },
   "source": [
    "### Plots"
   ]
  },
  {
   "cell_type": "code",
   "execution_count": null,
   "metadata": {
    "ExecuteTime": {
     "end_time": "2019-05-20T13:11:28.846243Z",
     "start_time": "2019-05-20T13:11:28.814144Z"
    },
    "hidden": true
   },
   "outputs": [],
   "source": [
    "log = pd.read_csv(args.workdir/'training_log.csv')\n",
    "log = log[:-1]\n",
    "log.head()"
   ]
  },
  {
   "cell_type": "code",
   "execution_count": null,
   "metadata": {
    "ExecuteTime": {
     "end_time": "2019-05-20T13:11:29.328015Z",
     "start_time": "2019-05-20T13:11:28.847463Z"
    },
    "hidden": true
   },
   "outputs": [],
   "source": [
    "fig, axes = plt.subplots(nrows=2, ncols=2, figsize=(15,10))\n",
    "log.plot(x='epoch', y=['training_loss', 'validation_loss'], kind='line',\n",
    "                      title='Training and validation loss', ax=axes[0][0])\n",
    "log.plot(x='epoch', y=['training_accuracy', 'validation_accuracy'], kind='line',\n",
    "                      title='Training and validation accuracy', ax=axes[0][1])\n",
    "log.plot(x='epoch', y=['training_precision', 'validation_precision'], kind='line',\n",
    "                      title='Training and validation precision', ax=axes[1][0])\n",
    "log.plot(x='epoch', y=['training_recall', 'validation_recall'], kind='line',\n",
    "                      title='Training and validation recall', ax=axes[1][1])"
   ]
  },
  {
   "cell_type": "markdown",
   "metadata": {
    "heading_collapsed": true
   },
   "source": [
    "### Test set"
   ]
  },
  {
   "cell_type": "code",
   "execution_count": null,
   "metadata": {
    "ExecuteTime": {
     "end_time": "2019-05-27T11:28:05.383469Z",
     "start_time": "2019-05-27T11:28:05.305222Z"
    },
    "hidden": true
   },
   "outputs": [],
   "source": [
    "loss_fn = nn.BCEWithLogitsLoss()\n",
    "bce_logits_wrapper = partial(convert_probs, thresh=args.bc_threshold)\n",
    "metrics = OrderedDict({ 'loss': Loss(loss_fn), 'sensitivity': Recall(bce_logits_wrapper),\\\n",
    "                       'ppv': Precision(bce_logits_wrapper)})"
   ]
  },
  {
   "cell_type": "code",
   "execution_count": null,
   "metadata": {
    "ExecuteTime": {
     "end_time": "2019-05-27T11:29:03.702303Z",
     "start_time": "2019-05-27T11:28:08.616567Z"
    },
    "hidden": true
   },
   "outputs": [],
   "source": [
    "evaluator = create_supervised_evaluator(classifier, metrics=metrics)\n",
    "\n",
    "@evaluator.on(Events.COMPLETED)\n",
    "def log_testing_results(engine):\n",
    "  metrics = engine.state.metrics\n",
    "  for metric in metrics.keys():\n",
    "    print(f\"{metric} {metrics[metric]:0.3f}\")\n",
    "\n",
    "evaluator.run(dc.test_dl)"
   ]
  },
  {
   "cell_type": "markdown",
   "metadata": {},
   "source": [
    "### Interpretation"
   ]
  },
  {
   "cell_type": "code",
   "execution_count": null,
   "metadata": {
    "ExecuteTime": {
     "end_time": "2019-07-05T19:53:03.176056Z",
     "start_time": "2019-07-05T19:53:03.038012Z"
    }
   },
   "outputs": [],
   "source": [
    "from sklearn.manifold import TSNE"
   ]
  },
  {
   "cell_type": "code",
   "execution_count": null,
   "metadata": {
    "ExecuteTime": {
     "end_time": "2019-07-05T19:53:03.377776Z",
     "start_time": "2019-07-05T19:53:03.177685Z"
    }
   },
   "outputs": [],
   "source": [
    "wts = classifier.emb.weight.detach().numpy()\n",
    "words = list(dc.vectorizer.vocab.idx_token_bidict.values())"
   ]
  },
  {
   "cell_type": "code",
   "execution_count": null,
   "metadata": {
    "ExecuteTime": {
     "end_time": "2019-07-05T20:24:36.371899Z",
     "start_time": "2019-07-05T20:16:27.565662Z"
    }
   },
   "outputs": [],
   "source": [
    "tsne_model = TSNE(perplexity=40, n_components=2, init='pca', n_iter=500)\n",
    "new_values = tsne_model.fit_transform(wts)"
   ]
  },
  {
   "cell_type": "code",
   "execution_count": null,
   "metadata": {
    "ExecuteTime": {
     "end_time": "2019-07-05T20:26:01.478927Z",
     "start_time": "2019-07-05T20:26:01.233199Z"
    }
   },
   "outputs": [],
   "source": [
    "labels = []\n",
    "tokens = []"
   ]
  },
  {
   "cell_type": "code",
   "execution_count": null,
   "metadata": {
    "ExecuteTime": {
     "end_time": "2019-07-05T20:26:36.119883Z",
     "start_time": "2019-07-05T20:26:36.092198Z"
    }
   },
   "outputs": [],
   "source": [
    "x,y = [],[]"
   ]
  },
  {
   "cell_type": "code",
   "execution_count": null,
   "metadata": {
    "ExecuteTime": {
     "end_time": "2019-07-05T20:26:48.792202Z",
     "start_time": "2019-07-05T20:26:48.748227Z"
    }
   },
   "outputs": [],
   "source": [
    "for value in new_values:\n",
    "  x.append(value[0])\n",
    "  y.append(value[1])"
   ]
  },
  {
   "cell_type": "code",
   "execution_count": null,
   "metadata": {
    "ExecuteTime": {
     "end_time": "2019-07-05T20:31:47.208600Z",
     "start_time": "2019-07-05T20:31:45.421364Z"
    }
   },
   "outputs": [],
   "source": [
    "fig, ax = plt.subplots(figsize=(16, 16))\n",
    "for i in range(len(x[:250])):\n",
    "  ax.scatter(x[i],y[i])\n",
    "  ax.annotate(words[i], xy=(x[i], y[i]), xytext=(5, 2), textcoords='offset points', ha='right', va='bottom')           "
   ]
  },
  {
   "cell_type": "code",
   "execution_count": null,
   "metadata": {},
   "outputs": [],
   "source": [
    "def tsne_plot(model):\n",
    "  \"Creates and TSNE model and plots it\"\n",
    "  labels = []\n",
    "  tokens = []\n",
    "\n",
    "  for word in model.wv.vocab:\n",
    "    tokens.append(model[word])\n",
    "    labels.append(word)\n",
    "\n",
    "  tsne_model = TSNE(perplexity=40, n_components=2, init='pca', n_iter=2500, random_state=23)\n",
    "  new_values = tsne_model.fit_transform(tokens)\n",
    "\n",
    "  x = []\n",
    "  y = []\n",
    "  for value in new_values:\n",
    "    x.append(value[0])\n",
    "    y.append(value[1])\n",
    "\n",
    "  plt.figure(figsize=(16, 16)) \n",
    "  for i in range(len(x)):\n",
    "    plt.scatter(x[i],y[i])\n",
    "    plt.annotate(labels[i],\n",
    "                 xy=(x[i], y[i]),\n",
    "                 xytext=(5, 2),\n",
    "                 textcoords='offset points',\n",
    "                 ha='right',\n",
    "                 va='bottom')\n",
    "  plt.show()"
   ]
  },
  {
   "cell_type": "code",
   "execution_count": null,
   "metadata": {
    "ExecuteTime": {
     "end_time": "2019-07-05T19:24:22.306424Z",
     "start_time": "2019-07-05T19:24:22.268533Z"
    }
   },
   "outputs": [],
   "source": [
    "new_values = tsne_model.fit_transform(wts)"
   ]
  },
  {
   "cell_type": "code",
   "execution_count": null,
   "metadata": {
    "ExecuteTime": {
     "end_time": "2019-07-05T19:05:43.718435Z",
     "start_time": "2019-07-05T19:05:43.688961Z"
    }
   },
   "outputs": [],
   "source": [
    "scores = np.linalg.norm(wts, axis=1)\n",
    "scores /= scores.sum()"
   ]
  },
  {
   "cell_type": "code",
   "execution_count": null,
   "metadata": {
    "ExecuteTime": {
     "end_time": "2019-07-05T19:05:16.584813Z",
     "start_time": "2019-07-05T19:05:16.554594Z"
    }
   },
   "outputs": [],
   "source": [
    "words = list(dc.vectorizer.vocab.idx_token_bidict.values())"
   ]
  },
  {
   "cell_type": "code",
   "execution_count": null,
   "metadata": {
    "ExecuteTime": {
     "end_time": "2019-07-05T19:05:57.106994Z",
     "start_time": "2019-07-05T19:05:56.618537Z"
    }
   },
   "outputs": [],
   "source": [
    "neg_cloud, pos_cloud = get_wordcloud(words, scores, n_words=50)\n",
    "\n",
    "fig, ax = plt.subplots(1, 2, figsize=(20, 10))\n",
    "ax[0].imshow(neg_cloud)\n",
    "ax[0].axis('off')\n",
    "ax[0].set_title('Delayed')\n",
    "ax[1].imshow(pos_cloud)\n",
    "ax[1].axis('off')\n",
    "ax[1].set_title('Imminent')"
   ]
  },
  {
   "cell_type": "code",
   "execution_count": null,
   "metadata": {
    "ExecuteTime": {
     "end_time": "2019-07-05T17:53:21.882252Z",
     "start_time": "2019-07-05T17:53:21.663490Z"
    }
   },
   "outputs": [],
   "source": [
    "# sort weights\n",
    "emb = classifier.emb.weight.detach()[0]\n",
    "_, idxs = torch.sort(emb, dim=0, descending=True)\n",
    "idxs = idxs.numpy().tolist()"
   ]
  },
  {
   "cell_type": "code",
   "execution_count": null,
   "metadata": {
    "ExecuteTime": {
     "end_time": "2019-07-05T17:53:24.772908Z",
     "start_time": "2019-07-05T17:53:24.744064Z"
    }
   },
   "outputs": [],
   "source": [
    "# Top 20 words\n",
    "print(\"Influential words in positive class:\")\n",
    "print(\"--------------------------------------\")\n",
    "for i in range(20):\n",
    "    print(dc.vectorizer.vocab.lookup_idx(idxs[i]))\n",
    "    \n",
    "print(\"====\\n\\n\\n\")"
   ]
  },
  {
   "cell_type": "code",
   "execution_count": null,
   "metadata": {
    "ExecuteTime": {
     "end_time": "2019-07-05T17:53:27.731791Z",
     "start_time": "2019-07-05T17:53:27.702754Z"
    },
    "scrolled": false
   },
   "outputs": [],
   "source": [
    "# Top 20 words\n",
    "print(\"Influential words in negative class:\")\n",
    "print(\"--------------------------------------\")\n",
    "idxs.reverse()\n",
    "for i in range(20):\n",
    "    print(dc.vectorizer.vocab.lookup_idx(idxs[i]))\n",
    "    \n",
    "print(\"====\\n\\n\\n\")"
   ]
  },
  {
   "cell_type": "markdown",
   "metadata": {
    "heading_collapsed": true
   },
   "source": [
    "## Metrics"
   ]
  },
  {
   "cell_type": "code",
   "execution_count": null,
   "metadata": {
    "ExecuteTime": {
     "end_time": "2019-06-09T11:18:05.216079Z",
     "start_time": "2019-06-09T11:18:05.194207Z"
    },
    "hidden": true
   },
   "outputs": [],
   "source": [
    "# run this if preds.pkl is not generated\n",
    "targs,preds,probs = [],[],[]\n",
    "\n",
    "for i in range(4):\n",
    "  with open(args.workdir/f'preds_{i+1}.pkl', 'rb') as f:\n",
    "    targs_i = pickle.load(f)\n",
    "    preds_i = pickle.load(f)\n",
    "    probs_i = pickle.load(f)\n",
    "    \n",
    "  targs += targs_i\n",
    "  preds += preds_i\n",
    "  probs += probs_i\n",
    "\n",
    "with open(args.workdir/'preds.pkl', 'wb') as f:\n",
    "  pickle.dump(targs, f)\n",
    "  pickle.dump(preds, f)\n",
    "  pickle.dump(probs, f)"
   ]
  },
  {
   "cell_type": "markdown",
   "metadata": {
    "hidden": true
   },
   "source": [
    "Taken from [here](https://www.dataschool.io/simple-guide-to-confusion-matrix-terminology/):\n",
    "\n",
    "1. Prevalence: `(fn + tp) / total`\n",
    "2. Sensitivity: AKA recall, true positive rate `tp / (tp + fn)`\n",
    "3. Specificity: AKA true negative rate `tn / (tn + fp)`\n",
    "4. Positive Predictive Value (PPV): AKA precision `tp / (tp + fp)`\n",
    "5. Negative Predictive Value (NPV): `tn / (tn + fn)`"
   ]
  },
  {
   "cell_type": "code",
   "execution_count": null,
   "metadata": {
    "ExecuteTime": {
     "end_time": "2019-06-09T11:22:38.228243Z",
     "start_time": "2019-06-09T11:22:38.186606Z"
    },
    "hidden": true
   },
   "outputs": [],
   "source": [
    "with open(args.workdir/'preds.pkl', 'rb') as f:\n",
    "  targs = pickle.load(f)\n",
    "  preds = pickle.load(f)\n",
    "  probs = pickle.load(f)\n",
    "  \n",
    "fnames = [f'glove50_cnn_{seed}_epoch_15.pth' for seed in range(args.start_seed, args.start_seed + 100)]  "
   ]
  },
  {
   "cell_type": "code",
   "execution_count": null,
   "metadata": {
    "ExecuteTime": {
     "end_time": "2019-06-09T11:22:39.857771Z",
     "start_time": "2019-06-09T11:22:38.229697Z"
    },
    "hidden": true
   },
   "outputs": [],
   "source": [
    "bam = BinaryAvgMetrics(targs, preds, probs)\n",
    "bam.get_avg_metrics()"
   ]
  },
  {
   "cell_type": "code",
   "execution_count": null,
   "metadata": {
    "ExecuteTime": {
     "end_time": "2019-06-09T11:22:40.078693Z",
     "start_time": "2019-06-09T11:22:39.859148Z"
    },
    "hidden": true
   },
   "outputs": [],
   "source": [
    "get_best_model(bam, fnames)"
   ]
  },
  {
   "cell_type": "code",
   "execution_count": null,
   "metadata": {
    "ExecuteTime": {
     "end_time": "2019-06-09T11:22:50.928172Z",
     "start_time": "2019-06-09T11:22:50.749387Z"
    },
    "hidden": true
   },
   "outputs": [],
   "source": [
    "bam.get_avg_metrics(conf=0.95)"
   ]
  },
  {
   "cell_type": "code",
   "execution_count": null,
   "metadata": {
    "ExecuteTime": {
     "end_time": "2019-06-09T11:22:54.501853Z",
     "start_time": "2019-06-09T11:22:53.829235Z"
    },
    "hidden": true
   },
   "outputs": [],
   "source": [
    "fig, ax = plt.subplots(1, 1, figsize=(10, 8))\n",
    "plot_mean_roc(ax, bam.targs, bam.probs)"
   ]
  },
  {
   "cell_type": "code",
   "execution_count": null,
   "metadata": {
    "ExecuteTime": {
     "end_time": "2019-06-09T11:22:54.761334Z",
     "start_time": "2019-06-09T11:22:54.503385Z"
    },
    "hidden": true
   },
   "outputs": [],
   "source": [
    "fig, ax = plt.subplots(1, 2, figsize=(15, 6))\n",
    "\n",
    "plot_confusion_matrix(ax[0], bam.cm_avg, classes=['not imminent', 'imminent'], normalize=False,\\\n",
    "                      title='Confusion Matrix Over Runs')\n",
    "plot_confusion_matrix(ax[1], bam.cm_avg, classes=['not imminent', 'imminent'], normalize=True,\\\n",
    "                      title='Normalized Confusion Matrix Over Runs')\n",
    "plt.show()"
   ]
  },
  {
   "cell_type": "markdown",
   "metadata": {},
   "source": [
    "## Full Data"
   ]
  },
  {
   "cell_type": "code",
   "execution_count": null,
   "metadata": {
    "ExecuteTime": {
     "end_time": "2019-06-10T10:03:42.441180Z",
     "start_time": "2019-06-10T10:02:35.108491Z"
    }
   },
   "outputs": [],
   "source": [
    "df = pd.read_csv(args.dataset_csv, usecols=args.cols)\n",
    "df['split'] = 'train'\n",
    "dc = DataContainer(df, NoteDataset, args.workdir, bs=args.batch_size, with_test=False,\\\n",
    "                   min_freq=args.min_freq, create_vec=True, weighted_sampling=True)\n",
    "\n",
    "pe = PretrainedEmbeddings.from_file(args.emb_path)\n",
    "pe.make_custom_embeddings(dc.get_vocab_tokens())\n",
    "\n",
    "classifier = NoteClassifier(args.emb_sz, dc.get_vocab_size(), args.n_channels, args.hidden_dim, dc.n_classes,\\\n",
    "                            dropout_p=args.dropout_p, emb_dropout=args.emb_dropout,\\\n",
    "                            pretrained=pe.custom_embeddings)\n",
    "\n",
    "optimizer = optim.Adam(classifier.parameters(), lr=args.lr, weight_decay=args.wd)\n",
    "reduce_lr = optim.lr_scheduler.ReduceLROnPlateau(optimizer, 'min', 0.5, 1)\n",
    "loss_fn = nn.BCEWithLogitsLoss()\n",
    "\n",
    "mc = ModelContainer(classifier, loss_fn, optimizer, reduce_lr)"
   ]
  },
  {
   "cell_type": "code",
   "execution_count": null,
   "metadata": {
    "ExecuteTime": {
     "end_time": "2019-06-10T10:44:20.849926Z",
     "start_time": "2019-06-10T10:04:33.185899Z"
    },
    "scrolled": true
   },
   "outputs": [],
   "source": [
    "metrics = OrderedDict({ 'loss': Loss(loss_fn)})\n",
    "ig = IgniteTrainer(mc, dc, args, metrics, log_training=False, early_stop=False)\n",
    "ig.run()"
   ]
  },
  {
   "cell_type": "code",
   "execution_count": null,
   "metadata": {
    "ExecuteTime": {
     "end_time": "2019-06-10T11:05:36.381837Z",
     "start_time": "2019-06-10T11:05:36.109099Z"
    }
   },
   "outputs": [],
   "source": [
    "dc.train_ds.save_vectorizer(args.workdir)"
   ]
  },
  {
   "cell_type": "code",
   "execution_count": null,
   "metadata": {
    "ExecuteTime": {
     "end_time": "2019-06-09T23:23:18.097254Z",
     "start_time": "2019-06-09T23:23:17.260760Z"
    }
   },
   "outputs": [],
   "source": [
    "test_ds = NoteDataset.load_data_and_vectorizer(df, dc.vectorizer)\n",
    "test_dl = DataLoader(test_ds, len(test_ds))"
   ]
  },
  {
   "cell_type": "code",
   "execution_count": null,
   "metadata": {
    "ExecuteTime": {
     "end_time": "2019-06-10T11:05:50.196396Z",
     "start_time": "2019-06-10T11:05:50.158871Z"
    }
   },
   "outputs": [],
   "source": [
    "state_dict = torch.load(args.workdir/'models/glove50_cnn_epoch_15.pth', map_location='cpu')"
   ]
  },
  {
   "cell_type": "code",
   "execution_count": null,
   "metadata": {
    "ExecuteTime": {
     "end_time": "2019-06-10T11:07:07.379354Z",
     "start_time": "2019-06-10T11:07:07.301102Z"
    }
   },
   "outputs": [],
   "source": [
    "with open(args.workdir/'full_data_model.pkl', 'wb') as f:\n",
    "  pickle.dump(state_dict, f)\n",
    "  pickle.dump(dc.train_ds.vectorizer,f )"
   ]
  },
  {
   "cell_type": "code",
   "execution_count": null,
   "metadata": {
    "ExecuteTime": {
     "end_time": "2019-06-09T23:23:57.650251Z",
     "start_time": "2019-06-09T23:23:57.626779Z"
    }
   },
   "outputs": [],
   "source": [
    "classifier.load_state_dict(state_dict);"
   ]
  },
  {
   "cell_type": "code",
   "execution_count": null,
   "metadata": {
    "ExecuteTime": {
     "end_time": "2019-06-09T23:24:46.111151Z",
     "start_time": "2019-06-09T23:23:59.494789Z"
    }
   },
   "outputs": [],
   "source": [
    "x, y = next(iter(test_dl))"
   ]
  },
  {
   "cell_type": "code",
   "execution_count": null,
   "metadata": {
    "ExecuteTime": {
     "end_time": "2019-06-09T23:13:56.766051Z",
     "start_time": "2019-06-09T23:13:09.708861Z"
    }
   },
   "outputs": [],
   "source": [
    "x = x.to('cpu')\n",
    "classifier = classifier.to('cpu')"
   ]
  },
  {
   "cell_type": "code",
   "execution_count": null,
   "metadata": {
    "ExecuteTime": {
     "end_time": "2019-06-09T23:14:09.439450Z",
     "start_time": "2019-06-09T23:14:09.265255Z"
    }
   },
   "outputs": [],
   "source": [
    "torch.cuda.empty_cache()"
   ]
  },
  {
   "cell_type": "code",
   "execution_count": null,
   "metadata": {
    "ExecuteTime": {
     "start_time": "2019-06-09T23:25:18.031Z"
    }
   },
   "outputs": [],
   "source": [
    "pred = classifier(x)"
   ]
  },
  {
   "cell_type": "code",
   "execution_count": null,
   "metadata": {},
   "outputs": [],
   "source": [
    "torch.sigmoid(clf(x_test)).detach().numpy()"
   ]
  },
  {
   "cell_type": "code",
   "execution_count": null,
   "metadata": {
    "ExecuteTime": {
     "start_time": "2019-06-09T23:05:05.058Z"
    }
   },
   "outputs": [],
   "source": [
    "prob = predict_proba(classifier, x)"
   ]
  },
  {
   "cell_type": "code",
   "execution_count": null,
   "metadata": {},
   "outputs": [],
   "source": [
    "prob.shape"
   ]
  }
 ],
 "metadata": {
  "kernelspec": {
   "display_name": "Python 3",
   "language": "python",
   "name": "python3"
  },
  "language_info": {
   "codemirror_mode": {
    "name": "ipython",
    "version": 3
   },
   "file_extension": ".py",
   "mimetype": "text/x-python",
   "name": "python",
   "nbconvert_exporter": "python",
   "pygments_lexer": "ipython3",
   "version": "3.7.3"
  },
  "toc": {
   "base_numbering": 1,
   "nav_menu": {},
   "number_sections": true,
   "sideBar": true,
   "skip_h1_title": true,
   "title_cell": "Table of Contents",
   "title_sidebar": "Contents",
   "toc_cell": false,
   "toc_position": {},
   "toc_section_display": true,
   "toc_window_display": false
  }
 },
 "nbformat": 4,
 "nbformat_minor": 2
}
