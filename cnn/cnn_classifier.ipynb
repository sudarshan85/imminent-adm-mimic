{
 "cells": [
  {
   "cell_type": "markdown",
   "metadata": {},
   "source": [
    "# First ICU Prediction using Scikit-Learn Classifiers for Baseline"
   ]
  },
  {
   "cell_type": "markdown",
   "metadata": {},
   "source": [
    "## Imports & Inits"
   ]
  },
  {
   "cell_type": "code",
   "execution_count": 1,
   "metadata": {
    "ExecuteTime": {
     "end_time": "2019-06-07T20:58:19.567646Z",
     "start_time": "2019-06-07T20:58:19.554174Z"
    }
   },
   "outputs": [],
   "source": [
    "%load_ext autoreload\n",
    "%autoreload 2"
   ]
  },
  {
   "cell_type": "code",
   "execution_count": 25,
   "metadata": {
    "ExecuteTime": {
     "end_time": "2019-06-07T22:50:52.855499Z",
     "start_time": "2019-06-07T22:50:52.710595Z"
    }
   },
   "outputs": [
    {
     "data": {
      "text/plain": [
       "{'workdir': PosixPath('../data/work_dir/cnn'),\n",
       " 'dataset_csv': PosixPath('../data/processed_dataset.csv'),\n",
       " 'batch_size': 512,\n",
       " 'min_freq': 3,\n",
       " 'hidden_dim': 100,\n",
       " 'dropout_p': 0.1,\n",
       " 'emb_dropout': 0.1,\n",
       " 'n_channels': 100,\n",
       " 'lr': 0.001,\n",
       " 'wd': 0.0,\n",
       " 'n_epochs': 15,\n",
       " 'checkpointer_save_total': 100,\n",
       " 'emb_path': PosixPath('../pretrained/glove/glove.6B.50d.txt'),\n",
       " 'emb_sz': 50,\n",
       " 'checkpointer_prefix': 'glove50',\n",
       " 'device': 'cuda:3',\n",
       " 'checkpointer_name': 'classifier',\n",
       " 'checkpointer_save_every': 1,\n",
       " 'early_stop_patience': 10,\n",
       " 'bc_threshold': 0.23,\n",
       " 'cols': ['class_label', 'scispacy_note'],\n",
       " 'start_seed': 127}"
      ]
     },
     "execution_count": 25,
     "metadata": {},
     "output_type": "execute_result"
    }
   ],
   "source": [
    "import sys\n",
    "sys.path.append('../')\n",
    "\n",
    "import warnings\n",
    "with warnings.catch_warnings():\n",
    "    warnings.simplefilter(\"ignore\")\n",
    "\n",
    "import matplotlib.pyplot as plt\n",
    "%matplotlib inline\n",
    "\n",
    "import pickle\n",
    "import numpy as np\n",
    "import pandas as pd\n",
    "\n",
    "from collections import OrderedDict\n",
    "from functools import partial\n",
    "from sklearn.metrics import *\n",
    "\n",
    "import torch\n",
    "from torch import nn\n",
    "from torch import optim\n",
    "\n",
    "from ignite.engine import Events, create_supervised_evaluator\n",
    "from ignite.metrics import Accuracy, Loss, Precision, Recall\n",
    "from ignite.contrib.handlers.param_scheduler import CosineAnnealingScheduler\n",
    "\n",
    "from cnn_classifier.dataset import NoteDataset\n",
    "from cnn_classifier.model import NoteClassifier\n",
    "from cnn_classifier.containers import ModelContainer, DataContainer\n",
    "from cnn_classifier.trainer import IgniteTrainer\n",
    "from utils.embeddings import PretrainedEmbeddings\n",
    "from utils.plots import *\n",
    "from utils.metrics import BinaryAvgMetrics, get_best_model\n",
    "\n",
    "from utils.splits import *\n",
    "from args import args\n",
    "vars(args)"
   ]
  },
  {
   "cell_type": "code",
   "execution_count": 5,
   "metadata": {
    "ExecuteTime": {
     "end_time": "2019-06-07T20:59:12.652510Z",
     "start_time": "2019-06-07T20:59:09.491097Z"
    }
   },
   "outputs": [],
   "source": [
    "seed = 42\n",
    "ori_df = pd.read_csv(args.dataset_csv, usecols=args.cols)\n",
    "df = set_all_splits(ori_df.copy(), 0.1, 0.1, seed=seed)"
   ]
  },
  {
   "cell_type": "markdown",
   "metadata": {},
   "source": [
    "## Functions"
   ]
  },
  {
   "cell_type": "code",
   "execution_count": 7,
   "metadata": {
    "ExecuteTime": {
     "end_time": "2019-06-07T20:59:25.809064Z",
     "start_time": "2019-06-07T20:59:25.740829Z"
    }
   },
   "outputs": [],
   "source": [
    "def get_sample(df, sample_pct=0.01, with_val=True, seed=None):\n",
    "  train = df.loc[(df['split']) == 'train'].sample(frac=sample_pct, random_state=seed)\n",
    "  train.reset_index(inplace=True, drop=True)\n",
    "\n",
    "  if with_val:\n",
    "    val = df.loc[(df['split']) == 'val'].sample(frac=sample_pct, random_state=seed)\n",
    "    val.reset_index(inplace=True, drop=True)\n",
    "    return pd.concat([train, val], axis=0) \n",
    "\n",
    "  return train\n",
    "\n",
    "def convert_probs(output, thresh):\n",
    "  y_pred, y = output\n",
    "  y_pred = (torch.sigmoid(y_pred) > thresh).long()\n",
    "  return y_pred, y\n",
    "\n",
    "def predict_proba(clf, x_test):\n",
    "  return torch.sigmoid(clf(x_test)).detach().numpy()"
   ]
  },
  {
   "cell_type": "markdown",
   "metadata": {},
   "source": [
    "## Sample Training"
   ]
  },
  {
   "cell_type": "code",
   "execution_count": null,
   "metadata": {
    "ExecuteTime": {
     "end_time": "2019-05-27T19:20:06.822131Z",
     "start_time": "2019-05-27T19:20:06.793234Z"
    }
   },
   "outputs": [],
   "source": [
    "sample_df = get_sample(df)\n",
    "sample_df.shape"
   ]
  },
  {
   "cell_type": "code",
   "execution_count": 18,
   "metadata": {
    "ExecuteTime": {
     "end_time": "2019-06-07T22:43:22.390777Z",
     "start_time": "2019-06-07T22:42:52.146242Z"
    }
   },
   "outputs": [],
   "source": [
    "dc = DataContainer(df, NoteDataset, args.workdir, bs=args.batch_size, with_test=True,\\\n",
    "                   min_freq=args.min_freq, create_vec=True, weighted_sampling=True)\n",
    "itr = iter(dc.train_dl)\n",
    "\n",
    "pe = PretrainedEmbeddings.from_file(args.emb_path)\n",
    "pe.make_custom_embeddings(dc.get_vocab_tokens())\n",
    "\n",
    "classifier = NoteClassifier(args.emb_sz, dc.get_vocab_size(), args.n_channels, args.hidden_dim, dc.n_classes,\\\n",
    "                            dropout_p=args.dropout_p, emb_dropout=args.emb_dropout,\\\n",
    "                            pretrained=pe.custom_embeddings)"
   ]
  },
  {
   "cell_type": "code",
   "execution_count": 10,
   "metadata": {
    "ExecuteTime": {
     "end_time": "2019-06-07T21:01:41.603592Z",
     "start_time": "2019-06-07T21:01:41.408897Z"
    }
   },
   "outputs": [],
   "source": [
    "optimizer = optim.Adam(classifier.parameters(), lr=args.lr, weight_decay=args.wd)\n",
    "reduce_lr = optim.lr_scheduler.ReduceLROnPlateau(optimizer, 'min', 0.5, 1)\n",
    "loss_fn = nn.BCEWithLogitsLoss()\n",
    "\n",
    "mc = ModelContainer(classifier, loss_fn, optimizer, reduce_lr)"
   ]
  },
  {
   "cell_type": "code",
   "execution_count": 11,
   "metadata": {
    "ExecuteTime": {
     "end_time": "2019-06-07T21:01:49.763038Z",
     "start_time": "2019-06-07T21:01:42.665298Z"
    }
   },
   "outputs": [
    {
     "name": "stdout",
     "output_type": "stream",
     "text": [
      "tensor(0.6932, grad_fn=<BinaryCrossEntropyWithLogitsBackward>)\n"
     ]
    }
   ],
   "source": [
    "x, y = next(itr)\n",
    "y_pred = classifier(x)\n",
    "print(loss_fn(y_pred, y))"
   ]
  },
  {
   "cell_type": "code",
   "execution_count": 12,
   "metadata": {
    "ExecuteTime": {
     "end_time": "2019-06-07T21:54:39.646698Z",
     "start_time": "2019-06-07T21:04:11.356868Z"
    },
    "scrolled": true
   },
   "outputs": [
    {
     "name": "stderr",
     "output_type": "stream",
     "text": [
      "Epoch [1/15]: [79/79] 100%|██████████, loss=6.44e-01 [02:10<00:00]\n"
     ]
    },
    {
     "name": "stdout",
     "output_type": "stream",
     "text": [
      "Training loss 0.607 \n",
      "Validation loss 0.615 \n"
     ]
    },
    {
     "name": "stderr",
     "output_type": "stream",
     "text": [
      "Epoch [2/15]: [79/79] 100%|██████████, loss=5.96e-01 [02:06<00:00]\n"
     ]
    },
    {
     "name": "stdout",
     "output_type": "stream",
     "text": [
      "Training loss 0.577 \n",
      "Validation loss 0.591 \n"
     ]
    },
    {
     "name": "stderr",
     "output_type": "stream",
     "text": [
      "Epoch [3/15]: [79/79] 100%|██████████, loss=5.48e-01 [02:03<00:00]\n"
     ]
    },
    {
     "name": "stdout",
     "output_type": "stream",
     "text": [
      "Training loss 0.512 \n",
      "Validation loss 0.577 \n"
     ]
    },
    {
     "name": "stderr",
     "output_type": "stream",
     "text": [
      "Epoch [4/15]: [79/79] 100%|██████████, loss=4.85e-01 [02:04<00:00]\n"
     ]
    },
    {
     "name": "stdout",
     "output_type": "stream",
     "text": [
      "Training loss 0.454 \n",
      "Validation loss 0.504 \n"
     ]
    },
    {
     "name": "stderr",
     "output_type": "stream",
     "text": [
      "Epoch [5/15]: [79/79] 100%|██████████, loss=4.35e-01 [02:04<00:00]\n"
     ]
    },
    {
     "name": "stdout",
     "output_type": "stream",
     "text": [
      "Training loss 0.415 \n",
      "Validation loss 0.466 \n"
     ]
    },
    {
     "name": "stderr",
     "output_type": "stream",
     "text": [
      "Epoch [6/15]: [79/79] 100%|██████████, loss=3.90e-01 [02:11<00:00]\n"
     ]
    },
    {
     "name": "stdout",
     "output_type": "stream",
     "text": [
      "Training loss 0.366 \n",
      "Validation loss 0.451 \n"
     ]
    },
    {
     "name": "stderr",
     "output_type": "stream",
     "text": [
      "Epoch [7/15]: [79/79] 100%|██████████, loss=3.62e-01 [02:09<00:00]\n"
     ]
    },
    {
     "name": "stdout",
     "output_type": "stream",
     "text": [
      "Training loss 0.349 \n",
      "Validation loss 0.562 \n"
     ]
    },
    {
     "name": "stderr",
     "output_type": "stream",
     "text": [
      "Epoch [8/15]: [79/79] 100%|██████████, loss=3.38e-01 [02:07<00:00]\n"
     ]
    },
    {
     "name": "stdout",
     "output_type": "stream",
     "text": [
      "Training loss 0.293 \n",
      "Validation loss 0.493 \n"
     ]
    },
    {
     "name": "stderr",
     "output_type": "stream",
     "text": [
      "Epoch [9/15]: [79/79] 100%|██████████, loss=3.00e-01 [02:04<00:00]\n"
     ]
    },
    {
     "name": "stdout",
     "output_type": "stream",
     "text": [
      "Training loss 0.288 \n",
      "Validation loss 0.544 \n"
     ]
    },
    {
     "name": "stderr",
     "output_type": "stream",
     "text": [
      "Epoch [10/15]: [79/79] 100%|██████████, loss=2.90e-01 [02:06<00:00]\n"
     ]
    },
    {
     "name": "stdout",
     "output_type": "stream",
     "text": [
      "Training loss 0.261 \n",
      "Validation loss 0.541 \n"
     ]
    },
    {
     "name": "stderr",
     "output_type": "stream",
     "text": [
      "Epoch [11/15]: [79/79] 100%|██████████, loss=2.71e-01 [02:13<00:00]\n"
     ]
    },
    {
     "name": "stdout",
     "output_type": "stream",
     "text": [
      "Training loss 0.250 \n",
      "Validation loss 0.523 \n"
     ]
    },
    {
     "name": "stderr",
     "output_type": "stream",
     "text": [
      "Epoch [12/15]: [79/79] 100%|██████████, loss=2.60e-01 [02:04<00:00]\n"
     ]
    },
    {
     "name": "stdout",
     "output_type": "stream",
     "text": [
      "Training loss 0.240 \n",
      "Validation loss 0.533 \n"
     ]
    },
    {
     "name": "stderr",
     "output_type": "stream",
     "text": [
      "Epoch [13/15]: [79/79] 100%|██████████, loss=2.59e-01 [02:01<00:00]\n"
     ]
    },
    {
     "name": "stdout",
     "output_type": "stream",
     "text": [
      "Training loss 0.230 \n",
      "Validation loss 0.540 \n"
     ]
    },
    {
     "name": "stderr",
     "output_type": "stream",
     "text": [
      "Epoch [14/15]: [79/79] 100%|██████████, loss=2.49e-01 [02:04<00:00]\n"
     ]
    },
    {
     "name": "stdout",
     "output_type": "stream",
     "text": [
      "Training loss 0.246 \n",
      "Validation loss 0.575 \n"
     ]
    },
    {
     "name": "stderr",
     "output_type": "stream",
     "text": [
      "Epoch [15/15]: [79/79] 100%|██████████, loss=2.50e-01 [02:08<00:00]\n"
     ]
    },
    {
     "name": "stdout",
     "output_type": "stream",
     "text": [
      "Training loss 0.225 \n",
      "Validation loss 0.548 \n"
     ]
    }
   ],
   "source": [
    "bce_logits_wrapper = partial(convert_probs, thresh=args.bc_threshold)\n",
    "metrics = OrderedDict({ 'loss': Loss(loss_fn)})\n",
    "ig = IgniteTrainer(mc, dc, args, metrics, log_training=True, early_stop=True)\n",
    "model_name = ig.run()"
   ]
  },
  {
   "cell_type": "code",
   "execution_count": 19,
   "metadata": {
    "ExecuteTime": {
     "end_time": "2019-06-07T22:43:34.723354Z",
     "start_time": "2019-06-07T22:43:28.651183Z"
    }
   },
   "outputs": [],
   "source": [
    "x_test, targ = next(iter(dc.test_dl))\n",
    "x_test = x_test.to('cpu')\n",
    "targ = targ.to('cpu')\n",
    "classifier = classifier.to('cpu')"
   ]
  },
  {
   "cell_type": "code",
   "execution_count": 26,
   "metadata": {
    "ExecuteTime": {
     "end_time": "2019-06-07T22:52:34.346365Z",
     "start_time": "2019-06-07T22:50:59.064225Z"
    }
   },
   "outputs": [],
   "source": [
    "prob = predict_proba(classifier, x_test)\n",
    "pred = (prob > args.bc_threshold).astype(np.int64)"
   ]
  },
  {
   "cell_type": "code",
   "execution_count": 24,
   "metadata": {
    "ExecuteTime": {
     "end_time": "2019-06-07T22:50:01.904067Z",
     "start_time": "2019-06-07T22:49:59.521227Z"
    }
   },
   "outputs": [
    {
     "data": {
      "image/png": "[encoded data removed]",
      "text/plain": [
       "<Figure size 864x576 with 1 Axes>"
      ]
     },
     "metadata": {
      "needs_background": "light"
     },
     "output_type": "display_data"
    }
   ],
   "source": [
    "fig, ax = plt.subplots(figsize=(12,8))\n",
    "plot_thresh_range(ax, targ, prob, 0.1, 0.9, 25)"
   ]
  },
  {
   "cell_type": "code",
   "execution_count": 29,
   "metadata": {
    "ExecuteTime": {
     "end_time": "2019-06-07T22:54:32.669358Z",
     "start_time": "2019-06-07T22:54:32.582690Z"
    }
   },
   "outputs": [
    {
     "data": {
      "text/html": [
       "<div>\n",
       "<style scoped>\n",
       "    .dataframe tbody tr th:only-of-type {\n",
       "        vertical-align: middle;\n",
       "    }\n",
       "\n",
       "    .dataframe tbody tr th {\n",
       "        vertical-align: top;\n",
       "    }\n",
       "\n",
       "    .dataframe thead th {\n",
       "        text-align: right;\n",
       "    }\n",
       "</style>\n",
       "<table border=\"1\" class=\"dataframe\">\n",
       "  <thead>\n",
       "    <tr style=\"text-align: right;\">\n",
       "      <th></th>\n",
       "      <th>Value</th>\n",
       "    </tr>\n",
       "  </thead>\n",
       "  <tbody>\n",
       "    <tr>\n",
       "      <th>sensitivity</th>\n",
       "      <td>0.809</td>\n",
       "    </tr>\n",
       "    <tr>\n",
       "      <th>specificity</th>\n",
       "      <td>0.738</td>\n",
       "    </tr>\n",
       "    <tr>\n",
       "      <th>ppv</th>\n",
       "      <td>0.494</td>\n",
       "    </tr>\n",
       "    <tr>\n",
       "      <th>npv</th>\n",
       "      <td>0.924</td>\n",
       "    </tr>\n",
       "    <tr>\n",
       "      <th>f1</th>\n",
       "      <td>0.614</td>\n",
       "    </tr>\n",
       "    <tr>\n",
       "      <th>auroc</th>\n",
       "      <td>0.858</td>\n",
       "    </tr>\n",
       "    <tr>\n",
       "      <th>prevalence</th>\n",
       "      <td>0.241</td>\n",
       "    </tr>\n",
       "  </tbody>\n",
       "</table>\n",
       "</div>"
      ],
      "text/plain": [
       "             Value\n",
       "sensitivity  0.809\n",
       "specificity  0.738\n",
       "ppv          0.494\n",
       "npv          0.924\n",
       "f1           0.614\n",
       "auroc        0.858\n",
       "prevalence   0.241"
      ]
     },
     "execution_count": 29,
     "metadata": {},
     "output_type": "execute_result"
    }
   ],
   "source": [
    "cm = confusion_matrix(targ, pred)\n",
    "tn,fp,fn,tp = cm[0][0],cm[0][1],cm[1][0],cm[1][1]\n",
    "prevalence = (fn+tp)/(tn+fp+fn+tp)\n",
    "sensitivity = tp/(tp+fn)\n",
    "specificity = tn/(tn+fp)\n",
    "ppv = tp/(tp+fp)\n",
    "npv = tn/(tn+fn)\n",
    "f1 = (2*ppv*sensitivity)/(ppv+sensitivity)\n",
    "auroc = roc_auc_score(targ, prob)\n",
    "\n",
    "d = {\n",
    "  'sensitivity': np.round(sensitivity, 3),\n",
    "  'specificity': np.round(specificity, 3),\n",
    "  'ppv': np.round(ppv, 3),\n",
    "  'npv': np.round(npv, 3),\n",
    "  'f1': np.round(f1, 3),\n",
    "  'auroc': np.round(auroc, 3),\n",
    "  'prevalence': np.round(prevalence, 3),  \n",
    "}\n",
    "\n",
    "metrics = pd.DataFrame(d.values(), index=d.keys(), columns=['Value'])\n",
    "metrics"
   ]
  },
  {
   "cell_type": "code",
   "execution_count": 13,
   "metadata": {
    "ExecuteTime": {
     "end_time": "2019-06-07T22:39:25.005551Z",
     "start_time": "2019-06-07T22:39:24.808259Z"
    }
   },
   "outputs": [
    {
     "data": {
      "text/plain": [
       "'glove50_classifier_6.pth'"
      ]
     },
     "execution_count": 13,
     "metadata": {},
     "output_type": "execute_result"
    }
   ],
   "source": [
    "model_name"
   ]
  },
  {
   "cell_type": "code",
   "execution_count": 30,
   "metadata": {
    "ExecuteTime": {
     "end_time": "2019-06-07T23:02:08.861131Z",
     "start_time": "2019-06-07T23:02:08.438838Z"
    }
   },
   "outputs": [
    {
     "data": {
      "image/png": "[encoded data removed]",
      "text/plain": [
       "<Figure size 1152x288 with 4 Axes>"
      ]
     },
     "metadata": {
      "needs_background": "light"
     },
     "output_type": "display_data"
    }
   ],
   "source": [
    "fig, ax = plt.subplots(1, 2, figsize=(16, 4))\n",
    "\n",
    "plot_confusion_matrix(ax[0], cm, classes=['not imminent', 'imminent'], normalize=False, title='Confusion matrix')\n",
    "plot_confusion_matrix(ax[1], cm, classes=['not imminent', 'imminent'], normalize=True,\\\n",
    "                      title='Normalized confusion matrix')\n",
    "plt.show()"
   ]
  },
  {
   "cell_type": "markdown",
   "metadata": {
    "heading_collapsed": true
   },
   "source": [
    "## Testing"
   ]
  },
  {
   "cell_type": "code",
   "execution_count": null,
   "metadata": {
    "ExecuteTime": {
     "end_time": "2019-05-27T13:43:57.379625Z",
     "start_time": "2019-05-27T13:43:56.455972Z"
    },
    "hidden": true
   },
   "outputs": [],
   "source": [
    "dc = DataContainer(df, NoteDataset, args.workdir, bs=args.batch_size, with_test=True,\\\n",
    "                   min_freq=args.min_freq, load_vec=True)\n",
    "\n",
    "print(dc.get_dataset_size())\n",
    "print(dc.get_batch_sizes())\n",
    "print(dc.get_num_batches())"
   ]
  },
  {
   "cell_type": "code",
   "execution_count": null,
   "metadata": {
    "ExecuteTime": {
     "end_time": "2019-05-27T13:44:10.211949Z",
     "start_time": "2019-05-27T13:43:58.368212Z"
    },
    "hidden": true
   },
   "outputs": [],
   "source": [
    "pe = PretrainedEmbeddings.from_file(args.emb_path)\n",
    "pe.make_custom_embeddings(dc.get_vocab_tokens())\n",
    "\n",
    "classifier = NoteClassifier(args.emb_sz, dc.get_vocab_size(), args.n_channels, args.hidden_dim, dc.n_classes,\\\n",
    "                            dropout_p=args.dropout_p, pretrained=pe.custom_embeddings)\n",
    "\n",
    "state_dict = torch.load(args.modelfile)\n",
    "classifier.load_state_dict(state_dict);"
   ]
  },
  {
   "cell_type": "markdown",
   "metadata": {
    "ExecuteTime": {
     "end_time": "2019-05-20T10:42:51.919793Z",
     "start_time": "2019-05-20T10:42:51.730731Z"
    },
    "heading_collapsed": true,
    "hidden": true
   },
   "source": [
    "### Plots"
   ]
  },
  {
   "cell_type": "code",
   "execution_count": null,
   "metadata": {
    "ExecuteTime": {
     "end_time": "2019-05-20T13:11:28.846243Z",
     "start_time": "2019-05-20T13:11:28.814144Z"
    },
    "hidden": true
   },
   "outputs": [],
   "source": [
    "log = pd.read_csv(args.workdir/'training_log.csv')\n",
    "log = log[:-1]\n",
    "log.head()"
   ]
  },
  {
   "cell_type": "code",
   "execution_count": null,
   "metadata": {
    "ExecuteTime": {
     "end_time": "2019-05-20T13:11:29.328015Z",
     "start_time": "2019-05-20T13:11:28.847463Z"
    },
    "hidden": true
   },
   "outputs": [],
   "source": [
    "fig, axes = plt.subplots(nrows=2, ncols=2, figsize=(15,10))\n",
    "log.plot(x='epoch', y=['training_loss', 'validation_loss'], kind='line',\n",
    "                      title='Training and validation loss', ax=axes[0][0])\n",
    "log.plot(x='epoch', y=['training_accuracy', 'validation_accuracy'], kind='line',\n",
    "                      title='Training and validation accuracy', ax=axes[0][1])\n",
    "log.plot(x='epoch', y=['training_precision', 'validation_precision'], kind='line',\n",
    "                      title='Training and validation precision', ax=axes[1][0])\n",
    "log.plot(x='epoch', y=['training_recall', 'validation_recall'], kind='line',\n",
    "                      title='Training and validation recall', ax=axes[1][1])"
   ]
  },
  {
   "cell_type": "markdown",
   "metadata": {
    "heading_collapsed": true,
    "hidden": true
   },
   "source": [
    "### Test set"
   ]
  },
  {
   "cell_type": "code",
   "execution_count": null,
   "metadata": {
    "ExecuteTime": {
     "end_time": "2019-05-27T11:28:05.383469Z",
     "start_time": "2019-05-27T11:28:05.305222Z"
    },
    "hidden": true
   },
   "outputs": [],
   "source": [
    "loss_fn = nn.BCEWithLogitsLoss()\n",
    "bce_logits_wrapper = partial(convert_probs, thresh=args.bc_threshold)\n",
    "metrics = OrderedDict({ 'loss': Loss(loss_fn), 'sensitivity': Recall(bce_logits_wrapper),\\\n",
    "                       'ppv': Precision(bce_logits_wrapper)})"
   ]
  },
  {
   "cell_type": "code",
   "execution_count": null,
   "metadata": {
    "ExecuteTime": {
     "end_time": "2019-05-27T11:29:03.702303Z",
     "start_time": "2019-05-27T11:28:08.616567Z"
    },
    "hidden": true
   },
   "outputs": [],
   "source": [
    "evaluator = create_supervised_evaluator(classifier, metrics=metrics)\n",
    "\n",
    "@evaluator.on(Events.COMPLETED)\n",
    "def log_testing_results(engine):\n",
    "  metrics = engine.state.metrics\n",
    "  for metric in metrics.keys():\n",
    "    print(f\"{metric} {metrics[metric]:0.3f}\")\n",
    "\n",
    "evaluator.run(dc.test_dl)"
   ]
  },
  {
   "cell_type": "markdown",
   "metadata": {
    "heading_collapsed": true,
    "hidden": true
   },
   "source": [
    "### Interpretation"
   ]
  },
  {
   "cell_type": "code",
   "execution_count": null,
   "metadata": {
    "ExecuteTime": {
     "end_time": "2019-05-27T11:29:12.539520Z",
     "start_time": "2019-05-27T11:29:12.317032Z"
    },
    "hidden": true
   },
   "outputs": [],
   "source": [
    "# sort weights\n",
    "emb = classifier.emb.weight.detach()[0]\n",
    "_, idxs = torch.sort(emb, dim=0, descending=True)\n",
    "idxs = idxs.numpy().tolist()"
   ]
  },
  {
   "cell_type": "code",
   "execution_count": null,
   "metadata": {
    "ExecuteTime": {
     "end_time": "2019-05-27T11:29:14.090888Z",
     "start_time": "2019-05-27T11:29:14.070124Z"
    },
    "hidden": true
   },
   "outputs": [],
   "source": [
    "# Top 20 words\n",
    "print(\"Influential words in positive class:\")\n",
    "print(\"--------------------------------------\")\n",
    "for i in range(20):\n",
    "    print(dc.vectorizer.vocab.lookup_idx(idxs[i]))\n",
    "    \n",
    "print(\"====\\n\\n\\n\")"
   ]
  },
  {
   "cell_type": "code",
   "execution_count": null,
   "metadata": {
    "ExecuteTime": {
     "end_time": "2019-05-27T11:29:17.285476Z",
     "start_time": "2019-05-27T11:29:17.266591Z"
    },
    "hidden": true,
    "scrolled": false
   },
   "outputs": [],
   "source": [
    "# Top 20 words\n",
    "print(\"Influential words in negative class:\")\n",
    "print(\"--------------------------------------\")\n",
    "idxs.reverse()\n",
    "for i in range(20):\n",
    "    print(dc.vectorizer.vocab.lookup_idx(idxs[i]))\n",
    "    \n",
    "print(\"====\\n\\n\\n\")"
   ]
  },
  {
   "cell_type": "markdown",
   "metadata": {},
   "source": [
    "## Metrics"
   ]
  },
  {
   "cell_type": "markdown",
   "metadata": {},
   "source": [
    "Taken from [here](https://www.dataschool.io/simple-guide-to-confusion-matrix-terminology/):\n",
    "\n",
    "1. Prevalence: `(fn + tp) / total`\n",
    "2. Sensitivity: AKA recall, true positive rate `tp / (tp + fn)`\n",
    "3. Specificity: AKA true negative rate `tn / (tn + fp)`\n",
    "4. Positive Predictive Value (PPV): AKA precision `tp / (tp + fp)`\n",
    "5. Negative Predictive Value (NPV): `tn / (tn + fn)`"
   ]
  },
  {
   "cell_type": "code",
   "execution_count": null,
   "metadata": {
    "ExecuteTime": {
     "end_time": "2019-05-28T16:33:45.329156Z",
     "start_time": "2019-05-28T16:33:45.289212Z"
    }
   },
   "outputs": [],
   "source": [
    "with open(args.workdir/'preds.pkl', 'rb') as f:\n",
    "  targs = pickle.load(f)\n",
    "  preds = pickle.load(f)\n",
    "  probs = pickle.load(f)"
   ]
  },
  {
   "cell_type": "code",
   "execution_count": null,
   "metadata": {
    "ExecuteTime": {
     "end_time": "2019-05-28T16:33:47.246851Z",
     "start_time": "2019-05-28T16:33:46.679099Z"
    }
   },
   "outputs": [],
   "source": [
    "bam = BinaryAvgMetrics(targs, preds, probs)\n",
    "bam.get_avg_metrics()"
   ]
  },
  {
   "cell_type": "code",
   "execution_count": null,
   "metadata": {
    "ExecuteTime": {
     "end_time": "2019-05-28T16:33:49.651283Z",
     "start_time": "2019-05-28T16:33:48.976452Z"
    }
   },
   "outputs": [],
   "source": [
    "fig, ax = plt.subplots(1, 1, figsize=(10, 8))\n",
    "plot_mean_roc(ax, bam.targs, bam.probs)"
   ]
  },
  {
   "cell_type": "code",
   "execution_count": null,
   "metadata": {
    "ExecuteTime": {
     "end_time": "2019-05-28T16:33:52.456642Z",
     "start_time": "2019-05-28T16:33:52.206931Z"
    }
   },
   "outputs": [],
   "source": [
    "fig, ax = plt.subplots(1, 2, figsize=(15, 6))\n",
    "\n",
    "plot_confusion_matrix(ax[0], bam.cm_avg, classes=['not imminent', 'imminent'], normalize=False,\\\n",
    "                      title='Confusion Matrix Over Runs')\n",
    "plot_confusion_matrix(ax[1], bam.cm_avg, classes=['not imminent', 'imminent'], normalize=True,\\\n",
    "                      title='Normalized Confusion Matrix Over Runs')\n",
    "plt.show()"
   ]
  }
 ],
 "metadata": {
  "kernelspec": {
   "display_name": "Python 3",
   "language": "python",
   "name": "python3"
  },
  "language_info": {
   "codemirror_mode": {
    "name": "ipython",
    "version": 3
   },
   "file_extension": ".py",
   "mimetype": "text/x-python",
   "name": "python",
   "nbconvert_exporter": "python",
   "pygments_lexer": "ipython3",
   "version": "3.7.3"
  },
  "toc": {
   "base_numbering": 1,
   "nav_menu": {},
   "number_sections": true,
   "sideBar": true,
   "skip_h1_title": true,
   "title_cell": "Table of Contents",
   "title_sidebar": "Contents",
   "toc_cell": false,
   "toc_position": {},
   "toc_section_display": true,
   "toc_window_display": false
  }
 },
 "nbformat": 4,
 "nbformat_minor": 2
}
