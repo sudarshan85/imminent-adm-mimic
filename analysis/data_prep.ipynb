{
 "cells": [
  {
   "cell_type": "markdown",
   "metadata": {},
   "source": [
    "# Dataset Preparation for First ICU Prediction"
   ]
  },
  {
   "cell_type": "markdown",
   "metadata": {},
   "source": [
    "## Imports & Inits"
   ]
  },
  {
   "cell_type": "code",
   "execution_count": 1,
   "metadata": {
    "ExecuteTime": {
     "end_time": "2019-07-01T21:06:38.080531Z",
     "start_time": "2019-07-01T21:06:38.067200Z"
    }
   },
   "outputs": [],
   "source": [
    "%load_ext autoreload\n",
    "%autoreload 2"
   ]
  },
  {
   "cell_type": "code",
   "execution_count": 2,
   "metadata": {
    "ExecuteTime": {
     "end_time": "2019-07-01T21:06:39.996574Z",
     "start_time": "2019-07-01T21:06:38.081688Z"
    }
   },
   "outputs": [
    {
     "data": {
      "text/plain": [
       "{'path': PosixPath('../data'),\n",
       " 'workdir': PosixPath('../data/workdir'),\n",
       " 'figdir': PosixPath('../data/workdir/figdir'),\n",
       " 'raw_csv': PosixPath('../data/mimic_icu_pred_raw_dataset.csv'),\n",
       " 'proc_csv': PosixPath('../data/mimic_icu_pred_proc_dataset.csv'),\n",
       " 'cols': ['imminent_label',\n",
       "  'discharge_label',\n",
       "  'scispacy_note',\n",
       "  'charttime',\n",
       "  'intime'],\n",
       " 'dates': ['charttime', 'intime'],\n",
       " 'imminent_threshold': {'lr': 0.47, 'rf': 0.32, 'gbm': 0.3},\n",
       " 'discharge_threshold': {'lr': 0.48, 'rf': 0.37, 'gbm': 0.39}}"
      ]
     },
     "execution_count": 2,
     "metadata": {},
     "output_type": "execute_result"
    }
   ],
   "source": [
    "import sys\n",
    "sys.path.append('../')\n",
    "\n",
    "import math\n",
    "import numpy as np\n",
    "import pandas as pd\n",
    "import spacy\n",
    "\n",
    "import seaborn as sns\n",
    "sns.set(style = 'darkgrid')\n",
    "\n",
    "import matplotlib.pyplot as plt\n",
    "%matplotlib inline\n",
    "\n",
    "from pathlib import Path\n",
    "\n",
    "from utils.splits import set_two_splits\n",
    "from args import args\n",
    "vars(args)"
   ]
  },
  {
   "cell_type": "markdown",
   "metadata": {
    "heading_collapsed": true
   },
   "source": [
    "## Data Processing"
   ]
  },
  {
   "cell_type": "markdown",
   "metadata": {
    "hidden": true
   },
   "source": [
    "1. Load in the data\n",
    "2. Drop duplicates\n",
    "3. Merge `category`, `description`, and `text` into a new column called `note`\n",
    "4. Tokenize text using `scispacy` and create new column called `scispacy_note` to save tokenized text\n",
    "5. Save a csv file onto disk"
   ]
  },
  {
   "cell_type": "code",
   "execution_count": null,
   "metadata": {
    "ExecuteTime": {
     "end_time": "2019-06-30T21:05:18.646900Z",
     "start_time": "2019-06-30T21:05:18.620114Z"
    },
    "hidden": true
   },
   "outputs": [],
   "source": [
    "def tokenize_text(text):\n",
    "  tokens = [token.text for token in nlp(text)]\n",
    "  return ' '.join(tokens)\n",
    "\n",
    "def group_eth(eth):\n",
    "  eth = eth.lower()\n",
    "  if 'white' in eth:\n",
    "    return 'white'\n",
    "  elif 'black' in eth:\n",
    "    return 'black'\n",
    "  elif 'hispanic' in eth:\n",
    "    return 'hispanic'\n",
    "  elif 'asian' in eth:\n",
    "    return 'asian'\n",
    "  else:\n",
    "    return 'unknown'"
   ]
  },
  {
   "cell_type": "code",
   "execution_count": null,
   "metadata": {
    "ExecuteTime": {
     "end_time": "2019-06-30T21:05:29.385573Z",
     "start_time": "2019-06-30T21:05:27.932133Z"
    },
    "hidden": true
   },
   "outputs": [],
   "source": [
    "df = pd.read_csv(args.raw_csv)\n",
    "df.shape"
   ]
  },
  {
   "cell_type": "code",
   "execution_count": null,
   "metadata": {
    "ExecuteTime": {
     "end_time": "2019-06-30T21:07:16.106796Z",
     "start_time": "2019-06-30T21:05:30.798016Z"
    },
    "hidden": true
   },
   "outputs": [],
   "source": [
    "nlp = spacy.load('en_core_sci_md', disable=['parser', 'ner', 'tagger'])\n",
    "\n",
    "df.drop_duplicates(inplace=True)\n",
    "df['note'] = df['category'].str.cat(df['description'], sep='\\n')\n",
    "df['note'] = df['note'].str.cat(df['text'], sep='\\n')\n",
    "df['ethnicity'] = df['ethnicity'].apply(group_eth)\n",
    "df['scispacy_note'] = df['note'].apply(tokenize_text)\n",
    "df.drop(['text', 'description'], axis=1, inplace=True)\n",
    "df.shape"
   ]
  },
  {
   "cell_type": "code",
   "execution_count": null,
   "metadata": {
    "ExecuteTime": {
     "end_time": "2019-06-27T00:37:54.407355Z",
     "start_time": "2019-06-27T00:37:45.651Z"
    },
    "hidden": true
   },
   "outputs": [],
   "source": [
    "df.to_csv(args.proc_csv, index=False)"
   ]
  },
  {
   "cell_type": "markdown",
   "metadata": {},
   "source": [
    "## Splitting"
   ]
  },
  {
   "cell_type": "code",
   "execution_count": 3,
   "metadata": {
    "ExecuteTime": {
     "end_time": "2019-07-01T21:06:51.407982Z",
     "start_time": "2019-07-01T21:06:48.924016Z"
    }
   },
   "outputs": [
    {
     "name": "stdout",
     "output_type": "stream",
     "text": [
      "Index(['subject_id', 'hadm_id', 'icustay_id', 'admission_type', 'admittime',\n",
      "       'dischtime', 'intime', 'outtime', 'charttime', 'icu_los', 'deathtime',\n",
      "       'adm_icu_period', 'chart_icu_period', 'chartinterval', 'ethnicity',\n",
      "       'dob', 'gender', 'admission_age', 'category', 'imminent_label',\n",
      "       'discharge_label', 'note', 'scispacy_note'],\n",
      "      dtype='object')\n",
      "(75271, 23)\n"
     ]
    }
   ],
   "source": [
    "df = pd.read_csv(args.proc_csv)\n",
    "print(df.columns)\n",
    "print(df.shape)"
   ]
  },
  {
   "cell_type": "code",
   "execution_count": 4,
   "metadata": {
    "ExecuteTime": {
     "end_time": "2019-07-01T21:06:51.441178Z",
     "start_time": "2019-07-01T21:06:51.409716Z"
    }
   },
   "outputs": [
    {
     "name": "stdout",
     "output_type": "stream",
     "text": [
      "Number of admissions: 12877\n",
      "Number of Notes: 75271\n",
      "Average number of notes per admission: 5.85\n"
     ]
    }
   ],
   "source": [
    "print(f\"Number of admissions: {df['hadm_id'].nunique()}\")\n",
    "print(f\"Number of Notes: {len(df)}\")\n",
    "print(f\"Average number of notes per admission: {df.groupby('hadm_id')['scispacy_note'].size().mean():0.2f}\")\n",
    "assert(round(len(df)/df['hadm_id'].nunique(), 2) == round(df.groupby('hadm_id')['scispacy_note'].size().mean(), 2))"
   ]
  },
  {
   "cell_type": "code",
   "execution_count": 5,
   "metadata": {
    "ExecuteTime": {
     "end_time": "2019-07-01T21:06:51.464441Z",
     "start_time": "2019-07-01T21:06:51.442788Z"
    }
   },
   "outputs": [],
   "source": [
    "from sklearn.model_selection import GroupShuffleSplit"
   ]
  },
  {
   "cell_type": "code",
   "execution_count": 6,
   "metadata": {
    "ExecuteTime": {
     "end_time": "2019-07-01T21:06:52.795994Z",
     "start_time": "2019-07-01T21:06:52.771259Z"
    }
   },
   "outputs": [],
   "source": [
    "split_df = df[['hadm_id', 'scispacy_note', 'imminent_label', 'discharge_label']]"
   ]
  },
  {
   "cell_type": "code",
   "execution_count": 9,
   "metadata": {
    "ExecuteTime": {
     "end_time": "2019-07-01T21:08:18.061648Z",
     "start_time": "2019-07-01T21:08:17.966715Z"
    }
   },
   "outputs": [],
   "source": [
    "train_idxs, test_idxs = next(GroupShuffleSplit(test_size=.15, n_splits=2, random_state=42).split(split_df, groups=df['hadm_id']))\n",
    "\n",
    "train_df = df.iloc[train_idxs]\n",
    "test_df = df.iloc[test_idxs]"
   ]
  },
  {
   "cell_type": "code",
   "execution_count": 25,
   "metadata": {
    "ExecuteTime": {
     "end_time": "2019-07-01T21:12:21.846730Z",
     "start_time": "2019-07-01T21:12:21.654272Z"
    }
   },
   "outputs": [],
   "source": [
    "assert(round(train_df['hadm_id'].nunique()/df['hadm_id'].nunique(), 2) == 0.85)\n",
    "assert(round(test_df['hadm_id'].nunique()/df['hadm_id'].nunique(), 2) == 0.15)\n",
    "assert(list(set(train_df['hadm_id'].unique().tolist()) & set(test_df['hadm_id'].unique().tolist())) == [])"
   ]
  },
  {
   "cell_type": "code",
   "execution_count": 30,
   "metadata": {
    "ExecuteTime": {
     "end_time": "2019-07-01T21:13:25.839388Z",
     "start_time": "2019-07-01T21:13:25.651510Z"
    }
   },
   "outputs": [
    {
     "name": "stdout",
     "output_type": "stream",
     "text": [
      "Number of admissions: 10945\n",
      "Number of Notes: 64241\n",
      "Average number of notes per admission: 5.87\n"
     ]
    }
   ],
   "source": [
    "print(f\"Number of admissions: {train_df['hadm_id'].nunique()}\")\n",
    "print(f\"Number of Notes: {len(train_df)}\")\n",
    "print(f\"Average number of notes per admission: {train_df.groupby('hadm_id')['scispacy_note'].size().mean():0.2f}\")\n",
    "assert(round(len(train_df)/train_df['hadm_id'].nunique(), 2) == round(train_df.groupby('hadm_id')['scispacy_note'].size().mean(), 2))"
   ]
  },
  {
   "cell_type": "code",
   "execution_count": 31,
   "metadata": {
    "ExecuteTime": {
     "end_time": "2019-07-01T21:13:36.158447Z",
     "start_time": "2019-07-01T21:13:36.129971Z"
    }
   },
   "outputs": [
    {
     "name": "stdout",
     "output_type": "stream",
     "text": [
      "Number of admissions: 1932\n",
      "Number of Notes: 11030\n",
      "Average number of notes per admission: 5.71\n"
     ]
    }
   ],
   "source": [
    "print(f\"Number of admissions: {test_df['hadm_id'].nunique()}\")\n",
    "print(f\"Number of Notes: {len(test_df)}\")\n",
    "print(f\"Average number of notes per admission: {test_df.groupby('hadm_id')['scispacy_note'].size().mean():0.2f}\")\n",
    "assert(round(len(test_df)/test_df['hadm_id'].nunique(), 2) == round(test_df.groupby('hadm_id')['scispacy_note'].size().mean(), 2))"
   ]
  },
  {
   "cell_type": "markdown",
   "metadata": {
    "heading_collapsed": true
   },
   "source": [
    "## Plots"
   ]
  },
  {
   "cell_type": "code",
   "execution_count": null,
   "metadata": {
    "ExecuteTime": {
     "end_time": "2019-06-30T21:07:31.364129Z",
     "start_time": "2019-06-30T21:07:28.874738Z"
    },
    "hidden": true
   },
   "outputs": [],
   "source": [
    "df = pd.read_csv(args.proc_csv)\n",
    "df.columns"
   ]
  },
  {
   "cell_type": "code",
   "execution_count": null,
   "metadata": {
    "ExecuteTime": {
     "end_time": "2019-06-30T21:07:32.297414Z",
     "start_time": "2019-06-30T21:07:32.273575Z"
    },
    "hidden": true
   },
   "outputs": [],
   "source": [
    "intervals = ['-1 ≤ t ≤ 0']\n",
    "intervals += [f'-{i+1} ≤ t ≤ -{i}' for i in range(1, 15)]\n",
    "intervals.append('t ≤ -15')"
   ]
  },
  {
   "cell_type": "markdown",
   "metadata": {
    "heading_collapsed": true,
    "hidden": true
   },
   "source": [
    "### ICU LOS Histogram"
   ]
  },
  {
   "cell_type": "code",
   "execution_count": null,
   "metadata": {
    "ExecuteTime": {
     "end_time": "2019-06-30T21:07:37.445715Z",
     "start_time": "2019-06-30T21:07:37.421009Z"
    },
    "hidden": true
   },
   "outputs": [],
   "source": [
    "plot_df = df[['icu_los']]"
   ]
  },
  {
   "cell_type": "code",
   "execution_count": null,
   "metadata": {
    "ExecuteTime": {
     "end_time": "2019-06-30T21:07:38.626433Z",
     "start_time": "2019-06-30T21:07:38.192218Z"
    },
    "hidden": true
   },
   "outputs": [],
   "source": [
    "fig, ax = plt.subplots(figsize=(10, 8))\n",
    "\n",
    "sns.distplot(plot_df, kde=False, ax=ax, bins=80)\n",
    "ax.set_xlabel('ICU Length of Stay (days)')\n",
    "ax.set_ylabel('# notes')\n",
    "ax.set_xlim(0, 40)\n",
    "ax.xaxis.labelpad = 20\n",
    "ax.yaxis.labelpad = 20\n",
    "# ax.text(ax.get_xlim()[1]*0.50, ax.get_ylim()[1]*0.80, f\"Min: {df['icu_los'].min()}, Avg: {df['icu_los'].mean(): 0.2f}, Max: {df['icu_los'].max()}\", fontsize=15, ha='center', va='bottom')"
   ]
  },
  {
   "cell_type": "code",
   "execution_count": null,
   "metadata": {
    "ExecuteTime": {
     "end_time": "2019-06-27T00:38:12.648043Z",
     "start_time": "2019-06-27T00:38:12.624509Z"
    },
    "hidden": true
   },
   "outputs": [],
   "source": [
    "# fig.savefig(args.figdir/'icu_los_hist.tif', dpi=300)"
   ]
  },
  {
   "cell_type": "markdown",
   "metadata": {
    "hidden": true
   },
   "source": [
    "### Bar Plot of Notes Over Days"
   ]
  },
  {
   "cell_type": "markdown",
   "metadata": {
    "heading_collapsed": true,
    "hidden": true
   },
   "source": [
    "#### All Notes"
   ]
  },
  {
   "cell_type": "code",
   "execution_count": null,
   "metadata": {
    "ExecuteTime": {
     "end_time": "2019-06-30T21:07:49.819930Z",
     "start_time": "2019-06-30T21:07:49.786020Z"
    },
    "hidden": true
   },
   "outputs": [],
   "source": [
    "plot_df = pd.DataFrame(df.groupby(['chartinterval']).size(), columns=['n_notes'])\n",
    "plot_df.reset_index(inplace=True, drop=True)\n",
    "plot_df['days'] = intervals"
   ]
  },
  {
   "cell_type": "code",
   "execution_count": null,
   "metadata": {
    "ExecuteTime": {
     "end_time": "2019-06-30T21:07:51.149612Z",
     "start_time": "2019-06-30T21:07:50.841904Z"
    },
    "hidden": true
   },
   "outputs": [],
   "source": [
    "fig, ax = plt.subplots(figsize=(15, 8))\n",
    "sns.barplot(x='days', y='n_notes', data=plot_df, ax=ax)\n",
    "ax.set_xticklabels(ax.get_xticklabels(),rotation=45, ha='right')\n",
    "ax.set_xlabel('Time to ICU Admission (days)')\n",
    "ax.set_ylabel('# notes')\n",
    "for index, row in plot_df.iterrows():\n",
    "    ax.text(index, row['n_notes'], str(row['n_notes']), color='black', ha='center', va='bottom')"
   ]
  },
  {
   "cell_type": "code",
   "execution_count": null,
   "metadata": {
    "ExecuteTime": {
     "end_time": "2019-06-27T00:38:13.014421Z",
     "start_time": "2019-06-27T00:38:12.991010Z"
    },
    "hidden": true
   },
   "outputs": [],
   "source": [
    "# fig.savefig(args.figdir/'note_bp.tif', dpi=300)"
   ]
  },
  {
   "cell_type": "markdown",
   "metadata": {
    "heading_collapsed": true,
    "hidden": true
   },
   "source": [
    "#### By Category"
   ]
  },
  {
   "cell_type": "code",
   "execution_count": null,
   "metadata": {
    "ExecuteTime": {
     "end_time": "2019-06-30T21:07:58.365832Z",
     "start_time": "2019-06-30T21:07:58.338496Z"
    },
    "hidden": true
   },
   "outputs": [],
   "source": [
    "def plot_intervals(ax, df, cat):\n",
    "  sns.barplot(x='days', y='n_notes', data=df, ax=ax)\n",
    "  ax.set_xticklabels(ax.get_xticklabels(),rotation=45, ha='right')\n",
    "  ax.set_xlabel('')\n",
    "  ax.set_ylabel('')\n",
    "  ax.set_title(f\"Note Category: {cat}\\n# notes: {df['n_notes'].sum()}\")   \n",
    "\n",
    "  for index, (_, row) in enumerate(df.iterrows()):\n",
    "      ax.text(index, row['n_notes'], str(row['n_notes']), color='black', ha='center', va='bottom')    "
   ]
  },
  {
   "cell_type": "code",
   "execution_count": null,
   "metadata": {
    "ExecuteTime": {
     "end_time": "2019-06-30T21:07:59.033790Z",
     "start_time": "2019-06-30T21:07:59.001764Z"
    },
    "hidden": true
   },
   "outputs": [],
   "source": [
    "plot_df = pd.DataFrame(df.groupby(['category', 'chartinterval']).size(), columns=['n_notes'])\n",
    "plot_df.reset_index(inplace=True)\n",
    "plot_df['days'] = plot_df['chartinterval'].apply(lambda x: intervals[x])\n",
    "plot_df.drop(['chartinterval'], inplace=True, axis=1)"
   ]
  },
  {
   "cell_type": "code",
   "execution_count": null,
   "metadata": {
    "ExecuteTime": {
     "end_time": "2019-06-30T21:08:03.036007Z",
     "start_time": "2019-06-30T21:07:59.809989Z"
    },
    "hidden": true,
    "scrolled": false
   },
   "outputs": [],
   "source": [
    "fig, ax = plt.subplots(6, 2, figsize=(20, 50))\n",
    "plot_intervals(ax[0][0], plot_df.loc[plot_df['category'] == 'Case Management ', ['n_notes', 'days']], 'Case Management')\n",
    "plot_intervals(ax[0][1], plot_df.loc[plot_df['category'] == 'Consult', ['n_notes', 'days']], 'Consult')\n",
    "\n",
    "plot_intervals(ax[1][0], plot_df.loc[plot_df['category'] == 'General', ['n_notes', 'days']], 'General')\n",
    "plot_intervals(ax[1][1], plot_df.loc[plot_df['category'] == 'Nursing', ['n_notes', 'days']], 'Nursing')\n",
    "\n",
    "plot_intervals(ax[2][0], plot_df.loc[plot_df['category'] == 'Nursing/other', ['n_notes', 'days']], 'Nursing/other')\n",
    "plot_intervals(ax[2][1], plot_df.loc[plot_df['category'] == 'Nutrition', ['n_notes', 'days']], 'Nutrition')\n",
    "\n",
    "plot_intervals(ax[3][0], plot_df.loc[plot_df['category'] == 'Pharmacy', ['n_notes', 'days']], 'Pharmacy')\n",
    "plot_intervals(ax[3][1], plot_df.loc[plot_df['category'] == 'Physician ', ['n_notes', 'days',]], 'Physician')\n",
    "\n",
    "plot_intervals(ax[4][0], plot_df.loc[plot_df['category'] == 'Radiology', ['n_notes', 'days']], 'Radiology')\n",
    "plot_intervals(ax[4][1], plot_df.loc[plot_df['category'] == 'Rehab Services', ['n_notes', 'days']], 'Rehab Services')\n",
    "\n",
    "plot_intervals(ax[5][0], plot_df.loc[plot_df['category'] == 'Respiratory ', ['n_notes', 'days']], 'Respiratory')\n",
    "plot_intervals(ax[5][1], plot_df.loc[plot_df['category'] == 'Social Work', ['n_notes', 'days']], 'Social Work')\n",
    "\n",
    "fig.text(0.5, 0.1, 'Time to ICU Admission (days)', ha='center')\n",
    "fig.text(0.08, 0.5, '# notes', va='center', rotation='vertical')\n",
    "\n",
    "plt.subplots_adjust(hspace = 0.3)"
   ]
  },
  {
   "cell_type": "code",
   "execution_count": null,
   "metadata": {
    "ExecuteTime": {
     "end_time": "2019-06-27T00:42:13.420913Z",
     "start_time": "2019-06-27T00:42:13.395654Z"
    },
    "hidden": true
   },
   "outputs": [],
   "source": [
    "# cats = sorted(list(df['category'].unique()))\n",
    "\n",
    "# n = 0\n",
    "# fig, ax = plt.subplots(1, 1, figsize=(10, 8))\n",
    "# plot_intervals(ax, plot_df.loc[plot_df['category'] == cats[n], ['n_notes', 'days']], cats[n])\n",
    "# ax.set_xlabel('Time to ICU Admission (days)')\n",
    "# ax.set_ylabel('# notes')"
   ]
  },
  {
   "cell_type": "code",
   "execution_count": null,
   "metadata": {
    "ExecuteTime": {
     "end_time": "2019-06-26T19:55:34.228896Z",
     "start_time": "2019-06-26T19:55:34.204962Z"
    },
    "hidden": true,
    "scrolled": false
   },
   "outputs": [],
   "source": [
    "# fig.savefig(args.figdir/'note_cats_bp.tif', dpi=300)"
   ]
  },
  {
   "cell_type": "markdown",
   "metadata": {
    "hidden": true
   },
   "source": [
    "### Note Chart Time to ICU Admission Period Histogram"
   ]
  },
  {
   "cell_type": "markdown",
   "metadata": {
    "heading_collapsed": true,
    "hidden": true
   },
   "source": [
    "#### All Notes"
   ]
  },
  {
   "cell_type": "code",
   "execution_count": null,
   "metadata": {
    "ExecuteTime": {
     "end_time": "2019-06-30T21:08:16.798103Z",
     "start_time": "2019-06-30T21:08:16.770165Z"
    },
    "hidden": true
   },
   "outputs": [],
   "source": [
    "plot_df = df[['category', 'chart_icu_period']]"
   ]
  },
  {
   "cell_type": "code",
   "execution_count": null,
   "metadata": {
    "ExecuteTime": {
     "end_time": "2019-06-30T21:08:17.744441Z",
     "start_time": "2019-06-30T21:08:17.377935Z"
    },
    "hidden": true
   },
   "outputs": [],
   "source": [
    "fig, ax = plt.subplots(figsize=(10, 8))\n",
    "\n",
    "sns.distplot(plot_df['chart_icu_period'], kde=False, ax=ax, bins=80)\n",
    "ax.set_xlabel('Period between Note Chart Time and ICU Admission Time (days)')\n",
    "ax.set_ylabel('# notes')\n",
    "ax.set_xlim(0, 60)\n",
    "\n",
    "# ax.text(ax.get_xlim()[1]*0.50, ax.get_ylim()[1]*0.80, f\"Min: {mdf['chart_icu_period'].min()}, Avg: {mdf['chart_icu_period'].mean(): 0.2f}, Max: {mdf['chart_icu_period'].max()}\", fontweight='bold', fontsize=15, ha='center', va='bottom')"
   ]
  },
  {
   "cell_type": "code",
   "execution_count": null,
   "metadata": {
    "ExecuteTime": {
     "end_time": "2019-06-26T19:55:34.712151Z",
     "start_time": "2019-06-26T19:55:34.686551Z"
    },
    "hidden": true
   },
   "outputs": [],
   "source": [
    "# fig.savefig(args.figdir/'note_icu_period_hist.tif', dpi=300)"
   ]
  },
  {
   "cell_type": "markdown",
   "metadata": {
    "heading_collapsed": true,
    "hidden": true
   },
   "source": [
    "#### By Category"
   ]
  },
  {
   "cell_type": "code",
   "execution_count": null,
   "metadata": {
    "ExecuteTime": {
     "end_time": "2019-06-30T21:08:22.362638Z",
     "start_time": "2019-06-30T21:08:22.254655Z"
    },
    "hidden": true
   },
   "outputs": [],
   "source": [
    "def plot_period(ax, df, cat):\n",
    "  sns.distplot(df, kde=False, ax=ax, bins=10)\n",
    "  ax.set_xlabel('')\n",
    "  ax.set_ylabel('')\n",
    "  ax.set_title(f\"Note Category: {cat}\")   "
   ]
  },
  {
   "cell_type": "code",
   "execution_count": null,
   "metadata": {
    "ExecuteTime": {
     "end_time": "2019-06-30T21:08:25.557029Z",
     "start_time": "2019-06-30T21:08:22.583960Z"
    },
    "hidden": true,
    "scrolled": false
   },
   "outputs": [],
   "source": [
    "fig, ax = plt.subplots(6, 2, figsize=(20, 50))\n",
    "plot_period(ax[0][0], plot_df.loc[plot_df['category'] == 'Case Management ', ['chart_icu_period']], 'Case Management')\n",
    "plot_period(ax[0][1], plot_df.loc[plot_df['category'] == 'Consult', ['chart_icu_period']], 'Consult')\n",
    "\n",
    "plot_period(ax[1][0], plot_df.loc[plot_df['category'] == 'General', ['chart_icu_period']], 'General')\n",
    "plot_period(ax[1][1], plot_df.loc[plot_df['category'] == 'Nursing', ['chart_icu_period']], 'Nursing')\n",
    "\n",
    "plot_period(ax[2][0], plot_df.loc[plot_df['category'] == 'Nursing/other', ['chart_icu_period']], 'Nursing/other')\n",
    "plot_period(ax[2][1], plot_df.loc[plot_df['category'] == 'Nutrition', ['chart_icu_period']], 'Nutrition')\n",
    "\n",
    "plot_period(ax[3][0], plot_df.loc[plot_df['category'] == 'Pharmacy', ['chart_icu_period']], 'Pharmacy')\n",
    "plot_period(ax[3][1], plot_df.loc[plot_df['category'] == 'Physician ', ['chart_icu_period',]], 'Physician')\n",
    "\n",
    "plot_period(ax[4][0], plot_df.loc[plot_df['category'] == 'Radiology', ['chart_icu_period']], 'Radiology')\n",
    "plot_period(ax[4][1], plot_df.loc[plot_df['category'] == 'Rehab Services', ['chart_icu_period']], 'Rehab Services')\n",
    "\n",
    "plot_period(ax[5][0], plot_df.loc[plot_df['category'] == 'Respiratory ', ['chart_icu_period']], 'Respiratory')\n",
    "plot_period(ax[5][1], plot_df.loc[plot_df['category'] == 'Social Work', ['chart_icu_period']], 'Social Work')\n",
    "\n",
    "fig.text(0.5, 0.11, 'Period between Note Chart Time and ICU Admission Time (days)', ha='center')\n",
    "fig.text(0.08, 0.5, '# notes', va='center', rotation='vertical')\n",
    "\n",
    "plt.subplots_adjust(hspace = 0.1)"
   ]
  },
  {
   "cell_type": "code",
   "execution_count": null,
   "metadata": {
    "ExecuteTime": {
     "end_time": "2019-06-27T00:43:24.745337Z",
     "start_time": "2019-06-27T00:43:24.720208Z"
    },
    "hidden": true
   },
   "outputs": [],
   "source": [
    "# cats = sorted(list(df['category'].unique()))\n",
    "\n",
    "# n = 0\n",
    "# fig, ax = plt.subplots(1, 1, figsize=(10, 8))\n",
    "# plot_period(ax, plot_df.loc[plot_df['category'] == cats[n], ['chart_icu_period']], cats[n])\n",
    "# ax.set_xlabel('Time to ICU Admission (days)')\n",
    "# ax.set_ylabel('# notes')"
   ]
  },
  {
   "cell_type": "code",
   "execution_count": null,
   "metadata": {
    "ExecuteTime": {
     "end_time": "2019-06-26T19:35:38.476961Z",
     "start_time": "2019-06-26T19:35:38.451886Z"
    },
    "hidden": true,
    "scrolled": false
   },
   "outputs": [],
   "source": [
    "# fig.savefig(args.figdir/'note_cat_icu_period_hist.tif', dpi=300)"
   ]
  },
  {
   "cell_type": "markdown",
   "metadata": {
    "heading_collapsed": true,
    "hidden": true
   },
   "source": [
    "### Hospital Admission to ICU Admission Period Histogram"
   ]
  },
  {
   "cell_type": "code",
   "execution_count": null,
   "metadata": {
    "ExecuteTime": {
     "end_time": "2019-06-30T21:08:32.408111Z",
     "start_time": "2019-06-30T21:08:32.316339Z"
    },
    "hidden": true
   },
   "outputs": [],
   "source": [
    "plot_df = df[['adm_icu_period']]"
   ]
  },
  {
   "cell_type": "code",
   "execution_count": null,
   "metadata": {
    "ExecuteTime": {
     "end_time": "2019-06-30T21:08:32.888927Z",
     "start_time": "2019-06-30T21:08:32.522306Z"
    },
    "hidden": true
   },
   "outputs": [],
   "source": [
    "fig, ax = plt.subplots(figsize=(10, 8))\n",
    "\n",
    "sns.distplot(plot_df, kde=False, ax=ax, bins=80)\n",
    "ax.set_xlabel('Time between hospital admission and ICU admission (days)')\n",
    "ax.set_ylabel('# notes')\n",
    "ax.set_xlim(0, 70)\n",
    "# ax.text(ax.get_xlim()[1]*0.50, ax.get_ylim()[1]*0.80, f\"Min: {mdf['adm_icu_period'].min()}, Avg: {mdf['adm_icu_period'].mean(): 0.2f}, Max: {mdf['adm_icu_period'].max()}\", fontweight='bold', fontsize=15, ha='center', va='bottom')    "
   ]
  },
  {
   "cell_type": "code",
   "execution_count": null,
   "metadata": {
    "hidden": true
   },
   "outputs": [],
   "source": [
    "# fig.savefig(args.figdir/'adm_icu_period_hist.tif', dpi=300)"
   ]
  },
  {
   "cell_type": "markdown",
   "metadata": {
    "heading_collapsed": true,
    "hidden": true
   },
   "source": [
    "### Note Length Histogram"
   ]
  },
  {
   "cell_type": "code",
   "execution_count": null,
   "metadata": {
    "ExecuteTime": {
     "end_time": "2019-06-30T21:08:41.303920Z",
     "start_time": "2019-06-30T21:08:40.874290Z"
    },
    "hidden": true
   },
   "outputs": [],
   "source": [
    "fig, ax = plt.subplots(figsize=(10, 8))\n",
    "sns.distplot(df['note'].apply(len), kde=False, ax=ax, bins=100)\n",
    "ax.set_xlabel('Length of Note (characters)')\n",
    "ax.set_ylabel('# notes')"
   ]
  },
  {
   "cell_type": "code",
   "execution_count": null,
   "metadata": {
    "ExecuteTime": {
     "end_time": "2019-06-26T19:59:38.291139Z",
     "start_time": "2019-06-26T19:59:38.267860Z"
    },
    "hidden": true
   },
   "outputs": [],
   "source": [
    "# fig.savefig(args.figdir/'note_len_hist.tif', dpi=300)"
   ]
  },
  {
   "cell_type": "markdown",
   "metadata": {
    "hidden": true
   },
   "source": [
    "### Imminent ICU Prediction Class Distribution"
   ]
  },
  {
   "cell_type": "code",
   "execution_count": null,
   "metadata": {
    "ExecuteTime": {
     "end_time": "2019-06-30T21:08:46.802988Z",
     "start_time": "2019-06-30T21:08:46.780029Z"
    },
    "hidden": true
   },
   "outputs": [],
   "source": [
    "desc = ['not used', 'negative class', 'positive class']"
   ]
  },
  {
   "cell_type": "markdown",
   "metadata": {
    "heading_collapsed": true,
    "hidden": true
   },
   "source": [
    "#### Without Admissions"
   ]
  },
  {
   "cell_type": "code",
   "execution_count": null,
   "metadata": {
    "ExecuteTime": {
     "end_time": "2019-06-30T21:08:51.206239Z",
     "start_time": "2019-06-30T21:08:51.178720Z"
    },
    "hidden": true
   },
   "outputs": [],
   "source": [
    "plot_df = pd.DataFrame(df.groupby(['imminent_label']).size(), columns=['n_notes']).reset_index()\n",
    "plot_df['imminent_label'] = desc\n",
    "plot_df = plot_df.reindex([2, 1, 0])\n",
    "plot_df.reset_index(inplace=True, drop=True)"
   ]
  },
  {
   "cell_type": "code",
   "execution_count": null,
   "metadata": {
    "ExecuteTime": {
     "end_time": "2019-06-30T21:08:51.367778Z",
     "start_time": "2019-06-30T21:08:51.207462Z"
    },
    "hidden": true
   },
   "outputs": [],
   "source": [
    "fig, ax = plt.subplots(figsize=(10, 8))\n",
    "sns.barplot(x='imminent_label', y='n_notes', data=plot_df, ax=ax)\n",
    "ax.set_xlabel('Imminent Class Label')\n",
    "ax.set_ylabel('# notes')\n",
    "for index, row in plot_df.iterrows():\n",
    "  ax.text(index+0.05, row['n_notes']+50, str(row['n_notes']), color='black', ha='right', va='bottom')"
   ]
  },
  {
   "cell_type": "code",
   "execution_count": null,
   "metadata": {
    "ExecuteTime": {
     "end_time": "2019-06-27T01:07:18.818779Z",
     "start_time": "2019-06-27T01:07:18.795768Z"
    },
    "hidden": true
   },
   "outputs": [],
   "source": [
    "# fig.savefig(args.figdir/'imminent_label_bp.tif', dpi=300)"
   ]
  },
  {
   "cell_type": "markdown",
   "metadata": {
    "heading_collapsed": true,
    "hidden": true
   },
   "source": [
    "#### With Admissions"
   ]
  },
  {
   "cell_type": "code",
   "execution_count": null,
   "metadata": {
    "ExecuteTime": {
     "end_time": "2019-06-30T21:09:01.115179Z",
     "start_time": "2019-06-30T21:09:01.079974Z"
    },
    "hidden": true
   },
   "outputs": [],
   "source": [
    "p1 = pd.DataFrame(df.groupby(['imminent_label']).size(), columns=['n_notes']).reset_index()\n",
    "p2 = df.groupby(['imminent_label'])['hadm_id'].nunique().reset_index()\n",
    "p = p1.merge(p2, on=['imminent_label'])"
   ]
  },
  {
   "cell_type": "code",
   "execution_count": null,
   "metadata": {
    "ExecuteTime": {
     "end_time": "2019-06-30T21:09:01.138443Z",
     "start_time": "2019-06-30T21:09:01.116398Z"
    },
    "hidden": true
   },
   "outputs": [],
   "source": [
    "p['imminent_label'] = desc"
   ]
  },
  {
   "cell_type": "code",
   "execution_count": null,
   "metadata": {
    "ExecuteTime": {
     "end_time": "2019-06-30T21:09:01.166670Z",
     "start_time": "2019-06-30T21:09:01.139734Z"
    },
    "hidden": true
   },
   "outputs": [],
   "source": [
    "p = p.reindex([2,1,0])\n",
    "p.reset_index(inplace=True, drop=True)\n",
    "p"
   ]
  },
  {
   "cell_type": "code",
   "execution_count": null,
   "metadata": {
    "ExecuteTime": {
     "end_time": "2019-06-30T21:09:01.190115Z",
     "start_time": "2019-06-30T21:09:01.167714Z"
    },
    "hidden": true
   },
   "outputs": [],
   "source": [
    "plot_df = p.copy()\n",
    "plot_df.rename(columns={'hadm_id':'# Admissions', 'n_notes':'# Notes'}, inplace=True)\n",
    "plot_df = pd.melt(plot_df, id_vars='imminent_label', var_name='Legend', value_name='counts')"
   ]
  },
  {
   "cell_type": "code",
   "execution_count": null,
   "metadata": {
    "ExecuteTime": {
     "end_time": "2019-06-30T21:09:01.387700Z",
     "start_time": "2019-06-30T21:09:01.191129Z"
    },
    "hidden": true
   },
   "outputs": [],
   "source": [
    "fig, ax = plt.subplots(figsize=(10, 8))\n",
    "\n",
    "sns.barplot(x='imminent_label', y='counts', hue='Legend', data=plot_df, ax=ax)\n",
    "ax.set_xticklabels(ax.get_xticklabels(), ha='right')\n",
    "ax.set_xlabel('Imminent Class Label')\n",
    "ax.set_ylabel('# notes')\n",
    "\n",
    "for index, row in plot_df.iterrows():\n",
    "    if index < len(plot_df)//2:\n",
    "        ax.text(index-0.13, row['counts']+50, str(row['counts']), color='black', ha='right', va='bottom')\n",
    "    else:\n",
    "        ax.text(index % (len(plot_df)//2)+0.25, row['counts']+50, str(row['counts']), color='black', ha='right', va='bottom')"
   ]
  },
  {
   "cell_type": "code",
   "execution_count": null,
   "metadata": {
    "hidden": true
   },
   "outputs": [],
   "source": [
    "# fig.savefig(args.figdir/'imminent_label_adms_bp.tif', dpi=300)"
   ]
  },
  {
   "cell_type": "markdown",
   "metadata": {
    "hidden": true
   },
   "source": [
    "### Discharge ICU Prediction Class Distribution"
   ]
  },
  {
   "cell_type": "code",
   "execution_count": null,
   "metadata": {
    "ExecuteTime": {
     "end_time": "2019-06-30T21:09:17.369260Z",
     "start_time": "2019-06-30T21:09:17.343950Z"
    },
    "hidden": true
   },
   "outputs": [],
   "source": [
    "desc = ['negative class', 'positive class']"
   ]
  },
  {
   "cell_type": "markdown",
   "metadata": {
    "heading_collapsed": true,
    "hidden": true
   },
   "source": [
    "#### Without Admissions"
   ]
  },
  {
   "cell_type": "code",
   "execution_count": null,
   "metadata": {
    "ExecuteTime": {
     "end_time": "2019-06-30T21:09:17.397456Z",
     "start_time": "2019-06-30T21:09:17.370578Z"
    },
    "hidden": true
   },
   "outputs": [],
   "source": [
    "plot_df = pd.DataFrame(df.groupby(['discharge_label']).size(), columns=['n_notes']).reset_index()\n",
    "plot_df['discharge_label'] = desc\n",
    "plot_df = plot_df.reindex([1, 0])\n",
    "plot_df.reset_index(inplace=True, drop=True)\n",
    "plot_df"
   ]
  },
  {
   "cell_type": "code",
   "execution_count": null,
   "metadata": {
    "ExecuteTime": {
     "end_time": "2019-06-30T21:09:20.895502Z",
     "start_time": "2019-06-30T21:09:20.745775Z"
    },
    "hidden": true
   },
   "outputs": [],
   "source": [
    "fig, ax = plt.subplots(figsize=(10, 8))\n",
    "sns.barplot(x='discharge_label', y='n_notes', data=plot_df, ax=ax)\n",
    "ax.set_xlabel('5 Day Discharge Class Label')\n",
    "ax.set_ylabel('# notes')\n",
    "for index, row in plot_df.iterrows():\n",
    "  ax.text(index+0.05, row['n_notes']+50, str(row['n_notes']), color='black', ha='right', va='bottom')"
   ]
  },
  {
   "cell_type": "code",
   "execution_count": null,
   "metadata": {
    "ExecuteTime": {
     "end_time": "2019-06-30T21:09:10.237355Z",
     "start_time": "2019-06-30T21:09:10.163Z"
    },
    "hidden": true
   },
   "outputs": [],
   "source": [
    "# fig.savefig(args.figdir/'discharge_label_bp.tif', dpi=300)"
   ]
  },
  {
   "cell_type": "markdown",
   "metadata": {
    "heading_collapsed": true,
    "hidden": true
   },
   "source": [
    "#### With Admissions"
   ]
  },
  {
   "cell_type": "code",
   "execution_count": null,
   "metadata": {
    "ExecuteTime": {
     "end_time": "2019-06-27T01:15:03.152109Z",
     "start_time": "2019-06-27T01:15:02.958811Z"
    },
    "hidden": true
   },
   "outputs": [],
   "source": [
    "p1 = pd.DataFrame(df.groupby(['discharge_label']).size(), columns=['n_notes']).reset_index()\n",
    "p2 = df.groupby(['discharge_label'])['hadm_id'].nunique().reset_index()\n",
    "p = p1.merge(p2, on=['discharge_label'])\n",
    "p['discharge_label'] = desc\n",
    "p = p.reindex([1,0])\n",
    "p.reset_index(inplace=True, drop=True)\n",
    "p"
   ]
  },
  {
   "cell_type": "code",
   "execution_count": null,
   "metadata": {
    "ExecuteTime": {
     "end_time": "2019-06-27T01:15:13.077177Z",
     "start_time": "2019-06-27T01:15:13.051147Z"
    },
    "hidden": true
   },
   "outputs": [],
   "source": [
    "plot_df = p.copy()\n",
    "plot_df.rename(columns={'hadm_id':'# Admissions', 'n_notes':'# Notes'}, inplace=True)\n",
    "plot_df = pd.melt(plot_df, id_vars='discharge_label', var_name='Legend', value_name='counts')"
   ]
  },
  {
   "cell_type": "code",
   "execution_count": null,
   "metadata": {
    "ExecuteTime": {
     "end_time": "2019-06-27T01:15:59.904076Z",
     "start_time": "2019-06-27T01:15:59.729469Z"
    },
    "hidden": true
   },
   "outputs": [],
   "source": [
    "fig, ax = plt.subplots(figsize=(10, 8))\n",
    "\n",
    "sns.barplot(x='discharge_label', y='counts', hue='Legend', data=plot_df, ax=ax)\n",
    "ax.set_xticklabels(ax.get_xticklabels(), ha='right')\n",
    "ax.set_xlabel('5 Day Discharge Class Label')\n",
    "ax.set_ylabel('# notes')\n",
    "\n",
    "for index, row in plot_df.iterrows():\n",
    "    if index < len(plot_df)//2:\n",
    "        ax.text(index-0.13, row['counts']+50, str(row['counts']), color='black', ha='right', va='bottom')\n",
    "    else:\n",
    "        ax.text(index % (len(plot_df)//2)+0.25, row['counts']+50, str(row['counts']), color='black', ha='right', va='bottom')"
   ]
  },
  {
   "cell_type": "code",
   "execution_count": null,
   "metadata": {
    "hidden": true
   },
   "outputs": [],
   "source": [
    "# fig.savefig(args.figdir/'discharge_label_adms_bp.tif', dpi=300)"
   ]
  },
  {
   "cell_type": "markdown",
   "metadata": {
    "heading_collapsed": true
   },
   "source": [
    "## Stats"
   ]
  },
  {
   "cell_type": "code",
   "execution_count": null,
   "metadata": {
    "ExecuteTime": {
     "end_time": "2019-06-30T21:11:46.779742Z",
     "start_time": "2019-06-30T21:11:44.039705Z"
    },
    "hidden": true
   },
   "outputs": [],
   "source": [
    "df = pd.read_csv(args.proc_csv)"
   ]
  },
  {
   "cell_type": "markdown",
   "metadata": {
    "hidden": true
   },
   "source": [
    "Make sure average prevalence of random test set is approximately same as real prevalence"
   ]
  },
  {
   "cell_type": "code",
   "execution_count": null,
   "metadata": {
    "ExecuteTime": {
     "end_time": "2019-06-30T21:12:04.961238Z",
     "start_time": "2019-06-30T21:11:47.750492Z"
    },
    "hidden": true,
    "scrolled": false
   },
   "outputs": [],
   "source": [
    "avg_p = []\n",
    "tdf = df.loc[(df['imminent_label'] != -1)][['imminent_label']].copy()\n",
    "tdf.reset_index(inplace=True, drop=True)\n",
    "\n",
    "for seed in range(127, 227):\n",
    "  sdf = set_two_splits(tdf.copy(), name='test', seed=seed)\n",
    "  test_size = len(sdf.loc[(sdf['split'] == 'test')])\n",
    "  test_pos = len(sdf.loc[(sdf['split'] == 'test') & (sdf['imminent_label'] == 1)])\n",
    "  avg_p.append(test_pos/test_size)  \n",
    "\n",
    "avg_p = np.array(avg_p)\n",
    "print(f\"Real prevalence of Imminent class: {(len(df.loc[df['imminent_label'] == 1])/len(df.loc[(df['imminent_label'] != -1)])):0.3f}\")\n",
    "print(f\"Average = {(avg_p.mean()):0.3f}, std = {(avg_p.std()):0.3f}\")\n",
    "\n",
    "avg_p = []\n",
    "\n",
    "for seed in range(127, 227):\n",
    "  sdf = set_two_splits(df.copy(), name='test', seed=seed)\n",
    "  test_size = len(sdf.loc[(sdf['split'] == 'test')])\n",
    "  test_pos = len(sdf.loc[(sdf['split'] == 'test') & (sdf['discharge_label'] == 1)])\n",
    "  avg_p.append(test_pos/test_size)  \n",
    "\n",
    "avg_p = np.array(avg_p)\n",
    "print(f\"Real prevalence of 5 day discharge class: {(len(df.loc[df['discharge_label'] == 1])/len(df)):0.3f}\")\n",
    "print(f\"Average = {(avg_p.mean()):0.3f}, std = {(avg_p.std()):0.3f}\")"
   ]
  },
  {
   "cell_type": "code",
   "execution_count": null,
   "metadata": {
    "ExecuteTime": {
     "end_time": "2019-06-30T21:12:05.039021Z",
     "start_time": "2019-06-30T21:12:04.963443Z"
    },
    "hidden": true
   },
   "outputs": [],
   "source": [
    "df.groupby(df['deathtime'].apply(lambda x: True if pd.notnull(x) else False))['subject_id'].nunique().reset_index()"
   ]
  },
  {
   "cell_type": "code",
   "execution_count": null,
   "metadata": {
    "ExecuteTime": {
     "end_time": "2019-06-30T21:12:05.076172Z",
     "start_time": "2019-06-30T21:12:05.040609Z"
    },
    "hidden": true
   },
   "outputs": [],
   "source": [
    "df.groupby(df['gender'])['subject_id'].nunique().reset_index()"
   ]
  },
  {
   "cell_type": "code",
   "execution_count": null,
   "metadata": {
    "ExecuteTime": {
     "end_time": "2019-06-30T21:12:05.112326Z",
     "start_time": "2019-06-30T21:12:05.077484Z"
    },
    "hidden": true
   },
   "outputs": [],
   "source": [
    "df.groupby(df['ethnicity'])['subject_id'].nunique().reset_index()"
   ]
  },
  {
   "cell_type": "code",
   "execution_count": null,
   "metadata": {
    "ExecuteTime": {
     "end_time": "2019-06-30T21:12:05.146272Z",
     "start_time": "2019-06-30T21:12:05.113545Z"
    },
    "hidden": true
   },
   "outputs": [],
   "source": [
    "df.groupby(df['admission_type'])['hadm_id'].nunique().reset_index()"
   ]
  },
  {
   "cell_type": "code",
   "execution_count": null,
   "metadata": {
    "ExecuteTime": {
     "end_time": "2019-06-30T21:12:05.177560Z",
     "start_time": "2019-06-30T21:12:05.147496Z"
    },
    "hidden": true
   },
   "outputs": [],
   "source": [
    "df.groupby(df['category']).size().reset_index()"
   ]
  },
  {
   "cell_type": "code",
   "execution_count": null,
   "metadata": {
    "ExecuteTime": {
     "end_time": "2019-06-30T21:12:07.357079Z",
     "start_time": "2019-06-30T21:12:07.307990Z"
    },
    "hidden": true
   },
   "outputs": [],
   "source": [
    "df.groupby(df.loc[(df['imminent_label'] == 1)]['category'])['subject_id'].nunique().reset_index()"
   ]
  },
  {
   "cell_type": "code",
   "execution_count": null,
   "metadata": {
    "ExecuteTime": {
     "end_time": "2019-06-30T21:12:09.784856Z",
     "start_time": "2019-06-30T21:12:09.728023Z"
    },
    "hidden": true
   },
   "outputs": [],
   "source": [
    "df.groupby(df.loc[(df['imminent_label'] == 0)]['category'])['subject_id'].nunique().reset_index()"
   ]
  },
  {
   "cell_type": "code",
   "execution_count": null,
   "metadata": {
    "ExecuteTime": {
     "end_time": "2019-06-30T21:12:14.218259Z",
     "start_time": "2019-06-30T21:12:14.158461Z"
    },
    "hidden": true
   },
   "outputs": [],
   "source": [
    "df.groupby(df.loc[(df['discharge_label'] == 1)]['category'])['subject_id'].nunique().reset_index()"
   ]
  },
  {
   "cell_type": "code",
   "execution_count": null,
   "metadata": {
    "ExecuteTime": {
     "end_time": "2019-06-30T21:12:15.146393Z",
     "start_time": "2019-06-30T21:12:15.085746Z"
    },
    "hidden": true
   },
   "outputs": [],
   "source": [
    "df.groupby(df.loc[(df['discharge_label'] == 0)]['category'])['subject_id'].nunique().reset_index()"
   ]
  },
  {
   "cell_type": "code",
   "execution_count": null,
   "metadata": {
    "ExecuteTime": {
     "end_time": "2019-06-30T21:12:17.882908Z",
     "start_time": "2019-06-30T21:12:17.174150Z"
    },
    "hidden": true
   },
   "outputs": [],
   "source": [
    "df.groupby('admission_age')['subject_id'].unique().reset_index()['admission_age'].describe()"
   ]
  },
  {
   "cell_type": "code",
   "execution_count": null,
   "metadata": {
    "ExecuteTime": {
     "end_time": "2019-06-30T21:12:21.052605Z",
     "start_time": "2019-06-30T21:12:21.021553Z"
    },
    "hidden": true
   },
   "outputs": [],
   "source": [
    "df['icu_los'].describe()"
   ]
  },
  {
   "cell_type": "code",
   "execution_count": null,
   "metadata": {
    "ExecuteTime": {
     "end_time": "2019-06-30T21:12:23.240323Z",
     "start_time": "2019-06-30T21:12:23.212328Z"
    },
    "hidden": true
   },
   "outputs": [],
   "source": [
    "df['adm_icu_period'].describe()"
   ]
  },
  {
   "cell_type": "code",
   "execution_count": null,
   "metadata": {
    "ExecuteTime": {
     "end_time": "2019-06-30T21:12:24.553624Z",
     "start_time": "2019-06-30T21:12:24.525783Z"
    },
    "hidden": true
   },
   "outputs": [],
   "source": [
    "df['chart_icu_period'].describe()"
   ]
  },
  {
   "cell_type": "code",
   "execution_count": null,
   "metadata": {
    "hidden": true
   },
   "outputs": [],
   "source": []
  }
 ],
 "metadata": {
  "kernelspec": {
   "display_name": "Python 3",
   "language": "python",
   "name": "python3"
  },
  "language_info": {
   "codemirror_mode": {
    "name": "ipython",
    "version": 3
   },
   "file_extension": ".py",
   "mimetype": "text/x-python",
   "name": "python",
   "nbconvert_exporter": "python",
   "pygments_lexer": "ipython3",
   "version": "3.7.3"
  },
  "toc": {
   "base_numbering": 1,
   "nav_menu": {},
   "number_sections": true,
   "sideBar": true,
   "skip_h1_title": true,
   "title_cell": "Table of Contents",
   "title_sidebar": "Contents",
   "toc_cell": false,
   "toc_position": {
    "height": "calc(100% - 180px)",
    "left": "10px",
    "top": "150px",
    "width": "165px"
   },
   "toc_section_display": true,
   "toc_window_display": false
  }
 },
 "nbformat": 4,
 "nbformat_minor": 2
}
