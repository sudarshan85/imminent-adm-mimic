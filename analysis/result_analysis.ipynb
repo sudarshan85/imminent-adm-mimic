{
 "cells": [
  {
   "cell_type": "markdown",
   "metadata": {},
   "source": [
    "# Result Analysis"
   ]
  },
  {
   "cell_type": "markdown",
   "metadata": {},
   "source": [
    "## Imports & Inits"
   ]
  },
  {
   "cell_type": "code",
   "execution_count": 1,
   "metadata": {
    "ExecuteTime": {
     "end_time": "2019-08-09T21:13:52.807917Z",
     "start_time": "2019-08-09T21:13:52.794945Z"
    }
   },
   "outputs": [],
   "source": [
    "%load_ext autoreload\n",
    "%autoreload 2"
   ]
  },
  {
   "cell_type": "code",
   "execution_count": 2,
   "metadata": {
    "ExecuteTime": {
     "end_time": "2019-08-09T21:13:54.937917Z",
     "start_time": "2019-08-09T21:13:52.809086Z"
    }
   },
   "outputs": [
    {
     "data": {
      "text/plain": [
       "{'workdir': PosixPath('../data/workdir'),\n",
       " 'figdir': PosixPath('../data/figures'),\n",
       " 'raw_csv': PosixPath('../data/raw_dataset.csv'),\n",
       " 'proc_csv': PosixPath('../data/proc_dataset.csv'),\n",
       " 'imminent_adm_cols': ['hadm_id', 'imminent_adm_label'],\n",
       " 'prolonged_stay_cols': ['hadm_id', 'prolonged_stay_label'],\n",
       " 'cols': ['hadm_id',\n",
       "  'imminent_adm_label',\n",
       "  'prolonged_stay_label',\n",
       "  'processed_note',\n",
       "  'charttime',\n",
       "  'intime'],\n",
       " 'dates': ['charttime', 'intime'],\n",
       " 'ia_thresh': {'lr': 0.45, 'rf': 0.27, 'gbm': 0.435, 'mlp': 0.2},\n",
       " 'ps_thresh': {'lr': 0.39, 'rf': 0.36, 'gbm': 0.324, 'mlp': 0.27}}"
      ]
     },
     "execution_count": 2,
     "metadata": {},
     "output_type": "execute_result"
    }
   ],
   "source": [
    "import sys\n",
    "sys.path.append('../')\n",
    "\n",
    "import matplotlib.pyplot as plt\n",
    "import seaborn as sns\n",
    "sns.set_style(\"darkgrid\")\n",
    "%matplotlib inline\n",
    "\n",
    "import numpy as np\n",
    "from scipy import stats\n",
    "\n",
    "import pandas as pd\n",
    "import pickle\n",
    "import torch\n",
    "from itertools import combinations\n",
    "from pathlib import Path\n",
    "from tqdm import tqdm_notebook as tqdm\n",
    "\n",
    "from sklearn.feature_extraction.text import TfidfVectorizer\n",
    "from torch.utils.data import DataLoader, TensorDataset, SequentialSampler\n",
    "\n",
    "from utils.metrics import BinaryAvgMetrics\n",
    "from utils.plots import *\n",
    "from args import args\n",
    "vars(args)"
   ]
  },
  {
   "cell_type": "markdown",
   "metadata": {},
   "source": [
    "## 100 Run Performance Results"
   ]
  },
  {
   "cell_type": "code",
   "execution_count": 3,
   "metadata": {
    "ExecuteTime": {
     "end_time": "2019-08-09T21:13:57.723433Z",
     "start_time": "2019-08-09T21:13:54.939664Z"
    }
   },
   "outputs": [],
   "source": [
    "models = ['lr', 'rf', 'gbm']\n",
    "\n",
    "ia_bams = {}\n",
    "ps_bams = {}\n",
    "\n",
    "for model in models:\n",
    "  with open(args.workdir/model/'imminent_adm_preds.pkl', 'rb') as f:\n",
    "    targs = pickle.load(f)\n",
    "    preds = pickle.load(f)\n",
    "    probs = pickle.load(f)\n",
    "  ia_bams[model] = BinaryAvgMetrics(targs, preds, probs)\n",
    "    \n",
    "  with open(args.workdir/model/'prolonged_stay_preds.pkl', 'rb') as f:\n",
    "    targs = pickle.load(f)\n",
    "    preds = pickle.load(f)\n",
    "    probs = pickle.load(f)    \n",
    "  ps_bams[model] = BinaryAvgMetrics(targs, preds, probs)    "
   ]
  },
  {
   "cell_type": "code",
   "execution_count": 4,
   "metadata": {
    "ExecuteTime": {
     "end_time": "2019-08-09T21:14:06.317536Z",
     "start_time": "2019-08-09T21:13:57.724942Z"
    }
   },
   "outputs": [],
   "source": [
    "ia_metrics = {}\n",
    "ps_metrics = {}\n",
    "\n",
    "for key in ia_bams.keys():\n",
    "  ia_metrics[key] = []\n",
    "  ps_metrics[key] = []\n",
    "  for i in range(len(ia_bams[key].get_avg_metrics())):\n",
    "    ia_metrics[key].append(ia_bams[key].get_avg_metrics().iloc[i]['Value'])\n",
    "  for i in range(len(ps_bams[key].get_avg_metrics())):\n",
    "    ps_metrics[key].append(ps_bams[key].get_avg_metrics().iloc[i]['Value'])    \n",
    "\n",
    "ia_metrics = pd.DataFrame(ia_metrics, index=['sensitivity', 'specificity', 'ppv', 'auroc', 'npv', 'f1'])\n",
    "ps_metrics = pd.DataFrame(ps_metrics, index=['sensitivity', 'specificity', 'ppv', 'auroc', 'npv', 'f1'])"
   ]
  },
  {
   "cell_type": "code",
   "execution_count": 10,
   "metadata": {
    "ExecuteTime": {
     "end_time": "2019-08-09T21:24:05.309847Z",
     "start_time": "2019-08-09T21:24:04.880409Z"
    }
   },
   "outputs": [
    {
     "data": {
      "text/html": [
       "<div>\n",
       "<style scoped>\n",
       "    .dataframe tbody tr th:only-of-type {\n",
       "        vertical-align: middle;\n",
       "    }\n",
       "\n",
       "    .dataframe tbody tr th {\n",
       "        vertical-align: top;\n",
       "    }\n",
       "\n",
       "    .dataframe thead th {\n",
       "        text-align: right;\n",
       "    }\n",
       "</style>\n",
       "<table border=\"1\" class=\"dataframe\">\n",
       "  <thead>\n",
       "    <tr style=\"text-align: right;\">\n",
       "      <th></th>\n",
       "      <th>Mean</th>\n",
       "      <th>Lower</th>\n",
       "      <th>Upper</th>\n",
       "    </tr>\n",
       "  </thead>\n",
       "  <tbody>\n",
       "    <tr>\n",
       "      <th>sensitivity</th>\n",
       "      <td>67.9</td>\n",
       "      <td>67.3</td>\n",
       "      <td>68.5</td>\n",
       "    </tr>\n",
       "    <tr>\n",
       "      <th>specificity</th>\n",
       "      <td>39.5</td>\n",
       "      <td>39.1</td>\n",
       "      <td>39.9</td>\n",
       "    </tr>\n",
       "    <tr>\n",
       "      <th>ppv</th>\n",
       "      <td>40.6</td>\n",
       "      <td>39.9</td>\n",
       "      <td>41.3</td>\n",
       "    </tr>\n",
       "    <tr>\n",
       "      <th>auroc</th>\n",
       "      <td>55.2</td>\n",
       "      <td>54.7</td>\n",
       "      <td>55.6</td>\n",
       "    </tr>\n",
       "    <tr>\n",
       "      <th>npv</th>\n",
       "      <td>66.9</td>\n",
       "      <td>66.1</td>\n",
       "      <td>67.7</td>\n",
       "    </tr>\n",
       "    <tr>\n",
       "      <th>f1</th>\n",
       "      <td>50.7</td>\n",
       "      <td>50.1</td>\n",
       "      <td>51.3</td>\n",
       "    </tr>\n",
       "  </tbody>\n",
       "</table>\n",
       "</div>"
      ],
      "text/plain": [
       "             Mean  Lower  Upper\n",
       "sensitivity  67.9  67.3   68.5 \n",
       "specificity  39.5  39.1   39.9 \n",
       "ppv          40.6  39.9   41.3 \n",
       "auroc        55.2  54.7   55.6 \n",
       "npv          66.9  66.1   67.7 \n",
       "f1           50.7  50.1   51.3 "
      ]
     },
     "execution_count": 10,
     "metadata": {},
     "output_type": "execute_result"
    }
   ],
   "source": [
    "ps_bams['gbm'].get_avg_metrics(conf=0.95)"
   ]
  },
  {
   "cell_type": "code",
   "execution_count": 6,
   "metadata": {
    "ExecuteTime": {
     "end_time": "2019-08-02T13:46:58.072773Z",
     "start_time": "2019-08-02T13:46:58.042970Z"
    }
   },
   "outputs": [
    {
     "data": {
      "text/html": [
       "<div>\n",
       "<style scoped>\n",
       "    .dataframe tbody tr th:only-of-type {\n",
       "        vertical-align: middle;\n",
       "    }\n",
       "\n",
       "    .dataframe tbody tr th {\n",
       "        vertical-align: top;\n",
       "    }\n",
       "\n",
       "    .dataframe thead th {\n",
       "        text-align: right;\n",
       "    }\n",
       "</style>\n",
       "<table border=\"1\" class=\"dataframe\">\n",
       "  <thead>\n",
       "    <tr style=\"text-align: right;\">\n",
       "      <th></th>\n",
       "      <th>lr</th>\n",
       "      <th>rf</th>\n",
       "      <th>gbm</th>\n",
       "      <th>mlp</th>\n",
       "    </tr>\n",
       "  </thead>\n",
       "  <tbody>\n",
       "    <tr>\n",
       "      <th>sensitivity</th>\n",
       "      <td>82.7</td>\n",
       "      <td>69.1</td>\n",
       "      <td>71.9</td>\n",
       "      <td>71.3</td>\n",
       "    </tr>\n",
       "    <tr>\n",
       "      <th>specificity</th>\n",
       "      <td>24.2</td>\n",
       "      <td>39.9</td>\n",
       "      <td>35.4</td>\n",
       "      <td>37.4</td>\n",
       "    </tr>\n",
       "    <tr>\n",
       "      <th>ppv</th>\n",
       "      <td>39.9</td>\n",
       "      <td>41.1</td>\n",
       "      <td>40.3</td>\n",
       "      <td>41.0</td>\n",
       "    </tr>\n",
       "    <tr>\n",
       "      <th>auroc</th>\n",
       "      <td>55.5</td>\n",
       "      <td>56.3</td>\n",
       "      <td>55.3</td>\n",
       "      <td>56.2</td>\n",
       "    </tr>\n",
       "    <tr>\n",
       "      <th>npv</th>\n",
       "      <td>69.6</td>\n",
       "      <td>68.0</td>\n",
       "      <td>67.4</td>\n",
       "      <td>68.2</td>\n",
       "    </tr>\n",
       "    <tr>\n",
       "      <th>f1</th>\n",
       "      <td>53.7</td>\n",
       "      <td>51.4</td>\n",
       "      <td>51.6</td>\n",
       "      <td>51.9</td>\n",
       "    </tr>\n",
       "  </tbody>\n",
       "</table>\n",
       "</div>"
      ],
      "text/plain": [
       "               lr    rf   gbm   mlp\n",
       "sensitivity  82.7  69.1  71.9  71.3\n",
       "specificity  24.2  39.9  35.4  37.4\n",
       "ppv          39.9  41.1  40.3  41.0\n",
       "auroc        55.5  56.3  55.3  56.2\n",
       "npv          69.6  68.0  67.4  68.2\n",
       "f1           53.7  51.4  51.6  51.9"
      ]
     },
     "execution_count": 6,
     "metadata": {},
     "output_type": "execute_result"
    }
   ],
   "source": [
    "ps_metrics"
   ]
  },
  {
   "cell_type": "markdown",
   "metadata": {},
   "source": [
    "## Student-t Test"
   ]
  },
  {
   "cell_type": "code",
   "execution_count": 7,
   "metadata": {
    "ExecuteTime": {
     "end_time": "2019-08-02T13:46:58.097063Z",
     "start_time": "2019-08-02T13:46:58.073923Z"
    }
   },
   "outputs": [],
   "source": [
    "models = list(ia_bams.keys())\n",
    "metrics = list(ia_metrics.index)"
   ]
  },
  {
   "cell_type": "code",
   "execution_count": 8,
   "metadata": {
    "ExecuteTime": {
     "end_time": "2019-08-02T13:46:58.123164Z",
     "start_time": "2019-08-02T13:46:58.098525Z"
    }
   },
   "outputs": [],
   "source": [
    "def do_ttest(bams, model1, model2, metric):  \n",
    "  if metric == 'sensitivity':\n",
    "    x1 = bams[model1].sensitivities()\n",
    "    x2 = bams[model2].sensitivities()\n",
    "  elif metric == 'specificity':\n",
    "    x1 = bams[model1].specificities()\n",
    "    x2 = bams[model2].specificities()\n",
    "  elif metric == 'ppv':\n",
    "    x1 = bams[model1].ppvs()\n",
    "    x2 = bams[model2].ppvs()\n",
    "  elif metric == 'auroc':\n",
    "    x1 = bams[model1].aurocs()\n",
    "    x2 = bams[model2].aurocs()\n",
    "  elif metric == 'npv':\n",
    "    x1 = bams[model1].npvs()\n",
    "    x2 = bams[model2].npvs()\n",
    "  elif metric == 'f1':    \n",
    "    x1 = bams[model1].f1s()\n",
    "    x2 = bams[model2].f1s()\n",
    "\n",
    "  t, p = stats.ttest_ind(x1, x2)\n",
    "  return t, p"
   ]
  },
  {
   "cell_type": "code",
   "execution_count": 11,
   "metadata": {
    "ExecuteTime": {
     "end_time": "2019-08-02T14:00:37.301426Z",
     "start_time": "2019-08-02T14:00:34.801134Z"
    }
   },
   "outputs": [],
   "source": [
    "ia_ttests = {}\n",
    "\n",
    "for m1, m2 in combinations(models, 2):  \n",
    "  ia_ttests[f'{m1}-{m2}'] = {}\n",
    "  for metric in metrics:\n",
    "    ia_ttests[f'{m1}-{m2}'][metric] = do_ttest(ia_bams, m1, m2, metric)"
   ]
  },
  {
   "cell_type": "code",
   "execution_count": 9,
   "metadata": {
    "ExecuteTime": {
     "end_time": "2019-08-02T13:47:00.523637Z",
     "start_time": "2019-08-02T13:46:58.124197Z"
    }
   },
   "outputs": [
    {
     "data": {
      "text/html": [
       "<div>\n",
       "<style scoped>\n",
       "    .dataframe tbody tr th:only-of-type {\n",
       "        vertical-align: middle;\n",
       "    }\n",
       "\n",
       "    .dataframe tbody tr th {\n",
       "        vertical-align: top;\n",
       "    }\n",
       "\n",
       "    .dataframe thead th {\n",
       "        text-align: right;\n",
       "    }\n",
       "</style>\n",
       "<table border=\"1\" class=\"dataframe\">\n",
       "  <thead>\n",
       "    <tr style=\"text-align: right;\">\n",
       "      <th></th>\n",
       "      <th>lr-rf</th>\n",
       "      <th>lr-gbm</th>\n",
       "      <th>lr-mlp</th>\n",
       "      <th>rf-gbm</th>\n",
       "      <th>rf-mlp</th>\n",
       "      <th>gbm-mlp</th>\n",
       "    </tr>\n",
       "  </thead>\n",
       "  <tbody>\n",
       "    <tr>\n",
       "      <th>auroc</th>\n",
       "      <td>(-7.7451541928851775, 4.836516995686219e-13)</td>\n",
       "      <td>(-8.265869341137545, 1.9793917965523378e-14)</td>\n",
       "      <td>(-5.913832276312028, 1.4448892210423221e-08)</td>\n",
       "      <td>(-0.7963450632222485, 0.42678527078590933)</td>\n",
       "      <td>(1.7767417752067243, 0.0771461533694063)</td>\n",
       "      <td>(2.5000550426675607, 0.013229397821328327)</td>\n",
       "    </tr>\n",
       "    <tr>\n",
       "      <th>f1</th>\n",
       "      <td>(-13.89259619760442, 4.4468872632205e-31)</td>\n",
       "      <td>(-13.712645622349955, 1.5871689964687176e-30)</td>\n",
       "      <td>(-9.738157068213015, 1.4727586081772186e-18)</td>\n",
       "      <td>(0.5033655531746059, 0.6152668087515873)</td>\n",
       "      <td>(3.963876278335994, 0.00010293292087679879)</td>\n",
       "      <td>(3.565098804431242, 0.0004559422617680369)</td>\n",
       "    </tr>\n",
       "    <tr>\n",
       "      <th>npv</th>\n",
       "      <td>(-1.0517296706690993, 0.2942054660560996)</td>\n",
       "      <td>(-1.0176017655306844, 0.310109050179264)</td>\n",
       "      <td>(0.7199946199596783, 0.47237736099338334)</td>\n",
       "      <td>(0.02193064360802606, 0.9825253654405779)</td>\n",
       "      <td>(1.8824477350818785, 0.06124194952108758)</td>\n",
       "      <td>(1.833805765631917, 0.06818393843722381)</td>\n",
       "    </tr>\n",
       "    <tr>\n",
       "      <th>ppv</th>\n",
       "      <td>(-15.89810013872224, 3.2155254168682093e-37)</td>\n",
       "      <td>(-15.99854196157006, 1.5906084459756007e-37)</td>\n",
       "      <td>(-11.609813715156726, 4.182813384853509e-24)</td>\n",
       "      <td>(0.582729231178791, 0.5607386350848496)</td>\n",
       "      <td>(3.3070110604813525, 0.0011197712503367857)</td>\n",
       "      <td>(2.881535938008341, 0.004393865656583489)</td>\n",
       "    </tr>\n",
       "    <tr>\n",
       "      <th>sensitivity</th>\n",
       "      <td>(4.999297358269423, 1.2634197125285202e-06)</td>\n",
       "      <td>(4.623214869345008, 6.80768136354464e-06)</td>\n",
       "      <td>(6.354780615008556, 1.406329721437722e-09)</td>\n",
       "      <td>(-0.16802789210935817, 0.866732840866424)</td>\n",
       "      <td>(1.8503438683672044, 0.06575392241155188)</td>\n",
       "      <td>(1.916222394257942, 0.05677704089469465)</td>\n",
       "    </tr>\n",
       "    <tr>\n",
       "      <th>specificity</th>\n",
       "      <td>(-16.770036865303737, 7.2930676438118314e-40)</td>\n",
       "      <td>(-15.570375747392129, 3.208801270403557e-36)</td>\n",
       "      <td>(-12.675706530730535, 2.3956312833456183e-27)</td>\n",
       "      <td>(0.5671969467662671, 0.5712228678796696)</td>\n",
       "      <td>(2.5119867748365676, 0.012804002351635481)</td>\n",
       "      <td>(1.9156725892759001, 0.05684747686316934)</td>\n",
       "    </tr>\n",
       "  </tbody>\n",
       "</table>\n",
       "</div>"
      ],
      "text/plain": [
       "                                                     lr-rf  \\\n",
       "auroc        (-7.7451541928851775, 4.836516995686219e-13)    \n",
       "f1           (-13.89259619760442, 4.4468872632205e-31)       \n",
       "npv          (-1.0517296706690993, 0.2942054660560996)       \n",
       "ppv          (-15.89810013872224, 3.2155254168682093e-37)    \n",
       "sensitivity  (4.999297358269423, 1.2634197125285202e-06)     \n",
       "specificity  (-16.770036865303737, 7.2930676438118314e-40)   \n",
       "\n",
       "                                                    lr-gbm  \\\n",
       "auroc        (-8.265869341137545, 1.9793917965523378e-14)    \n",
       "f1           (-13.712645622349955, 1.5871689964687176e-30)   \n",
       "npv          (-1.0176017655306844, 0.310109050179264)        \n",
       "ppv          (-15.99854196157006, 1.5906084459756007e-37)    \n",
       "sensitivity  (4.623214869345008, 6.80768136354464e-06)       \n",
       "specificity  (-15.570375747392129, 3.208801270403557e-36)    \n",
       "\n",
       "                                                    lr-mlp  \\\n",
       "auroc        (-5.913832276312028, 1.4448892210423221e-08)    \n",
       "f1           (-9.738157068213015, 1.4727586081772186e-18)    \n",
       "npv          (0.7199946199596783, 0.47237736099338334)       \n",
       "ppv          (-11.609813715156726, 4.182813384853509e-24)    \n",
       "sensitivity  (6.354780615008556, 1.406329721437722e-09)      \n",
       "specificity  (-12.675706530730535, 2.3956312833456183e-27)   \n",
       "\n",
       "                                                 rf-gbm  \\\n",
       "auroc        (-0.7963450632222485, 0.42678527078590933)   \n",
       "f1           (0.5033655531746059, 0.6152668087515873)     \n",
       "npv          (0.02193064360802606, 0.9825253654405779)    \n",
       "ppv          (0.582729231178791, 0.5607386350848496)      \n",
       "sensitivity  (-0.16802789210935817, 0.866732840866424)    \n",
       "specificity  (0.5671969467662671, 0.5712228678796696)     \n",
       "\n",
       "                                                  rf-mlp  \\\n",
       "auroc        (1.7767417752067243, 0.0771461533694063)      \n",
       "f1           (3.963876278335994, 0.00010293292087679879)   \n",
       "npv          (1.8824477350818785, 0.06124194952108758)     \n",
       "ppv          (3.3070110604813525, 0.0011197712503367857)   \n",
       "sensitivity  (1.8503438683672044, 0.06575392241155188)     \n",
       "specificity  (2.5119867748365676, 0.012804002351635481)    \n",
       "\n",
       "                                                gbm-mlp  \n",
       "auroc        (2.5000550426675607, 0.013229397821328327)  \n",
       "f1           (3.565098804431242, 0.0004559422617680369)  \n",
       "npv          (1.833805765631917, 0.06818393843722381)    \n",
       "ppv          (2.881535938008341, 0.004393865656583489)   \n",
       "sensitivity  (1.916222394257942, 0.05677704089469465)    \n",
       "specificity  (1.9156725892759001, 0.05684747686316934)   "
      ]
     },
     "execution_count": 9,
     "metadata": {},
     "output_type": "execute_result"
    }
   ],
   "source": [
    "ia_ttests = pd.DataFrame(ia_ttests)\n",
    "ia_ttests"
   ]
  },
  {
   "cell_type": "code",
   "execution_count": 10,
   "metadata": {
    "ExecuteTime": {
     "end_time": "2019-08-02T13:47:03.127530Z",
     "start_time": "2019-08-02T13:47:00.524895Z"
    }
   },
   "outputs": [
    {
     "data": {
      "text/html": [
       "<div>\n",
       "<style scoped>\n",
       "    .dataframe tbody tr th:only-of-type {\n",
       "        vertical-align: middle;\n",
       "    }\n",
       "\n",
       "    .dataframe tbody tr th {\n",
       "        vertical-align: top;\n",
       "    }\n",
       "\n",
       "    .dataframe thead th {\n",
       "        text-align: right;\n",
       "    }\n",
       "</style>\n",
       "<table border=\"1\" class=\"dataframe\">\n",
       "  <thead>\n",
       "    <tr style=\"text-align: right;\">\n",
       "      <th></th>\n",
       "      <th>lr-rf</th>\n",
       "      <th>lr-gbm</th>\n",
       "      <th>lr-mlp</th>\n",
       "      <th>rf-gbm</th>\n",
       "      <th>rf-mlp</th>\n",
       "      <th>gbm-mlp</th>\n",
       "    </tr>\n",
       "  </thead>\n",
       "  <tbody>\n",
       "    <tr>\n",
       "      <th>auroc</th>\n",
       "      <td>(-2.1260637847824064, 0.034736656458580914)</td>\n",
       "      <td>(0.5152167599158811, 0.6069762865464206)</td>\n",
       "      <td>(-2.0973364861139223, 0.037233111879323405)</td>\n",
       "      <td>(2.763893075438058, 0.0062506645311561455)</td>\n",
       "      <td>(0.25207071159648764, 0.8012478673136824)</td>\n",
       "      <td>(-2.8244973599556613, 0.005220011935923832)</td>\n",
       "    </tr>\n",
       "    <tr>\n",
       "      <th>f1</th>\n",
       "      <td>(5.4856640256470355, 1.2487338411200422e-07)</td>\n",
       "      <td>(5.2096380923278085, 4.729755106066353e-07)</td>\n",
       "      <td>(4.350736192917731, 2.171454634947159e-05)</td>\n",
       "      <td>(-0.3067134095702049, 0.7593838290578625)</td>\n",
       "      <td>(-1.06985515573178, 0.2859869819316188)</td>\n",
       "      <td>(-0.7722012508757278, 0.4409159553251232)</td>\n",
       "    </tr>\n",
       "    <tr>\n",
       "      <th>npv</th>\n",
       "      <td>(2.224168768899269, 0.027266742564268382)</td>\n",
       "      <td>(3.044453150907716, 0.002647813213641131)</td>\n",
       "      <td>(2.0058042690502185, 0.04623827378315275)</td>\n",
       "      <td>(0.9588868994358638, 0.33878514329922205)</td>\n",
       "      <td>(-0.40035227342284235, 0.6893286916200384)</td>\n",
       "      <td>(-1.4348310481290438, 0.15291287893305713)</td>\n",
       "    </tr>\n",
       "    <tr>\n",
       "      <th>ppv</th>\n",
       "      <td>(-2.681992593768923, 0.00793652965546063)</td>\n",
       "      <td>(-1.035675266480739, 0.3016168886557689)</td>\n",
       "      <td>(-2.267090198167265, 0.024465142561219424)</td>\n",
       "      <td>(1.602092840652466, 0.11072921903994894)</td>\n",
       "      <td>(0.36225521176391334, 0.7175476714351372)</td>\n",
       "      <td>(-1.2161521566037623, 0.2253748260676345)</td>\n",
       "    </tr>\n",
       "    <tr>\n",
       "      <th>sensitivity</th>\n",
       "      <td>(29.457780811012544, 2.6836891232103287e-74)</td>\n",
       "      <td>(26.540928934886537, 3.8957168375885415e-67)</td>\n",
       "      <td>(26.142551944740777, 4.01596927399462e-66)</td>\n",
       "      <td>(-5.87326909149356, 1.780554081470574e-08)</td>\n",
       "      <td>(-4.5206781026411464, 1.0597455513793557e-05)</td>\n",
       "      <td>(1.1961868756842087, 0.23305410085009)</td>\n",
       "    </tr>\n",
       "    <tr>\n",
       "      <th>specificity</th>\n",
       "      <td>(-46.74594148317807, 6.352849341508821e-109)</td>\n",
       "      <td>(-38.30769439157174, 1.6508800823375676e-93)</td>\n",
       "      <td>(-34.19247387228388, 5.146320540472835e-85)</td>\n",
       "      <td>(13.066908849914673, 1.5199730299414182e-28)</td>\n",
       "      <td>(5.778100740270058, 2.895977746353955e-08)</td>\n",
       "      <td>(-5.146568774048572, 6.36911556999194e-07)</td>\n",
       "    </tr>\n",
       "  </tbody>\n",
       "</table>\n",
       "</div>"
      ],
      "text/plain": [
       "                                                    lr-rf  \\\n",
       "auroc        (-2.1260637847824064, 0.034736656458580914)    \n",
       "f1           (5.4856640256470355, 1.2487338411200422e-07)   \n",
       "npv          (2.224168768899269, 0.027266742564268382)      \n",
       "ppv          (-2.681992593768923, 0.00793652965546063)      \n",
       "sensitivity  (29.457780811012544, 2.6836891232103287e-74)   \n",
       "specificity  (-46.74594148317807, 6.352849341508821e-109)   \n",
       "\n",
       "                                                   lr-gbm  \\\n",
       "auroc        (0.5152167599158811, 0.6069762865464206)       \n",
       "f1           (5.2096380923278085, 4.729755106066353e-07)    \n",
       "npv          (3.044453150907716, 0.002647813213641131)      \n",
       "ppv          (-1.035675266480739, 0.3016168886557689)       \n",
       "sensitivity  (26.540928934886537, 3.8957168375885415e-67)   \n",
       "specificity  (-38.30769439157174, 1.6508800823375676e-93)   \n",
       "\n",
       "                                                  lr-mlp  \\\n",
       "auroc        (-2.0973364861139223, 0.037233111879323405)   \n",
       "f1           (4.350736192917731, 2.171454634947159e-05)    \n",
       "npv          (2.0058042690502185, 0.04623827378315275)     \n",
       "ppv          (-2.267090198167265, 0.024465142561219424)    \n",
       "sensitivity  (26.142551944740777, 4.01596927399462e-66)    \n",
       "specificity  (-34.19247387228388, 5.146320540472835e-85)   \n",
       "\n",
       "                                                   rf-gbm  \\\n",
       "auroc        (2.763893075438058, 0.0062506645311561455)     \n",
       "f1           (-0.3067134095702049, 0.7593838290578625)      \n",
       "npv          (0.9588868994358638, 0.33878514329922205)      \n",
       "ppv          (1.602092840652466, 0.11072921903994894)       \n",
       "sensitivity  (-5.87326909149356, 1.780554081470574e-08)     \n",
       "specificity  (13.066908849914673, 1.5199730299414182e-28)   \n",
       "\n",
       "                                                    rf-mlp  \\\n",
       "auroc        (0.25207071159648764, 0.8012478673136824)       \n",
       "f1           (-1.06985515573178, 0.2859869819316188)         \n",
       "npv          (-0.40035227342284235, 0.6893286916200384)      \n",
       "ppv          (0.36225521176391334, 0.7175476714351372)       \n",
       "sensitivity  (-4.5206781026411464, 1.0597455513793557e-05)   \n",
       "specificity  (5.778100740270058, 2.895977746353955e-08)      \n",
       "\n",
       "                                                 gbm-mlp  \n",
       "auroc        (-2.8244973599556613, 0.005220011935923832)  \n",
       "f1           (-0.7722012508757278, 0.4409159553251232)    \n",
       "npv          (-1.4348310481290438, 0.15291287893305713)   \n",
       "ppv          (-1.2161521566037623, 0.2253748260676345)    \n",
       "sensitivity  (1.1961868756842087, 0.23305410085009)       \n",
       "specificity  (-5.146568774048572, 6.36911556999194e-07)   "
      ]
     },
     "execution_count": 10,
     "metadata": {},
     "output_type": "execute_result"
    }
   ],
   "source": [
    "ps_ttests = {}\n",
    "\n",
    "for m1, m2 in combinations(models, 2):  \n",
    "  ps_ttests[f'{m1}-{m2}'] = {}\n",
    "  for metric in metrics:\n",
    "    ps_ttests[f'{m1}-{m2}'][metric] = do_ttest(ps_bams, m1, m2, metric)\n",
    "\n",
    "ps_ttests = pd.DataFrame(ps_ttests)\n",
    "ps_ttests"
   ]
  },
  {
   "cell_type": "markdown",
   "metadata": {},
   "source": [
    "## Debug PPV"
   ]
  },
  {
   "cell_type": "code",
   "execution_count": null,
   "metadata": {
    "ExecuteTime": {
     "end_time": "2019-07-30T13:20:57.826457Z",
     "start_time": "2019-07-30T13:20:57.803178Z"
    }
   },
   "outputs": [],
   "source": [
    "model = 'lr'"
   ]
  },
  {
   "cell_type": "code",
   "execution_count": null,
   "metadata": {
    "ExecuteTime": {
     "end_time": "2019-07-30T13:21:14.429220Z",
     "start_time": "2019-07-30T13:21:14.403354Z"
    }
   },
   "outputs": [],
   "source": [
    "ia, ps = ia_bams[model], ps_bams[model]"
   ]
  },
  {
   "cell_type": "code",
   "execution_count": null,
   "metadata": {
    "ExecuteTime": {
     "end_time": "2019-07-30T13:22:54.150197Z",
     "start_time": "2019-07-30T13:22:53.692642Z"
    }
   },
   "outputs": [],
   "source": [
    "fig, ax = plt.subplots(figsize=(10, 8))\n",
    "plot_confusion_matrix(ax, ia.cm_avg, classes=['Negative', 'Positive'], normalize=False, title='Confusion matrix')"
   ]
  },
  {
   "cell_type": "code",
   "execution_count": null,
   "metadata": {
    "ExecuteTime": {
     "end_time": "2019-07-30T13:22:54.406287Z",
     "start_time": "2019-07-30T13:22:54.152231Z"
    }
   },
   "outputs": [],
   "source": [
    "fig, ax = plt.subplots(figsize=(10, 8))\n",
    "plot_confusion_matrix(ax, ps.cm_avg, classes=['Negative', 'Positive'], normalize=False, title='Confusion matrix')"
   ]
  },
  {
   "cell_type": "code",
   "execution_count": null,
   "metadata": {
    "ExecuteTime": {
     "end_time": "2019-07-30T13:03:18.316835Z",
     "start_time": "2019-07-30T13:03:18.087588Z"
    }
   },
   "outputs": [],
   "source": [
    "sensitivity = tps/(tps + fns)"
   ]
  },
  {
   "cell_type": "code",
   "execution_count": null,
   "metadata": {
    "ExecuteTime": {
     "end_time": "2019-07-30T13:03:22.891148Z",
     "start_time": "2019-07-30T13:03:22.863088Z"
    }
   },
   "outputs": [],
   "source": [
    "sensitivity"
   ]
  },
  {
   "cell_type": "code",
   "execution_count": null,
   "metadata": {
    "ExecuteTime": {
     "end_time": "2019-07-30T13:04:19.065094Z",
     "start_time": "2019-07-30T13:04:18.831339Z"
    }
   },
   "outputs": [],
   "source": [
    "ppv = tps/(tps + fps)"
   ]
  },
  {
   "cell_type": "code",
   "execution_count": null,
   "metadata": {
    "ExecuteTime": {
     "end_time": "2019-07-30T13:04:20.943519Z",
     "start_time": "2019-07-30T13:04:20.917302Z"
    }
   },
   "outputs": [],
   "source": [
    "ppv"
   ]
  },
  {
   "cell_type": "markdown",
   "metadata": {},
   "source": [
    "## Mean AUC"
   ]
  },
  {
   "cell_type": "code",
   "execution_count": null,
   "metadata": {
    "ExecuteTime": {
     "end_time": "2019-07-22T20:09:43.185383Z",
     "start_time": "2019-07-22T20:09:42.946914Z"
    }
   },
   "outputs": [],
   "source": [
    "model = 'mlp'\n",
    "ia_bams[model].get_avg_metrics(conf=0.5)"
   ]
  },
  {
   "cell_type": "code",
   "execution_count": null,
   "metadata": {
    "ExecuteTime": {
     "end_time": "2019-07-22T20:09:43.441775Z",
     "start_time": "2019-07-22T20:09:43.186906Z"
    }
   },
   "outputs": [],
   "source": [
    "model = 'mlp'\n",
    "ps_bams[model].get_avg_metrics(conf=0.5)"
   ]
  },
  {
   "cell_type": "code",
   "execution_count": null,
   "metadata": {
    "ExecuteTime": {
     "end_time": "2019-07-22T20:09:46.869846Z",
     "start_time": "2019-07-22T20:09:46.843749Z"
    }
   },
   "outputs": [],
   "source": [
    "def get_mean_tprs(bams, base_fpr):\n",
    "  mean_tprs = {}  \n",
    "  for model, bam in bams.items():\n",
    "    tprs = []  \n",
    "    for i, (targs, probs) in enumerate(zip(bam.targs, bam.probs)):\n",
    "      fpr, tpr, _ = roc_curve(targs, probs)\n",
    "      tpr = interp(base_fpr, fpr, tpr)\n",
    "      tpr[0] = 0.0\n",
    "      tprs.append(tpr)\n",
    "\n",
    "    tprs = np.array(tprs)\n",
    "    mean_tprs[model] = tprs.mean(axis=0)\n",
    "    \n",
    "  return mean_tprs"
   ]
  },
  {
   "cell_type": "code",
   "execution_count": null,
   "metadata": {
    "ExecuteTime": {
     "end_time": "2019-07-22T20:10:58.423000Z",
     "start_time": "2019-07-22T20:10:56.236412Z"
    }
   },
   "outputs": [],
   "source": [
    "base_fpr = np.linspace(0, 1, 100)\n",
    "mean_tprs = get_mean_tprs(ia_bams, base_fpr)\n",
    "\n",
    "fig, ax = plt.subplots(1, 1, figsize=(10, 8))\n",
    "for i, (model, mean_tpr) in enumerate(mean_tprs.items()):\n",
    "  ax.plot(base_fpr, mean_tpr)\n",
    "ax.plot([0, 1], [0, 1], linestyle=':')  \n",
    "ax.grid(b=True, which='major', color='#d3d3d3', linewidth=1.0)\n",
    "ax.grid(b=True, which='minor', color='#d3d3d3', linewidth=0.5)\n",
    "ax.set_ylabel('Sensitivity')\n",
    "ax.set_xlabel('1 - Specificity')\n",
    "ax.legend(['Logistic Regression', 'Random Forests', 'Gradient Boosting Machines', 'Multilayer Perceptron'])\n",
    "fig.savefig(args.figdir/'ia_mean_roc.tif', dpi=300)"
   ]
  },
  {
   "cell_type": "code",
   "execution_count": null,
   "metadata": {
    "ExecuteTime": {
     "end_time": "2019-07-22T20:11:00.857751Z",
     "start_time": "2019-07-22T20:10:58.424454Z"
    }
   },
   "outputs": [],
   "source": [
    "base_fpr = np.linspace(0, 1, 100)\n",
    "mean_tprs = get_mean_tprs(ps_bams, base_fpr)\n",
    "\n",
    "fig, ax = plt.subplots(1, 1, figsize=(10, 8))\n",
    "for i, (model, mean_tpr) in enumerate(mean_tprs.items()):\n",
    "  ax.plot(base_fpr, mean_tpr)\n",
    "ax.plot([0, 1], [0, 1], linestyle=':')  \n",
    "ax.grid(b=True, which='major', color='#d3d3d3', linewidth=1.0)\n",
    "ax.grid(b=True, which='minor', color='#d3d3d3', linewidth=0.5)\n",
    "ax.set_ylabel('Sensitivity')\n",
    "ax.set_xlabel('1 - Specificity')\n",
    "ax.legend(['Logistic Regression', 'Random Forests', 'Gradient Boosting Machines', 'Multilayer Perceptron'])\n",
    "fig.savefig(args.figdir/'ps_mean_roc.tif', dpi=300)"
   ]
  },
  {
   "cell_type": "markdown",
   "metadata": {},
   "source": [
    "## Probability Plots"
   ]
  },
  {
   "cell_type": "code",
   "execution_count": null,
   "metadata": {
    "ExecuteTime": {
     "end_time": "2019-07-01T01:54:55.010427Z",
     "start_time": "2019-07-01T01:54:53.292803Z"
    }
   },
   "outputs": [],
   "source": [
    "df = pd.read_csv(args.proc_csv, usecols=args.cols, parse_dates=args.dates)\n",
    "df['relative_charttime'] = (df['charttime'] - df['intime'])\n",
    "\n",
    "imminent_df = df.loc[(df['imminent_label'] != -1)][['scispacy_note', 'imminent_label', 'relative_charttime']].reset_index()\n",
    "discharge_df = df[['scispacy_note', 'discharge_label', 'relative_charttime']].reset_index()"
   ]
  },
  {
   "cell_type": "code",
   "execution_count": null,
   "metadata": {
    "ExecuteTime": {
     "end_time": "2019-07-01T01:54:55.035281Z",
     "start_time": "2019-07-01T01:54:55.012234Z"
    }
   },
   "outputs": [],
   "source": [
    "interval_hours=12\n",
    "starting_day = -20\n",
    "ending_day = -1"
   ]
  },
  {
   "cell_type": "markdown",
   "metadata": {},
   "source": [
    "### Imminent ICU Admission"
   ]
  },
  {
   "cell_type": "code",
   "execution_count": null,
   "metadata": {
    "ExecuteTime": {
     "end_time": "2019-07-01T01:55:15.640755Z",
     "start_time": "2019-07-01T01:54:55.036623Z"
    }
   },
   "outputs": [],
   "source": [
    "model = 'lr'\n",
    "with open(args.workdir/model/'imminent_model.pkl', 'rb') as f:\n",
    "  clf = pickle.load(f)\n",
    "  vocabulary = pickle.load(f)\n",
    "  \n",
    "vectorizer = TfidfVectorizer(min_df=3, analyzer=str.split, sublinear_tf=True, ngram_range=(2,2), vocabulary=vocabulary)\n",
    "imminent_df[f'{model}_prob'] = clf.predict_proba(vectorizer.fit_transform(imminent_df['scispacy_note']))[:, 1]\n",
    "\n",
    "model = 'rf'\n",
    "with open(args.workdir/model/'imminent_model.pkl', 'rb') as f:\n",
    "  clf = pickle.load(f)\n",
    "  vocabulary = pickle.load(f)\n",
    "  \n",
    "vectorizer = TfidfVectorizer(min_df=3, analyzer=str.split, sublinear_tf=True, ngram_range=(2,2), vocabulary=vocabulary)\n",
    "imminent_df[f'{model}_prob'] = clf.predict_proba(vectorizer.fit_transform(imminent_df['scispacy_note']))[:, 1]\n",
    "\n",
    "model = 'gbm'\n",
    "with open(args.workdir/model/'imminent_model.pkl', 'rb') as f:\n",
    "  clf = pickle.load(f)\n",
    "  vocabulary = pickle.load(f)\n",
    "  \n",
    "vectorizer = TfidfVectorizer(min_df=3, analyzer=str.split, sublinear_tf=True, ngram_range=(2,2), vocabulary=vocabulary)\n",
    "imminent_df[f'{model}_prob'] = clf.predict_proba(vectorizer.fit_transform(imminent_df['scispacy_note']))[:, 1]"
   ]
  },
  {
   "cell_type": "code",
   "execution_count": null,
   "metadata": {
    "ExecuteTime": {
     "end_time": "2019-07-01T01:55:50.867495Z",
     "start_time": "2019-07-01T01:55:15.642776Z"
    }
   },
   "outputs": [],
   "source": [
    "fig, ax = plt.subplots(3, 1, figsize=(10, 15))\n",
    "plot_prob(ax[0], imminent_df, 'lr', args.imminent_threshold['lr'], starting_day, ending_day, interval_hours)\n",
    "plot_prob(ax[1], imminent_df, 'rf', args.imminent_threshold['rf'], starting_day, ending_day, interval_hours)\n",
    "plot_prob(ax[2], imminent_df, 'gbm', args.imminent_threshold['gbm'], starting_day, ending_day, interval_hours)\n",
    "\n",
    "fig.text(0.5, 0.08, 'Time to ICU (days)', ha='center')\n",
    "fig.text(0.08, 0.5, 'Probability', va='center', rotation='vertical')"
   ]
  },
  {
   "cell_type": "markdown",
   "metadata": {},
   "source": [
    "### ICU Discharge"
   ]
  },
  {
   "cell_type": "code",
   "execution_count": null,
   "metadata": {
    "ExecuteTime": {
     "end_time": "2019-07-01T01:56:21.738416Z",
     "start_time": "2019-07-01T01:55:50.869056Z"
    }
   },
   "outputs": [],
   "source": [
    "model = 'lr'\n",
    "with open(args.workdir/model/'discharge_model.pkl', 'rb') as f:\n",
    "  clf = pickle.load(f)\n",
    "  vocabulary = pickle.load(f)\n",
    "\n",
    "vectorizer = TfidfVectorizer(min_df=3, analyzer=str.split, sublinear_tf=True, ngram_range=(2,2), vocabulary=vocabulary)\n",
    "discharge_df[f'{model}_prob'] = clf.predict_proba(vectorizer.fit_transform(discharge_df['scispacy_note']))[:, 1]\n",
    "\n",
    "model = 'rf'\n",
    "with open(args.workdir/model/'discharge_model.pkl', 'rb') as f:\n",
    "  clf = pickle.load(f)\n",
    "  vocabulary = pickle.load(f)\n",
    "  \n",
    "vectorizer = TfidfVectorizer(min_df=3, analyzer=str.split, sublinear_tf=True, ngram_range=(2,2), vocabulary=vocabulary)\n",
    "discharge_df[f'{model}_prob'] = clf.predict_proba(vectorizer.fit_transform(discharge_df['scispacy_note']))[:, 1]\n",
    "\n",
    "model = 'gbm'\n",
    "with open(args.workdir/model/'discharge_model.pkl', 'rb') as f:\n",
    "  clf = pickle.load(f)\n",
    "  vocabulary = pickle.load(f)\n",
    "  \n",
    "vectorizer = TfidfVectorizer(min_df=3, analyzer=str.split, sublinear_tf=True, ngram_range=(2,2), vocabulary=vocabulary)\n",
    "discharge_df[f'{model}_prob'] = clf.predict_proba(vectorizer.fit_transform(discharge_df['scispacy_note']))[:, 1]"
   ]
  },
  {
   "cell_type": "code",
   "execution_count": null,
   "metadata": {
    "ExecuteTime": {
     "end_time": "2019-07-01T01:57:19.994295Z",
     "start_time": "2019-07-01T01:56:21.740249Z"
    }
   },
   "outputs": [],
   "source": [
    "fig, ax = plt.subplots(3, 1, figsize=(10, 15))\n",
    "plot_prob(ax[0], discharge_df, 'lr', args.discharge_threshold['lr'], starting_day, ending_day, interval_hours)\n",
    "plot_prob(ax[1], discharge_df, 'rf', args.discharge_threshold['rf'], starting_day, ending_day, interval_hours)\n",
    "plot_prob(ax[2], discharge_df, 'gbm', args.discharge_threshold['gbm'], starting_day, ending_day, interval_hours)\n",
    "\n",
    "fig.text(0.5, 0.08, 'Time to ICU (days)', ha='center')\n",
    "fig.text(0.08, 0.5, 'Probability', va='center', rotation='vertical')"
   ]
  },
  {
   "cell_type": "markdown",
   "metadata": {},
   "source": [
    "## Word Clouds"
   ]
  },
  {
   "cell_type": "markdown",
   "metadata": {},
   "source": [
    "### Imminent ICU Admission"
   ]
  },
  {
   "cell_type": "code",
   "execution_count": null,
   "metadata": {
    "ExecuteTime": {
     "end_time": "2019-07-01T01:57:20.879120Z",
     "start_time": "2019-07-01T01:57:19.995624Z"
    }
   },
   "outputs": [],
   "source": [
    "scores = {}\n",
    "feature_names = {}\n",
    "\n",
    "model = 'lr'\n",
    "with open(args.workdir/model/'imminent_model.pkl', 'rb') as f:\n",
    "  clf = pickle.load(f)\n",
    "  vocabulary = pickle.load(f)\n",
    "\n",
    "feature_names[model] = TfidfVectorizer(min_df=3, analyzer=str.split, sublinear_tf=True, ngram_range=(2,2), vocabulary=vocabulary).get_feature_names()\n",
    "scores[model] = clf.coef_[0]/clf.coef_[0].sum()\n",
    "\n",
    "model = 'rf'\n",
    "with open(args.workdir/model/'imminent_model.pkl', 'rb') as f:\n",
    "  clf = pickle.load(f)\n",
    "  vocabulary = pickle.load(f)\n",
    "\n",
    "feature_names[model] = TfidfVectorizer(min_df=3, analyzer=str.split, sublinear_tf=True, ngram_range=(2,2), vocabulary=vocabulary).get_feature_names()\n",
    "scores[model] = clf.feature_importances_/clf.feature_importances_.sum()\n",
    "\n",
    "model = 'gbm'\n",
    "with open(args.workdir/model/'imminent_model.pkl', 'rb') as f:\n",
    "  clf = pickle.load(f)\n",
    "  vocabulary = pickle.load(f)\n",
    "\n",
    "feature_names[model] = TfidfVectorizer(min_df=3, analyzer=str.split, sublinear_tf=True, ngram_range=(2,2), vocabulary=vocabulary).get_feature_names()\n",
    "scores[model] = clf.feature_importances_/clf.feature_importances_.sum()"
   ]
  },
  {
   "cell_type": "code",
   "execution_count": null,
   "metadata": {
    "ExecuteTime": {
     "end_time": "2019-07-01T01:57:21.398108Z",
     "start_time": "2019-07-01T01:57:20.880592Z"
    }
   },
   "outputs": [],
   "source": [
    "model = 'gbm'\n",
    "fig, ax = plt.subplots(1, 2, figsize=(15, 10))\n",
    "neg, pos = get_wordcloud(feature_names[model], scores[model], n_words=25)\n",
    "ax[0].imshow(neg)\n",
    "ax[0].axis('off')\n",
    "ax[1].imshow(pos)\n",
    "ax[1].axis('off')"
   ]
  },
  {
   "cell_type": "markdown",
   "metadata": {},
   "source": [
    "### ICU Discharge"
   ]
  },
  {
   "cell_type": "code",
   "execution_count": null,
   "metadata": {
    "ExecuteTime": {
     "end_time": "2019-07-01T01:57:22.248780Z",
     "start_time": "2019-07-01T01:57:21.399413Z"
    }
   },
   "outputs": [],
   "source": [
    "scores = {}\n",
    "feature_names = {}\n",
    "\n",
    "model = 'lr'\n",
    "with open(args.workdir/model/'discharge_model.pkl', 'rb') as f:\n",
    "  clf = pickle.load(f)\n",
    "  vocabulary = pickle.load(f)\n",
    "\n",
    "feature_names[model] = TfidfVectorizer(min_df=3, analyzer=str.split, sublinear_tf=True, ngram_range=(2,2), vocabulary=vocabulary).get_feature_names()\n",
    "scores[model] = clf.coef_[0]/clf.coef_[0].sum()\n",
    "\n",
    "model = 'rf'\n",
    "with open(args.workdir/model/'discharge_model.pkl', 'rb') as f:\n",
    "  clf = pickle.load(f)\n",
    "  vocabulary = pickle.load(f)\n",
    "\n",
    "feature_names[model] = TfidfVectorizer(min_df=3, analyzer=str.split, sublinear_tf=True, ngram_range=(2,2), vocabulary=vocabulary).get_feature_names()\n",
    "scores[model] = clf.feature_importances_/clf.feature_importances_.sum()\n",
    "\n",
    "model = 'gbm'\n",
    "with open(args.workdir/model/'discharge_model.pkl', 'rb') as f:\n",
    "  clf = pickle.load(f)\n",
    "  vocabulary = pickle.load(f)\n",
    "\n",
    "feature_names[model] = TfidfVectorizer(min_df=3, analyzer=str.split, sublinear_tf=True, ngram_range=(2,2), vocabulary=vocabulary).get_feature_names()\n",
    "scores[model] = clf.feature_importances_/clf.feature_importances_.sum()"
   ]
  },
  {
   "cell_type": "code",
   "execution_count": null,
   "metadata": {
    "ExecuteTime": {
     "end_time": "2019-07-01T01:57:22.860223Z",
     "start_time": "2019-07-01T01:57:22.250338Z"
    }
   },
   "outputs": [],
   "source": [
    "model = 'gbm'\n",
    "fig, ax = plt.subplots(1, 2, figsize=(15, 12))\n",
    "neg, pos = get_wordcloud(feature_names[model], scores[model], n_words=50)\n",
    "ax[0].imshow(neg)\n",
    "ax[0].axis('off')\n",
    "ax[1].imshow(pos)\n",
    "ax[1].axis('off')"
   ]
  },
  {
   "cell_type": "code",
   "execution_count": null,
   "metadata": {
    "ExecuteTime": {
     "end_time": "2019-07-01T01:57:22.885298Z",
     "start_time": "2019-07-01T01:57:22.861363Z"
    }
   },
   "outputs": [],
   "source": [
    "# fig.savefig(args.figdir/f'prob.tif', dpi=300)"
   ]
  }
 ],
 "metadata": {
  "kernelspec": {
   "display_name": "Python 3",
   "language": "python",
   "name": "python3"
  },
  "language_info": {
   "codemirror_mode": {
    "name": "ipython",
    "version": 3
   },
   "file_extension": ".py",
   "mimetype": "text/x-python",
   "name": "python",
   "nbconvert_exporter": "python",
   "pygments_lexer": "ipython3",
   "version": "3.7.3"
  },
  "toc": {
   "base_numbering": 1,
   "nav_menu": {},
   "number_sections": true,
   "sideBar": true,
   "skip_h1_title": true,
   "title_cell": "Table of Contents",
   "title_sidebar": "Contents",
   "toc_cell": false,
   "toc_position": {
    "height": "calc(100% - 180px)",
    "left": "10px",
    "top": "150px",
    "width": "165px"
   },
   "toc_section_display": true,
   "toc_window_display": false
  }
 },
 "nbformat": 4,
 "nbformat_minor": 2
}
