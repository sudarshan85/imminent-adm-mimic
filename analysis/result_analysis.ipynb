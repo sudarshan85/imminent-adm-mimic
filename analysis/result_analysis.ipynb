{
 "cells": [
  {
   "cell_type": "markdown",
   "metadata": {},
   "source": [
    "# Result Analysis"
   ]
  },
  {
   "cell_type": "markdown",
   "metadata": {},
   "source": [
    "## Imports & Inits"
   ]
  },
  {
   "cell_type": "code",
   "execution_count": 1,
   "metadata": {
    "ExecuteTime": {
     "end_time": "2019-07-08T12:22:50.200158Z",
     "start_time": "2019-07-08T12:22:50.187328Z"
    }
   },
   "outputs": [],
   "source": [
    "%load_ext autoreload\n",
    "%autoreload 2"
   ]
  },
  {
   "cell_type": "code",
   "execution_count": 2,
   "metadata": {
    "ExecuteTime": {
     "end_time": "2019-07-08T12:22:52.261950Z",
     "start_time": "2019-07-08T12:22:50.201293Z"
    }
   },
   "outputs": [
    {
     "data": {
      "text/plain": [
       "{'workdir': PosixPath('../data/workdir'),\n",
       " 'figdir': PosixPath('../data/workdir/figdir'),\n",
       " 'raw_csv': PosixPath('../data/raw_dataset.csv'),\n",
       " 'proc_csv': PosixPath('../data/proc_dataset.csv'),\n",
       " 'imminent_adm_cols': ['hadm_id', 'imminent_adm_label'],\n",
       " 'prolonged_stay_cols': ['hadm_id', 'prolonged_stay_label'],\n",
       " 'cols': ['hadm_id',\n",
       "  'imminent_adm_label',\n",
       "  'prolonged_stay_label',\n",
       "  'processed_note',\n",
       "  'charttime',\n",
       "  'intime'],\n",
       " 'dates': ['charttime', 'intime'],\n",
       " 'ia_thresh': {'lr': 0.5, 'rf': 0.32, 'gbm': 0.52, 'cnn': 0.2},\n",
       " 'ps_thresh': {'lr': 0.47, 'rf': 0.35, 'gbm': 0.45, 'cnn': 0.33}}"
      ]
     },
     "execution_count": 2,
     "metadata": {},
     "output_type": "execute_result"
    }
   ],
   "source": [
    "import sys\n",
    "sys.path.append('../')\n",
    "\n",
    "import matplotlib.pyplot as plt\n",
    "import seaborn as sns\n",
    "sns.set_style(\"darkgrid\")\n",
    "%matplotlib inline\n",
    "\n",
    "import numpy as np\n",
    "np.set_printoptions(precision=2)\n",
    "\n",
    "import pandas as pd\n",
    "import pickle\n",
    "import torch\n",
    "from pathlib import Path\n",
    "from tqdm import tqdm_notebook as tqdm\n",
    "\n",
    "from sklearn.feature_extraction.text import TfidfVectorizer\n",
    "from torch.utils.data import DataLoader, TensorDataset, SequentialSampler\n",
    "\n",
    "from utils.metrics import BinaryAvgMetrics\n",
    "from utils.plots import *\n",
    "from args import args\n",
    "vars(args)"
   ]
  },
  {
   "cell_type": "markdown",
   "metadata": {},
   "source": [
    "## 100 Run Performance Results"
   ]
  },
  {
   "cell_type": "code",
   "execution_count": 3,
   "metadata": {
    "ExecuteTime": {
     "end_time": "2019-07-08T12:23:09.750318Z",
     "start_time": "2019-07-08T12:22:52.263741Z"
    },
    "scrolled": false
   },
   "outputs": [
    {
     "name": "stderr",
     "output_type": "stream",
     "text": [
      "../utils/metrics.py:80: RuntimeWarning: invalid value encountered in true_divide\n",
      "  npv = (self.tns / (self.tns + self.fns))\n",
      "../utils/metrics.py:80: RuntimeWarning: invalid value encountered in true_divide\n",
      "  npv = (self.tns / (self.tns + self.fns))\n",
      "../utils/metrics.py:80: RuntimeWarning: invalid value encountered in true_divide\n",
      "  npv = (self.tns / (self.tns + self.fns))\n",
      "../utils/metrics.py:80: RuntimeWarning: invalid value encountered in true_divide\n",
      "  npv = (self.tns / (self.tns + self.fns))\n",
      "../utils/metrics.py:80: RuntimeWarning: invalid value encountered in true_divide\n",
      "  npv = (self.tns / (self.tns + self.fns))\n",
      "../utils/metrics.py:80: RuntimeWarning: invalid value encountered in true_divide\n",
      "  npv = (self.tns / (self.tns + self.fns))\n",
      "../utils/metrics.py:80: RuntimeWarning: invalid value encountered in true_divide\n",
      "  npv = (self.tns / (self.tns + self.fns))\n",
      "../utils/metrics.py:80: RuntimeWarning: invalid value encountered in true_divide\n",
      "  npv = (self.tns / (self.tns + self.fns))\n",
      "../utils/metrics.py:80: RuntimeWarning: invalid value encountered in true_divide\n",
      "  npv = (self.tns / (self.tns + self.fns))\n",
      "../utils/metrics.py:80: RuntimeWarning: invalid value encountered in true_divide\n",
      "  npv = (self.tns / (self.tns + self.fns))\n",
      "../utils/metrics.py:80: RuntimeWarning: invalid value encountered in true_divide\n",
      "  npv = (self.tns / (self.tns + self.fns))\n",
      "../utils/metrics.py:80: RuntimeWarning: invalid value encountered in true_divide\n",
      "  npv = (self.tns / (self.tns + self.fns))\n",
      "../utils/metrics.py:80: RuntimeWarning: invalid value encountered in true_divide\n",
      "  npv = (self.tns / (self.tns + self.fns))\n",
      "../utils/metrics.py:80: RuntimeWarning: invalid value encountered in true_divide\n",
      "  npv = (self.tns / (self.tns + self.fns))\n"
     ]
    }
   ],
   "source": [
    "models = list(args.ia_thresh.keys())\n",
    "\n",
    "ia_bams = {}\n",
    "ps_bams = {}\n",
    "\n",
    "for model in models:\n",
    "  with open(args.workdir/model/'imminent_adm_preds.pkl', 'rb') as f:\n",
    "    targs = pickle.load(f)\n",
    "    preds = pickle.load(f)\n",
    "    probs = pickle.load(f)\n",
    "  ia_bams[model] = BinaryAvgMetrics(targs, preds, probs)\n",
    "    \n",
    "  with open(args.workdir/model/'prolonged_stay_preds.pkl', 'rb') as f:\n",
    "    targs = pickle.load(f)\n",
    "    preds = pickle.load(f)\n",
    "    probs = pickle.load(f)    \n",
    "  ps_bams[model] = BinaryAvgMetrics(targs, preds, probs)    \n",
    "\n",
    "ia_metrics = {}\n",
    "ps_metrics = {}\n",
    "\n",
    "for key in ia_bams.keys():\n",
    "  ia_metrics[key] = []\n",
    "  ps_metrics[key] = []\n",
    "  for i in range(len(ia_bams[key].get_avg_metrics())):\n",
    "    ia_metrics[key].append(ia_bams[key].get_avg_metrics().iloc[i]['Value'])\n",
    "  for i in range(len(ps_bams[key].get_avg_metrics())):\n",
    "    ps_metrics[key].append(ps_bams[key].get_avg_metrics().iloc[i]['Value'])    \n",
    "\n",
    "ia_metrics = pd.DataFrame(ia_metrics, index=['sensitivity', 'specificity', 'ppv', 'auroc', 'npv', 'f1'])\n",
    "ps_metrics = pd.DataFrame(ps_metrics, index=['sensitivity', 'specificity', 'ppv', 'auroc', 'npv', 'f1'])"
   ]
  },
  {
   "cell_type": "code",
   "execution_count": 4,
   "metadata": {
    "ExecuteTime": {
     "end_time": "2019-07-08T12:23:09.782504Z",
     "start_time": "2019-07-08T12:23:09.752225Z"
    }
   },
   "outputs": [],
   "source": [
    "metrics = ia_bams['cnn']"
   ]
  },
  {
   "cell_type": "code",
   "execution_count": 10,
   "metadata": {
    "ExecuteTime": {
     "end_time": "2019-07-08T12:24:46.997030Z",
     "start_time": "2019-07-08T12:24:46.971102Z"
    }
   },
   "outputs": [
    {
     "data": {
      "text/plain": [
       "0.391"
      ]
     },
     "execution_count": 10,
     "metadata": {},
     "output_type": "execute_result"
    }
   ],
   "source": [
    "metrics.f1_avg()"
   ]
  },
  {
   "cell_type": "code",
   "execution_count": 13,
   "metadata": {
    "ExecuteTime": {
     "end_time": "2019-07-08T11:14:50.916835Z",
     "start_time": "2019-07-08T11:14:50.719187Z"
    }
   },
   "outputs": [
    {
     "data": {
      "text/html": [
       "<div>\n",
       "<style scoped>\n",
       "    .dataframe tbody tr th:only-of-type {\n",
       "        vertical-align: middle;\n",
       "    }\n",
       "\n",
       "    .dataframe tbody tr th {\n",
       "        vertical-align: top;\n",
       "    }\n",
       "\n",
       "    .dataframe thead th {\n",
       "        text-align: right;\n",
       "    }\n",
       "</style>\n",
       "<table border=\"1\" class=\"dataframe\">\n",
       "  <thead>\n",
       "    <tr style=\"text-align: right;\">\n",
       "      <th></th>\n",
       "      <th>Lower</th>\n",
       "      <th>Mean</th>\n",
       "      <th>Upper</th>\n",
       "    </tr>\n",
       "  </thead>\n",
       "  <tbody>\n",
       "    <tr>\n",
       "      <th>sensitivity</th>\n",
       "      <td>78.1</td>\n",
       "      <td>78.2</td>\n",
       "      <td>78.4</td>\n",
       "    </tr>\n",
       "    <tr>\n",
       "      <th>specificity</th>\n",
       "      <td>68.2</td>\n",
       "      <td>68.4</td>\n",
       "      <td>68.6</td>\n",
       "    </tr>\n",
       "    <tr>\n",
       "      <th>ppv</th>\n",
       "      <td>43.7</td>\n",
       "      <td>43.8</td>\n",
       "      <td>44.0</td>\n",
       "    </tr>\n",
       "    <tr>\n",
       "      <th>auroc</th>\n",
       "      <td>80.7</td>\n",
       "      <td>80.8</td>\n",
       "      <td>80.9</td>\n",
       "    </tr>\n",
       "    <tr>\n",
       "      <th>npv</th>\n",
       "      <td>90.7</td>\n",
       "      <td>90.8</td>\n",
       "      <td>90.9</td>\n",
       "    </tr>\n",
       "    <tr>\n",
       "      <th>f1</th>\n",
       "      <td>56.1</td>\n",
       "      <td>56.2</td>\n",
       "      <td>56.3</td>\n",
       "    </tr>\n",
       "  </tbody>\n",
       "</table>\n",
       "</div>"
      ],
      "text/plain": [
       "             Lower  Mean  Upper\n",
       "sensitivity  78.1   78.2  78.4 \n",
       "specificity  68.2   68.4  68.6 \n",
       "ppv          43.7   43.8  44.0 \n",
       "auroc        80.7   80.8  80.9 \n",
       "npv          90.7   90.8  90.9 \n",
       "f1           56.1   56.2  56.3 "
      ]
     },
     "execution_count": 13,
     "metadata": {},
     "output_type": "execute_result"
    }
   ],
   "source": [
    "model = 'gbm'\n",
    "ia_bams[model].get_avg_metrics(conf=0.5)"
   ]
  },
  {
   "cell_type": "code",
   "execution_count": 21,
   "metadata": {
    "ExecuteTime": {
     "end_time": "2019-07-08T11:18:36.417796Z",
     "start_time": "2019-07-08T11:18:35.931979Z"
    }
   },
   "outputs": [
    {
     "data": {
      "text/html": [
       "<div>\n",
       "<style scoped>\n",
       "    .dataframe tbody tr th:only-of-type {\n",
       "        vertical-align: middle;\n",
       "    }\n",
       "\n",
       "    .dataframe tbody tr th {\n",
       "        vertical-align: top;\n",
       "    }\n",
       "\n",
       "    .dataframe thead th {\n",
       "        text-align: right;\n",
       "    }\n",
       "</style>\n",
       "<table border=\"1\" class=\"dataframe\">\n",
       "  <thead>\n",
       "    <tr style=\"text-align: right;\">\n",
       "      <th></th>\n",
       "      <th>Lower</th>\n",
       "      <th>Mean</th>\n",
       "      <th>Upper</th>\n",
       "    </tr>\n",
       "  </thead>\n",
       "  <tbody>\n",
       "    <tr>\n",
       "      <th>sensitivity</th>\n",
       "      <td>63.1</td>\n",
       "      <td>63.3</td>\n",
       "      <td>63.5</td>\n",
       "    </tr>\n",
       "    <tr>\n",
       "      <th>specificity</th>\n",
       "      <td>47.1</td>\n",
       "      <td>47.3</td>\n",
       "      <td>47.4</td>\n",
       "    </tr>\n",
       "    <tr>\n",
       "      <th>ppv</th>\n",
       "      <td>40.4</td>\n",
       "      <td>40.6</td>\n",
       "      <td>40.9</td>\n",
       "    </tr>\n",
       "    <tr>\n",
       "      <th>auroc</th>\n",
       "      <td>57.0</td>\n",
       "      <td>57.1</td>\n",
       "      <td>57.3</td>\n",
       "    </tr>\n",
       "    <tr>\n",
       "      <th>npv</th>\n",
       "      <td>69.0</td>\n",
       "      <td>69.3</td>\n",
       "      <td>69.5</td>\n",
       "    </tr>\n",
       "    <tr>\n",
       "      <th>f1</th>\n",
       "      <td>49.2</td>\n",
       "      <td>49.4</td>\n",
       "      <td>49.6</td>\n",
       "    </tr>\n",
       "  </tbody>\n",
       "</table>\n",
       "</div>"
      ],
      "text/plain": [
       "             Lower  Mean  Upper\n",
       "sensitivity  63.1   63.3  63.5 \n",
       "specificity  47.1   47.3  47.4 \n",
       "ppv          40.4   40.6  40.9 \n",
       "auroc        57.0   57.1  57.3 \n",
       "npv          69.0   69.3  69.5 \n",
       "f1           49.2   49.4  49.6 "
      ]
     },
     "execution_count": 21,
     "metadata": {},
     "output_type": "execute_result"
    }
   ],
   "source": [
    "model = 'gbm'\n",
    "ps_bams[model].get_avg_metrics(conf=0.5)"
   ]
  },
  {
   "cell_type": "code",
   "execution_count": null,
   "metadata": {
    "ExecuteTime": {
     "end_time": "2019-07-01T01:54:53.267545Z",
     "start_time": "2019-07-01T01:54:48.928153Z"
    }
   },
   "outputs": [],
   "source": [
    "fig, ax = plt.subplots(2, 3, figsize=(15, 10))\n",
    "plot_mean_roc(ax[0][0], imminent_bams['lr'].targs, imminent_bams['lr'].probs)\n",
    "plot_mean_roc(ax[0][1], imminent_bams['rf'].targs, imminent_bams['rf'].probs)\n",
    "plot_mean_roc(ax[0][2], imminent_bams['gbm'].targs, imminent_bams['gbm'].probs)\n",
    "\n",
    "plot_mean_roc(ax[1][0], discharge_bams['lr'].targs, discharge_bams['lr'].probs)\n",
    "plot_mean_roc(ax[1][1], discharge_bams['rf'].targs, discharge_bams['rf'].probs)\n",
    "plot_mean_roc(ax[1][2], discharge_bams['gbm'].targs, discharge_bams['gbm'].probs)\n",
    "\n",
    "fig.text(0.5, 0.08, 'False Positive Rate', ha='center')\n",
    "fig.text(0.08, 0.5, 'True Positive Rate', va='center', rotation='vertical')\n",
    "\n",
    "# plt.subplots_adjust(hspace = 0.2)"
   ]
  },
  {
   "cell_type": "code",
   "execution_count": null,
   "metadata": {
    "ExecuteTime": {
     "end_time": "2019-07-01T01:54:53.291744Z",
     "start_time": "2019-07-01T01:54:53.268697Z"
    }
   },
   "outputs": [],
   "source": [
    "# fig.savefig(args.figdir/f'{model}_mean_roc.tif', dpi=300)"
   ]
  },
  {
   "cell_type": "markdown",
   "metadata": {},
   "source": [
    "## Probability Plots"
   ]
  },
  {
   "cell_type": "code",
   "execution_count": null,
   "metadata": {
    "ExecuteTime": {
     "end_time": "2019-07-01T01:54:55.010427Z",
     "start_time": "2019-07-01T01:54:53.292803Z"
    }
   },
   "outputs": [],
   "source": [
    "df = pd.read_csv(args.proc_csv, usecols=args.cols, parse_dates=args.dates)\n",
    "df['relative_charttime'] = (df['charttime'] - df['intime'])\n",
    "\n",
    "imminent_df = df.loc[(df['imminent_label'] != -1)][['scispacy_note', 'imminent_label', 'relative_charttime']].reset_index()\n",
    "discharge_df = df[['scispacy_note', 'discharge_label', 'relative_charttime']].reset_index()"
   ]
  },
  {
   "cell_type": "code",
   "execution_count": null,
   "metadata": {
    "ExecuteTime": {
     "end_time": "2019-07-01T01:54:55.035281Z",
     "start_time": "2019-07-01T01:54:55.012234Z"
    }
   },
   "outputs": [],
   "source": [
    "interval_hours=12\n",
    "starting_day = -20\n",
    "ending_day = -1"
   ]
  },
  {
   "cell_type": "markdown",
   "metadata": {},
   "source": [
    "### Imminent ICU Admission"
   ]
  },
  {
   "cell_type": "code",
   "execution_count": null,
   "metadata": {
    "ExecuteTime": {
     "end_time": "2019-07-01T01:55:15.640755Z",
     "start_time": "2019-07-01T01:54:55.036623Z"
    }
   },
   "outputs": [],
   "source": [
    "model = 'lr'\n",
    "with open(args.workdir/model/'imminent_model.pkl', 'rb') as f:\n",
    "  clf = pickle.load(f)\n",
    "  vocabulary = pickle.load(f)\n",
    "  \n",
    "vectorizer = TfidfVectorizer(min_df=3, analyzer=str.split, sublinear_tf=True, ngram_range=(2,2), vocabulary=vocabulary)\n",
    "imminent_df[f'{model}_prob'] = clf.predict_proba(vectorizer.fit_transform(imminent_df['scispacy_note']))[:, 1]\n",
    "\n",
    "model = 'rf'\n",
    "with open(args.workdir/model/'imminent_model.pkl', 'rb') as f:\n",
    "  clf = pickle.load(f)\n",
    "  vocabulary = pickle.load(f)\n",
    "  \n",
    "vectorizer = TfidfVectorizer(min_df=3, analyzer=str.split, sublinear_tf=True, ngram_range=(2,2), vocabulary=vocabulary)\n",
    "imminent_df[f'{model}_prob'] = clf.predict_proba(vectorizer.fit_transform(imminent_df['scispacy_note']))[:, 1]\n",
    "\n",
    "model = 'gbm'\n",
    "with open(args.workdir/model/'imminent_model.pkl', 'rb') as f:\n",
    "  clf = pickle.load(f)\n",
    "  vocabulary = pickle.load(f)\n",
    "  \n",
    "vectorizer = TfidfVectorizer(min_df=3, analyzer=str.split, sublinear_tf=True, ngram_range=(2,2), vocabulary=vocabulary)\n",
    "imminent_df[f'{model}_prob'] = clf.predict_proba(vectorizer.fit_transform(imminent_df['scispacy_note']))[:, 1]"
   ]
  },
  {
   "cell_type": "code",
   "execution_count": null,
   "metadata": {
    "ExecuteTime": {
     "end_time": "2019-07-01T01:55:50.867495Z",
     "start_time": "2019-07-01T01:55:15.642776Z"
    }
   },
   "outputs": [],
   "source": [
    "fig, ax = plt.subplots(3, 1, figsize=(10, 15))\n",
    "plot_prob(ax[0], imminent_df, 'lr', args.imminent_threshold['lr'], starting_day, ending_day, interval_hours)\n",
    "plot_prob(ax[1], imminent_df, 'rf', args.imminent_threshold['rf'], starting_day, ending_day, interval_hours)\n",
    "plot_prob(ax[2], imminent_df, 'gbm', args.imminent_threshold['gbm'], starting_day, ending_day, interval_hours)\n",
    "\n",
    "fig.text(0.5, 0.08, 'Time to ICU (days)', ha='center')\n",
    "fig.text(0.08, 0.5, 'Probability', va='center', rotation='vertical')"
   ]
  },
  {
   "cell_type": "markdown",
   "metadata": {},
   "source": [
    "### ICU Discharge"
   ]
  },
  {
   "cell_type": "code",
   "execution_count": null,
   "metadata": {
    "ExecuteTime": {
     "end_time": "2019-07-01T01:56:21.738416Z",
     "start_time": "2019-07-01T01:55:50.869056Z"
    }
   },
   "outputs": [],
   "source": [
    "model = 'lr'\n",
    "with open(args.workdir/model/'discharge_model.pkl', 'rb') as f:\n",
    "  clf = pickle.load(f)\n",
    "  vocabulary = pickle.load(f)\n",
    "\n",
    "vectorizer = TfidfVectorizer(min_df=3, analyzer=str.split, sublinear_tf=True, ngram_range=(2,2), vocabulary=vocabulary)\n",
    "discharge_df[f'{model}_prob'] = clf.predict_proba(vectorizer.fit_transform(discharge_df['scispacy_note']))[:, 1]\n",
    "\n",
    "model = 'rf'\n",
    "with open(args.workdir/model/'discharge_model.pkl', 'rb') as f:\n",
    "  clf = pickle.load(f)\n",
    "  vocabulary = pickle.load(f)\n",
    "  \n",
    "vectorizer = TfidfVectorizer(min_df=3, analyzer=str.split, sublinear_tf=True, ngram_range=(2,2), vocabulary=vocabulary)\n",
    "discharge_df[f'{model}_prob'] = clf.predict_proba(vectorizer.fit_transform(discharge_df['scispacy_note']))[:, 1]\n",
    "\n",
    "model = 'gbm'\n",
    "with open(args.workdir/model/'discharge_model.pkl', 'rb') as f:\n",
    "  clf = pickle.load(f)\n",
    "  vocabulary = pickle.load(f)\n",
    "  \n",
    "vectorizer = TfidfVectorizer(min_df=3, analyzer=str.split, sublinear_tf=True, ngram_range=(2,2), vocabulary=vocabulary)\n",
    "discharge_df[f'{model}_prob'] = clf.predict_proba(vectorizer.fit_transform(discharge_df['scispacy_note']))[:, 1]"
   ]
  },
  {
   "cell_type": "code",
   "execution_count": null,
   "metadata": {
    "ExecuteTime": {
     "end_time": "2019-07-01T01:57:19.994295Z",
     "start_time": "2019-07-01T01:56:21.740249Z"
    }
   },
   "outputs": [],
   "source": [
    "fig, ax = plt.subplots(3, 1, figsize=(10, 15))\n",
    "plot_prob(ax[0], discharge_df, 'lr', args.discharge_threshold['lr'], starting_day, ending_day, interval_hours)\n",
    "plot_prob(ax[1], discharge_df, 'rf', args.discharge_threshold['rf'], starting_day, ending_day, interval_hours)\n",
    "plot_prob(ax[2], discharge_df, 'gbm', args.discharge_threshold['gbm'], starting_day, ending_day, interval_hours)\n",
    "\n",
    "fig.text(0.5, 0.08, 'Time to ICU (days)', ha='center')\n",
    "fig.text(0.08, 0.5, 'Probability', va='center', rotation='vertical')"
   ]
  },
  {
   "cell_type": "markdown",
   "metadata": {},
   "source": [
    "## Word Clouds"
   ]
  },
  {
   "cell_type": "markdown",
   "metadata": {},
   "source": [
    "### Imminent ICU Admission"
   ]
  },
  {
   "cell_type": "code",
   "execution_count": null,
   "metadata": {
    "ExecuteTime": {
     "end_time": "2019-07-01T01:57:20.879120Z",
     "start_time": "2019-07-01T01:57:19.995624Z"
    }
   },
   "outputs": [],
   "source": [
    "scores = {}\n",
    "feature_names = {}\n",
    "\n",
    "model = 'lr'\n",
    "with open(args.workdir/model/'imminent_model.pkl', 'rb') as f:\n",
    "  clf = pickle.load(f)\n",
    "  vocabulary = pickle.load(f)\n",
    "\n",
    "feature_names[model] = TfidfVectorizer(min_df=3, analyzer=str.split, sublinear_tf=True, ngram_range=(2,2), vocabulary=vocabulary).get_feature_names()\n",
    "scores[model] = clf.coef_[0]/clf.coef_[0].sum()\n",
    "\n",
    "model = 'rf'\n",
    "with open(args.workdir/model/'imminent_model.pkl', 'rb') as f:\n",
    "  clf = pickle.load(f)\n",
    "  vocabulary = pickle.load(f)\n",
    "\n",
    "feature_names[model] = TfidfVectorizer(min_df=3, analyzer=str.split, sublinear_tf=True, ngram_range=(2,2), vocabulary=vocabulary).get_feature_names()\n",
    "scores[model] = clf.feature_importances_/clf.feature_importances_.sum()\n",
    "\n",
    "model = 'gbm'\n",
    "with open(args.workdir/model/'imminent_model.pkl', 'rb') as f:\n",
    "  clf = pickle.load(f)\n",
    "  vocabulary = pickle.load(f)\n",
    "\n",
    "feature_names[model] = TfidfVectorizer(min_df=3, analyzer=str.split, sublinear_tf=True, ngram_range=(2,2), vocabulary=vocabulary).get_feature_names()\n",
    "scores[model] = clf.feature_importances_/clf.feature_importances_.sum()"
   ]
  },
  {
   "cell_type": "code",
   "execution_count": null,
   "metadata": {
    "ExecuteTime": {
     "end_time": "2019-07-01T01:57:21.398108Z",
     "start_time": "2019-07-01T01:57:20.880592Z"
    }
   },
   "outputs": [],
   "source": [
    "model = 'gbm'\n",
    "fig, ax = plt.subplots(1, 2, figsize=(15, 10))\n",
    "neg, pos = get_wordcloud(feature_names[model], scores[model], n_words=25)\n",
    "ax[0].imshow(neg)\n",
    "ax[0].axis('off')\n",
    "ax[1].imshow(pos)\n",
    "ax[1].axis('off')"
   ]
  },
  {
   "cell_type": "markdown",
   "metadata": {},
   "source": [
    "### ICU Discharge"
   ]
  },
  {
   "cell_type": "code",
   "execution_count": null,
   "metadata": {
    "ExecuteTime": {
     "end_time": "2019-07-01T01:57:22.248780Z",
     "start_time": "2019-07-01T01:57:21.399413Z"
    }
   },
   "outputs": [],
   "source": [
    "scores = {}\n",
    "feature_names = {}\n",
    "\n",
    "model = 'lr'\n",
    "with open(args.workdir/model/'discharge_model.pkl', 'rb') as f:\n",
    "  clf = pickle.load(f)\n",
    "  vocabulary = pickle.load(f)\n",
    "\n",
    "feature_names[model] = TfidfVectorizer(min_df=3, analyzer=str.split, sublinear_tf=True, ngram_range=(2,2), vocabulary=vocabulary).get_feature_names()\n",
    "scores[model] = clf.coef_[0]/clf.coef_[0].sum()\n",
    "\n",
    "model = 'rf'\n",
    "with open(args.workdir/model/'discharge_model.pkl', 'rb') as f:\n",
    "  clf = pickle.load(f)\n",
    "  vocabulary = pickle.load(f)\n",
    "\n",
    "feature_names[model] = TfidfVectorizer(min_df=3, analyzer=str.split, sublinear_tf=True, ngram_range=(2,2), vocabulary=vocabulary).get_feature_names()\n",
    "scores[model] = clf.feature_importances_/clf.feature_importances_.sum()\n",
    "\n",
    "model = 'gbm'\n",
    "with open(args.workdir/model/'discharge_model.pkl', 'rb') as f:\n",
    "  clf = pickle.load(f)\n",
    "  vocabulary = pickle.load(f)\n",
    "\n",
    "feature_names[model] = TfidfVectorizer(min_df=3, analyzer=str.split, sublinear_tf=True, ngram_range=(2,2), vocabulary=vocabulary).get_feature_names()\n",
    "scores[model] = clf.feature_importances_/clf.feature_importances_.sum()"
   ]
  },
  {
   "cell_type": "code",
   "execution_count": null,
   "metadata": {
    "ExecuteTime": {
     "end_time": "2019-07-01T01:57:22.860223Z",
     "start_time": "2019-07-01T01:57:22.250338Z"
    }
   },
   "outputs": [],
   "source": [
    "model = 'gbm'\n",
    "fig, ax = plt.subplots(1, 2, figsize=(15, 12))\n",
    "neg, pos = get_wordcloud(feature_names[model], scores[model], n_words=50)\n",
    "ax[0].imshow(neg)\n",
    "ax[0].axis('off')\n",
    "ax[1].imshow(pos)\n",
    "ax[1].axis('off')"
   ]
  },
  {
   "cell_type": "code",
   "execution_count": null,
   "metadata": {
    "ExecuteTime": {
     "end_time": "2019-07-01T01:57:22.885298Z",
     "start_time": "2019-07-01T01:57:22.861363Z"
    }
   },
   "outputs": [],
   "source": [
    "# fig.savefig(args.figdir/f'prob.tif', dpi=300)"
   ]
  }
 ],
 "metadata": {
  "kernelspec": {
   "display_name": "Python 3",
   "language": "python",
   "name": "python3"
  },
  "language_info": {
   "codemirror_mode": {
    "name": "ipython",
    "version": 3
   },
   "file_extension": ".py",
   "mimetype": "text/x-python",
   "name": "python",
   "nbconvert_exporter": "python",
   "pygments_lexer": "ipython3",
   "version": "3.7.3"
  },
  "toc": {
   "base_numbering": 1,
   "nav_menu": {},
   "number_sections": true,
   "sideBar": true,
   "skip_h1_title": true,
   "title_cell": "Table of Contents",
   "title_sidebar": "Contents",
   "toc_cell": false,
   "toc_position": {
    "height": "calc(100% - 180px)",
    "left": "10px",
    "top": "150px",
    "width": "165px"
   },
   "toc_section_display": true,
   "toc_window_display": false
  }
 },
 "nbformat": 4,
 "nbformat_minor": 2
}
