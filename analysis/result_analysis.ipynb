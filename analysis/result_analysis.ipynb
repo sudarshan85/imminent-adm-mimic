{
 "cells": [
  {
   "cell_type": "markdown",
   "metadata": {},
   "source": [
    "# Dataset Preparation for First ICU Prediction"
   ]
  },
  {
   "cell_type": "markdown",
   "metadata": {},
   "source": [
    "## Imports & Inits"
   ]
  },
  {
   "cell_type": "code",
   "execution_count": 1,
   "metadata": {
    "ExecuteTime": {
     "end_time": "2019-06-10T16:28:22.914000Z",
     "start_time": "2019-06-10T16:28:22.902539Z"
    }
   },
   "outputs": [],
   "source": [
    "%load_ext autoreload\n",
    "%autoreload 2"
   ]
  },
  {
   "cell_type": "code",
   "execution_count": 2,
   "metadata": {
    "ExecuteTime": {
     "end_time": "2019-06-10T16:28:24.410679Z",
     "start_time": "2019-06-10T16:28:22.915287Z"
    }
   },
   "outputs": [],
   "source": [
    "import sys\n",
    "sys.path.append('../')\n",
    "\n",
    "import matplotlib.pyplot as plt\n",
    "import seaborn as sns\n",
    "sns.set_style(\"darkgrid\")\n",
    "%matplotlib inline\n",
    "\n",
    "import numpy as np\n",
    "np.set_printoptions(precision=2)\n",
    "\n",
    "import pandas as pd\n",
    "import pickle\n",
    "from pathlib import Path\n",
    "import torch\n",
    "\n",
    "from sklearn.feature_extraction.text import TfidfVectorizer\n",
    "from torch.utils.data import DataLoader\n",
    "\n",
    "from cnn.cnn_classifier.dataset import NoteDataset\n",
    "from cnn.cnn_classifier.model import NoteClassifier\n",
    "from cnn.args import args as cnn_args\n",
    "\n",
    "from utils.embeddings import PretrainedEmbeddings\n",
    "from utils.metrics import BinaryAvgMetrics\n",
    "from utils.plots import *\n",
    "from args import args"
   ]
  },
  {
   "cell_type": "markdown",
   "metadata": {
    "heading_collapsed": true
   },
   "source": [
    "## 100 Run Performance Results"
   ]
  },
  {
   "cell_type": "code",
   "execution_count": null,
   "metadata": {
    "ExecuteTime": {
     "end_time": "2019-06-10T10:06:18.355866Z",
     "start_time": "2019-06-10T10:06:11.868939Z"
    },
    "hidden": true
   },
   "outputs": [],
   "source": [
    "models = list(args.bc_threshold.keys())\n",
    "\n",
    "bams = {}\n",
    "\n",
    "for model in models:\n",
    "  with open(args.workdir/model/'preds.pkl', 'rb') as f:\n",
    "    targs = pickle.load(f)\n",
    "    preds = pickle.load(f)\n",
    "    probs = pickle.load(f)\n",
    "    \n",
    "  bams[model] = BinaryAvgMetrics(targs, preds, probs)\n",
    "\n",
    "all_metrics = {}\n",
    "\n",
    "for key in bams.keys():\n",
    "  all_metrics[key] = []\n",
    "  for i in range(len(bams[key].get_avg_metrics())):\n",
    "    all_metrics[key].append(bams[key].get_avg_metrics().iloc[i]['Value'])\n",
    "\n",
    "metrics = pd.DataFrame(all_metrics, index=['sensitivity', 'specificity', 'ppv', 'auroc', 'npv', 'f1'])\n",
    "metrics"
   ]
  },
  {
   "cell_type": "markdown",
   "metadata": {
    "hidden": true
   },
   "source": [
    "### Model Plots"
   ]
  },
  {
   "cell_type": "code",
   "execution_count": null,
   "metadata": {
    "ExecuteTime": {
     "end_time": "2019-06-10T09:57:39.543214Z",
     "start_time": "2019-06-10T09:57:39.070941Z"
    },
    "hidden": true
   },
   "outputs": [],
   "source": [
    "model = 'cnn'\n",
    "bams[model].get_avg_metrics()"
   ]
  },
  {
   "cell_type": "code",
   "execution_count": null,
   "metadata": {
    "ExecuteTime": {
     "end_time": "2019-06-10T09:57:40.784274Z",
     "start_time": "2019-06-10T09:57:39.545075Z"
    },
    "hidden": true
   },
   "outputs": [],
   "source": [
    "fig, ax = plt.subplots(1, 1, figsize=(10, 8))\n",
    "plot_mean_roc(ax, bams[model].targs, bams[model].probs)"
   ]
  },
  {
   "cell_type": "code",
   "execution_count": null,
   "metadata": {
    "ExecuteTime": {
     "end_time": "2019-06-10T09:57:41.239547Z",
     "start_time": "2019-06-10T09:57:40.787350Z"
    },
    "hidden": true
   },
   "outputs": [],
   "source": [
    "fig, ax = plt.subplots(1, 2, figsize=(15, 6))\n",
    "\n",
    "plot_confusion_matrix(ax[0], bams[model].cm_avg, classes=['not imminent', 'imminent'], normalize=False,\\\n",
    "                      title='Confusion Matrix Over Runs')\n",
    "plot_confusion_matrix(ax[1], bams[model].cm_avg, classes=['not imminent', 'imminent'], normalize=True,\\\n",
    "                      title='Normalized Confusion Matrix Over Runs')\n",
    "plt.show()"
   ]
  },
  {
   "cell_type": "markdown",
   "metadata": {},
   "source": [
    "## Temporal Performance Analysis"
   ]
  },
  {
   "cell_type": "code",
   "execution_count": 3,
   "metadata": {
    "ExecuteTime": {
     "end_time": "2019-06-10T16:28:29.399371Z",
     "start_time": "2019-06-10T16:28:25.817878Z"
    }
   },
   "outputs": [
    {
     "name": "stdout",
     "output_type": "stream",
     "text": [
      "(75273, 22)\n",
      "Index(['subject_id', 'hadm_id', 'icustay_id', 'admission_type', 'admittime',\n",
      "       'dischtime', 'intime', 'charttime', 'adm_icu_period',\n",
      "       'chart_icu_period', 'chartinterval', 'ethnicity', 'dob', 'gender',\n",
      "       'admission_age', 'category', 'description', 'text', 'class_label',\n",
      "       'note', 'scispacy_note', 'relative_charttime'],\n",
      "      dtype='object')\n"
     ]
    }
   ],
   "source": [
    "df = pd.read_csv(args.dataset_csv, parse_dates=['admittime', 'dischtime', 'intime', 'charttime'])\n",
    "df['relative_charttime'] = (df['charttime'] - df['intime'])\n",
    "print(df.shape)\n",
    "print(df.columns)"
   ]
  },
  {
   "cell_type": "code",
   "execution_count": 4,
   "metadata": {
    "ExecuteTime": {
     "end_time": "2019-06-10T16:28:29.432207Z",
     "start_time": "2019-06-10T16:28:29.401766Z"
    }
   },
   "outputs": [],
   "source": [
    "interval=12\n",
    "cutoff=20"
   ]
  },
  {
   "cell_type": "markdown",
   "metadata": {
    "heading_collapsed": true
   },
   "source": [
    "### Logistic Regression"
   ]
  },
  {
   "cell_type": "code",
   "execution_count": null,
   "metadata": {
    "ExecuteTime": {
     "end_time": "2019-06-10T10:37:38.516161Z",
     "start_time": "2019-06-10T10:37:29.129798Z"
    },
    "hidden": true
   },
   "outputs": [],
   "source": [
    "model = 'lr'\n",
    "\n",
    "with open(args.workdir/model/'all_data_model.pkl', 'rb') as f:\n",
    "  clf = pickle.load(f)\n",
    "  vocabulary = pickle.load(f)\n",
    "  \n",
    "vectorizer = TfidfVectorizer(min_df=3, analyzer=str.split, sublinear_tf=True,\\\n",
    "                              ngram_range=(2,2), vocabulary=vocabulary)  \n",
    "\n",
    "df['prob'] = clf.predict_proba(vectorizer.fit_transform(df['scispacy_note']))[:, 1]"
   ]
  },
  {
   "cell_type": "code",
   "execution_count": null,
   "metadata": {
    "ExecuteTime": {
     "end_time": "2019-06-10T10:38:04.217478Z",
     "start_time": "2019-06-10T10:37:38.518513Z"
    },
    "hidden": true
   },
   "outputs": [],
   "source": [
    "fig, ax = plt.subplots(figsize=(15, 8))\n",
    "plot_prob(ax, df, args.bc_threshold[model], cutoff=cutoff, interval=interval, granularity=2)"
   ]
  },
  {
   "cell_type": "markdown",
   "metadata": {
    "heading_collapsed": true
   },
   "source": [
    "### Random Forest"
   ]
  },
  {
   "cell_type": "code",
   "execution_count": null,
   "metadata": {
    "ExecuteTime": {
     "end_time": "2019-06-10T10:38:14.504997Z",
     "start_time": "2019-06-10T10:38:04.219146Z"
    },
    "hidden": true
   },
   "outputs": [],
   "source": [
    "model = 'rf'\n",
    "\n",
    "with open(args.workdir/model/'all_data_model.pkl', 'rb') as f:\n",
    "  clf = pickle.load(f)\n",
    "  vocabulary = pickle.load(f)\n",
    "  \n",
    "vectorizer = TfidfVectorizer(min_df=3, analyzer=str.split, sublinear_tf=True,\\\n",
    "                              ngram_range=(2,2), vocabulary=vocabulary)  \n",
    "\n",
    "df['prob'] = clf.predict_proba(vectorizer.fit_transform(df['scispacy_note']))[:, 1]"
   ]
  },
  {
   "cell_type": "code",
   "execution_count": null,
   "metadata": {
    "ExecuteTime": {
     "end_time": "2019-06-10T10:42:53.117024Z",
     "start_time": "2019-06-10T10:42:27.640166Z"
    },
    "hidden": true
   },
   "outputs": [],
   "source": [
    "fig, ax = plt.subplots(figsize=(15, 8))\n",
    "plot_prob(ax, df, args.bc_threshold[model], cutoff=cutoff, interval=interval, granularity=2)"
   ]
  },
  {
   "cell_type": "markdown",
   "metadata": {},
   "source": [
    "## CNN"
   ]
  },
  {
   "cell_type": "code",
   "execution_count": 11,
   "metadata": {
    "ExecuteTime": {
     "end_time": "2019-06-10T16:30:26.272552Z",
     "start_time": "2019-06-10T16:30:26.100157Z"
    }
   },
   "outputs": [],
   "source": [
    "from tqdm import tqdm_notebook as tqdm"
   ]
  },
  {
   "cell_type": "code",
   "execution_count": 5,
   "metadata": {
    "ExecuteTime": {
     "end_time": "2019-06-10T16:28:47.268019Z",
     "start_time": "2019-06-10T16:28:47.245878Z"
    }
   },
   "outputs": [],
   "source": [
    "model = 'cnn'\n",
    "bs = 256"
   ]
  },
  {
   "cell_type": "code",
   "execution_count": 6,
   "metadata": {
    "ExecuteTime": {
     "end_time": "2019-06-10T16:28:47.304724Z",
     "start_time": "2019-06-10T16:28:47.269296Z"
    }
   },
   "outputs": [],
   "source": [
    "with open(args.workdir/model/'full_data_model.pkl', 'rb') as f:\n",
    "  state_dict = pickle.load(f)"
   ]
  },
  {
   "cell_type": "code",
   "execution_count": 7,
   "metadata": {
    "ExecuteTime": {
     "end_time": "2019-06-10T16:28:48.568889Z",
     "start_time": "2019-06-10T16:28:47.306010Z"
    }
   },
   "outputs": [],
   "source": [
    "ds = NoteDataset.load_data_and_vectorizer_from_file(df, cnn_args.workdir)\n",
    "dl = DataLoader(ds, bs)\n",
    "itr = iter(dl)"
   ]
  },
  {
   "cell_type": "code",
   "execution_count": 8,
   "metadata": {
    "ExecuteTime": {
     "end_time": "2019-06-10T16:28:56.526407Z",
     "start_time": "2019-06-10T16:28:48.570166Z"
    }
   },
   "outputs": [],
   "source": [
    "pe = PretrainedEmbeddings.from_file(cnn_args.emb_path)\n",
    "pe.make_custom_embeddings(ds.vectorizer.vocab.idx_token_bidict.values())"
   ]
  },
  {
   "cell_type": "code",
   "execution_count": 9,
   "metadata": {
    "ExecuteTime": {
     "end_time": "2019-06-10T16:28:56.563971Z",
     "start_time": "2019-06-10T16:28:56.527834Z"
    }
   },
   "outputs": [],
   "source": [
    "classifier = NoteClassifier(cnn_args.emb_sz, len(ds.vectorizer.vocab), cnn_args.n_channels,\\\n",
    "                            cnn_args.hidden_dim, 1, dropout_p=cnn_args.dropout_p,\\\n",
    "                            emb_dropout=cnn_args.emb_dropout, pretrained=pe.custom_embeddings)\n",
    "\n",
    "classifier.load_state_dict(state_dict);"
   ]
  },
  {
   "cell_type": "code",
   "execution_count": 10,
   "metadata": {
    "ExecuteTime": {
     "end_time": "2019-06-10T16:29:02.650319Z",
     "start_time": "2019-06-10T16:28:58.605626Z"
    }
   },
   "outputs": [
    {
     "data": {
      "text/plain": [
       "(256,)"
      ]
     },
     "execution_count": 10,
     "metadata": {},
     "output_type": "execute_result"
    }
   ],
   "source": [
    "x,y = next(itr)\n",
    "pred = torch.sigmoid(classifier(x)).detach().numpy()\n",
    "pred.shape"
   ]
  }
 ],
 "metadata": {
  "kernelspec": {
   "display_name": "Python 3",
   "language": "python",
   "name": "python3"
  },
  "language_info": {
   "codemirror_mode": {
    "name": "ipython",
    "version": 3
   },
   "file_extension": ".py",
   "mimetype": "text/x-python",
   "name": "python",
   "nbconvert_exporter": "python",
   "pygments_lexer": "ipython3",
   "version": "3.7.3"
  },
  "toc": {
   "base_numbering": 1,
   "nav_menu": {},
   "number_sections": true,
   "sideBar": true,
   "skip_h1_title": true,
   "title_cell": "Table of Contents",
   "title_sidebar": "Contents",
   "toc_cell": false,
   "toc_position": {
    "height": "calc(100% - 180px)",
    "left": "10px",
    "top": "150px",
    "width": "165px"
   },
   "toc_section_display": true,
   "toc_window_display": false
  }
 },
 "nbformat": 4,
 "nbformat_minor": 2
}
