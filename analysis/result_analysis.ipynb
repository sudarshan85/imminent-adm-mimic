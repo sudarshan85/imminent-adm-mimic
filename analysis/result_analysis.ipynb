{
 "cells": [
  {
   "cell_type": "markdown",
   "metadata": {},
   "source": [
    "# Result Analysis"
   ]
  },
  {
   "cell_type": "markdown",
   "metadata": {},
   "source": [
    "## Imports & Inits"
   ]
  },
  {
   "cell_type": "code",
   "execution_count": 1,
   "metadata": {
    "ExecuteTime": {
     "end_time": "2019-06-18T15:48:52.102475Z",
     "start_time": "2019-06-18T15:48:52.084022Z"
    }
   },
   "outputs": [],
   "source": [
    "%load_ext autoreload\n",
    "%autoreload 2"
   ]
  },
  {
   "cell_type": "code",
   "execution_count": 2,
   "metadata": {
    "ExecuteTime": {
     "end_time": "2019-06-18T15:48:55.180786Z",
     "start_time": "2019-06-18T15:48:52.105195Z"
    }
   },
   "outputs": [],
   "source": [
    "import sys\n",
    "sys.path.append('../')\n",
    "\n",
    "import matplotlib.pyplot as plt\n",
    "import seaborn as sns\n",
    "sns.set_style(\"darkgrid\")\n",
    "%matplotlib inline\n",
    "\n",
    "import numpy as np\n",
    "np.set_printoptions(precision=2)\n",
    "\n",
    "import pandas as pd\n",
    "import pickle\n",
    "import torch\n",
    "from pathlib import Path\n",
    "from tqdm import tqdm_notebook as tqdm\n",
    "\n",
    "from sklearn.feature_extraction.text import TfidfVectorizer\n",
    "from torch.utils.data import DataLoader, TensorDataset, SequentialSampler\n",
    "\n",
    "from cnn.cnn_classifier.dataset import NoteDataset\n",
    "from cnn.cnn_classifier.model import NoteClassifier\n",
    "from cnn.args import args as cnn_args\n",
    "\n",
    "from pytorch_pretrained_bert.modeling import BertForSequenceClassification\n",
    "from pytorch_pretrained_bert.tokenization import BertTokenizer\n",
    "\n",
    "from bert.args import args as bert_args\n",
    "from bert.bert_classifier import *\n",
    "\n",
    "from utils.embeddings import PretrainedEmbeddings\n",
    "from utils.metrics import BinaryAvgMetrics\n",
    "from utils.plots import *\n",
    "from args import args"
   ]
  },
  {
   "cell_type": "markdown",
   "metadata": {
    "heading_collapsed": true
   },
   "source": [
    "## 100 Run Performance Results"
   ]
  },
  {
   "cell_type": "code",
   "execution_count": null,
   "metadata": {
    "ExecuteTime": {
     "end_time": "2019-06-17T18:22:35.874355Z",
     "start_time": "2019-06-17T18:22:27.384197Z"
    },
    "hidden": true
   },
   "outputs": [],
   "source": [
    "models = list(args.bc_threshold.keys())\n",
    "\n",
    "bams = {}\n",
    "\n",
    "for model in models:\n",
    "  with open(args.workdir/model/'preds.pkl', 'rb') as f:\n",
    "    targs = pickle.load(f)\n",
    "    preds = pickle.load(f)\n",
    "    probs = pickle.load(f)\n",
    "    \n",
    "  bams[model] = BinaryAvgMetrics(targs, preds, probs)\n",
    "\n",
    "all_metrics = {}\n",
    "\n",
    "for key in bams.keys():\n",
    "  all_metrics[key] = []\n",
    "  for i in range(len(bams[key].get_avg_metrics())):\n",
    "    all_metrics[key].append(bams[key].get_avg_metrics().iloc[i]['Value'])\n",
    "\n",
    "metrics = pd.DataFrame(all_metrics, index=['sensitivity', 'specificity', 'ppv', 'auroc', 'npv', 'f1'])\n",
    "metrics"
   ]
  },
  {
   "cell_type": "code",
   "execution_count": null,
   "metadata": {
    "ExecuteTime": {
     "end_time": "2019-06-17T18:24:49.190704Z",
     "start_time": "2019-06-17T18:24:49.138586Z"
    },
    "hidden": true
   },
   "outputs": [],
   "source": [
    "bams['cnn'].get_avg_metrics(conf=0.95)"
   ]
  },
  {
   "cell_type": "markdown",
   "metadata": {
    "hidden": true
   },
   "source": [
    "### Model Plots"
   ]
  },
  {
   "cell_type": "code",
   "execution_count": null,
   "metadata": {
    "ExecuteTime": {
     "end_time": "2019-06-17T18:40:14.438327Z",
     "start_time": "2019-06-17T18:40:14.060336Z"
    },
    "hidden": true
   },
   "outputs": [],
   "source": [
    "model = 'gbm'\n",
    "bams[model].get_avg_metrics()"
   ]
  },
  {
   "cell_type": "code",
   "execution_count": null,
   "metadata": {
    "ExecuteTime": {
     "end_time": "2019-06-17T18:40:15.189356Z",
     "start_time": "2019-06-17T18:40:14.439727Z"
    },
    "hidden": true
   },
   "outputs": [],
   "source": [
    "fig, ax = plt.subplots(1, 1, figsize=(10, 8))\n",
    "plot_mean_roc(ax, bams[model].targs, bams[model].probs)"
   ]
  },
  {
   "cell_type": "code",
   "execution_count": null,
   "metadata": {
    "ExecuteTime": {
     "end_time": "2019-06-17T18:41:31.269438Z",
     "start_time": "2019-06-17T18:41:31.245427Z"
    },
    "hidden": true
   },
   "outputs": [],
   "source": [
    "len(bams['gbm'].targs[0])"
   ]
  },
  {
   "cell_type": "code",
   "execution_count": null,
   "metadata": {
    "ExecuteTime": {
     "end_time": "2019-06-17T18:40:15.489856Z",
     "start_time": "2019-06-17T18:40:15.190870Z"
    },
    "hidden": true
   },
   "outputs": [],
   "source": [
    "fig, ax = plt.subplots(1, 2, figsize=(15, 6))\n",
    "\n",
    "plot_confusion_matrix(ax[0], bams[model].cm_avg, classes=['not imminent', 'imminent'], normalize=False,\\\n",
    "                      title='Confusion Matrix Over Runs')\n",
    "plot_confusion_matrix(ax[1], bams[model].cm_avg, classes=['not imminent', 'imminent'], normalize=True,\\\n",
    "                      title='Normalized Confusion Matrix Over Runs')\n",
    "plt.show()"
   ]
  },
  {
   "cell_type": "markdown",
   "metadata": {},
   "source": [
    "## Temporal Performance Analysis"
   ]
  },
  {
   "cell_type": "code",
   "execution_count": 3,
   "metadata": {
    "ExecuteTime": {
     "end_time": "2019-06-18T15:49:03.219382Z",
     "start_time": "2019-06-18T15:48:56.957453Z"
    }
   },
   "outputs": [
    {
     "name": "stdout",
     "output_type": "stream",
     "text": [
      "(75273, 22)\n",
      "Index(['subject_id', 'hadm_id', 'icustay_id', 'admission_type', 'admittime',\n",
      "       'dischtime', 'intime', 'charttime', 'adm_icu_period',\n",
      "       'chart_icu_period', 'chartinterval', 'ethnicity', 'dob', 'gender',\n",
      "       'admission_age', 'category', 'description', 'text', 'class_label',\n",
      "       'note', 'scispacy_note', 'relative_charttime'],\n",
      "      dtype='object')\n"
     ]
    }
   ],
   "source": [
    "df = pd.read_csv(args.dataset_csv, parse_dates=['admittime', 'dischtime', 'intime', 'charttime'])\n",
    "df['relative_charttime'] = (df['charttime'] - df['intime'])\n",
    "print(df.shape)\n",
    "print(df.columns)"
   ]
  },
  {
   "cell_type": "code",
   "execution_count": 4,
   "metadata": {
    "ExecuteTime": {
     "end_time": "2019-06-18T15:49:03.264080Z",
     "start_time": "2019-06-18T15:49:03.221763Z"
    }
   },
   "outputs": [],
   "source": [
    "interval_hours=12\n",
    "starting_day = -20\n",
    "ending_day = -1"
   ]
  },
  {
   "cell_type": "code",
   "execution_count": 5,
   "metadata": {
    "ExecuteTime": {
     "end_time": "2019-06-18T15:49:03.302280Z",
     "start_time": "2019-06-18T15:49:03.266736Z"
    }
   },
   "outputs": [],
   "source": [
    "import warnings"
   ]
  },
  {
   "cell_type": "code",
   "execution_count": 6,
   "metadata": {
    "ExecuteTime": {
     "end_time": "2019-06-18T15:49:03.341260Z",
     "start_time": "2019-06-18T15:49:03.304302Z"
    }
   },
   "outputs": [],
   "source": [
    "if starting_day > 0:\n",
    "  warnings.warn(f\"starting_day ({starting_day}) must be negative. Converting it to negative\")\n",
    "  starting_day = -starting_day\n",
    "\n",
    "if ending_day > 0:\n",
    "  warnings.warn(f\"ending_day ({ending_day}) must be negative. Converting it to negative\")\n",
    "  ending_day = -ending_day\n",
    "\n",
    "if ending_day < starting_day:\n",
    "  warnings.warn(f\"starting_day ({starting_day}) must be less than ending_day ({ending_day}). Swapping values.\")\n",
    "  starting_day, ending_day = ending_day, starting_day"
   ]
  },
  {
   "cell_type": "markdown",
   "metadata": {},
   "source": [
    "### Logistic Regression"
   ]
  },
  {
   "cell_type": "code",
   "execution_count": 7,
   "metadata": {
    "ExecuteTime": {
     "end_time": "2019-06-18T15:49:21.694726Z",
     "start_time": "2019-06-18T15:49:03.343046Z"
    }
   },
   "outputs": [],
   "source": [
    "model = 'lr'\n",
    "\n",
    "with open(args.workdir/model/'all_data_model.pkl', 'rb') as f:\n",
    "  clf = pickle.load(f)\n",
    "  vocabulary = pickle.load(f)\n",
    "  \n",
    "vectorizer = TfidfVectorizer(min_df=3, analyzer=str.split, sublinear_tf=True,\\\n",
    "                              ngram_range=(2,2), vocabulary=vocabulary)\n",
    "\n",
    "df['prob'] = clf.predict_proba(vectorizer.fit_transform(df['scispacy_note']))[:, 1]"
   ]
  },
  {
   "cell_type": "code",
   "execution_count": 8,
   "metadata": {
    "ExecuteTime": {
     "end_time": "2019-06-18T15:49:21.733846Z",
     "start_time": "2019-06-18T15:49:21.698885Z"
    }
   },
   "outputs": [],
   "source": [
    "threshold = args.bc_threshold[model]"
   ]
  },
  {
   "cell_type": "code",
   "execution_count": 9,
   "metadata": {
    "ExecuteTime": {
     "end_time": "2019-06-18T15:49:21.772848Z",
     "start_time": "2019-06-18T15:49:21.735756Z"
    }
   },
   "outputs": [],
   "source": [
    "high = pd.to_timedelta(ending_day, unit='d')\n",
    "low = pd.to_timedelta(starting_day, unit='d')"
   ]
  },
  {
   "cell_type": "code",
   "execution_count": 10,
   "metadata": {
    "ExecuteTime": {
     "end_time": "2019-06-18T15:49:50.857413Z",
     "start_time": "2019-06-18T15:49:21.775257Z"
    }
   },
   "outputs": [],
   "source": [
    "plot_data = df.loc[(df['relative_charttime'] > low) & (df['relative_charttime'] < high)][['relative_charttime', 'prob']].copy()\n",
    "plot_data['interval'] = ((plot_data['relative_charttime'].apply(lambda curr_time: int((curr_time - df['relative_charttime'].max())/pd.to_timedelta(interval_hours, unit='h')))))/2"
   ]
  },
  {
   "cell_type": "code",
   "execution_count": 12,
   "metadata": {
    "ExecuteTime": {
     "end_time": "2019-06-18T15:51:16.089026Z",
     "start_time": "2019-06-18T15:51:13.824590Z"
    }
   },
   "outputs": [
    {
     "data": {
      "image/png": "[encoded data removed]",
      "text/plain": [
       "<Figure size 1080x576 with 1 Axes>"
      ]
     },
     "metadata": {
      "needs_background": "light"
     },
     "output_type": "display_data"
    }
   ],
   "source": [
    "fig, ax = plt.subplots(figsize=(15, 8))\n",
    "ax.axhline(y=threshold, label=f'Threshold = {threshold}', linestyle='--', color='r')\n",
    "sns.lineplot(x='interval', y='prob', data=plot_data, ax=ax)\n",
    "ax.set_xlabel(f'Time to ICU (days)')\n",
    "ax.set_ylabel('Probability')\n",
    "ax.set_title(\"Probability of Imminent ICU visit\")\n",
    "ax.xaxis.set_major_locator(ticker.MultipleLocator(1))"
   ]
  },
  {
   "cell_type": "code",
   "execution_count": null,
   "metadata": {
    "ExecuteTime": {
     "end_time": "2019-06-17T18:49:14.860765Z",
     "start_time": "2019-06-17T18:48:39.790609Z"
    }
   },
   "outputs": [],
   "source": [
    "plot_prob(ax, df, args.bc_threshold[model], starting_day, ending_day, interval_hours=interval_hours)"
   ]
  },
  {
   "cell_type": "markdown",
   "metadata": {},
   "source": [
    "### Random Forest"
   ]
  },
  {
   "cell_type": "code",
   "execution_count": null,
   "metadata": {
    "ExecuteTime": {
     "end_time": "2019-06-17T13:07:01.890907Z",
     "start_time": "2019-06-17T13:06:26.924319Z"
    }
   },
   "outputs": [],
   "source": [
    "model = 'rf'\n",
    "\n",
    "with open(args.workdir/model/'all_data_model.pkl', 'rb') as f:\n",
    "  clf = pickle.load(f)\n",
    "  vocabulary = pickle.load(f)\n",
    "  \n",
    "vectorizer = TfidfVectorizer(min_df=3, analyzer=str.split, sublinear_tf=True,\\\n",
    "                              ngram_range=(2,2), vocabulary=vocabulary)  \n",
    "\n",
    "df['prob'] = clf.predict_proba(vectorizer.fit_transform(df['scispacy_note']))[:, 1]\n",
    "\n",
    "fig, ax = plt.subplots(figsize=(15, 8))\n",
    "plot_prob(ax, df, args.bc_threshold[model], cutoff=cutoff, interval=interval, granularity=2)"
   ]
  },
  {
   "cell_type": "markdown",
   "metadata": {},
   "source": [
    "### CNN"
   ]
  },
  {
   "cell_type": "code",
   "execution_count": null,
   "metadata": {
    "ExecuteTime": {
     "end_time": "2019-06-17T13:07:26.473889Z",
     "start_time": "2019-06-17T13:07:01.892474Z"
    }
   },
   "outputs": [],
   "source": [
    "model = 'cnn'\n",
    "\n",
    "try:\n",
    "  prob = np.load(cnn_args.workdir/'probs.npy')\n",
    "except FileNotFoundError:\n",
    "  bs = 256\n",
    "  ds = NoteDataset.load_data_and_vectorizer_from_file(df, cnn_args.workdir)\n",
    "  dl = DataLoader(ds, bs)\n",
    "  \n",
    "  pe = PretrainedEmbeddings.from_file(cnn_args.emb_path)\n",
    "  pe.make_custom_embeddings(ds.vectorizer.vocab.idx_token_bidict.values())\n",
    "  \n",
    "  with open(args.workdir/model/'full_data_model.pkl', 'rb') as f:\n",
    "    state_dict = pickle.load(f)    \n",
    "  classifier = NoteClassifier(cnn_args.emb_sz, len(ds.vectorizer.vocab), cnn_args.n_channels,\\\n",
    "                            cnn_args.hidden_dim, 1, dropout_p=cnn_args.dropout_p,\\\n",
    "                            emb_dropout=cnn_args.emb_dropout, pretrained=pe.custom_embeddings)\n",
    "  classifier.load_state_dict(state_dict)\n",
    "  p = []\n",
    "\n",
    "  for x, _ in tqdm(dl):\n",
    "    p.append(torch.sigmoid(classifier(x)).detach().numpy())\n",
    "    \n",
    "  prob = np.concatenate(p)\n",
    "  np.save(cnn_args.workdir/'probabilities', prob)    \n",
    "\n",
    "df['prob'] = prob\n",
    "\n",
    "fig, ax = plt.subplots(figsize=(15, 8))\n",
    "plot_prob(ax, df, args.bc_threshold[model], cutoff=cutoff, interval=interval, granularity=2)"
   ]
  },
  {
   "cell_type": "markdown",
   "metadata": {},
   "source": [
    "### Gradient Boosting Machines"
   ]
  },
  {
   "cell_type": "code",
   "execution_count": null,
   "metadata": {
    "ExecuteTime": {
     "end_time": "2019-06-17T13:08:01.317121Z",
     "start_time": "2019-06-17T13:07:26.475497Z"
    },
    "scrolled": false
   },
   "outputs": [],
   "source": [
    "model = 'gbm'\n",
    "\n",
    "with open(args.workdir/model/'all_data_model.pkl', 'rb') as f:\n",
    "  clf = pickle.load(f)\n",
    "  vocabulary = pickle.load(f)\n",
    "  \n",
    "vectorizer = TfidfVectorizer(min_df=3, analyzer=str.split, sublinear_tf=True,\\\n",
    "                              ngram_range=(2,2), vocabulary=vocabulary)  \n",
    "\n",
    "df['prob'] = clf.predict_proba(vectorizer.fit_transform(df['scispacy_note']))[:, 1]\n",
    "\n",
    "fig, ax = plt.subplots(figsize=(15, 8))\n",
    "plot_prob(ax, df, args.bc_threshold[model], cutoff=cutoff, interval=interval, granularity=2)"
   ]
  },
  {
   "cell_type": "markdown",
   "metadata": {
    "heading_collapsed": true
   },
   "source": [
    "### BERT"
   ]
  },
  {
   "cell_type": "code",
   "execution_count": null,
   "metadata": {
    "ExecuteTime": {
     "end_time": "2019-06-15T21:48:41.923692Z",
     "start_time": "2019-06-15T21:43:57.436845Z"
    },
    "hidden": true
   },
   "outputs": [],
   "source": [
    "model = 'bert'\n",
    "\n",
    "try:\n",
    "  features = pickle.load(open(args.workdir/model/'features.pkl', 'rb'))\n",
    "except FileNotFoundError:\n",
    "  tokenizer = BertTokenizer.from_pretrained(bert_args.bert_dir, do_lower_case=bert_args.do_lower_case)\n",
    "  examples = []\n",
    "  for i, row in df.iterrows():\n",
    "    eid = f'example-{i}'\n",
    "    text = row['note']\n",
    "    examples.append(InputExample(eid=eid, text=text, label=-1))\n",
    "  features = convert_examples_to_features(examples, bert_args.max_seq_len, tokenizer, is_pred=True)\n",
    "  pickle.dump(features, open(args.workdir/model/'features.pkl', 'wb'))"
   ]
  },
  {
   "cell_type": "code",
   "execution_count": null,
   "metadata": {
    "ExecuteTime": {
     "end_time": "2019-06-15T21:48:48.306408Z",
     "start_time": "2019-06-15T21:48:42.911827Z"
    },
    "hidden": true
   },
   "outputs": [],
   "source": [
    "bert_args.bs = bert_args.bs // bert_args.gradient_accumulation_steps\n",
    "clf = BertForSequenceClassification.from_pretrained(args.workdir/model, num_labels=bert_args.num_labels)\n",
    "clf.to(bert_args.device)\n",
    "\n",
    "all_input_ids = torch.tensor([f.input_ids for f in features], dtype=torch.long)\n",
    "all_input_mask = torch.tensor([f.input_mask for f in features], dtype=torch.long)\n",
    "all_segment_ids = torch.tensor([f.segment_ids for f in features], dtype=torch.long)\n",
    "\n",
    "ds = TensorDataset(all_input_ids, all_input_mask, all_segment_ids)\n",
    "dl = DataLoader(ds, sampler=SequentialSampler(ds), batch_size=bert_args.bs)"
   ]
  },
  {
   "cell_type": "code",
   "execution_count": null,
   "metadata": {
    "ExecuteTime": {
     "end_time": "2019-06-15T21:56:26.043620Z",
     "start_time": "2019-06-15T21:49:23.901076Z"
    },
    "hidden": true
   },
   "outputs": [],
   "source": [
    "probs = []\n",
    "\n",
    "for batch in tqdm(dl, desc='Running model'):\n",
    "  batch = tuple(t.to(bert_args.device) for t in batch)\n",
    "  input_ids, input_mask, segment_ids = batch\n",
    "  logits = clf(input_ids, input_mask, segment_ids)\n",
    "  prob = torch.sigmoid(logits).detach().cpu().numpy()\n",
    "  if len(probs) == 0:\n",
    "    probs.append(prob)\n",
    "  else:\n",
    "    probs[0] = np.append(\n",
    "      probs[0], prob, axis=0)\n",
    "\n",
    "df['prob'] = np.squeeze(probs[0])  "
   ]
  },
  {
   "cell_type": "code",
   "execution_count": null,
   "metadata": {
    "ExecuteTime": {
     "end_time": "2019-06-15T21:57:06.087372Z",
     "start_time": "2019-06-15T21:56:39.588143Z"
    },
    "hidden": true
   },
   "outputs": [],
   "source": [
    "fig, ax = plt.subplots(figsize=(15, 8))\n",
    "plot_prob(ax, df, args.bc_threshold[model], cutoff=cutoff, interval=interval, granularity=2)"
   ]
  },
  {
   "cell_type": "code",
   "execution_count": null,
   "metadata": {
    "ExecuteTime": {
     "end_time": "2019-06-13T20:04:35.459057Z",
     "start_time": "2019-06-13T20:03:59.686683Z"
    },
    "hidden": true,
    "scrolled": false
   },
   "outputs": [],
   "source": [
    "with open(args.workdir/model/'all_data_model.pkl', 'rb') as f:\n",
    "  clf = pickle.load(f)\n",
    "  vocabulary = pickle.load(f)\n",
    "  \n",
    "vectorizer = TfidfVectorizer(min_df=3, analyzer=str.split, sublinear_tf=True,\\\n",
    "                              ngram_range=(2,2), vocabulary=vocabulary)  \n",
    "\n",
    "df['prob'] = clf.predict_proba(vectorizer.fit_transform(df['scispacy_note']))[:, 1]\n",
    "\n",
    "fig, ax = plt.subplots(figsize=(15, 8))\n",
    "plot_prob(ax, df, args.bc_threshold[model], cutoff=cutoff, interval=interval, granularity=2)"
   ]
  }
 ],
 "metadata": {
  "kernelspec": {
   "display_name": "Python 3",
   "language": "python",
   "name": "python3"
  },
  "language_info": {
   "codemirror_mode": {
    "name": "ipython",
    "version": 3
   },
   "file_extension": ".py",
   "mimetype": "text/x-python",
   "name": "python",
   "nbconvert_exporter": "python",
   "pygments_lexer": "ipython3",
   "version": "3.7.3"
  },
  "toc": {
   "base_numbering": 1,
   "nav_menu": {},
   "number_sections": true,
   "sideBar": true,
   "skip_h1_title": true,
   "title_cell": "Table of Contents",
   "title_sidebar": "Contents",
   "toc_cell": false,
   "toc_position": {
    "height": "calc(100% - 180px)",
    "left": "10px",
    "top": "150px",
    "width": "165px"
   },
   "toc_section_display": true,
   "toc_window_display": false
  }
 },
 "nbformat": 4,
 "nbformat_minor": 2
}
