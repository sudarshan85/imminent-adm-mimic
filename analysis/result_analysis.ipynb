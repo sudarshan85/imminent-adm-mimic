{
 "cells": [
  {
   "cell_type": "markdown",
   "metadata": {},
   "source": [
    "# Result Analysis"
   ]
  },
  {
   "cell_type": "markdown",
   "metadata": {},
   "source": [
    "## Imports & Inits"
   ]
  },
  {
   "cell_type": "code",
   "execution_count": 1,
   "metadata": {
    "ExecuteTime": {
     "end_time": "2019-08-20T14:55:55.044365Z",
     "start_time": "2019-08-20T14:55:55.031419Z"
    }
   },
   "outputs": [],
   "source": [
    "%load_ext autoreload\n",
    "%autoreload 2"
   ]
  },
  {
   "cell_type": "code",
   "execution_count": 2,
   "metadata": {
    "ExecuteTime": {
     "end_time": "2019-08-20T14:55:57.110015Z",
     "start_time": "2019-08-20T14:55:55.045568Z"
    }
   },
   "outputs": [
    {
     "data": {
      "text/plain": [
       "{'workdir': PosixPath('../data/workdir'),\n",
       " 'figdir': PosixPath('../data/results/figures'),\n",
       " 'resultdir': PosixPath('../data/results'),\n",
       " 'dataset_csv': PosixPath('../data/proc_dataset.csv'),\n",
       " 'imminent_adm_cols': ['hadm_id', 'processed_note', 'imminent_adm_label'],\n",
       " 'prolonged_stay_cols': ['hadm_id', 'processed_note', 'prolonged_stay_label'],\n",
       " 'cols': ['hadm_id',\n",
       "  'imminent_adm_label',\n",
       "  'prolonged_stay_label',\n",
       "  'processed_note',\n",
       "  'charttime',\n",
       "  'intime',\n",
       "  'chartinterval'],\n",
       " 'dates': ['charttime', 'intime'],\n",
       " 'ia_thresh': {'lr': 0.45, 'rf': 0.27, 'gbm': 0.435, 'mlp': 0.2},\n",
       " 'ps_thresh': {'lr': 0.39, 'rf': 0.36, 'gbm': 0.324, 'mlp': 0.27}}"
      ]
     },
     "execution_count": 2,
     "metadata": {},
     "output_type": "execute_result"
    }
   ],
   "source": [
    "import sys\n",
    "sys.path.append('../')\n",
    "\n",
    "import matplotlib.pyplot as plt\n",
    "import seaborn as sns\n",
    "sns.set_style(\"darkgrid\")\n",
    "%matplotlib inline\n",
    "\n",
    "import numpy as np\n",
    "from scipy import stats\n",
    "\n",
    "import pandas as pd\n",
    "import pickle\n",
    "import torch\n",
    "from itertools import combinations\n",
    "from pathlib import Path\n",
    "from tqdm import tqdm_notebook as tqdm\n",
    "\n",
    "from sklearn.feature_extraction.text import TfidfVectorizer\n",
    "from torch.utils.data import DataLoader, TensorDataset, SequentialSampler\n",
    "\n",
    "from utils.metrics import BinaryAvgMetrics\n",
    "from utils.plots import *\n",
    "from args import args\n",
    "vars(args)"
   ]
  },
  {
   "cell_type": "markdown",
   "metadata": {
    "heading_collapsed": true
   },
   "source": [
    "## Compute Results"
   ]
  },
  {
   "cell_type": "code",
   "execution_count": 3,
   "metadata": {
    "ExecuteTime": {
     "end_time": "2019-08-20T14:49:16.047498Z",
     "start_time": "2019-08-20T14:49:12.202996Z"
    },
    "hidden": true
   },
   "outputs": [],
   "source": [
    "models = ['lr', 'rf', 'gbm', 'mlp']\n",
    "\n",
    "ia_bams = {}\n",
    "ps_bams = {}\n",
    "\n",
    "for model in models:\n",
    "  with open(args.workdir/model/'imminent_adm_preds.pkl', 'rb') as f:\n",
    "    targs = pickle.load(f)\n",
    "    preds = pickle.load(f)\n",
    "    probs = pickle.load(f)\n",
    "  ia_bams[model] = BinaryAvgMetrics(targs, preds, probs)\n",
    "    \n",
    "  with open(args.workdir/model/'prolonged_stay_preds.pkl', 'rb') as f:\n",
    "    targs = pickle.load(f)\n",
    "    preds = pickle.load(f)\n",
    "    probs = pickle.load(f)    \n",
    "  ps_bams[model] = BinaryAvgMetrics(targs, preds, probs)    "
   ]
  },
  {
   "cell_type": "markdown",
   "metadata": {
    "hidden": true
   },
   "source": [
    "### Ensemble"
   ]
  },
  {
   "cell_type": "code",
   "execution_count": 4,
   "metadata": {
    "ExecuteTime": {
     "end_time": "2019-08-20T14:49:16.087902Z",
     "start_time": "2019-08-20T14:49:16.049413Z"
    },
    "hidden": true
   },
   "outputs": [],
   "source": [
    "def get_ensemble(ensembles, thresh, bams):  \n",
    "  outputs = {}\n",
    "  for ens_model in ensembles:\n",
    "    key = '-'.join(ens_model)\n",
    "    targs = bams[ens_model[0]].targs\n",
    "    avg_thresh = np.array([thresh[model] for model in ens_model]).mean()\n",
    "    max_thresh = max([thresh[model] for model in ens_model])\n",
    "    probs = []\n",
    "    for i in range(len(targs)):\n",
    "      prob = []\n",
    "      for model in ens_model:\n",
    "        prob.append(bams[model].probs[i])\n",
    "      probs.append(np.stack(prob))\n",
    "\n",
    "    avg_probs = [probs.mean(axis=0) for probs in probs]\n",
    "    max_probs = [probs.max(axis=0) for probs in probs]\n",
    "\n",
    "    avg_preds = [(probs > avg_thresh).astype(np.int64) for probs in avg_probs]\n",
    "    max_preds = [(probs > max_thresh).astype(np.int64) for probs in max_probs]\n",
    "    outputs[f'avg-{key}'] = (targs, avg_preds, avg_probs, avg_thresh)\n",
    "    outputs[f'max-{key}'] = (targs, max_preds, max_probs, max_thresh)\n",
    "    \n",
    "  return outputs"
   ]
  },
  {
   "cell_type": "code",
   "execution_count": 5,
   "metadata": {
    "ExecuteTime": {
     "end_time": "2019-08-20T14:49:16.112593Z",
     "start_time": "2019-08-20T14:49:16.089010Z"
    },
    "hidden": true
   },
   "outputs": [],
   "source": [
    "ensembles = [\n",
    "  ['gbm', 'mlp'],\n",
    "  ['rf', 'mlp'],\n",
    "  ['rf', 'gbm'],\n",
    "  ['rf', 'gbm', 'mlp'],\n",
    "  ['lr', 'mlp'],\n",
    "  ['lr', 'gbm'],\n",
    "  ['lr', 'gbm', 'mlp'],\n",
    "  ['lr', 'rf'],\n",
    "  ['lr', 'rf', 'mlp'],\n",
    "  ['lr', 'rf', 'gbm'],\n",
    "  ['lr', 'rf', 'gbm', 'mlp']\n",
    "]"
   ]
  },
  {
   "cell_type": "code",
   "execution_count": 6,
   "metadata": {
    "ExecuteTime": {
     "end_time": "2019-08-20T14:49:36.246468Z",
     "start_time": "2019-08-20T14:49:16.113566Z"
    },
    "hidden": true
   },
   "outputs": [],
   "source": [
    "ia_ensembles = get_ensemble(ensembles, args.ia_thresh, ia_bams)\n",
    "\n",
    "for model, vals in ia_ensembles.items():\n",
    "  args.ia_thresh[model] = np.round(vals[-1], 3)\n",
    "\n",
    "for model, vals in ia_ensembles.items():\n",
    "  ia_bams[model] = BinaryAvgMetrics(*vals[:-1])  \n",
    "\n",
    "ps_ensembles = get_ensemble(ensembles, args.ps_thresh, ps_bams)\n",
    "\n",
    "for model, vals in ps_ensembles.items():\n",
    "  args.ps_thresh[model] = np.round(vals[-1], 3)\n",
    "\n",
    "for model, vals in ps_ensembles.items():\n",
    "  ps_bams[model] = BinaryAvgMetrics(*vals[:-1])  "
   ]
  },
  {
   "cell_type": "markdown",
   "metadata": {
    "hidden": true
   },
   "source": [
    "### Compute Results DataFrame"
   ]
  },
  {
   "cell_type": "code",
   "execution_count": 7,
   "metadata": {
    "ExecuteTime": {
     "end_time": "2019-08-20T14:50:50.920777Z",
     "start_time": "2019-08-20T14:49:36.248859Z"
    },
    "hidden": true
   },
   "outputs": [],
   "source": [
    "ia_metrics = {}\n",
    "ps_metrics = {}\n",
    "\n",
    "for key in ia_bams.keys():\n",
    "  ia_metrics[key] = []\n",
    "  ps_metrics[key] = []\n",
    "  for i in range(len(ia_bams[key].get_avg_metrics())):\n",
    "    ia_metrics[key].append(ia_bams[key].get_avg_metrics().iloc[i]['Value'])\n",
    "  for i in range(len(ps_bams[key].get_avg_metrics())):\n",
    "    ps_metrics[key].append(ps_bams[key].get_avg_metrics().iloc[i]['Value'])    \n",
    "\n",
    "ia_metrics = pd.DataFrame(ia_metrics, index=['sensitivity', 'specificity', 'ppv', 'auroc', 'npv', 'f1']).transpose()\n",
    "ps_metrics = pd.DataFrame(ps_metrics, index=['sensitivity', 'specificity', 'ppv', 'auroc', 'npv', 'f1']).transpose()"
   ]
  },
  {
   "cell_type": "code",
   "execution_count": 8,
   "metadata": {
    "ExecuteTime": {
     "end_time": "2019-08-20T14:50:51.157898Z",
     "start_time": "2019-08-20T14:50:50.922603Z"
    },
    "hidden": true
   },
   "outputs": [],
   "source": [
    "ia_best = pd.DataFrame([(ia_metrics[metric].idxmax(), ia_metrics[metric].max()) for metric in ia_metrics], columns=['model', 'value'], index=['sensitivity', 'specificity', 'ppv', 'auroc', 'npv', 'f1'])\n",
    "ps_best = pd.DataFrame([(ps_metrics[metric].idxmax(), ps_metrics[metric].max()) for metric in ps_metrics], columns=['model', 'value'], index=['sensitivity', 'specificity', 'ppv', 'auroc', 'npv', 'f1'])"
   ]
  },
  {
   "cell_type": "markdown",
   "metadata": {
    "hidden": true
   },
   "source": [
    "### Student-t Tests"
   ]
  },
  {
   "cell_type": "code",
   "execution_count": 9,
   "metadata": {
    "ExecuteTime": {
     "end_time": "2019-08-20T14:50:51.182827Z",
     "start_time": "2019-08-20T14:50:51.159690Z"
    },
    "hidden": true
   },
   "outputs": [],
   "source": [
    "models = list(ia_metrics.index)\n",
    "metrics = list(ia_metrics.columns)"
   ]
  },
  {
   "cell_type": "code",
   "execution_count": 10,
   "metadata": {
    "ExecuteTime": {
     "end_time": "2019-08-20T14:50:51.216584Z",
     "start_time": "2019-08-20T14:50:51.183898Z"
    },
    "hidden": true
   },
   "outputs": [],
   "source": [
    "def do_ttest(bams, model1, model2, metric):  \n",
    "  if metric == 'sensitivity':\n",
    "    x1 = bams[model1].sensitivities()\n",
    "    x2 = bams[model2].sensitivities()\n",
    "  elif metric == 'specificity':\n",
    "    x1 = bams[model1].specificities()\n",
    "    x2 = bams[model2].specificities()\n",
    "  elif metric == 'ppv':\n",
    "    x1 = bams[model1].ppvs()\n",
    "    x2 = bams[model2].ppvs()\n",
    "  elif metric == 'auroc':\n",
    "    x1 = bams[model1].aurocs()\n",
    "    x2 = bams[model2].aurocs()\n",
    "  elif metric == 'npv':\n",
    "    x1 = bams[model1].npvs()\n",
    "    x2 = bams[model2].npvs()\n",
    "  elif metric == 'f1':    \n",
    "    x1 = bams[model1].f1s()\n",
    "    x2 = bams[model2].f1s()\n",
    "\n",
    "  t, p = stats.ttest_ind(x1, x2)\n",
    "  return np.round(t, 2), max(np.round(p, 2), 0.001)"
   ]
  },
  {
   "cell_type": "code",
   "execution_count": 11,
   "metadata": {
    "ExecuteTime": {
     "end_time": "2019-08-20T14:52:56.674241Z",
     "start_time": "2019-08-20T14:50:51.224602Z"
    },
    "hidden": true
   },
   "outputs": [],
   "source": [
    "ia_ttests = {}\n",
    "\n",
    "for m1, m2 in combinations(models, 2):  \n",
    "  ia_ttests[f'{m1}:{m2}'] = {}\n",
    "  for metric in metrics:\n",
    "    ia_ttests[f'{m1}:{m2}'][metric] = do_ttest(ia_bams, m1, m2, metric)\n",
    "\n",
    "ia_ttests = pd.DataFrame(ia_ttests).transpose()"
   ]
  },
  {
   "cell_type": "code",
   "execution_count": 12,
   "metadata": {
    "ExecuteTime": {
     "end_time": "2019-08-20T14:55:19.337201Z",
     "start_time": "2019-08-20T14:52:56.675801Z"
    },
    "hidden": true
   },
   "outputs": [],
   "source": [
    "ps_ttests = {}\n",
    "\n",
    "for m1, m2 in combinations(models, 2):  \n",
    "  ps_ttests[f'{m1}:{m2}'] = {}\n",
    "  for metric in metrics:\n",
    "    ps_ttests[f'{m1}:{m2}'][metric] = do_ttest(ps_bams, m1, m2, metric)\n",
    "\n",
    "ps_ttests = pd.DataFrame(ps_ttests).transpose()"
   ]
  },
  {
   "cell_type": "markdown",
   "metadata": {
    "hidden": true
   },
   "source": [
    "### Write everything to disk"
   ]
  },
  {
   "cell_type": "code",
   "execution_count": 13,
   "metadata": {
    "ExecuteTime": {
     "end_time": "2019-08-20T14:55:50.307681Z",
     "start_time": "2019-08-20T14:55:41.469541Z"
    },
    "hidden": true
   },
   "outputs": [],
   "source": [
    "with open(args.resultdir/'bams.pkl', 'wb') as f:\n",
    "  pickle.dump(ia_bams, f)\n",
    "  pickle.dump(ps_bams, f)\n",
    "\n",
    "ia_metrics.to_csv(args.resultdir/'ia_metrics.csv', float_format='%.1f')\n",
    "ps_metrics.to_csv(args.resultdir/'ps_metrics.csv', float_format='%.1f')\n",
    "ia_best.to_csv(args.resultdir/'ia_best.csv', float_format='%.3f')\n",
    "ps_best.to_csv(args.resultdir/'ps_best.csv', float_format='%.3f')\n",
    "\n",
    "ia_ttests.to_csv(args.resultdir/'ia_ttests.csv')\n",
    "ps_ttests.to_csv(args.resultdir/'ps_ttests.csv')"
   ]
  },
  {
   "cell_type": "markdown",
   "metadata": {},
   "source": [
    "## 100 Iteration Results"
   ]
  },
  {
   "cell_type": "code",
   "execution_count": 3,
   "metadata": {
    "ExecuteTime": {
     "end_time": "2019-08-20T14:56:04.826406Z",
     "start_time": "2019-08-20T14:56:03.727599Z"
    }
   },
   "outputs": [],
   "source": [
    "with open(args.resultdir/'bams.pkl', 'rb') as f:\n",
    "  ia_bams = pickle.load(f)\n",
    "  ps_bams = pickle.load(f)\n",
    "  \n",
    "ia_metrics = pd.read_csv(args.resultdir/'ia_metrics.csv', index_col=0)\n",
    "ps_metrics = pd.read_csv(args.resultdir/'ps_metrics.csv', index_col=0)\n",
    "ia_best = pd.read_csv(args.resultdir/'ia_best.csv', index_col=0)\n",
    "ps_best = pd.read_csv(args.resultdir/'ps_best.csv', index_col=0)\n",
    "\n",
    "ia_ttests = pd.read_csv(args.resultdir/'ia_ttests.csv', index_col=0)\n",
    "ps_ttests = pd.read_csv(args.resultdir/'ps_ttests.csv', index_col=0)"
   ]
  },
  {
   "cell_type": "code",
   "execution_count": 6,
   "metadata": {
    "ExecuteTime": {
     "end_time": "2019-08-20T14:56:38.900535Z",
     "start_time": "2019-08-20T14:56:38.652458Z"
    }
   },
   "outputs": [
    {
     "data": {
      "text/html": [
       "<div>\n",
       "<style scoped>\n",
       "    .dataframe tbody tr th:only-of-type {\n",
       "        vertical-align: middle;\n",
       "    }\n",
       "\n",
       "    .dataframe tbody tr th {\n",
       "        vertical-align: top;\n",
       "    }\n",
       "\n",
       "    .dataframe thead th {\n",
       "        text-align: right;\n",
       "    }\n",
       "</style>\n",
       "<table border=\"1\" class=\"dataframe\">\n",
       "  <thead>\n",
       "    <tr style=\"text-align: right;\">\n",
       "      <th></th>\n",
       "      <th>Mean</th>\n",
       "      <th>Lower</th>\n",
       "      <th>Upper</th>\n",
       "    </tr>\n",
       "  </thead>\n",
       "  <tbody>\n",
       "    <tr>\n",
       "      <th>sensitivity</th>\n",
       "      <td>84.0</td>\n",
       "      <td>83.7</td>\n",
       "      <td>84.4</td>\n",
       "    </tr>\n",
       "    <tr>\n",
       "      <th>specificity</th>\n",
       "      <td>65.1</td>\n",
       "      <td>64.4</td>\n",
       "      <td>65.7</td>\n",
       "    </tr>\n",
       "    <tr>\n",
       "      <th>ppv</th>\n",
       "      <td>43.2</td>\n",
       "      <td>42.8</td>\n",
       "      <td>43.5</td>\n",
       "    </tr>\n",
       "    <tr>\n",
       "      <th>auroc</th>\n",
       "      <td>82.2</td>\n",
       "      <td>81.9</td>\n",
       "      <td>82.5</td>\n",
       "    </tr>\n",
       "    <tr>\n",
       "      <th>npv</th>\n",
       "      <td>92.8</td>\n",
       "      <td>92.5</td>\n",
       "      <td>93.0</td>\n",
       "    </tr>\n",
       "    <tr>\n",
       "      <th>f1</th>\n",
       "      <td>57.0</td>\n",
       "      <td>56.7</td>\n",
       "      <td>57.3</td>\n",
       "    </tr>\n",
       "  </tbody>\n",
       "</table>\n",
       "</div>"
      ],
      "text/plain": [
       "             Mean  Lower  Upper\n",
       "sensitivity  84.0  83.7   84.4 \n",
       "specificity  65.1  64.4   65.7 \n",
       "ppv          43.2  42.8   43.5 \n",
       "auroc        82.2  81.9   82.5 \n",
       "npv          92.8  92.5   93.0 \n",
       "f1           57.0  56.7   57.3 "
      ]
     },
     "execution_count": 6,
     "metadata": {},
     "output_type": "execute_result"
    }
   ],
   "source": [
    "ia_bams['avg-lr-rf-gbm-mlp'].get_avg_metrics(conf=0.95)"
   ]
  },
  {
   "cell_type": "markdown",
   "metadata": {},
   "source": [
    "## Mean AUC"
   ]
  },
  {
   "cell_type": "code",
   "execution_count": 7,
   "metadata": {
    "ExecuteTime": {
     "end_time": "2019-08-20T14:56:48.059611Z",
     "start_time": "2019-08-20T14:56:47.853161Z"
    }
   },
   "outputs": [],
   "source": [
    "legends = list(ia_bams.keys())"
   ]
  },
  {
   "cell_type": "code",
   "execution_count": 8,
   "metadata": {
    "ExecuteTime": {
     "end_time": "2019-08-20T14:56:48.086604Z",
     "start_time": "2019-08-20T14:56:48.061130Z"
    }
   },
   "outputs": [],
   "source": [
    "def get_mean_tprs(bams, base_fpr):\n",
    "  mean_tprs = {}  \n",
    "  for model, bam in bams.items():\n",
    "    tprs = []  \n",
    "    for i, (targs, probs) in enumerate(zip(bam.targs, bam.probs)):\n",
    "      fpr, tpr, _ = roc_curve(targs, probs)\n",
    "      tpr = interp(base_fpr, fpr, tpr)\n",
    "      tpr[0] = 0.0\n",
    "      tprs.append(tpr)\n",
    "\n",
    "    tprs = np.array(tprs)\n",
    "    mean_tprs[model] = tprs.mean(axis=0)\n",
    "    \n",
    "  return mean_tprs"
   ]
  },
  {
   "cell_type": "code",
   "execution_count": 9,
   "metadata": {
    "ExecuteTime": {
     "end_time": "2019-08-20T14:56:51.751338Z",
     "start_time": "2019-08-20T14:56:48.087878Z"
    }
   },
   "outputs": [
    {
     "data": {
      "text/plain": [
       "<matplotlib.legend.Legend at 0x7fd2da393650>"
      ]
     },
     "execution_count": 9,
     "metadata": {},
     "output_type": "execute_result"
    },
    {
     "data": {
      "image/png": "[encoded data removed]",
      "text/plain": [
       "<Figure size 720x576 with 1 Axes>"
      ]
     },
     "metadata": {
      "needs_background": "light"
     },
     "output_type": "display_data"
    }
   ],
   "source": [
    "base_fpr = np.linspace(0, 1, 100)\n",
    "mean_tprs = get_mean_tprs(ia_bams, base_fpr)\n",
    "\n",
    "fig, ax = plt.subplots(1, 1, figsize=(10, 8))\n",
    "for i, (model, mean_tpr) in enumerate(mean_tprs.items()):\n",
    "  ax.plot(base_fpr, mean_tpr)\n",
    "ax.plot([0, 1], [0, 1], linestyle=':')  \n",
    "ax.grid(b=True, which='major', color='#d3d3d3', linewidth=1.0)\n",
    "ax.grid(b=True, which='minor', color='#d3d3d3', linewidth=0.5)\n",
    "ax.set_ylabel('Sensitivity')\n",
    "ax.set_xlabel('1 - Specificity')\n",
    "ax.legend(legends)\n",
    "# fig.savefig(args.figdir/'ia_mean_roc.tif', dpi=300)"
   ]
  },
  {
   "cell_type": "code",
   "execution_count": 10,
   "metadata": {
    "ExecuteTime": {
     "end_time": "2019-08-20T14:56:56.194336Z",
     "start_time": "2019-08-20T14:56:51.752479Z"
    }
   },
   "outputs": [
    {
     "data": {
      "text/plain": [
       "<matplotlib.legend.Legend at 0x7fd2da3ceed0>"
      ]
     },
     "execution_count": 10,
     "metadata": {},
     "output_type": "execute_result"
    },
    {
     "data": {
      "image/png": "[encoded data removed]",
      "text/plain": [
       "<Figure size 720x576 with 1 Axes>"
      ]
     },
     "metadata": {
      "needs_background": "light"
     },
     "output_type": "display_data"
    }
   ],
   "source": [
    "base_fpr = np.linspace(0, 1, 100)\n",
    "mean_tprs = get_mean_tprs(ps_bams, base_fpr)\n",
    "\n",
    "fig, ax = plt.subplots(1, 1, figsize=(10, 8))\n",
    "for i, (model, mean_tpr) in enumerate(mean_tprs.items()):\n",
    "  ax.plot(base_fpr, mean_tpr)\n",
    "ax.plot([0, 1], [0, 1], linestyle=':')  \n",
    "ax.grid(b=True, which='major', color='#d3d3d3', linewidth=1.0)\n",
    "ax.grid(b=True, which='minor', color='#d3d3d3', linewidth=0.5)\n",
    "ax.set_ylabel('Sensitivity')\n",
    "ax.set_xlabel('1 - Specificity')\n",
    "ax.legend(legends)\n",
    "# fig.savefig(args.figdir/'ps_mean_roc.tif', dpi=300)"
   ]
  },
  {
   "cell_type": "markdown",
   "metadata": {},
   "source": [
    "## Probability Plots"
   ]
  },
  {
   "cell_type": "code",
   "execution_count": null,
   "metadata": {
    "ExecuteTime": {
     "end_time": "2019-08-19T21:26:31.674746Z",
     "start_time": "2019-08-19T21:26:31.651188Z"
    }
   },
   "outputs": [],
   "source": [
    "len(ens_prob[1])"
   ]
  },
  {
   "cell_type": "code",
   "execution_count": null,
   "metadata": {
    "ExecuteTime": {
     "end_time": "2019-07-01T01:54:55.010427Z",
     "start_time": "2019-07-01T01:54:53.292803Z"
    }
   },
   "outputs": [],
   "source": [
    "df = pd.read_csv(args.proc_csv, usecols=args.cols, parse_dates=args.dates)\n",
    "df['relative_charttime'] = (df['charttime'] - df['intime'])\n",
    "\n",
    "imminent_df = df.loc[(df['imminent_label'] != -1)][['scispacy_note', 'imminent_label', 'relative_charttime']].reset_index()\n",
    "discharge_df = df[['scispacy_note', 'discharge_label', 'relative_charttime']].reset_index()"
   ]
  },
  {
   "cell_type": "code",
   "execution_count": null,
   "metadata": {
    "ExecuteTime": {
     "end_time": "2019-07-01T01:54:55.035281Z",
     "start_time": "2019-07-01T01:54:55.012234Z"
    }
   },
   "outputs": [],
   "source": [
    "interval_hours=12\n",
    "starting_day = -20\n",
    "ending_day = -1"
   ]
  },
  {
   "cell_type": "markdown",
   "metadata": {},
   "source": [
    "### Imminent ICU Admission"
   ]
  },
  {
   "cell_type": "code",
   "execution_count": null,
   "metadata": {
    "ExecuteTime": {
     "end_time": "2019-07-01T01:55:15.640755Z",
     "start_time": "2019-07-01T01:54:55.036623Z"
    }
   },
   "outputs": [],
   "source": [
    "model = 'lr'\n",
    "with open(args.workdir/model/'imminent_model.pkl', 'rb') as f:\n",
    "  clf = pickle.load(f)\n",
    "  vocabulary = pickle.load(f)\n",
    "  \n",
    "vectorizer = TfidfVectorizer(min_df=3, analyzer=str.split, sublinear_tf=True, ngram_range=(2,2), vocabulary=vocabulary)\n",
    "imminent_df[f'{model}_prob'] = clf.predict_proba(vectorizer.fit_transform(imminent_df['scispacy_note']))[:, 1]\n",
    "\n",
    "model = 'rf'\n",
    "with open(args.workdir/model/'imminent_model.pkl', 'rb') as f:\n",
    "  clf = pickle.load(f)\n",
    "  vocabulary = pickle.load(f)\n",
    "  \n",
    "vectorizer = TfidfVectorizer(min_df=3, analyzer=str.split, sublinear_tf=True, ngram_range=(2,2), vocabulary=vocabulary)\n",
    "imminent_df[f'{model}_prob'] = clf.predict_proba(vectorizer.fit_transform(imminent_df['scispacy_note']))[:, 1]\n",
    "\n",
    "model = 'gbm'\n",
    "with open(args.workdir/model/'imminent_model.pkl', 'rb') as f:\n",
    "  clf = pickle.load(f)\n",
    "  vocabulary = pickle.load(f)\n",
    "  \n",
    "vectorizer = TfidfVectorizer(min_df=3, analyzer=str.split, sublinear_tf=True, ngram_range=(2,2), vocabulary=vocabulary)\n",
    "imminent_df[f'{model}_prob'] = clf.predict_proba(vectorizer.fit_transform(imminent_df['scispacy_note']))[:, 1]"
   ]
  },
  {
   "cell_type": "code",
   "execution_count": null,
   "metadata": {
    "ExecuteTime": {
     "end_time": "2019-07-01T01:55:50.867495Z",
     "start_time": "2019-07-01T01:55:15.642776Z"
    }
   },
   "outputs": [],
   "source": [
    "fig, ax = plt.subplots(3, 1, figsize=(10, 15))\n",
    "plot_prob(ax[0], imminent_df, 'lr', args.imminent_threshold['lr'], starting_day, ending_day, interval_hours)\n",
    "plot_prob(ax[1], imminent_df, 'rf', args.imminent_threshold['rf'], starting_day, ending_day, interval_hours)\n",
    "plot_prob(ax[2], imminent_df, 'gbm', args.imminent_threshold['gbm'], starting_day, ending_day, interval_hours)\n",
    "\n",
    "fig.text(0.5, 0.08, 'Time to ICU (days)', ha='center')\n",
    "fig.text(0.08, 0.5, 'Probability', va='center', rotation='vertical')"
   ]
  },
  {
   "cell_type": "markdown",
   "metadata": {},
   "source": [
    "### ICU Discharge"
   ]
  },
  {
   "cell_type": "code",
   "execution_count": null,
   "metadata": {
    "ExecuteTime": {
     "end_time": "2019-07-01T01:56:21.738416Z",
     "start_time": "2019-07-01T01:55:50.869056Z"
    }
   },
   "outputs": [],
   "source": [
    "model = 'lr'\n",
    "with open(args.workdir/model/'discharge_model.pkl', 'rb') as f:\n",
    "  clf = pickle.load(f)\n",
    "  vocabulary = pickle.load(f)\n",
    "\n",
    "vectorizer = TfidfVectorizer(min_df=3, analyzer=str.split, sublinear_tf=True, ngram_range=(2,2), vocabulary=vocabulary)\n",
    "discharge_df[f'{model}_prob'] = clf.predict_proba(vectorizer.fit_transform(discharge_df['scispacy_note']))[:, 1]\n",
    "\n",
    "model = 'rf'\n",
    "with open(args.workdir/model/'discharge_model.pkl', 'rb') as f:\n",
    "  clf = pickle.load(f)\n",
    "  vocabulary = pickle.load(f)\n",
    "  \n",
    "vectorizer = TfidfVectorizer(min_df=3, analyzer=str.split, sublinear_tf=True, ngram_range=(2,2), vocabulary=vocabulary)\n",
    "discharge_df[f'{model}_prob'] = clf.predict_proba(vectorizer.fit_transform(discharge_df['scispacy_note']))[:, 1]\n",
    "\n",
    "model = 'gbm'\n",
    "with open(args.workdir/model/'discharge_model.pkl', 'rb') as f:\n",
    "  clf = pickle.load(f)\n",
    "  vocabulary = pickle.load(f)\n",
    "  \n",
    "vectorizer = TfidfVectorizer(min_df=3, analyzer=str.split, sublinear_tf=True, ngram_range=(2,2), vocabulary=vocabulary)\n",
    "discharge_df[f'{model}_prob'] = clf.predict_proba(vectorizer.fit_transform(discharge_df['scispacy_note']))[:, 1]"
   ]
  },
  {
   "cell_type": "code",
   "execution_count": null,
   "metadata": {
    "ExecuteTime": {
     "end_time": "2019-07-01T01:57:19.994295Z",
     "start_time": "2019-07-01T01:56:21.740249Z"
    }
   },
   "outputs": [],
   "source": [
    "fig, ax = plt.subplots(3, 1, figsize=(10, 15))\n",
    "plot_prob(ax[0], discharge_df, 'lr', args.discharge_threshold['lr'], starting_day, ending_day, interval_hours)\n",
    "plot_prob(ax[1], discharge_df, 'rf', args.discharge_threshold['rf'], starting_day, ending_day, interval_hours)\n",
    "plot_prob(ax[2], discharge_df, 'gbm', args.discharge_threshold['gbm'], starting_day, ending_day, interval_hours)\n",
    "\n",
    "fig.text(0.5, 0.08, 'Time to ICU (days)', ha='center')\n",
    "fig.text(0.08, 0.5, 'Probability', va='center', rotation='vertical')"
   ]
  },
  {
   "cell_type": "markdown",
   "metadata": {},
   "source": [
    "## Word Clouds"
   ]
  },
  {
   "cell_type": "markdown",
   "metadata": {},
   "source": [
    "### Imminent ICU Admission"
   ]
  },
  {
   "cell_type": "code",
   "execution_count": null,
   "metadata": {
    "ExecuteTime": {
     "end_time": "2019-07-01T01:57:20.879120Z",
     "start_time": "2019-07-01T01:57:19.995624Z"
    }
   },
   "outputs": [],
   "source": [
    "scores = {}\n",
    "feature_names = {}\n",
    "\n",
    "model = 'lr'\n",
    "with open(args.workdir/model/'imminent_model.pkl', 'rb') as f:\n",
    "  clf = pickle.load(f)\n",
    "  vocabulary = pickle.load(f)\n",
    "\n",
    "feature_names[model] = TfidfVectorizer(min_df=3, analyzer=str.split, sublinear_tf=True, ngram_range=(2,2), vocabulary=vocabulary).get_feature_names()\n",
    "scores[model] = clf.coef_[0]/clf.coef_[0].sum()\n",
    "\n",
    "model = 'rf'\n",
    "with open(args.workdir/model/'imminent_model.pkl', 'rb') as f:\n",
    "  clf = pickle.load(f)\n",
    "  vocabulary = pickle.load(f)\n",
    "\n",
    "feature_names[model] = TfidfVectorizer(min_df=3, analyzer=str.split, sublinear_tf=True, ngram_range=(2,2), vocabulary=vocabulary).get_feature_names()\n",
    "scores[model] = clf.feature_importances_/clf.feature_importances_.sum()\n",
    "\n",
    "model = 'gbm'\n",
    "with open(args.workdir/model/'imminent_model.pkl', 'rb') as f:\n",
    "  clf = pickle.load(f)\n",
    "  vocabulary = pickle.load(f)\n",
    "\n",
    "feature_names[model] = TfidfVectorizer(min_df=3, analyzer=str.split, sublinear_tf=True, ngram_range=(2,2), vocabulary=vocabulary).get_feature_names()\n",
    "scores[model] = clf.feature_importances_/clf.feature_importances_.sum()"
   ]
  },
  {
   "cell_type": "code",
   "execution_count": null,
   "metadata": {
    "ExecuteTime": {
     "end_time": "2019-07-01T01:57:21.398108Z",
     "start_time": "2019-07-01T01:57:20.880592Z"
    }
   },
   "outputs": [],
   "source": [
    "model = 'gbm'\n",
    "fig, ax = plt.subplots(1, 2, figsize=(15, 10))\n",
    "neg, pos = get_wordcloud(feature_names[model], scores[model], n_words=25)\n",
    "ax[0].imshow(neg)\n",
    "ax[0].axis('off')\n",
    "ax[1].imshow(pos)\n",
    "ax[1].axis('off')"
   ]
  },
  {
   "cell_type": "markdown",
   "metadata": {},
   "source": [
    "### ICU Discharge"
   ]
  },
  {
   "cell_type": "code",
   "execution_count": null,
   "metadata": {
    "ExecuteTime": {
     "end_time": "2019-07-01T01:57:22.248780Z",
     "start_time": "2019-07-01T01:57:21.399413Z"
    }
   },
   "outputs": [],
   "source": [
    "scores = {}\n",
    "feature_names = {}\n",
    "\n",
    "model = 'lr'\n",
    "with open(args.workdir/model/'discharge_model.pkl', 'rb') as f:\n",
    "  clf = pickle.load(f)\n",
    "  vocabulary = pickle.load(f)\n",
    "\n",
    "feature_names[model] = TfidfVectorizer(min_df=3, analyzer=str.split, sublinear_tf=True, ngram_range=(2,2), vocabulary=vocabulary).get_feature_names()\n",
    "scores[model] = clf.coef_[0]/clf.coef_[0].sum()\n",
    "\n",
    "model = 'rf'\n",
    "with open(args.workdir/model/'discharge_model.pkl', 'rb') as f:\n",
    "  clf = pickle.load(f)\n",
    "  vocabulary = pickle.load(f)\n",
    "\n",
    "feature_names[model] = TfidfVectorizer(min_df=3, analyzer=str.split, sublinear_tf=True, ngram_range=(2,2), vocabulary=vocabulary).get_feature_names()\n",
    "scores[model] = clf.feature_importances_/clf.feature_importances_.sum()\n",
    "\n",
    "model = 'gbm'\n",
    "with open(args.workdir/model/'discharge_model.pkl', 'rb') as f:\n",
    "  clf = pickle.load(f)\n",
    "  vocabulary = pickle.load(f)\n",
    "\n",
    "feature_names[model] = TfidfVectorizer(min_df=3, analyzer=str.split, sublinear_tf=True, ngram_range=(2,2), vocabulary=vocabulary).get_feature_names()\n",
    "scores[model] = clf.feature_importances_/clf.feature_importances_.sum()"
   ]
  },
  {
   "cell_type": "code",
   "execution_count": null,
   "metadata": {
    "ExecuteTime": {
     "end_time": "2019-07-01T01:57:22.860223Z",
     "start_time": "2019-07-01T01:57:22.250338Z"
    }
   },
   "outputs": [],
   "source": [
    "model = 'gbm'\n",
    "fig, ax = plt.subplots(1, 2, figsize=(15, 12))\n",
    "neg, pos = get_wordcloud(feature_names[model], scores[model], n_words=50)\n",
    "ax[0].imshow(neg)\n",
    "ax[0].axis('off')\n",
    "ax[1].imshow(pos)\n",
    "ax[1].axis('off')"
   ]
  },
  {
   "cell_type": "code",
   "execution_count": null,
   "metadata": {
    "ExecuteTime": {
     "end_time": "2019-07-01T01:57:22.885298Z",
     "start_time": "2019-07-01T01:57:22.861363Z"
    }
   },
   "outputs": [],
   "source": [
    "# fig.savefig(args.figdir/f'prob.tif', dpi=300)"
   ]
  }
 ],
 "metadata": {
  "kernelspec": {
   "display_name": "Python 3",
   "language": "python",
   "name": "python3"
  },
  "language_info": {
   "codemirror_mode": {
    "name": "ipython",
    "version": 3
   },
   "file_extension": ".py",
   "mimetype": "text/x-python",
   "name": "python",
   "nbconvert_exporter": "python",
   "pygments_lexer": "ipython3",
   "version": "3.7.4"
  },
  "toc": {
   "base_numbering": 1,
   "nav_menu": {},
   "number_sections": true,
   "sideBar": true,
   "skip_h1_title": true,
   "title_cell": "Table of Contents",
   "title_sidebar": "Contents",
   "toc_cell": false,
   "toc_position": {
    "height": "calc(100% - 180px)",
    "left": "10px",
    "top": "150px",
    "width": "165px"
   },
   "toc_section_display": true,
   "toc_window_display": false
  }
 },
 "nbformat": 4,
 "nbformat_minor": 2
}
