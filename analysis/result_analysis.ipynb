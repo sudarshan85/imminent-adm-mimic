{
 "cells": [
  {
   "cell_type": "markdown",
   "metadata": {},
   "source": [
    "# Dataset Preparation for First ICU Prediction"
   ]
  },
  {
   "cell_type": "markdown",
   "metadata": {},
   "source": [
    "## Imports & Inits"
   ]
  },
  {
   "cell_type": "code",
   "execution_count": 1,
   "metadata": {
    "ExecuteTime": {
     "end_time": "2019-06-08T20:18:55.781167Z",
     "start_time": "2019-06-08T20:18:55.767637Z"
    }
   },
   "outputs": [],
   "source": [
    "%load_ext autoreload\n",
    "%autoreload 2"
   ]
  },
  {
   "cell_type": "code",
   "execution_count": 2,
   "metadata": {
    "ExecuteTime": {
     "end_time": "2019-06-08T20:18:57.090321Z",
     "start_time": "2019-06-08T20:18:55.782422Z"
    }
   },
   "outputs": [],
   "source": [
    "import sys\n",
    "sys.path.append('../')\n",
    "\n",
    "import matplotlib.pyplot as plt\n",
    "%matplotlib inline\n",
    "\n",
    "import numpy as np\n",
    "np.set_printoptions(precision=2)\n",
    "\n",
    "from utils.metrics import BinaryAvgMetrics\n",
    "from utils.plots import *\n",
    "\n",
    "import pandas as pd\n",
    "import pickle\n",
    "from pathlib import Path"
   ]
  },
  {
   "cell_type": "code",
   "execution_count": 3,
   "metadata": {
    "ExecuteTime": {
     "end_time": "2019-06-08T20:18:57.113601Z",
     "start_time": "2019-06-08T20:18:57.092646Z"
    },
    "scrolled": true
   },
   "outputs": [
    {
     "data": {
      "text/plain": [
       "{'path': PosixPath('../data'),\n",
       " 'workdir': PosixPath('../data/work_dir'),\n",
       " 'dataset_csv': PosixPath('../data/processed_dataset.csv'),\n",
       " 'temporal_pkl': PosixPath('../data/temporal_notes.pkl'),\n",
       " 'min_freq': 3,\n",
       " 'bc_threshold': {'lr': 0.47, 'rf': 0.32}}"
      ]
     },
     "execution_count": 3,
     "metadata": {},
     "output_type": "execute_result"
    }
   ],
   "source": [
    "from args import args\n",
    "vars(args)"
   ]
  },
  {
   "cell_type": "markdown",
   "metadata": {},
   "source": [
    "## Functions"
   ]
  },
  {
   "cell_type": "code",
   "execution_count": 4,
   "metadata": {
    "ExecuteTime": {
     "end_time": "2019-06-08T20:18:57.133760Z",
     "start_time": "2019-06-08T20:18:57.114791Z"
    }
   },
   "outputs": [],
   "source": [
    "def get_metrics(cm, mu=1e-7):\n",
    "  tn,fp,fn,tp = cm[0][0],cm[0][1],cm[1][0],cm[1][1]\n",
    "  sensitivity = tp/(tp+fn+mu)\n",
    "  specificity = tn/(tn+fp+mu)\n",
    "  ppv = tp/(tp+fp+mu)\n",
    "  npv = tn/(tn+fn+mu)\n",
    "\n",
    "#   d = {\n",
    "#     'sensitivity': np.round(sensitivity, 3),\n",
    "#     'specificity': np.round(specificity, 3),\n",
    "#     'ppv': np.round(ppv, 3),\n",
    "#     'npv': np.round(npv, 3),\n",
    "#   }\n",
    "\n",
    "#   return pd.DataFrame(d.values(), index=d.keys(), columns=['Value'])\n",
    "  return np.array([sensitivity, specificity, ppv, npv])"
   ]
  },
  {
   "cell_type": "markdown",
   "metadata": {
    "heading_collapsed": true
   },
   "source": [
    "## 100 Run Performance Results"
   ]
  },
  {
   "cell_type": "code",
   "execution_count": null,
   "metadata": {
    "ExecuteTime": {
     "end_time": "2019-06-08T20:10:26.287629Z",
     "start_time": "2019-06-08T20:10:22.643323Z"
    },
    "hidden": true
   },
   "outputs": [],
   "source": [
    "models = list(args.bc_threshold.keys())\n",
    "\n",
    "bams = {}\n",
    "\n",
    "for model in models:\n",
    "  with open(args.workdir/model/'preds.pkl', 'rb') as f:\n",
    "    targs = pickle.load(f)\n",
    "    preds = pickle.load(f)\n",
    "    probs = pickle.load(f)\n",
    "    \n",
    "  bams[model] = BinaryAvgMetrics(targs, preds, probs)\n",
    "\n",
    "all_metrics = {}\n",
    "\n",
    "for key in bams.keys():\n",
    "  all_metrics[key] = []\n",
    "  for i in range(len(bams[key].get_avg_metrics())):\n",
    "    all_metrics[key].append(bams[key].get_avg_metrics().iloc[i]['Value'])\n",
    "\n",
    "metrics = pd.DataFrame(all_metrics, index=['sensitivity', 'specificity', 'ppv', 'auroc', 'npv', 'f1'])\n",
    "metrics"
   ]
  },
  {
   "cell_type": "code",
   "execution_count": null,
   "metadata": {
    "ExecuteTime": {
     "end_time": "2019-06-08T20:10:26.509672Z",
     "start_time": "2019-06-08T20:10:26.290002Z"
    },
    "hidden": true
   },
   "outputs": [],
   "source": [
    "model = 'lr'\n",
    "bams[model].get_avg_metrics()"
   ]
  },
  {
   "cell_type": "code",
   "execution_count": null,
   "metadata": {
    "ExecuteTime": {
     "end_time": "2019-06-08T20:10:27.287979Z",
     "start_time": "2019-06-08T20:10:26.511212Z"
    },
    "hidden": true
   },
   "outputs": [],
   "source": [
    "fig, ax = plt.subplots(1, 1, figsize=(10, 8))\n",
    "plot_mean_roc(ax, bams[model].targs, bams[model].probs)"
   ]
  },
  {
   "cell_type": "code",
   "execution_count": null,
   "metadata": {
    "ExecuteTime": {
     "end_time": "2019-06-08T20:10:27.553976Z",
     "start_time": "2019-06-08T20:10:27.289351Z"
    },
    "hidden": true
   },
   "outputs": [],
   "source": [
    "fig, ax = plt.subplots(1, 2, figsize=(15, 6))\n",
    "\n",
    "plot_confusion_matrix(ax[0], bams[model].cm_avg, classes=['not imminent', 'imminent'], normalize=False,\\\n",
    "                      title='Confusion Matrix Over Runs')\n",
    "plot_confusion_matrix(ax[1], bams[model].cm_avg, classes=['not imminent', 'imminent'], normalize=True,\\\n",
    "                      title='Normalized Confusion Matrix Over Runs')\n",
    "plt.show()"
   ]
  },
  {
   "cell_type": "markdown",
   "metadata": {
    "heading_collapsed": true
   },
   "source": [
    "## Subsect data for Temporal Analysis"
   ]
  },
  {
   "cell_type": "code",
   "execution_count": null,
   "metadata": {
    "ExecuteTime": {
     "end_time": "2019-06-08T20:10:38.418777Z",
     "start_time": "2019-06-08T20:10:35.431951Z"
    },
    "hidden": true
   },
   "outputs": [],
   "source": [
    "df = pd.read_csv(args.dataset_csv, parse_dates=['admittime', 'dischtime', 'intime', 'charttime'])\n",
    "\n",
    "df['relative_charttime'] = (df['charttime'] - df['intime']).apply(lambda x: int(x.value/(1e9*60*60)))\n",
    "df['relative_charttime'].describe()"
   ]
  },
  {
   "cell_type": "code",
   "execution_count": null,
   "metadata": {
    "ExecuteTime": {
     "end_time": "2019-06-08T20:10:50.595308Z",
     "start_time": "2019-06-08T20:10:50.305972Z"
    },
    "hidden": true
   },
   "outputs": [],
   "source": [
    "# value in hours\n",
    "e1 = -480\n",
    "s1 = -120\n",
    "e2 = -72\n",
    "s2 = -24\n",
    "step = 6\n",
    "\n",
    "temporal_notes = []\n",
    "period = []\n",
    "\n",
    "for i in range(e1, s1, step):\n",
    "  tmp = df.loc[((df['relative_charttime'] >= i) & (df['relative_charttime'] <= (i+step)))].copy()\n",
    "  period.append(f'{i} ≤ t ≤ {i+step}')\n",
    "  temporal_notes.append(tmp)\n",
    "\n",
    "for i in range(e2, s2, step):\n",
    "  tmp = df.loc[((df['relative_charttime'] >= i) & (df['relative_charttime'] <= (i+step)))].copy()\n",
    "  period.append(f'{i} ≤ t ≤ {i+step}')\n",
    "  temporal_notes.append(tmp)"
   ]
  },
  {
   "cell_type": "markdown",
   "metadata": {
    "hidden": true
   },
   "source": [
    "These lengths should not be different..."
   ]
  },
  {
   "cell_type": "code",
   "execution_count": null,
   "metadata": {
    "ExecuteTime": {
     "end_time": "2019-06-08T20:10:59.836766Z",
     "start_time": "2019-06-08T20:10:59.789355Z"
    },
    "hidden": true
   },
   "outputs": [],
   "source": [
    "s = 0\n",
    "for x in temporal_notes:\n",
    "  s += len(x)\n",
    "tmp = df.loc[((df['relative_charttime'] >= e1) & (df['relative_charttime'] <= s1))\\\n",
    "               | ((df['relative_charttime'] >= e2) & (df['relative_charttime'] <= s2))].copy()\n",
    "print(s - len(tmp))"
   ]
  },
  {
   "cell_type": "code",
   "execution_count": null,
   "metadata": {
    "ExecuteTime": {
     "end_time": "2019-06-08T20:11:03.636722Z",
     "start_time": "2019-06-08T20:11:02.987549Z"
    },
    "hidden": true
   },
   "outputs": [],
   "source": [
    "with open(args.temporal_pkl, 'wb') as f:\n",
    "  pickle.dump(temporal_notes, f)\n",
    "  pickle.dump(period, f)"
   ]
  },
  {
   "cell_type": "markdown",
   "metadata": {},
   "source": [
    "## Temporal Performance Analysis"
   ]
  },
  {
   "cell_type": "code",
   "execution_count": 5,
   "metadata": {
    "ExecuteTime": {
     "end_time": "2019-06-08T20:19:00.860372Z",
     "start_time": "2019-06-08T20:19:00.453288Z"
    }
   },
   "outputs": [],
   "source": [
    "with open(args.temporal_pkl, 'rb') as f:\n",
    "  temporal_notes = pickle.load(f)\n",
    "  period = pickle.load(f)"
   ]
  },
  {
   "cell_type": "markdown",
   "metadata": {},
   "source": [
    "### Logistic Regression Model"
   ]
  },
  {
   "cell_type": "code",
   "execution_count": 6,
   "metadata": {
    "ExecuteTime": {
     "end_time": "2019-06-08T20:19:00.911395Z",
     "start_time": "2019-06-08T20:19:00.862127Z"
    }
   },
   "outputs": [],
   "source": [
    "from sklearn.feature_extraction.text import TfidfVectorizer\n",
    "from sklearn.linear_model import LogisticRegression"
   ]
  },
  {
   "cell_type": "code",
   "execution_count": 7,
   "metadata": {
    "ExecuteTime": {
     "end_time": "2019-06-08T20:19:00.967095Z",
     "start_time": "2019-06-08T20:19:00.912946Z"
    }
   },
   "outputs": [],
   "source": [
    "with open(args.workdir/'lr'/'full_run.pkl', 'rb') as f:\n",
    "  clf = pickle.load(f)\n",
    "  vocabulary = pickle.load(f)\n",
    "  \n",
    "vectorizer = TfidfVectorizer(min_df=3, analyzer=str.split, sublinear_tf=True,\\\n",
    "                              ngram_range=(2,2), vocabulary=vocabulary)  "
   ]
  },
  {
   "cell_type": "code",
   "execution_count": 8,
   "metadata": {
    "ExecuteTime": {
     "end_time": "2019-06-08T20:19:10.079506Z",
     "start_time": "2019-06-08T20:19:10.059871Z"
    }
   },
   "outputs": [],
   "source": [
    "metrics = np.zeros((len(period), 4))"
   ]
  },
  {
   "cell_type": "code",
   "execution_count": 11,
   "metadata": {
    "ExecuteTime": {
     "end_time": "2019-06-08T20:21:01.014770Z",
     "start_time": "2019-06-08T20:21:00.874593Z"
    }
   },
   "outputs": [],
   "source": [
    "import pdb"
   ]
  },
  {
   "cell_type": "code",
   "execution_count": 15,
   "metadata": {
    "ExecuteTime": {
     "end_time": "2019-06-08T20:29:37.671490Z",
     "start_time": "2019-06-08T20:21:40.823638Z"
    }
   },
   "outputs": [
    {
     "name": "stdout",
     "output_type": "stream",
     "text": [
      "-480 ≤ t ≤ -474\n",
      "[[138  44]\n",
      " [  0   0]]\n",
      "> <ipython-input-15-c97f846f7b9c>(10)<module>()\n",
      "-> metrics[i] = get_metrics(cm)\n",
      "(Pdb) c\n",
      "-474 ≤ t ≤ -468\n",
      "[[145  33]\n",
      " [  0   0]]\n",
      "> <ipython-input-15-c97f846f7b9c>(9)<module>()\n",
      "-> pdb.set_trace()\n",
      "(Pdb) c\n",
      "-468 ≤ t ≤ -462\n",
      "[[153  45]\n",
      " [  0   0]]\n",
      "> <ipython-input-15-c97f846f7b9c>(10)<module>()\n",
      "-> metrics[i] = get_metrics(cm)\n",
      "(Pdb) \n",
      "(Pdb) \n",
      "(Pdb) c\n",
      "-462 ≤ t ≤ -456\n",
      "[[178  37]\n",
      " [  0   0]]\n",
      "> <ipython-input-15-c97f846f7b9c>(9)<module>()\n",
      "-> pdb.set_trace()\n",
      "(Pdb) c\n",
      "-456 ≤ t ≤ -450\n",
      "[[174  46]\n",
      " [  0   0]]\n",
      "> <ipython-input-15-c97f846f7b9c>(10)<module>()\n",
      "-> metrics[i] = get_metrics(cm)\n",
      "(Pdb) c\n",
      "-450 ≤ t ≤ -444\n",
      "[[179  39]\n",
      " [  0   0]]\n",
      "> <ipython-input-15-c97f846f7b9c>(9)<module>()\n",
      "-> pdb.set_trace()\n",
      "(Pdb) c\n",
      "-444 ≤ t ≤ -438\n",
      "[[205  50]\n",
      " [  0   0]]\n",
      "> <ipython-input-15-c97f846f7b9c>(10)<module>()\n",
      "-> metrics[i] = get_metrics(cm)\n",
      "(Pdb) c\n",
      "-438 ≤ t ≤ -432\n",
      "[[226  64]\n",
      " [  0   0]]\n",
      "> <ipython-input-15-c97f846f7b9c>(9)<module>()\n",
      "-> pdb.set_trace()\n",
      "(Pdb) c\n",
      "-432 ≤ t ≤ -426\n",
      "[[184  52]\n",
      " [  0   0]]\n",
      "> <ipython-input-15-c97f846f7b9c>(10)<module>()\n",
      "-> metrics[i] = get_metrics(cm)\n",
      "(Pdb) c\n",
      "-426 ≤ t ≤ -420\n",
      "[[221  48]\n",
      " [  0   0]]\n",
      "> <ipython-input-15-c97f846f7b9c>(9)<module>()\n",
      "-> pdb.set_trace()\n",
      "(Pdb) c\n",
      "-420 ≤ t ≤ -414\n",
      "[[231  45]\n",
      " [  0   0]]\n",
      "> <ipython-input-15-c97f846f7b9c>(10)<module>()\n",
      "-> metrics[i] = get_metrics(cm)\n",
      "(Pdb) c\n",
      "-414 ≤ t ≤ -408\n",
      "[[257  77]\n",
      " [  0   0]]\n",
      "> <ipython-input-15-c97f846f7b9c>(9)<module>()\n",
      "-> pdb.set_trace()\n",
      "(Pdb) c\n",
      "-408 ≤ t ≤ -402\n",
      "[[224  71]\n",
      " [  0   0]]\n",
      "> <ipython-input-15-c97f846f7b9c>(10)<module>()\n",
      "-> metrics[i] = get_metrics(cm)\n",
      "(Pdb) c\n",
      "-402 ≤ t ≤ -396\n",
      "[[264  60]\n",
      " [  0   0]]\n",
      "> <ipython-input-15-c97f846f7b9c>(9)<module>()\n",
      "-> pdb.set_trace()\n",
      "(Pdb) \n",
      "(Pdb) c\n",
      "-396 ≤ t ≤ -390\n",
      "[[239  66]\n",
      " [  0   0]]\n",
      "> <ipython-input-15-c97f846f7b9c>(10)<module>()\n",
      "-> metrics[i] = get_metrics(cm)\n",
      "(Pdb) \n",
      "(Pdb) c\n",
      "-390 ≤ t ≤ -384\n",
      "[[289  75]\n",
      " [  0   0]]\n",
      "> <ipython-input-15-c97f846f7b9c>(9)<module>()\n",
      "-> pdb.set_trace()\n",
      "(Pdb) \n",
      "(Pdb) c\n",
      "-384 ≤ t ≤ -378\n",
      "[[268  75]\n",
      " [  0   0]]\n",
      "> <ipython-input-15-c97f846f7b9c>(10)<module>()\n",
      "-> metrics[i] = get_metrics(cm)\n",
      "(Pdb) \n",
      "(Pdb) c\n",
      "-378 ≤ t ≤ -372\n",
      "[[295  64]\n",
      " [  0   0]]\n",
      "> <ipython-input-15-c97f846f7b9c>(9)<module>()\n",
      "-> pdb.set_trace()\n",
      "(Pdb) \n",
      "(Pdb) c\n",
      "-372 ≤ t ≤ -366\n",
      "[[265  63]\n",
      " [  0   0]]\n",
      "> <ipython-input-15-c97f846f7b9c>(10)<module>()\n",
      "-> metrics[i] = get_metrics(cm)\n",
      "(Pdb) c\n",
      "-366 ≤ t ≤ -360\n",
      "[[316  71]\n",
      " [  0   0]]\n",
      "> <ipython-input-15-c97f846f7b9c>(9)<module>()\n",
      "-> pdb.set_trace()\n",
      "(Pdb) \n",
      "(Pdb) c\n",
      "-360 ≤ t ≤ -354\n",
      "[[298  77]\n",
      " [  0   0]]\n",
      "> <ipython-input-15-c97f846f7b9c>(10)<module>()\n",
      "-> metrics[i] = get_metrics(cm)\n",
      "(Pdb) \n",
      "(Pdb) c\n",
      "-354 ≤ t ≤ -348\n",
      "[[324  74]\n",
      " [  0   0]]\n",
      "> <ipython-input-15-c97f846f7b9c>(9)<module>()\n",
      "-> pdb.set_trace()\n",
      "(Pdb) \n",
      "(Pdb) c\n",
      "-348 ≤ t ≤ -342\n",
      "[[341  95]\n",
      " [  0   0]]\n",
      "> <ipython-input-15-c97f846f7b9c>(10)<module>()\n",
      "-> metrics[i] = get_metrics(cm)\n",
      "(Pdb) \n",
      "(Pdb) c\n",
      "-342 ≤ t ≤ -336\n",
      "[[348 102]\n",
      " [  0   0]]\n",
      "> <ipython-input-15-c97f846f7b9c>(9)<module>()\n",
      "-> pdb.set_trace()\n",
      "(Pdb) \n",
      "(Pdb) c\n",
      "-336 ≤ t ≤ -330\n",
      "[[320  97]\n",
      " [  0   0]]\n",
      "> <ipython-input-15-c97f846f7b9c>(10)<module>()\n",
      "-> metrics[i] = get_metrics(cm)\n",
      "(Pdb) \n",
      "(Pdb) c\n",
      "-330 ≤ t ≤ -324\n",
      "[[359  82]\n",
      " [  0   0]]\n",
      "> <ipython-input-15-c97f846f7b9c>(9)<module>()\n",
      "-> pdb.set_trace()\n",
      "(Pdb) \n",
      "(Pdb) c\n",
      "-324 ≤ t ≤ -318\n",
      "[[380 101]\n",
      " [  0   0]]\n",
      "> <ipython-input-15-c97f846f7b9c>(10)<module>()\n",
      "-> metrics[i] = get_metrics(cm)\n",
      "(Pdb) \n",
      "(Pdb) c\n",
      "-318 ≤ t ≤ -312\n",
      "[[410 118]\n",
      " [  0   0]]\n",
      "> <ipython-input-15-c97f846f7b9c>(9)<module>()\n",
      "-> pdb.set_trace()\n",
      "(Pdb) c\n",
      "-312 ≤ t ≤ -306\n",
      "[[373 120]\n",
      " [  0   0]]\n",
      "> <ipython-input-15-c97f846f7b9c>(10)<module>()\n",
      "-> metrics[i] = get_metrics(cm)\n",
      "(Pdb) \n",
      "(Pdb) c\n",
      "-306 ≤ t ≤ -300\n",
      "[[394  85]\n",
      " [  0   0]]\n",
      "> <ipython-input-15-c97f846f7b9c>(9)<module>()\n",
      "-> pdb.set_trace()\n",
      "(Pdb) \n",
      "(Pdb) c\n",
      "-300 ≤ t ≤ -294\n",
      "[[466 131]\n",
      " [  0   0]]\n",
      "> <ipython-input-15-c97f846f7b9c>(10)<module>()\n",
      "-> metrics[i] = get_metrics(cm)\n",
      "(Pdb) \n",
      "(Pdb) c\n",
      "-294 ≤ t ≤ -288\n",
      "[[462 152]\n",
      " [  0   0]]\n",
      "> <ipython-input-15-c97f846f7b9c>(9)<module>()\n",
      "-> pdb.set_trace()\n",
      "(Pdb) \n",
      "(Pdb) c\n",
      "-288 ≤ t ≤ -282\n",
      "[[386 144]\n",
      " [  0   0]]\n",
      "> <ipython-input-15-c97f846f7b9c>(10)<module>()\n",
      "-> metrics[i] = get_metrics(cm)\n",
      "(Pdb) \n",
      "(Pdb) c\n",
      "-282 ≤ t ≤ -276\n",
      "[[444 111]\n",
      " [  0   0]]\n",
      "> <ipython-input-15-c97f846f7b9c>(9)<module>()\n",
      "-> pdb.set_trace()\n",
      "(Pdb) \n",
      "(Pdb) c\n",
      "-276 ≤ t ≤ -270\n",
      "[[462 149]\n",
      " [  0   0]]\n",
      "> <ipython-input-15-c97f846f7b9c>(10)<module>()\n",
      "-> metrics[i] = get_metrics(cm)\n",
      "(Pdb) \n",
      "(Pdb) c\n",
      "-270 ≤ t ≤ -264\n",
      "[[532 188]\n",
      " [  0   0]]\n",
      "> <ipython-input-15-c97f846f7b9c>(9)<module>()\n",
      "-> pdb.set_trace()\n",
      "(Pdb) \n",
      "(Pdb) c\n",
      "-264 ≤ t ≤ -258\n",
      "[[445 161]\n",
      " [  0   0]]\n",
      "> <ipython-input-15-c97f846f7b9c>(10)<module>()\n",
      "-> metrics[i] = get_metrics(cm)\n",
      "(Pdb) \n",
      "(Pdb) c\n",
      "-258 ≤ t ≤ -252\n",
      "[[451 126]\n",
      " [  0   0]]\n",
      "> <ipython-input-15-c97f846f7b9c>(9)<module>()\n",
      "-> pdb.set_trace()\n",
      "(Pdb) c\n",
      "-252 ≤ t ≤ -246\n",
      "[[519 166]\n",
      " [  0   0]]\n",
      "> <ipython-input-15-c97f846f7b9c>(10)<module>()\n",
      "-> metrics[i] = get_metrics(cm)\n",
      "(Pdb) \n",
      "(Pdb) c\n",
      "-246 ≤ t ≤ -240\n",
      "[[553 200]\n",
      " [  0   0]]\n",
      "> <ipython-input-15-c97f846f7b9c>(9)<module>()\n",
      "-> pdb.set_trace()\n",
      "(Pdb) c\n",
      "-240 ≤ t ≤ -234\n",
      "[[446 200]\n",
      " [  0   0]]\n",
      "> <ipython-input-15-c97f846f7b9c>(10)<module>()\n",
      "-> metrics[i] = get_metrics(cm)\n",
      "(Pdb) \n",
      "(Pdb) \n",
      "(Pdb) c\n",
      "-234 ≤ t ≤ -228\n",
      "[[559 178]\n",
      " [  0   0]]\n",
      "> <ipython-input-15-c97f846f7b9c>(9)<module>()\n",
      "-> pdb.set_trace()\n",
      "(Pdb) \n",
      "(Pdb) c\n",
      "-228 ≤ t ≤ -222\n",
      "[[559 184]\n",
      " [  0   0]]\n",
      "> <ipython-input-15-c97f846f7b9c>(10)<module>()\n",
      "-> metrics[i] = get_metrics(cm)\n",
      "(Pdb) \n",
      "(Pdb) c\n",
      "-222 ≤ t ≤ -216\n",
      "[[603 233]\n",
      " [  0   0]]\n",
      "> <ipython-input-15-c97f846f7b9c>(9)<module>()\n",
      "-> pdb.set_trace()\n",
      "(Pdb) \n",
      "(Pdb) c\n",
      "-216 ≤ t ≤ -210\n",
      "[[543 217]\n",
      " [  0   0]]\n",
      "> <ipython-input-15-c97f846f7b9c>(10)<module>()\n",
      "-> metrics[i] = get_metrics(cm)\n",
      "(Pdb) c\n",
      "-210 ≤ t ≤ -204\n",
      "[[600 202]\n",
      " [  0   0]]\n",
      "> <ipython-input-15-c97f846f7b9c>(9)<module>()\n",
      "-> pdb.set_trace()\n",
      "(Pdb) c\n",
      "-204 ≤ t ≤ -198\n",
      "[[618 223]\n",
      " [  0   0]]\n",
      "> <ipython-input-15-c97f846f7b9c>(10)<module>()\n",
      "-> metrics[i] = get_metrics(cm)\n",
      "(Pdb) c\n",
      "-198 ≤ t ≤ -192\n",
      "[[662 312]\n",
      " [  0   0]]\n",
      "> <ipython-input-15-c97f846f7b9c>(9)<module>()\n",
      "-> pdb.set_trace()\n",
      "(Pdb) c\n",
      "-192 ≤ t ≤ -186\n",
      "[[631 275]\n",
      " [  0   0]]\n",
      "> <ipython-input-15-c97f846f7b9c>(10)<module>()\n",
      "-> metrics[i] = get_metrics(cm)\n",
      "(Pdb) c\n",
      "-186 ≤ t ≤ -180\n",
      "[[680 260]\n",
      " [  0   0]]\n",
      "> <ipython-input-15-c97f846f7b9c>(9)<module>()\n",
      "-> pdb.set_trace()\n",
      "(Pdb) c\n",
      "-180 ≤ t ≤ -174\n",
      "[[651 274]\n",
      " [  0   0]]\n",
      "> <ipython-input-15-c97f846f7b9c>(10)<module>()\n",
      "-> metrics[i] = get_metrics(cm)\n",
      "(Pdb) c\n",
      "-174 ≤ t ≤ -168\n",
      "[[787 392]\n",
      " [  0   0]]\n",
      "> <ipython-input-15-c97f846f7b9c>(9)<module>()\n",
      "-> pdb.set_trace()\n",
      "(Pdb) c\n",
      "-168 ≤ t ≤ -162\n",
      "[[677 380]\n",
      " [  0   0]]\n",
      "> <ipython-input-15-c97f846f7b9c>(10)<module>()\n",
      "-> metrics[i] = get_metrics(cm)\n",
      "(Pdb) c\n",
      "-162 ≤ t ≤ -156\n",
      "[[670 323]\n",
      " [  0   0]]\n",
      "> <ipython-input-15-c97f846f7b9c>(9)<module>()\n",
      "-> pdb.set_trace()\n",
      "(Pdb) c\n",
      "-156 ≤ t ≤ -150\n",
      "[[701 337]\n",
      " [  0   0]]\n",
      "> <ipython-input-15-c97f846f7b9c>(10)<module>()\n",
      "-> metrics[i] = get_metrics(cm)\n",
      "(Pdb) c\n",
      "-150 ≤ t ≤ -144\n",
      "[[844 457]\n",
      " [  0   0]]\n",
      "> <ipython-input-15-c97f846f7b9c>(9)<module>()\n",
      "-> pdb.set_trace()\n",
      "(Pdb) c\n",
      "-144 ≤ t ≤ -138\n",
      "[[761 419]\n",
      " [  0   0]]\n",
      "> <ipython-input-15-c97f846f7b9c>(10)<module>()\n",
      "-> metrics[i] = get_metrics(cm)\n",
      "(Pdb) c\n",
      "-138 ≤ t ≤ -132\n",
      "[[725 378]\n",
      " [  0   0]]\n",
      "> <ipython-input-15-c97f846f7b9c>(9)<module>()\n",
      "-> pdb.set_trace()\n",
      "(Pdb) c\n",
      "-132 ≤ t ≤ -126\n",
      "[[781 443]\n",
      " [  0   0]]\n",
      "> <ipython-input-15-c97f846f7b9c>(10)<module>()\n",
      "-> metrics[i] = get_metrics(cm)\n",
      "(Pdb) c\n",
      "-126 ≤ t ≤ -120\n",
      "[[904 601]\n",
      " [  0   0]]\n",
      "> <ipython-input-15-c97f846f7b9c>(9)<module>()\n",
      "-> pdb.set_trace()\n",
      "(Pdb) \n",
      "(Pdb) c\n",
      "-72 ≤ t ≤ -66\n",
      "[[   0    0]\n",
      " [ 234 1210]]\n",
      "> <ipython-input-15-c97f846f7b9c>(10)<module>()\n",
      "-> metrics[i] = get_metrics(cm)\n",
      "(Pdb) c\n",
      "-66 ≤ t ≤ -60\n",
      "[[   0    0]\n",
      " [ 301 1244]]\n",
      "> <ipython-input-15-c97f846f7b9c>(9)<module>()\n",
      "-> pdb.set_trace()\n",
      "(Pdb) \n",
      "(Pdb) c\n",
      "-60 ≤ t ≤ -54\n",
      "[[   0    0]\n",
      " [ 248 1274]]\n",
      "> <ipython-input-15-c97f846f7b9c>(10)<module>()\n",
      "-> metrics[i] = get_metrics(cm)\n",
      "(Pdb) \n",
      "(Pdb) c\n",
      "-54 ≤ t ≤ -48\n",
      "[[   0    0]\n",
      " [ 287 1621]]\n",
      "> <ipython-input-15-c97f846f7b9c>(9)<module>()\n",
      "-> pdb.set_trace()\n",
      "(Pdb) c\n",
      "-48 ≤ t ≤ -42\n",
      "[[   0    0]\n",
      " [ 219 1565]]\n",
      "> <ipython-input-15-c97f846f7b9c>(10)<module>()\n",
      "-> metrics[i] = get_metrics(cm)\n",
      "(Pdb) c\n",
      "-42 ≤ t ≤ -36\n",
      "[[   0    0]\n",
      " [ 215 1387]]\n",
      "> <ipython-input-15-c97f846f7b9c>(9)<module>()\n",
      "-> pdb.set_trace()\n",
      "(Pdb) q\n"
     ]
    },
    {
     "ename": "BdbQuit",
     "evalue": "",
     "output_type": "error",
     "traceback": [
      "\u001b[0;31m---------------------------------------------------------------------------\u001b[0m",
      "\u001b[0;31mBdbQuit\u001b[0m                                   Traceback (most recent call last)",
      "\u001b[0;32m<ipython-input-15-c97f846f7b9c>\u001b[0m in \u001b[0;36m<module>\u001b[0;34m\u001b[0m\n\u001b[1;32m      7\u001b[0m   \u001b[0mprint\u001b[0m\u001b[0;34m(\u001b[0m\u001b[0mlabel\u001b[0m\u001b[0;34m)\u001b[0m\u001b[0;34m\u001b[0m\u001b[0;34m\u001b[0m\u001b[0m\n\u001b[1;32m      8\u001b[0m   \u001b[0mprint\u001b[0m\u001b[0;34m(\u001b[0m\u001b[0mcm\u001b[0m\u001b[0;34m)\u001b[0m\u001b[0;34m\u001b[0m\u001b[0;34m\u001b[0m\u001b[0m\n\u001b[0;32m----> 9\u001b[0;31m   \u001b[0mpdb\u001b[0m\u001b[0;34m.\u001b[0m\u001b[0mset_trace\u001b[0m\u001b[0;34m(\u001b[0m\u001b[0;34m)\u001b[0m\u001b[0;34m\u001b[0m\u001b[0;34m\u001b[0m\u001b[0m\n\u001b[0m\u001b[1;32m     10\u001b[0m   \u001b[0mmetrics\u001b[0m\u001b[0;34m[\u001b[0m\u001b[0mi\u001b[0m\u001b[0;34m]\u001b[0m \u001b[0;34m=\u001b[0m \u001b[0mget_metrics\u001b[0m\u001b[0;34m(\u001b[0m\u001b[0mcm\u001b[0m\u001b[0;34m)\u001b[0m\u001b[0;34m\u001b[0m\u001b[0;34m\u001b[0m\u001b[0m\n",
      "\u001b[0;32m<ipython-input-15-c97f846f7b9c>\u001b[0m in \u001b[0;36m<module>\u001b[0;34m\u001b[0m\n\u001b[1;32m      7\u001b[0m   \u001b[0mprint\u001b[0m\u001b[0;34m(\u001b[0m\u001b[0mlabel\u001b[0m\u001b[0;34m)\u001b[0m\u001b[0;34m\u001b[0m\u001b[0;34m\u001b[0m\u001b[0m\n\u001b[1;32m      8\u001b[0m   \u001b[0mprint\u001b[0m\u001b[0;34m(\u001b[0m\u001b[0mcm\u001b[0m\u001b[0;34m)\u001b[0m\u001b[0;34m\u001b[0m\u001b[0;34m\u001b[0m\u001b[0m\n\u001b[0;32m----> 9\u001b[0;31m   \u001b[0mpdb\u001b[0m\u001b[0;34m.\u001b[0m\u001b[0mset_trace\u001b[0m\u001b[0;34m(\u001b[0m\u001b[0;34m)\u001b[0m\u001b[0;34m\u001b[0m\u001b[0;34m\u001b[0m\u001b[0m\n\u001b[0m\u001b[1;32m     10\u001b[0m   \u001b[0mmetrics\u001b[0m\u001b[0;34m[\u001b[0m\u001b[0mi\u001b[0m\u001b[0;34m]\u001b[0m \u001b[0;34m=\u001b[0m \u001b[0mget_metrics\u001b[0m\u001b[0;34m(\u001b[0m\u001b[0mcm\u001b[0m\u001b[0;34m)\u001b[0m\u001b[0;34m\u001b[0m\u001b[0;34m\u001b[0m\u001b[0m\n",
      "\u001b[0;32m/net/vaosl01/opt/NFS/su0/anaconda3/envs/icu/lib/python3.7/bdb.py\u001b[0m in \u001b[0;36mtrace_dispatch\u001b[0;34m(self, frame, event, arg)\u001b[0m\n\u001b[1;32m     86\u001b[0m             \u001b[0;32mreturn\u001b[0m \u001b[0;31m# None\u001b[0m\u001b[0;34m\u001b[0m\u001b[0;34m\u001b[0m\u001b[0m\n\u001b[1;32m     87\u001b[0m         \u001b[0;32mif\u001b[0m \u001b[0mevent\u001b[0m \u001b[0;34m==\u001b[0m \u001b[0;34m'line'\u001b[0m\u001b[0;34m:\u001b[0m\u001b[0;34m\u001b[0m\u001b[0;34m\u001b[0m\u001b[0m\n\u001b[0;32m---> 88\u001b[0;31m             \u001b[0;32mreturn\u001b[0m \u001b[0mself\u001b[0m\u001b[0;34m.\u001b[0m\u001b[0mdispatch_line\u001b[0m\u001b[0;34m(\u001b[0m\u001b[0mframe\u001b[0m\u001b[0;34m)\u001b[0m\u001b[0;34m\u001b[0m\u001b[0;34m\u001b[0m\u001b[0m\n\u001b[0m\u001b[1;32m     89\u001b[0m         \u001b[0;32mif\u001b[0m \u001b[0mevent\u001b[0m \u001b[0;34m==\u001b[0m \u001b[0;34m'call'\u001b[0m\u001b[0;34m:\u001b[0m\u001b[0;34m\u001b[0m\u001b[0;34m\u001b[0m\u001b[0m\n\u001b[1;32m     90\u001b[0m             \u001b[0;32mreturn\u001b[0m \u001b[0mself\u001b[0m\u001b[0;34m.\u001b[0m\u001b[0mdispatch_call\u001b[0m\u001b[0;34m(\u001b[0m\u001b[0mframe\u001b[0m\u001b[0;34m,\u001b[0m \u001b[0marg\u001b[0m\u001b[0;34m)\u001b[0m\u001b[0;34m\u001b[0m\u001b[0;34m\u001b[0m\u001b[0m\n",
      "\u001b[0;32m/net/vaosl01/opt/NFS/su0/anaconda3/envs/icu/lib/python3.7/bdb.py\u001b[0m in \u001b[0;36mdispatch_line\u001b[0;34m(self, frame)\u001b[0m\n\u001b[1;32m    111\u001b[0m         \u001b[0;32mif\u001b[0m \u001b[0mself\u001b[0m\u001b[0;34m.\u001b[0m\u001b[0mstop_here\u001b[0m\u001b[0;34m(\u001b[0m\u001b[0mframe\u001b[0m\u001b[0;34m)\u001b[0m \u001b[0;32mor\u001b[0m \u001b[0mself\u001b[0m\u001b[0;34m.\u001b[0m\u001b[0mbreak_here\u001b[0m\u001b[0;34m(\u001b[0m\u001b[0mframe\u001b[0m\u001b[0;34m)\u001b[0m\u001b[0;34m:\u001b[0m\u001b[0;34m\u001b[0m\u001b[0;34m\u001b[0m\u001b[0m\n\u001b[1;32m    112\u001b[0m             \u001b[0mself\u001b[0m\u001b[0;34m.\u001b[0m\u001b[0muser_line\u001b[0m\u001b[0;34m(\u001b[0m\u001b[0mframe\u001b[0m\u001b[0;34m)\u001b[0m\u001b[0;34m\u001b[0m\u001b[0;34m\u001b[0m\u001b[0m\n\u001b[0;32m--> 113\u001b[0;31m             \u001b[0;32mif\u001b[0m \u001b[0mself\u001b[0m\u001b[0;34m.\u001b[0m\u001b[0mquitting\u001b[0m\u001b[0;34m:\u001b[0m \u001b[0;32mraise\u001b[0m \u001b[0mBdbQuit\u001b[0m\u001b[0;34m\u001b[0m\u001b[0;34m\u001b[0m\u001b[0m\n\u001b[0m\u001b[1;32m    114\u001b[0m         \u001b[0;32mreturn\u001b[0m \u001b[0mself\u001b[0m\u001b[0;34m.\u001b[0m\u001b[0mtrace_dispatch\u001b[0m\u001b[0;34m\u001b[0m\u001b[0;34m\u001b[0m\u001b[0m\n\u001b[1;32m    115\u001b[0m \u001b[0;34m\u001b[0m\u001b[0m\n",
      "\u001b[0;31mBdbQuit\u001b[0m: "
     ]
    }
   ],
   "source": [
    "for i in range(len(period)):\n",
    "  label = period[i]\n",
    "  df = temporal_notes[i][['scispacy_note', 'class_label']]\n",
    "  prob = clf.predict_proba(vectorizer.fit_transform(df['scispacy_note']))[:, 1]\n",
    "  y_pred = (prob > args.bc_threshold['lr']).astype(np.int64)\n",
    "  cm = confusion_matrix(df['class_label'].to_numpy(), y_pred)\n",
    "  print(label)\n",
    "  print(cmccc)\n",
    "  pdb.set_trace()\n",
    "  metrics[i] = get_metrics(cm)"
   ]
  }
 ],
 "metadata": {
  "kernelspec": {
   "display_name": "Python 3",
   "language": "python",
   "name": "python3"
  },
  "language_info": {
   "codemirror_mode": {
    "name": "ipython",
    "version": 3
   },
   "file_extension": ".py",
   "mimetype": "text/x-python",
   "name": "python",
   "nbconvert_exporter": "python",
   "pygments_lexer": "ipython3",
   "version": "3.7.3"
  },
  "toc": {
   "base_numbering": 1,
   "nav_menu": {},
   "number_sections": true,
   "sideBar": true,
   "skip_h1_title": true,
   "title_cell": "Table of Contents",
   "title_sidebar": "Contents",
   "toc_cell": false,
   "toc_position": {
    "height": "calc(100% - 180px)",
    "left": "10px",
    "top": "150px",
    "width": "165px"
   },
   "toc_section_display": true,
   "toc_window_display": false
  }
 },
 "nbformat": 4,
 "nbformat_minor": 2
}
