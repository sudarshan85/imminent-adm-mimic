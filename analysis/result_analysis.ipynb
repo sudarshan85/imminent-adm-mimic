{
 "cells": [
  {
   "cell_type": "markdown",
   "metadata": {},
   "source": [
    "# Result Analysis"
   ]
  },
  {
   "cell_type": "markdown",
   "metadata": {},
   "source": [
    "## Imports & Inits"
   ]
  },
  {
   "cell_type": "code",
   "execution_count": 1,
   "metadata": {
    "ExecuteTime": {
     "end_time": "2019-07-30T12:37:07.032459Z",
     "start_time": "2019-07-30T12:37:07.019623Z"
    }
   },
   "outputs": [],
   "source": [
    "%load_ext autoreload\n",
    "%autoreload 2"
   ]
  },
  {
   "cell_type": "code",
   "execution_count": 2,
   "metadata": {
    "ExecuteTime": {
     "end_time": "2019-07-30T12:37:09.090757Z",
     "start_time": "2019-07-30T12:37:07.033706Z"
    }
   },
   "outputs": [
    {
     "data": {
      "text/plain": [
       "{'workdir': PosixPath('../data/workdir'),\n",
       " 'figdir': PosixPath('../data/figures'),\n",
       " 'raw_csv': PosixPath('../data/raw_dataset.csv'),\n",
       " 'proc_csv': PosixPath('../data/proc_dataset.csv'),\n",
       " 'imminent_adm_cols': ['hadm_id', 'imminent_adm_label'],\n",
       " 'prolonged_stay_cols': ['hadm_id', 'prolonged_stay_label'],\n",
       " 'cols': ['hadm_id',\n",
       "  'imminent_adm_label',\n",
       "  'prolonged_stay_label',\n",
       "  'processed_note',\n",
       "  'charttime',\n",
       "  'intime'],\n",
       " 'dates': ['charttime', 'intime'],\n",
       " 'ia_thresh': {'lr': 0.45, 'rf': 0.27, 'gbm': 0.435, 'mlp': 0.2},\n",
       " 'ps_thresh': {'lr': 0.39, 'rf': 0.36, 'gbm': 0.324, 'mlp': 0.27}}"
      ]
     },
     "execution_count": 2,
     "metadata": {},
     "output_type": "execute_result"
    }
   ],
   "source": [
    "import sys\n",
    "sys.path.append('../')\n",
    "\n",
    "import matplotlib.pyplot as plt\n",
    "import seaborn as sns\n",
    "sns.set_style(\"darkgrid\")\n",
    "%matplotlib inline\n",
    "\n",
    "import numpy as np\n",
    "np.set_printoptions(precision=2)\n",
    "\n",
    "import pandas as pd\n",
    "import pickle\n",
    "import torch\n",
    "from pathlib import Path\n",
    "from tqdm import tqdm_notebook as tqdm\n",
    "\n",
    "from sklearn.feature_extraction.text import TfidfVectorizer\n",
    "from torch.utils.data import DataLoader, TensorDataset, SequentialSampler\n",
    "\n",
    "from utils.metrics import BinaryAvgMetrics\n",
    "from utils.plots import *\n",
    "from args import args\n",
    "vars(args)"
   ]
  },
  {
   "cell_type": "markdown",
   "metadata": {},
   "source": [
    "## 100 Run Performance Results"
   ]
  },
  {
   "cell_type": "code",
   "execution_count": 3,
   "metadata": {
    "ExecuteTime": {
     "end_time": "2019-07-30T12:37:24.392562Z",
     "start_time": "2019-07-30T12:37:09.093034Z"
    }
   },
   "outputs": [],
   "source": [
    "models = list(args.ia_thresh.keys())\n",
    "\n",
    "ia_bams = {}\n",
    "ps_bams = {}\n",
    "\n",
    "for model in models:\n",
    "  with open(args.workdir/model/'imminent_adm_preds.pkl', 'rb') as f:\n",
    "    targs = pickle.load(f)\n",
    "    preds = pickle.load(f)\n",
    "    probs = pickle.load(f)\n",
    "  ia_bams[model] = BinaryAvgMetrics(targs, preds, probs)\n",
    "    \n",
    "  with open(args.workdir/model/'prolonged_stay_preds.pkl', 'rb') as f:\n",
    "    targs = pickle.load(f)\n",
    "    preds = pickle.load(f)\n",
    "    probs = pickle.load(f)    \n",
    "  ps_bams[model] = BinaryAvgMetrics(targs, preds, probs)    \n",
    "\n",
    "ia_metrics = {}\n",
    "ps_metrics = {}\n",
    "\n",
    "for key in ia_bams.keys():\n",
    "  ia_metrics[key] = []\n",
    "  ps_metrics[key] = []\n",
    "  for i in range(len(ia_bams[key].get_avg_metrics())):\n",
    "    ia_metrics[key].append(ia_bams[key].get_avg_metrics().iloc[i]['Value'])\n",
    "  for i in range(len(ps_bams[key].get_avg_metrics())):\n",
    "    ps_metrics[key].append(ps_bams[key].get_avg_metrics().iloc[i]['Value'])    \n",
    "\n",
    "ia_metrics = pd.DataFrame(ia_metrics, index=['sensitivity', 'specificity', 'ppv', 'auroc', 'npv', 'f1'])\n",
    "ps_metrics = pd.DataFrame(ps_metrics, index=['sensitivity', 'specificity', 'ppv', 'auroc', 'npv', 'f1'])"
   ]
  },
  {
   "cell_type": "code",
   "execution_count": 4,
   "metadata": {
    "ExecuteTime": {
     "end_time": "2019-07-30T12:37:24.438027Z",
     "start_time": "2019-07-30T12:37:24.394936Z"
    }
   },
   "outputs": [
    {
     "data": {
      "text/html": [
       "<div>\n",
       "<style scoped>\n",
       "    .dataframe tbody tr th:only-of-type {\n",
       "        vertical-align: middle;\n",
       "    }\n",
       "\n",
       "    .dataframe tbody tr th {\n",
       "        vertical-align: top;\n",
       "    }\n",
       "\n",
       "    .dataframe thead th {\n",
       "        text-align: right;\n",
       "    }\n",
       "</style>\n",
       "<table border=\"1\" class=\"dataframe\">\n",
       "  <thead>\n",
       "    <tr style=\"text-align: right;\">\n",
       "      <th></th>\n",
       "      <th>lr</th>\n",
       "      <th>rf</th>\n",
       "      <th>gbm</th>\n",
       "      <th>mlp</th>\n",
       "    </tr>\n",
       "  </thead>\n",
       "  <tbody>\n",
       "    <tr>\n",
       "      <th>sensitivity</th>\n",
       "      <td>84.1</td>\n",
       "      <td>82.6</td>\n",
       "      <td>82.6</td>\n",
       "      <td>82.1</td>\n",
       "    </tr>\n",
       "    <tr>\n",
       "      <th>specificity</th>\n",
       "      <td>57.6</td>\n",
       "      <td>64.8</td>\n",
       "      <td>64.5</td>\n",
       "      <td>63.6</td>\n",
       "    </tr>\n",
       "    <tr>\n",
       "      <th>ppv</th>\n",
       "      <td>38.5</td>\n",
       "      <td>42.5</td>\n",
       "      <td>42.4</td>\n",
       "      <td>41.6</td>\n",
       "    </tr>\n",
       "    <tr>\n",
       "      <th>auroc</th>\n",
       "      <td>79.1</td>\n",
       "      <td>80.8</td>\n",
       "      <td>81.0</td>\n",
       "      <td>80.4</td>\n",
       "    </tr>\n",
       "    <tr>\n",
       "      <th>npv</th>\n",
       "      <td>91.9</td>\n",
       "      <td>92.1</td>\n",
       "      <td>92.1</td>\n",
       "      <td>91.8</td>\n",
       "    </tr>\n",
       "    <tr>\n",
       "      <th>f1</th>\n",
       "      <td>52.7</td>\n",
       "      <td>56.1</td>\n",
       "      <td>56.0</td>\n",
       "      <td>55.2</td>\n",
       "    </tr>\n",
       "  </tbody>\n",
       "</table>\n",
       "</div>"
      ],
      "text/plain": [
       "               lr    rf   gbm   mlp\n",
       "sensitivity  84.1  82.6  82.6  82.1\n",
       "specificity  57.6  64.8  64.5  63.6\n",
       "ppv          38.5  42.5  42.4  41.6\n",
       "auroc        79.1  80.8  81.0  80.4\n",
       "npv          91.9  92.1  92.1  91.8\n",
       "f1           52.7  56.1  56.0  55.2"
      ]
     },
     "execution_count": 4,
     "metadata": {},
     "output_type": "execute_result"
    }
   ],
   "source": [
    "ia_metrics"
   ]
  },
  {
   "cell_type": "code",
   "execution_count": 5,
   "metadata": {
    "ExecuteTime": {
     "end_time": "2019-07-30T12:37:24.467466Z",
     "start_time": "2019-07-30T12:37:24.439273Z"
    }
   },
   "outputs": [
    {
     "data": {
      "text/html": [
       "<div>\n",
       "<style scoped>\n",
       "    .dataframe tbody tr th:only-of-type {\n",
       "        vertical-align: middle;\n",
       "    }\n",
       "\n",
       "    .dataframe tbody tr th {\n",
       "        vertical-align: top;\n",
       "    }\n",
       "\n",
       "    .dataframe thead th {\n",
       "        text-align: right;\n",
       "    }\n",
       "</style>\n",
       "<table border=\"1\" class=\"dataframe\">\n",
       "  <thead>\n",
       "    <tr style=\"text-align: right;\">\n",
       "      <th></th>\n",
       "      <th>lr</th>\n",
       "      <th>rf</th>\n",
       "      <th>gbm</th>\n",
       "      <th>mlp</th>\n",
       "    </tr>\n",
       "  </thead>\n",
       "  <tbody>\n",
       "    <tr>\n",
       "      <th>sensitivity</th>\n",
       "      <td>82.7</td>\n",
       "      <td>69.1</td>\n",
       "      <td>71.9</td>\n",
       "      <td>71.3</td>\n",
       "    </tr>\n",
       "    <tr>\n",
       "      <th>specificity</th>\n",
       "      <td>24.2</td>\n",
       "      <td>39.9</td>\n",
       "      <td>35.4</td>\n",
       "      <td>37.4</td>\n",
       "    </tr>\n",
       "    <tr>\n",
       "      <th>ppv</th>\n",
       "      <td>39.9</td>\n",
       "      <td>41.1</td>\n",
       "      <td>40.3</td>\n",
       "      <td>41.0</td>\n",
       "    </tr>\n",
       "    <tr>\n",
       "      <th>auroc</th>\n",
       "      <td>55.5</td>\n",
       "      <td>56.3</td>\n",
       "      <td>55.3</td>\n",
       "      <td>56.2</td>\n",
       "    </tr>\n",
       "    <tr>\n",
       "      <th>npv</th>\n",
       "      <td>69.6</td>\n",
       "      <td>68.0</td>\n",
       "      <td>67.4</td>\n",
       "      <td>68.2</td>\n",
       "    </tr>\n",
       "    <tr>\n",
       "      <th>f1</th>\n",
       "      <td>53.7</td>\n",
       "      <td>51.4</td>\n",
       "      <td>51.6</td>\n",
       "      <td>51.9</td>\n",
       "    </tr>\n",
       "  </tbody>\n",
       "</table>\n",
       "</div>"
      ],
      "text/plain": [
       "               lr    rf   gbm   mlp\n",
       "sensitivity  82.7  69.1  71.9  71.3\n",
       "specificity  24.2  39.9  35.4  37.4\n",
       "ppv          39.9  41.1  40.3  41.0\n",
       "auroc        55.5  56.3  55.3  56.2\n",
       "npv          69.6  68.0  67.4  68.2\n",
       "f1           53.7  51.4  51.6  51.9"
      ]
     },
     "execution_count": 5,
     "metadata": {},
     "output_type": "execute_result"
    }
   ],
   "source": [
    "ps_metrics"
   ]
  },
  {
   "cell_type": "code",
   "execution_count": 6,
   "metadata": {
    "ExecuteTime": {
     "end_time": "2019-07-30T12:37:24.492302Z",
     "start_time": "2019-07-30T12:37:24.468698Z"
    }
   },
   "outputs": [
    {
     "data": {
      "text/plain": [
       "Number of Runs: 100\n",
       "Average Prevalence of positive class: 0.378"
      ]
     },
     "execution_count": 6,
     "metadata": {},
     "output_type": "execute_result"
    }
   ],
   "source": [
    "lr_bams = ps_bams['lr']\n",
    "lr_bams"
   ]
  },
  {
   "cell_type": "code",
   "execution_count": null,
   "metadata": {
    "ExecuteTime": {
     "end_time": "2019-07-22T20:09:43.185383Z",
     "start_time": "2019-07-22T20:09:42.946914Z"
    }
   },
   "outputs": [],
   "source": [
    "model = 'mlp'\n",
    "ia_bams[model].get_avg_metrics(conf=0.5)"
   ]
  },
  {
   "cell_type": "code",
   "execution_count": null,
   "metadata": {
    "ExecuteTime": {
     "end_time": "2019-07-22T20:09:43.441775Z",
     "start_time": "2019-07-22T20:09:43.186906Z"
    }
   },
   "outputs": [],
   "source": [
    "model = 'mlp'\n",
    "ps_bams[model].get_avg_metrics(conf=0.5)"
   ]
  },
  {
   "cell_type": "markdown",
   "metadata": {},
   "source": [
    "## Mean A"
   ]
  },
  {
   "cell_type": "code",
   "execution_count": null,
   "metadata": {
    "ExecuteTime": {
     "end_time": "2019-07-22T20:09:46.869846Z",
     "start_time": "2019-07-22T20:09:46.843749Z"
    }
   },
   "outputs": [],
   "source": [
    "def get_mean_tprs(bams, base_fpr):\n",
    "  mean_tprs = {}  \n",
    "  for model, bam in bams.items():\n",
    "    tprs = []  \n",
    "    for i, (targs, probs) in enumerate(zip(bam.targs, bam.probs)):\n",
    "      fpr, tpr, _ = roc_curve(targs, probs)\n",
    "      tpr = interp(base_fpr, fpr, tpr)\n",
    "      tpr[0] = 0.0\n",
    "      tprs.append(tpr)\n",
    "\n",
    "    tprs = np.array(tprs)\n",
    "    mean_tprs[model] = tprs.mean(axis=0)\n",
    "    \n",
    "  return mean_tprs"
   ]
  },
  {
   "cell_type": "code",
   "execution_count": null,
   "metadata": {
    "ExecuteTime": {
     "end_time": "2019-07-22T20:10:58.423000Z",
     "start_time": "2019-07-22T20:10:56.236412Z"
    }
   },
   "outputs": [],
   "source": [
    "base_fpr = np.linspace(0, 1, 100)\n",
    "mean_tprs = get_mean_tprs(ia_bams, base_fpr)\n",
    "\n",
    "fig, ax = plt.subplots(1, 1, figsize=(10, 8))\n",
    "for i, (model, mean_tpr) in enumerate(mean_tprs.items()):\n",
    "  ax.plot(base_fpr, mean_tpr)\n",
    "ax.plot([0, 1], [0, 1], linestyle=':')  \n",
    "ax.grid(b=True, which='major', color='#d3d3d3', linewidth=1.0)\n",
    "ax.grid(b=True, which='minor', color='#d3d3d3', linewidth=0.5)\n",
    "ax.set_ylabel('Sensitivity')\n",
    "ax.set_xlabel('1 - Specificity')\n",
    "ax.legend(['Logistic Regression', 'Random Forests', 'Gradient Boosting Machines', 'Multilayer Perceptron'])\n",
    "fig.savefig(args.figdir/'ia_mean_roc.tif', dpi=300)"
   ]
  },
  {
   "cell_type": "code",
   "execution_count": null,
   "metadata": {
    "ExecuteTime": {
     "end_time": "2019-07-22T20:11:00.857751Z",
     "start_time": "2019-07-22T20:10:58.424454Z"
    }
   },
   "outputs": [],
   "source": [
    "base_fpr = np.linspace(0, 1, 100)\n",
    "mean_tprs = get_mean_tprs(ps_bams, base_fpr)\n",
    "\n",
    "fig, ax = plt.subplots(1, 1, figsize=(10, 8))\n",
    "for i, (model, mean_tpr) in enumerate(mean_tprs.items()):\n",
    "  ax.plot(base_fpr, mean_tpr)\n",
    "ax.plot([0, 1], [0, 1], linestyle=':')  \n",
    "ax.grid(b=True, which='major', color='#d3d3d3', linewidth=1.0)\n",
    "ax.grid(b=True, which='minor', color='#d3d3d3', linewidth=0.5)\n",
    "ax.set_ylabel('Sensitivity')\n",
    "ax.set_xlabel('1 - Specificity')\n",
    "ax.legend(['Logistic Regression', 'Random Forests', 'Gradient Boosting Machines', 'Multilayer Perceptron'])\n",
    "fig.savefig(args.figdir/'ps_mean_roc.tif', dpi=300)"
   ]
  },
  {
   "cell_type": "markdown",
   "metadata": {},
   "source": [
    "## Probability Plots"
   ]
  },
  {
   "cell_type": "code",
   "execution_count": null,
   "metadata": {
    "ExecuteTime": {
     "end_time": "2019-07-01T01:54:55.010427Z",
     "start_time": "2019-07-01T01:54:53.292803Z"
    }
   },
   "outputs": [],
   "source": [
    "df = pd.read_csv(args.proc_csv, usecols=args.cols, parse_dates=args.dates)\n",
    "df['relative_charttime'] = (df['charttime'] - df['intime'])\n",
    "\n",
    "imminent_df = df.loc[(df['imminent_label'] != -1)][['scispacy_note', 'imminent_label', 'relative_charttime']].reset_index()\n",
    "discharge_df = df[['scispacy_note', 'discharge_label', 'relative_charttime']].reset_index()"
   ]
  },
  {
   "cell_type": "code",
   "execution_count": null,
   "metadata": {
    "ExecuteTime": {
     "end_time": "2019-07-01T01:54:55.035281Z",
     "start_time": "2019-07-01T01:54:55.012234Z"
    }
   },
   "outputs": [],
   "source": [
    "interval_hours=12\n",
    "starting_day = -20\n",
    "ending_day = -1"
   ]
  },
  {
   "cell_type": "markdown",
   "metadata": {},
   "source": [
    "### Imminent ICU Admission"
   ]
  },
  {
   "cell_type": "code",
   "execution_count": null,
   "metadata": {
    "ExecuteTime": {
     "end_time": "2019-07-01T01:55:15.640755Z",
     "start_time": "2019-07-01T01:54:55.036623Z"
    }
   },
   "outputs": [],
   "source": [
    "model = 'lr'\n",
    "with open(args.workdir/model/'imminent_model.pkl', 'rb') as f:\n",
    "  clf = pickle.load(f)\n",
    "  vocabulary = pickle.load(f)\n",
    "  \n",
    "vectorizer = TfidfVectorizer(min_df=3, analyzer=str.split, sublinear_tf=True, ngram_range=(2,2), vocabulary=vocabulary)\n",
    "imminent_df[f'{model}_prob'] = clf.predict_proba(vectorizer.fit_transform(imminent_df['scispacy_note']))[:, 1]\n",
    "\n",
    "model = 'rf'\n",
    "with open(args.workdir/model/'imminent_model.pkl', 'rb') as f:\n",
    "  clf = pickle.load(f)\n",
    "  vocabulary = pickle.load(f)\n",
    "  \n",
    "vectorizer = TfidfVectorizer(min_df=3, analyzer=str.split, sublinear_tf=True, ngram_range=(2,2), vocabulary=vocabulary)\n",
    "imminent_df[f'{model}_prob'] = clf.predict_proba(vectorizer.fit_transform(imminent_df['scispacy_note']))[:, 1]\n",
    "\n",
    "model = 'gbm'\n",
    "with open(args.workdir/model/'imminent_model.pkl', 'rb') as f:\n",
    "  clf = pickle.load(f)\n",
    "  vocabulary = pickle.load(f)\n",
    "  \n",
    "vectorizer = TfidfVectorizer(min_df=3, analyzer=str.split, sublinear_tf=True, ngram_range=(2,2), vocabulary=vocabulary)\n",
    "imminent_df[f'{model}_prob'] = clf.predict_proba(vectorizer.fit_transform(imminent_df['scispacy_note']))[:, 1]"
   ]
  },
  {
   "cell_type": "code",
   "execution_count": null,
   "metadata": {
    "ExecuteTime": {
     "end_time": "2019-07-01T01:55:50.867495Z",
     "start_time": "2019-07-01T01:55:15.642776Z"
    }
   },
   "outputs": [],
   "source": [
    "fig, ax = plt.subplots(3, 1, figsize=(10, 15))\n",
    "plot_prob(ax[0], imminent_df, 'lr', args.imminent_threshold['lr'], starting_day, ending_day, interval_hours)\n",
    "plot_prob(ax[1], imminent_df, 'rf', args.imminent_threshold['rf'], starting_day, ending_day, interval_hours)\n",
    "plot_prob(ax[2], imminent_df, 'gbm', args.imminent_threshold['gbm'], starting_day, ending_day, interval_hours)\n",
    "\n",
    "fig.text(0.5, 0.08, 'Time to ICU (days)', ha='center')\n",
    "fig.text(0.08, 0.5, 'Probability', va='center', rotation='vertical')"
   ]
  },
  {
   "cell_type": "markdown",
   "metadata": {},
   "source": [
    "### ICU Discharge"
   ]
  },
  {
   "cell_type": "code",
   "execution_count": null,
   "metadata": {
    "ExecuteTime": {
     "end_time": "2019-07-01T01:56:21.738416Z",
     "start_time": "2019-07-01T01:55:50.869056Z"
    }
   },
   "outputs": [],
   "source": [
    "model = 'lr'\n",
    "with open(args.workdir/model/'discharge_model.pkl', 'rb') as f:\n",
    "  clf = pickle.load(f)\n",
    "  vocabulary = pickle.load(f)\n",
    "\n",
    "vectorizer = TfidfVectorizer(min_df=3, analyzer=str.split, sublinear_tf=True, ngram_range=(2,2), vocabulary=vocabulary)\n",
    "discharge_df[f'{model}_prob'] = clf.predict_proba(vectorizer.fit_transform(discharge_df['scispacy_note']))[:, 1]\n",
    "\n",
    "model = 'rf'\n",
    "with open(args.workdir/model/'discharge_model.pkl', 'rb') as f:\n",
    "  clf = pickle.load(f)\n",
    "  vocabulary = pickle.load(f)\n",
    "  \n",
    "vectorizer = TfidfVectorizer(min_df=3, analyzer=str.split, sublinear_tf=True, ngram_range=(2,2), vocabulary=vocabulary)\n",
    "discharge_df[f'{model}_prob'] = clf.predict_proba(vectorizer.fit_transform(discharge_df['scispacy_note']))[:, 1]\n",
    "\n",
    "model = 'gbm'\n",
    "with open(args.workdir/model/'discharge_model.pkl', 'rb') as f:\n",
    "  clf = pickle.load(f)\n",
    "  vocabulary = pickle.load(f)\n",
    "  \n",
    "vectorizer = TfidfVectorizer(min_df=3, analyzer=str.split, sublinear_tf=True, ngram_range=(2,2), vocabulary=vocabulary)\n",
    "discharge_df[f'{model}_prob'] = clf.predict_proba(vectorizer.fit_transform(discharge_df['scispacy_note']))[:, 1]"
   ]
  },
  {
   "cell_type": "code",
   "execution_count": null,
   "metadata": {
    "ExecuteTime": {
     "end_time": "2019-07-01T01:57:19.994295Z",
     "start_time": "2019-07-01T01:56:21.740249Z"
    }
   },
   "outputs": [],
   "source": [
    "fig, ax = plt.subplots(3, 1, figsize=(10, 15))\n",
    "plot_prob(ax[0], discharge_df, 'lr', args.discharge_threshold['lr'], starting_day, ending_day, interval_hours)\n",
    "plot_prob(ax[1], discharge_df, 'rf', args.discharge_threshold['rf'], starting_day, ending_day, interval_hours)\n",
    "plot_prob(ax[2], discharge_df, 'gbm', args.discharge_threshold['gbm'], starting_day, ending_day, interval_hours)\n",
    "\n",
    "fig.text(0.5, 0.08, 'Time to ICU (days)', ha='center')\n",
    "fig.text(0.08, 0.5, 'Probability', va='center', rotation='vertical')"
   ]
  },
  {
   "cell_type": "markdown",
   "metadata": {},
   "source": [
    "## Word Clouds"
   ]
  },
  {
   "cell_type": "markdown",
   "metadata": {},
   "source": [
    "### Imminent ICU Admission"
   ]
  },
  {
   "cell_type": "code",
   "execution_count": null,
   "metadata": {
    "ExecuteTime": {
     "end_time": "2019-07-01T01:57:20.879120Z",
     "start_time": "2019-07-01T01:57:19.995624Z"
    }
   },
   "outputs": [],
   "source": [
    "scores = {}\n",
    "feature_names = {}\n",
    "\n",
    "model = 'lr'\n",
    "with open(args.workdir/model/'imminent_model.pkl', 'rb') as f:\n",
    "  clf = pickle.load(f)\n",
    "  vocabulary = pickle.load(f)\n",
    "\n",
    "feature_names[model] = TfidfVectorizer(min_df=3, analyzer=str.split, sublinear_tf=True, ngram_range=(2,2), vocabulary=vocabulary).get_feature_names()\n",
    "scores[model] = clf.coef_[0]/clf.coef_[0].sum()\n",
    "\n",
    "model = 'rf'\n",
    "with open(args.workdir/model/'imminent_model.pkl', 'rb') as f:\n",
    "  clf = pickle.load(f)\n",
    "  vocabulary = pickle.load(f)\n",
    "\n",
    "feature_names[model] = TfidfVectorizer(min_df=3, analyzer=str.split, sublinear_tf=True, ngram_range=(2,2), vocabulary=vocabulary).get_feature_names()\n",
    "scores[model] = clf.feature_importances_/clf.feature_importances_.sum()\n",
    "\n",
    "model = 'gbm'\n",
    "with open(args.workdir/model/'imminent_model.pkl', 'rb') as f:\n",
    "  clf = pickle.load(f)\n",
    "  vocabulary = pickle.load(f)\n",
    "\n",
    "feature_names[model] = TfidfVectorizer(min_df=3, analyzer=str.split, sublinear_tf=True, ngram_range=(2,2), vocabulary=vocabulary).get_feature_names()\n",
    "scores[model] = clf.feature_importances_/clf.feature_importances_.sum()"
   ]
  },
  {
   "cell_type": "code",
   "execution_count": null,
   "metadata": {
    "ExecuteTime": {
     "end_time": "2019-07-01T01:57:21.398108Z",
     "start_time": "2019-07-01T01:57:20.880592Z"
    }
   },
   "outputs": [],
   "source": [
    "model = 'gbm'\n",
    "fig, ax = plt.subplots(1, 2, figsize=(15, 10))\n",
    "neg, pos = get_wordcloud(feature_names[model], scores[model], n_words=25)\n",
    "ax[0].imshow(neg)\n",
    "ax[0].axis('off')\n",
    "ax[1].imshow(pos)\n",
    "ax[1].axis('off')"
   ]
  },
  {
   "cell_type": "markdown",
   "metadata": {},
   "source": [
    "### ICU Discharge"
   ]
  },
  {
   "cell_type": "code",
   "execution_count": null,
   "metadata": {
    "ExecuteTime": {
     "end_time": "2019-07-01T01:57:22.248780Z",
     "start_time": "2019-07-01T01:57:21.399413Z"
    }
   },
   "outputs": [],
   "source": [
    "scores = {}\n",
    "feature_names = {}\n",
    "\n",
    "model = 'lr'\n",
    "with open(args.workdir/model/'discharge_model.pkl', 'rb') as f:\n",
    "  clf = pickle.load(f)\n",
    "  vocabulary = pickle.load(f)\n",
    "\n",
    "feature_names[model] = TfidfVectorizer(min_df=3, analyzer=str.split, sublinear_tf=True, ngram_range=(2,2), vocabulary=vocabulary).get_feature_names()\n",
    "scores[model] = clf.coef_[0]/clf.coef_[0].sum()\n",
    "\n",
    "model = 'rf'\n",
    "with open(args.workdir/model/'discharge_model.pkl', 'rb') as f:\n",
    "  clf = pickle.load(f)\n",
    "  vocabulary = pickle.load(f)\n",
    "\n",
    "feature_names[model] = TfidfVectorizer(min_df=3, analyzer=str.split, sublinear_tf=True, ngram_range=(2,2), vocabulary=vocabulary).get_feature_names()\n",
    "scores[model] = clf.feature_importances_/clf.feature_importances_.sum()\n",
    "\n",
    "model = 'gbm'\n",
    "with open(args.workdir/model/'discharge_model.pkl', 'rb') as f:\n",
    "  clf = pickle.load(f)\n",
    "  vocabulary = pickle.load(f)\n",
    "\n",
    "feature_names[model] = TfidfVectorizer(min_df=3, analyzer=str.split, sublinear_tf=True, ngram_range=(2,2), vocabulary=vocabulary).get_feature_names()\n",
    "scores[model] = clf.feature_importances_/clf.feature_importances_.sum()"
   ]
  },
  {
   "cell_type": "code",
   "execution_count": null,
   "metadata": {
    "ExecuteTime": {
     "end_time": "2019-07-01T01:57:22.860223Z",
     "start_time": "2019-07-01T01:57:22.250338Z"
    }
   },
   "outputs": [],
   "source": [
    "model = 'gbm'\n",
    "fig, ax = plt.subplots(1, 2, figsize=(15, 12))\n",
    "neg, pos = get_wordcloud(feature_names[model], scores[model], n_words=50)\n",
    "ax[0].imshow(neg)\n",
    "ax[0].axis('off')\n",
    "ax[1].imshow(pos)\n",
    "ax[1].axis('off')"
   ]
  },
  {
   "cell_type": "code",
   "execution_count": null,
   "metadata": {
    "ExecuteTime": {
     "end_time": "2019-07-01T01:57:22.885298Z",
     "start_time": "2019-07-01T01:57:22.861363Z"
    }
   },
   "outputs": [],
   "source": [
    "# fig.savefig(args.figdir/f'prob.tif', dpi=300)"
   ]
  }
 ],
 "metadata": {
  "kernelspec": {
   "display_name": "Python 3",
   "language": "python",
   "name": "python3"
  },
  "language_info": {
   "codemirror_mode": {
    "name": "ipython",
    "version": 3
   },
   "file_extension": ".py",
   "mimetype": "text/x-python",
   "name": "python",
   "nbconvert_exporter": "python",
   "pygments_lexer": "ipython3",
   "version": "3.7.3"
  },
  "toc": {
   "base_numbering": 1,
   "nav_menu": {},
   "number_sections": true,
   "sideBar": true,
   "skip_h1_title": true,
   "title_cell": "Table of Contents",
   "title_sidebar": "Contents",
   "toc_cell": false,
   "toc_position": {
    "height": "calc(100% - 180px)",
    "left": "10px",
    "top": "150px",
    "width": "165px"
   },
   "toc_section_display": true,
   "toc_window_display": false
  }
 },
 "nbformat": 4,
 "nbformat_minor": 2
}
