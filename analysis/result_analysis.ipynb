{
 "cells": [
  {
   "cell_type": "markdown",
   "metadata": {},
   "source": [
    "# Result Analysis"
   ]
  },
  {
   "cell_type": "markdown",
   "metadata": {},
   "source": [
    "## Imports & Inits"
   ]
  },
  {
   "cell_type": "code",
   "execution_count": 1,
   "metadata": {
    "ExecuteTime": {
     "end_time": "2019-06-18T17:12:49.858446Z",
     "start_time": "2019-06-18T17:12:49.834750Z"
    }
   },
   "outputs": [],
   "source": [
    "%load_ext autoreload\n",
    "%autoreload 2"
   ]
  },
  {
   "cell_type": "code",
   "execution_count": 2,
   "metadata": {
    "ExecuteTime": {
     "end_time": "2019-06-18T17:12:52.234714Z",
     "start_time": "2019-06-18T17:12:49.860716Z"
    }
   },
   "outputs": [],
   "source": [
    "import sys\n",
    "sys.path.append('../')\n",
    "\n",
    "import matplotlib.pyplot as plt\n",
    "import seaborn as sns\n",
    "sns.set_style(\"darkgrid\")\n",
    "%matplotlib inline\n",
    "\n",
    "import numpy as np\n",
    "np.set_printoptions(precision=2)\n",
    "\n",
    "import pandas as pd\n",
    "import pickle\n",
    "import torch\n",
    "from pathlib import Path\n",
    "from tqdm import tqdm_notebook as tqdm\n",
    "\n",
    "from sklearn.feature_extraction.text import TfidfVectorizer\n",
    "from torch.utils.data import DataLoader, TensorDataset, SequentialSampler\n",
    "\n",
    "from cnn.cnn_classifier.dataset import NoteDataset\n",
    "from cnn.cnn_classifier.model import NoteClassifier\n",
    "from cnn.args import args as cnn_args\n",
    "\n",
    "from pytorch_pretrained_bert.modeling import BertForSequenceClassification\n",
    "from pytorch_pretrained_bert.tokenization import BertTokenizer\n",
    "\n",
    "from bert.args import args as bert_args\n",
    "from bert.bert_classifier import *\n",
    "\n",
    "from utils.embeddings import PretrainedEmbeddings\n",
    "from utils.metrics import BinaryAvgMetrics\n",
    "from utils.plots import *\n",
    "from args import args"
   ]
  },
  {
   "cell_type": "markdown",
   "metadata": {},
   "source": [
    "## 100 Run Performance Results"
   ]
  },
  {
   "cell_type": "code",
   "execution_count": 3,
   "metadata": {
    "ExecuteTime": {
     "end_time": "2019-06-18T17:13:03.610540Z",
     "start_time": "2019-06-18T17:12:52.237113Z"
    }
   },
   "outputs": [
    {
     "data": {
      "text/html": [
       "<div>\n",
       "<style scoped>\n",
       "    .dataframe tbody tr th:only-of-type {\n",
       "        vertical-align: middle;\n",
       "    }\n",
       "\n",
       "    .dataframe tbody tr th {\n",
       "        vertical-align: top;\n",
       "    }\n",
       "\n",
       "    .dataframe thead th {\n",
       "        text-align: right;\n",
       "    }\n",
       "</style>\n",
       "<table border=\"1\" class=\"dataframe\">\n",
       "  <thead>\n",
       "    <tr style=\"text-align: right;\">\n",
       "      <th></th>\n",
       "      <th>lr</th>\n",
       "      <th>rf</th>\n",
       "      <th>cnn</th>\n",
       "      <th>gbm</th>\n",
       "    </tr>\n",
       "  </thead>\n",
       "  <tbody>\n",
       "    <tr>\n",
       "      <th>sensitivity</th>\n",
       "      <td>89.4</td>\n",
       "      <td>82.2</td>\n",
       "      <td>80.8</td>\n",
       "      <td>81.8</td>\n",
       "    </tr>\n",
       "    <tr>\n",
       "      <th>specificity</th>\n",
       "      <td>62.0</td>\n",
       "      <td>73.2</td>\n",
       "      <td>74.8</td>\n",
       "      <td>74.3</td>\n",
       "    </tr>\n",
       "    <tr>\n",
       "      <th>ppv</th>\n",
       "      <td>42.2</td>\n",
       "      <td>48.7</td>\n",
       "      <td>50.4</td>\n",
       "      <td>49.6</td>\n",
       "    </tr>\n",
       "    <tr>\n",
       "      <th>auroc</th>\n",
       "      <td>84.3</td>\n",
       "      <td>85.7</td>\n",
       "      <td>86.0</td>\n",
       "      <td>86.2</td>\n",
       "    </tr>\n",
       "    <tr>\n",
       "      <th>npv</th>\n",
       "      <td>95.0</td>\n",
       "      <td>93.0</td>\n",
       "      <td>92.8</td>\n",
       "      <td>92.9</td>\n",
       "    </tr>\n",
       "    <tr>\n",
       "      <th>f1</th>\n",
       "      <td>57.3</td>\n",
       "      <td>61.2</td>\n",
       "      <td>61.7</td>\n",
       "      <td>61.7</td>\n",
       "    </tr>\n",
       "  </tbody>\n",
       "</table>\n",
       "</div>"
      ],
      "text/plain": [
       "               lr    rf   cnn   gbm\n",
       "sensitivity  89.4  82.2  80.8  81.8\n",
       "specificity  62.0  73.2  74.8  74.3\n",
       "ppv          42.2  48.7  50.4  49.6\n",
       "auroc        84.3  85.7  86.0  86.2\n",
       "npv          95.0  93.0  92.8  92.9\n",
       "f1           57.3  61.2  61.7  61.7"
      ]
     },
     "execution_count": 3,
     "metadata": {},
     "output_type": "execute_result"
    }
   ],
   "source": [
    "models = list(args.bc_threshold.keys())\n",
    "\n",
    "bams = {}\n",
    "\n",
    "for model in models:\n",
    "  with open(args.workdir/model/'preds.pkl', 'rb') as f:\n",
    "    targs = pickle.load(f)\n",
    "    preds = pickle.load(f)\n",
    "    probs = pickle.load(f)\n",
    "    \n",
    "  bams[model] = BinaryAvgMetrics(targs, preds, probs)\n",
    "\n",
    "all_metrics = {}\n",
    "\n",
    "for key in bams.keys():\n",
    "  all_metrics[key] = []\n",
    "  for i in range(len(bams[key].get_avg_metrics())):\n",
    "    all_metrics[key].append(bams[key].get_avg_metrics().iloc[i]['Value'])\n",
    "\n",
    "metrics = pd.DataFrame(all_metrics, index=['sensitivity', 'specificity', 'ppv', 'auroc', 'npv', 'f1'])\n",
    "metrics"
   ]
  },
  {
   "cell_type": "code",
   "execution_count": 16,
   "metadata": {
    "ExecuteTime": {
     "end_time": "2019-06-18T17:17:22.996204Z",
     "start_time": "2019-06-18T17:17:22.684777Z"
    }
   },
   "outputs": [
    {
     "data": {
      "text/html": [
       "<div>\n",
       "<style scoped>\n",
       "    .dataframe tbody tr th:only-of-type {\n",
       "        vertical-align: middle;\n",
       "    }\n",
       "\n",
       "    .dataframe tbody tr th {\n",
       "        vertical-align: top;\n",
       "    }\n",
       "\n",
       "    .dataframe thead th {\n",
       "        text-align: right;\n",
       "    }\n",
       "</style>\n",
       "<table border=\"1\" class=\"dataframe\">\n",
       "  <thead>\n",
       "    <tr style=\"text-align: right;\">\n",
       "      <th></th>\n",
       "      <th>Lower</th>\n",
       "      <th>Mean</th>\n",
       "      <th>Upper</th>\n",
       "    </tr>\n",
       "  </thead>\n",
       "  <tbody>\n",
       "    <tr>\n",
       "      <th>sensitivity</th>\n",
       "      <td>89.2</td>\n",
       "      <td>89.4</td>\n",
       "      <td>89.6</td>\n",
       "    </tr>\n",
       "    <tr>\n",
       "      <th>specificity</th>\n",
       "      <td>61.9</td>\n",
       "      <td>62.0</td>\n",
       "      <td>62.2</td>\n",
       "    </tr>\n",
       "    <tr>\n",
       "      <th>ppv</th>\n",
       "      <td>42.0</td>\n",
       "      <td>42.2</td>\n",
       "      <td>42.3</td>\n",
       "    </tr>\n",
       "    <tr>\n",
       "      <th>auroc</th>\n",
       "      <td>84.2</td>\n",
       "      <td>84.3</td>\n",
       "      <td>84.4</td>\n",
       "    </tr>\n",
       "    <tr>\n",
       "      <th>npv</th>\n",
       "      <td>94.9</td>\n",
       "      <td>95.0</td>\n",
       "      <td>95.1</td>\n",
       "    </tr>\n",
       "    <tr>\n",
       "      <th>f1</th>\n",
       "      <td>57.1</td>\n",
       "      <td>57.3</td>\n",
       "      <td>57.4</td>\n",
       "    </tr>\n",
       "  </tbody>\n",
       "</table>\n",
       "</div>"
      ],
      "text/plain": [
       "             Lower  Mean  Upper\n",
       "sensitivity  89.2   89.4  89.6 \n",
       "specificity  61.9   62.0  62.2 \n",
       "ppv          42.0   42.2  42.3 \n",
       "auroc        84.2   84.3  84.4 \n",
       "npv          94.9   95.0  95.1 \n",
       "f1           57.1   57.3  57.4 "
      ]
     },
     "execution_count": 16,
     "metadata": {},
     "output_type": "execute_result"
    }
   ],
   "source": [
    "bams['lr'].get_avg_metrics(conf=0.95)"
   ]
  },
  {
   "cell_type": "markdown",
   "metadata": {},
   "source": [
    "### Model Plots"
   ]
  },
  {
   "cell_type": "code",
   "execution_count": null,
   "metadata": {
    "ExecuteTime": {
     "end_time": "2019-06-18T15:56:59.436493Z",
     "start_time": "2019-06-18T15:56:59.042054Z"
    }
   },
   "outputs": [],
   "source": [
    "model = 'gbm'\n",
    "bams[model].get_avg_metrics()"
   ]
  },
  {
   "cell_type": "code",
   "execution_count": null,
   "metadata": {
    "ExecuteTime": {
     "end_time": "2019-06-18T15:57:04.599505Z",
     "start_time": "2019-06-18T15:57:02.989173Z"
    }
   },
   "outputs": [],
   "source": [
    "fig, ax = plt.subplots(1, 1, figsize=(10, 8))\n",
    "plot_mean_roc(ax, bams[model].targs, bams[model].probs)"
   ]
  },
  {
   "cell_type": "code",
   "execution_count": null,
   "metadata": {
    "ExecuteTime": {
     "end_time": "2019-06-18T15:57:04.642769Z",
     "start_time": "2019-06-18T15:57:04.601743Z"
    }
   },
   "outputs": [],
   "source": [
    "len(bams['gbm'].targs[0])"
   ]
  },
  {
   "cell_type": "code",
   "execution_count": null,
   "metadata": {
    "ExecuteTime": {
     "end_time": "2019-06-18T15:57:05.385583Z",
     "start_time": "2019-06-18T15:57:04.645066Z"
    }
   },
   "outputs": [],
   "source": [
    "fig, ax = plt.subplots(1, 2, figsize=(15, 6))\n",
    "\n",
    "plot_confusion_matrix(ax[0], bams[model].cm_avg, classes=['not imminent', 'imminent'], normalize=False,\\\n",
    "                      title='Confusion Matrix Over Runs')\n",
    "plot_confusion_matrix(ax[1], bams[model].cm_avg, classes=['not imminent', 'imminent'], normalize=True,\\\n",
    "                      title='Normalized Confusion Matrix Over Runs')\n",
    "plt.show()"
   ]
  },
  {
   "cell_type": "markdown",
   "metadata": {},
   "source": [
    "## Temporal Performance Analysis"
   ]
  },
  {
   "cell_type": "code",
   "execution_count": null,
   "metadata": {
    "ExecuteTime": {
     "end_time": "2019-06-18T15:57:17.091142Z",
     "start_time": "2019-06-18T15:57:11.130537Z"
    }
   },
   "outputs": [],
   "source": [
    "df = pd.read_csv(args.dataset_csv, parse_dates=['admittime', 'dischtime', 'intime', 'charttime'])\n",
    "df['relative_charttime'] = (df['charttime'] - df['intime'])\n",
    "print(df.shape)\n",
    "print(df.columns)"
   ]
  },
  {
   "cell_type": "code",
   "execution_count": null,
   "metadata": {
    "ExecuteTime": {
     "end_time": "2019-06-18T15:57:17.129169Z",
     "start_time": "2019-06-18T15:57:17.093126Z"
    }
   },
   "outputs": [],
   "source": [
    "interval_hours=12\n",
    "starting_day = -20\n",
    "ending_day = -1"
   ]
  },
  {
   "cell_type": "markdown",
   "metadata": {},
   "source": [
    "### Logistic Regression"
   ]
  },
  {
   "cell_type": "code",
   "execution_count": null,
   "metadata": {
    "ExecuteTime": {
     "end_time": "2019-06-18T15:58:04.370713Z",
     "start_time": "2019-06-18T15:57:17.131638Z"
    }
   },
   "outputs": [],
   "source": [
    "model = 'lr'\n",
    "\n",
    "with open(args.workdir/model/'all_data_model.pkl', 'rb') as f:\n",
    "  clf = pickle.load(f)\n",
    "  vocabulary = pickle.load(f)\n",
    "  \n",
    "vectorizer = TfidfVectorizer(min_df=3, analyzer=str.split, sublinear_tf=True,\\\n",
    "                              ngram_range=(2,2), vocabulary=vocabulary)\n",
    "\n",
    "df['prob'] = clf.predict_proba(vectorizer.fit_transform(df['scispacy_note']))[:, 1]\n",
    "\n",
    "fig, ax = plt.subplots(figsize=(15, 8))\n",
    "plot_prob(ax, df, args.bc_threshold[model], starting_day, ending_day, interval_hours)"
   ]
  },
  {
   "cell_type": "markdown",
   "metadata": {},
   "source": [
    "### Random Forest"
   ]
  },
  {
   "cell_type": "code",
   "execution_count": null,
   "metadata": {
    "ExecuteTime": {
     "end_time": "2019-06-18T15:58:51.711797Z",
     "start_time": "2019-06-18T15:58:04.374161Z"
    }
   },
   "outputs": [],
   "source": [
    "model = 'rf'\n",
    "\n",
    "with open(args.workdir/model/'all_data_model.pkl', 'rb') as f:\n",
    "  clf = pickle.load(f)\n",
    "  vocabulary = pickle.load(f)\n",
    "  \n",
    "vectorizer = TfidfVectorizer(min_df=3, analyzer=str.split, sublinear_tf=True,\\\n",
    "                              ngram_range=(2,2), vocabulary=vocabulary)  \n",
    "\n",
    "df['prob'] = clf.predict_proba(vectorizer.fit_transform(df['scispacy_note']))[:, 1]\n",
    "\n",
    "fig, ax = plt.subplots(figsize=(15, 8))\n",
    "plot_prob(ax, df, args.bc_threshold[model], starting_day, ending_day, interval_hours)"
   ]
  },
  {
   "cell_type": "markdown",
   "metadata": {},
   "source": [
    "### CNN"
   ]
  },
  {
   "cell_type": "code",
   "execution_count": null,
   "metadata": {
    "ExecuteTime": {
     "end_time": "2019-06-18T15:59:21.185295Z",
     "start_time": "2019-06-18T15:58:51.714575Z"
    }
   },
   "outputs": [],
   "source": [
    "model = 'cnn'\n",
    "\n",
    "try:\n",
    "  prob = np.load(cnn_args.workdir/'probs.npy')\n",
    "except FileNotFoundError:\n",
    "  bs = 256\n",
    "  ds = NoteDataset.load_data_and_vectorizer_from_file(df, cnn_args.workdir)\n",
    "  dl = DataLoader(ds, bs)\n",
    "  \n",
    "  pe = PretrainedEmbeddings.from_file(cnn_args.emb_path)\n",
    "  pe.make_custom_embeddings(ds.vectorizer.vocab.idx_token_bidict.values())\n",
    "  \n",
    "  with open(args.workdir/model/'full_data_model.pkl', 'rb') as f:\n",
    "    state_dict = pickle.load(f)    \n",
    "  classifier = NoteClassifier(cnn_args.emb_sz, len(ds.vectorizer.vocab), cnn_args.n_channels,\\\n",
    "                            cnn_args.hidden_dim, 1, dropout_p=cnn_args.dropout_p,\\\n",
    "                            emb_dropout=cnn_args.emb_dropout, pretrained=pe.custom_embeddings)\n",
    "  classifier.load_state_dict(state_dict)\n",
    "  p = []\n",
    "\n",
    "  for x, _ in tqdm(dl):\n",
    "    p.append(torch.sigmoid(classifier(x)).detach().numpy())\n",
    "    \n",
    "  prob = np.concatenate(p)\n",
    "  np.save(cnn_args.workdir/'probabilities', prob)    \n",
    "\n",
    "df['prob'] = prob\n",
    "\n",
    "fig, ax = plt.subplots(figsize=(15, 8))\n",
    "plot_prob(ax, df, args.bc_threshold[model], starting_day, ending_day, interval_hours)"
   ]
  },
  {
   "cell_type": "markdown",
   "metadata": {},
   "source": [
    "### Gradient Boosting Machines"
   ]
  },
  {
   "cell_type": "code",
   "execution_count": null,
   "metadata": {
    "ExecuteTime": {
     "end_time": "2019-06-18T16:00:08.881089Z",
     "start_time": "2019-06-18T15:59:21.187851Z"
    },
    "scrolled": false
   },
   "outputs": [],
   "source": [
    "model = 'gbm'\n",
    "\n",
    "with open(args.workdir/model/'all_data_model.pkl', 'rb') as f:\n",
    "  clf = pickle.load(f)\n",
    "  vocabulary = pickle.load(f)\n",
    "  \n",
    "vectorizer = TfidfVectorizer(min_df=3, analyzer=str.split, sublinear_tf=True,\\\n",
    "                              ngram_range=(2,2), vocabulary=vocabulary)  \n",
    "\n",
    "df['prob'] = clf.predict_proba(vectorizer.fit_transform(df['scispacy_note']))[:, 1]\n",
    "\n",
    "fig, ax = plt.subplots(figsize=(15, 8))\n",
    "plot_prob(ax, df, args.bc_threshold[model], starting_day, ending_day, interval_hours)"
   ]
  },
  {
   "cell_type": "markdown",
   "metadata": {
    "heading_collapsed": true
   },
   "source": [
    "### BERT"
   ]
  },
  {
   "cell_type": "code",
   "execution_count": null,
   "metadata": {
    "ExecuteTime": {
     "end_time": "2019-06-15T21:48:41.923692Z",
     "start_time": "2019-06-15T21:43:57.436845Z"
    },
    "hidden": true
   },
   "outputs": [],
   "source": [
    "model = 'bert'\n",
    "\n",
    "try:\n",
    "  features = pickle.load(open(args.workdir/model/'features.pkl', 'rb'))\n",
    "except FileNotFoundError:\n",
    "  tokenizer = BertTokenizer.from_pretrained(bert_args.bert_dir, do_lower_case=bert_args.do_lower_case)\n",
    "  examples = []\n",
    "  for i, row in df.iterrows():\n",
    "    eid = f'example-{i}'\n",
    "    text = row['note']\n",
    "    examples.append(InputExample(eid=eid, text=text, label=-1))\n",
    "  features = convert_examples_to_features(examples, bert_args.max_seq_len, tokenizer, is_pred=True)\n",
    "  pickle.dump(features, open(args.workdir/model/'features.pkl', 'wb'))"
   ]
  },
  {
   "cell_type": "code",
   "execution_count": null,
   "metadata": {
    "ExecuteTime": {
     "end_time": "2019-06-15T21:48:48.306408Z",
     "start_time": "2019-06-15T21:48:42.911827Z"
    },
    "hidden": true
   },
   "outputs": [],
   "source": [
    "bert_args.bs = bert_args.bs // bert_args.gradient_accumulation_steps\n",
    "clf = BertForSequenceClassification.from_pretrained(args.workdir/model, num_labels=bert_args.num_labels)\n",
    "clf.to(bert_args.device)\n",
    "\n",
    "all_input_ids = torch.tensor([f.input_ids for f in features], dtype=torch.long)\n",
    "all_input_mask = torch.tensor([f.input_mask for f in features], dtype=torch.long)\n",
    "all_segment_ids = torch.tensor([f.segment_ids for f in features], dtype=torch.long)\n",
    "\n",
    "ds = TensorDataset(all_input_ids, all_input_mask, all_segment_ids)\n",
    "dl = DataLoader(ds, sampler=SequentialSampler(ds), batch_size=bert_args.bs)"
   ]
  },
  {
   "cell_type": "code",
   "execution_count": null,
   "metadata": {
    "ExecuteTime": {
     "end_time": "2019-06-15T21:56:26.043620Z",
     "start_time": "2019-06-15T21:49:23.901076Z"
    },
    "hidden": true
   },
   "outputs": [],
   "source": [
    "probs = []\n",
    "\n",
    "for batch in tqdm(dl, desc='Running model'):\n",
    "  batch = tuple(t.to(bert_args.device) for t in batch)\n",
    "  input_ids, input_mask, segment_ids = batch\n",
    "  logits = clf(input_ids, input_mask, segment_ids)\n",
    "  prob = torch.sigmoid(logits).detach().cpu().numpy()\n",
    "  if len(probs) == 0:\n",
    "    probs.append(prob)\n",
    "  else:\n",
    "    probs[0] = np.append(\n",
    "      probs[0], prob, axis=0)\n",
    "\n",
    "df['prob'] = np.squeeze(probs[0])  "
   ]
  },
  {
   "cell_type": "code",
   "execution_count": null,
   "metadata": {
    "ExecuteTime": {
     "end_time": "2019-06-15T21:57:06.087372Z",
     "start_time": "2019-06-15T21:56:39.588143Z"
    },
    "hidden": true
   },
   "outputs": [],
   "source": [
    "fig, ax = plt.subplots(figsize=(15, 8))\n",
    "plot_prob(ax, df, args.bc_threshold[model], cutoff=cutoff, interval=interval, granularity=2)"
   ]
  },
  {
   "cell_type": "code",
   "execution_count": null,
   "metadata": {
    "ExecuteTime": {
     "end_time": "2019-06-13T20:04:35.459057Z",
     "start_time": "2019-06-13T20:03:59.686683Z"
    },
    "hidden": true,
    "scrolled": false
   },
   "outputs": [],
   "source": [
    "with open(args.workdir/model/'all_data_model.pkl', 'rb') as f:\n",
    "  clf = pickle.load(f)\n",
    "  vocabulary = pickle.load(f)\n",
    "  \n",
    "vectorizer = TfidfVectorizer(min_df=3, analyzer=str.split, sublinear_tf=True,\\\n",
    "                              ngram_range=(2,2), vocabulary=vocabulary)  \n",
    "\n",
    "df['prob'] = clf.predict_proba(vectorizer.fit_transform(df['scispacy_note']))[:, 1]\n",
    "\n",
    "fig, ax = plt.subplots(figsize=(15, 8))\n",
    "plot_prob(ax, df, args.bc_threshold[model], cutoff=cutoff, interval=interval, granularity=2)"
   ]
  }
 ],
 "metadata": {
  "kernelspec": {
   "display_name": "Python 3",
   "language": "python",
   "name": "python3"
  },
  "language_info": {
   "codemirror_mode": {
    "name": "ipython",
    "version": 3
   },
   "file_extension": ".py",
   "mimetype": "text/x-python",
   "name": "python",
   "nbconvert_exporter": "python",
   "pygments_lexer": "ipython3",
   "version": "3.7.3"
  },
  "toc": {
   "base_numbering": 1,
   "nav_menu": {},
   "number_sections": true,
   "sideBar": true,
   "skip_h1_title": true,
   "title_cell": "Table of Contents",
   "title_sidebar": "Contents",
   "toc_cell": false,
   "toc_position": {
    "height": "calc(100% - 180px)",
    "left": "10px",
    "top": "150px",
    "width": "165px"
   },
   "toc_section_display": true,
   "toc_window_display": false
  }
 },
 "nbformat": 4,
 "nbformat_minor": 2
}
