{
 "cells": [
  {
   "cell_type": "markdown",
   "metadata": {},
   "source": [
    "# Dataset Preparation for First ICU Prediction"
   ]
  },
  {
   "cell_type": "markdown",
   "metadata": {},
   "source": [
    "## Imports & Inits"
   ]
  },
  {
   "cell_type": "code",
   "execution_count": 1,
   "metadata": {
    "ExecuteTime": {
     "end_time": "2019-06-08T20:18:55.781167Z",
     "start_time": "2019-06-08T20:18:55.767637Z"
    }
   },
   "outputs": [],
   "source": [
    "%load_ext autoreload\n",
    "%autoreload 2"
   ]
  },
  {
   "cell_type": "code",
   "execution_count": 2,
   "metadata": {
    "ExecuteTime": {
     "end_time": "2019-06-08T20:18:57.090321Z",
     "start_time": "2019-06-08T20:18:55.782422Z"
    }
   },
   "outputs": [],
   "source": [
    "import sys\n",
    "sys.path.append('../')\n",
    "\n",
    "import matplotlib.pyplot as plt\n",
    "%matplotlib inline\n",
    "\n",
    "import numpy as np\n",
    "np.set_printoptions(precision=2)\n",
    "\n",
    "from utils.metrics import BinaryAvgMetrics\n",
    "from utils.plots import *\n",
    "\n",
    "import pandas as pd\n",
    "import pickle\n",
    "from pathlib import Path"
   ]
  },
  {
   "cell_type": "code",
   "execution_count": 3,
   "metadata": {
    "ExecuteTime": {
     "end_time": "2019-06-08T20:18:57.113601Z",
     "start_time": "2019-06-08T20:18:57.092646Z"
    },
    "scrolled": true
   },
   "outputs": [
    {
     "data": {
      "text/plain": [
       "{'path': PosixPath('../data'),\n",
       " 'workdir': PosixPath('../data/work_dir'),\n",
       " 'dataset_csv': PosixPath('../data/processed_dataset.csv'),\n",
       " 'temporal_pkl': PosixPath('../data/temporal_notes.pkl'),\n",
       " 'min_freq': 3,\n",
       " 'bc_threshold': {'lr': 0.47, 'rf': 0.32}}"
      ]
     },
     "execution_count": 3,
     "metadata": {},
     "output_type": "execute_result"
    }
   ],
   "source": [
    "from args import args\n",
    "vars(args)"
   ]
  },
  {
   "cell_type": "markdown",
   "metadata": {},
   "source": [
    "## Functions"
   ]
  },
  {
   "cell_type": "code",
   "execution_count": 4,
   "metadata": {
    "ExecuteTime": {
     "end_time": "2019-06-08T20:18:57.133760Z",
     "start_time": "2019-06-08T20:18:57.114791Z"
    }
   },
   "outputs": [],
   "source": [
    "def get_metrics(cm, mu=1e-7):\n",
    "  tn,fp,fn,tp = cm[0][0],cm[0][1],cm[1][0],cm[1][1]\n",
    "  sensitivity = tp/(tp+fn+mu)\n",
    "  specificity = tn/(tn+fp+mu)\n",
    "  ppv = tp/(tp+fp+mu)\n",
    "  npv = tn/(tn+fn+mu)\n",
    "\n",
    "#   d = {\n",
    "#     'sensitivity': np.round(sensitivity, 3),\n",
    "#     'specificity': np.round(specificity, 3),\n",
    "#     'ppv': np.round(ppv, 3),\n",
    "#     'npv': np.round(npv, 3),\n",
    "#   }\n",
    "\n",
    "#   return pd.DataFrame(d.values(), index=d.keys(), columns=['Value'])\n",
    "  return np.array([sensitivity, specificity, ppv, npv])"
   ]
  },
  {
   "cell_type": "markdown",
   "metadata": {
    "heading_collapsed": true
   },
   "source": [
    "## 100 Run Performance Results"
   ]
  },
  {
   "cell_type": "code",
   "execution_count": null,
   "metadata": {
    "ExecuteTime": {
     "end_time": "2019-06-08T20:10:26.287629Z",
     "start_time": "2019-06-08T20:10:22.643323Z"
    },
    "hidden": true
   },
   "outputs": [],
   "source": [
    "models = list(args.bc_threshold.keys())\n",
    "\n",
    "bams = {}\n",
    "\n",
    "for model in models:\n",
    "  with open(args.workdir/model/'preds.pkl', 'rb') as f:\n",
    "    targs = pickle.load(f)\n",
    "    preds = pickle.load(f)\n",
    "    probs = pickle.load(f)\n",
    "    \n",
    "  bams[model] = BinaryAvgMetrics(targs, preds, probs)\n",
    "\n",
    "all_metrics = {}\n",
    "\n",
    "for key in bams.keys():\n",
    "  all_metrics[key] = []\n",
    "  for i in range(len(bams[key].get_avg_metrics())):\n",
    "    all_metrics[key].append(bams[key].get_avg_metrics().iloc[i]['Value'])\n",
    "\n",
    "metrics = pd.DataFrame(all_metrics, index=['sensitivity', 'specificity', 'ppv', 'auroc', 'npv', 'f1'])\n",
    "metrics"
   ]
  },
  {
   "cell_type": "code",
   "execution_count": null,
   "metadata": {
    "ExecuteTime": {
     "end_time": "2019-06-08T20:10:26.509672Z",
     "start_time": "2019-06-08T20:10:26.290002Z"
    },
    "hidden": true
   },
   "outputs": [],
   "source": [
    "model = 'lr'\n",
    "bams[model].get_avg_metrics()"
   ]
  },
  {
   "cell_type": "code",
   "execution_count": null,
   "metadata": {
    "ExecuteTime": {
     "end_time": "2019-06-08T20:10:27.287979Z",
     "start_time": "2019-06-08T20:10:26.511212Z"
    },
    "hidden": true
   },
   "outputs": [],
   "source": [
    "fig, ax = plt.subplots(1, 1, figsize=(10, 8))\n",
    "plot_mean_roc(ax, bams[model].targs, bams[model].probs)"
   ]
  },
  {
   "cell_type": "code",
   "execution_count": null,
   "metadata": {
    "ExecuteTime": {
     "end_time": "2019-06-08T20:10:27.553976Z",
     "start_time": "2019-06-08T20:10:27.289351Z"
    },
    "hidden": true
   },
   "outputs": [],
   "source": [
    "fig, ax = plt.subplots(1, 2, figsize=(15, 6))\n",
    "\n",
    "plot_confusion_matrix(ax[0], bams[model].cm_avg, classes=['not imminent', 'imminent'], normalize=False,\\\n",
    "                      title='Confusion Matrix Over Runs')\n",
    "plot_confusion_matrix(ax[1], bams[model].cm_avg, classes=['not imminent', 'imminent'], normalize=True,\\\n",
    "                      title='Normalized Confusion Matrix Over Runs')\n",
    "plt.show()"
   ]
  },
  {
   "cell_type": "markdown",
   "metadata": {},
   "source": [
    "## Subsect data for Temporal Analysis"
   ]
  },
  {
   "cell_type": "code",
   "execution_count": null,
   "metadata": {
    "ExecuteTime": {
     "end_time": "2019-06-08T20:10:38.418777Z",
     "start_time": "2019-06-08T20:10:35.431951Z"
    }
   },
   "outputs": [],
   "source": [
    "df = pd.read_csv(args.dataset_csv, parse_dates=['admittime', 'dischtime', 'intime', 'charttime'])\n",
    "\n",
    "df['relative_charttime'] = (df['charttime'] - df['intime']).apply(lambda x: int(x.value/(1e9*60*60)))\n",
    "df['relative_charttime'].describe()"
   ]
  },
  {
   "cell_type": "code",
   "execution_count": null,
   "metadata": {
    "ExecuteTime": {
     "end_time": "2019-06-08T20:10:50.595308Z",
     "start_time": "2019-06-08T20:10:50.305972Z"
    }
   },
   "outputs": [],
   "source": [
    "# value in hours\n",
    "e1 = -480\n",
    "s1 = -120\n",
    "e2 = -72\n",
    "s2 = -24\n",
    "step = 6\n",
    "\n",
    "temporal_notes = []\n",
    "period = []\n",
    "\n",
    "for i in range(e1, s1, step):\n",
    "  tmp = df.loc[((df['relative_charttime'] >= i) & (df['relative_charttime'] <= (i+step)))].copy()\n",
    "  period.append(f'{i} ≤ t ≤ {i+step}')\n",
    "  temporal_notes.append(tmp)\n",
    "\n",
    "for i in range(e2, s2, step):\n",
    "  tmp = df.loc[((df['relative_charttime'] >= i) & (df['relative_charttime'] <= (i+step)))].copy()\n",
    "  period.append(f'{i} ≤ t ≤ {i+step}')\n",
    "  temporal_notes.append(tmp)"
   ]
  },
  {
   "cell_type": "markdown",
   "metadata": {},
   "source": [
    "These lengths should not be different..."
   ]
  },
  {
   "cell_type": "code",
   "execution_count": null,
   "metadata": {
    "ExecuteTime": {
     "end_time": "2019-06-08T20:10:59.836766Z",
     "start_time": "2019-06-08T20:10:59.789355Z"
    }
   },
   "outputs": [],
   "source": [
    "s = 0\n",
    "for x in temporal_notes:\n",
    "  s += len(x)\n",
    "tmp = df.loc[((df['relative_charttime'] >= e1) & (df['relative_charttime'] <= s1))\\\n",
    "               | ((df['relative_charttime'] >= e2) & (df['relative_charttime'] <= s2))].copy()\n",
    "print(s - len(tmp))"
   ]
  },
  {
   "cell_type": "code",
   "execution_count": null,
   "metadata": {
    "ExecuteTime": {
     "end_time": "2019-06-08T20:11:03.636722Z",
     "start_time": "2019-06-08T20:11:02.987549Z"
    }
   },
   "outputs": [],
   "source": [
    "with open(args.temporal_pkl, 'wb') as f:\n",
    "  pickle.dump(temporal_notes, f)\n",
    "  pickle.dump(period, f)"
   ]
  },
  {
   "cell_type": "markdown",
   "metadata": {},
   "source": [
    "## Temporal Performance Analysis"
   ]
  },
  {
   "cell_type": "code",
   "execution_count": 5,
   "metadata": {
    "ExecuteTime": {
     "end_time": "2019-06-08T20:19:00.860372Z",
     "start_time": "2019-06-08T20:19:00.453288Z"
    }
   },
   "outputs": [],
   "source": [
    "with open(args.temporal_pkl, 'rb') as f:\n",
    "  temporal_notes = pickle.load(f)\n",
    "  period = pickle.load(f)"
   ]
  },
  {
   "cell_type": "markdown",
   "metadata": {},
   "source": [
    "### Logistic Regression Model"
   ]
  },
  {
   "cell_type": "code",
   "execution_count": 6,
   "metadata": {
    "ExecuteTime": {
     "end_time": "2019-06-08T20:19:00.911395Z",
     "start_time": "2019-06-08T20:19:00.862127Z"
    }
   },
   "outputs": [],
   "source": [
    "from sklearn.feature_extraction.text import TfidfVectorizer\n",
    "from sklearn.linear_model import LogisticRegression"
   ]
  },
  {
   "cell_type": "code",
   "execution_count": 7,
   "metadata": {
    "ExecuteTime": {
     "end_time": "2019-06-08T20:19:00.967095Z",
     "start_time": "2019-06-08T20:19:00.912946Z"
    }
   },
   "outputs": [],
   "source": [
    "with open(args.workdir/'lr'/'full_run.pkl', 'rb') as f:\n",
    "  clf = pickle.load(f)\n",
    "  vocabulary = pickle.load(f)\n",
    "  \n",
    "vectorizer = TfidfVectorizer(min_df=3, analyzer=str.split, sublinear_tf=True,\\\n",
    "                              ngram_range=(2,2), vocabulary=vocabulary)  "
   ]
  },
  {
   "cell_type": "code",
   "execution_count": 8,
   "metadata": {
    "ExecuteTime": {
     "end_time": "2019-06-08T20:19:10.079506Z",
     "start_time": "2019-06-08T20:19:10.059871Z"
    }
   },
   "outputs": [],
   "source": [
    "metrics = np.zeros((len(period), 4))"
   ]
  },
  {
   "cell_type": "code",
   "execution_count": 11,
   "metadata": {
    "ExecuteTime": {
     "end_time": "2019-06-08T20:21:01.014770Z",
     "start_time": "2019-06-08T20:21:00.874593Z"
    }
   },
   "outputs": [],
   "source": [
    "import pdb"
   ]
  },
  {
   "cell_type": "code",
   "execution_count": null,
   "metadata": {
    "ExecuteTime": {
     "end_time": "2019-06-08T20:29:37.671490Z",
     "start_time": "2019-06-08T20:21:40.823638Z"
    }
   },
   "outputs": [],
   "source": [
    "for i in range(len(period)):\n",
    "  label = period[i]\n",
    "  df = temporal_notes[i][['scispacy_note', 'class_label']]\n",
    "  prob = clf.predict_proba(vectorizer.fit_transform(df['scispacy_note']))[:, 1]\n",
    "  y_pred = (prob > args.bc_threshold['lr']).astype(np.int64)\n",
    "  cm = confusion_matrix(df['class_label'].to_numpy(), y_pred)\n",
    "  print(label)\n",
    "  print(cmccc)\n",
    "  pdb.set_trace()\n",
    "  metrics[i] = get_metrics(cm)"
   ]
  }
 ],
 "metadata": {
  "kernelspec": {
   "display_name": "Python 3",
   "language": "python",
   "name": "python3"
  },
  "language_info": {
   "codemirror_mode": {
    "name": "ipython",
    "version": 3
   },
   "file_extension": ".py",
   "mimetype": "text/x-python",
   "name": "python",
   "nbconvert_exporter": "python",
   "pygments_lexer": "ipython3",
   "version": "3.7.3"
  },
  "toc": {
   "base_numbering": 1,
   "nav_menu": {},
   "number_sections": true,
   "sideBar": true,
   "skip_h1_title": true,
   "title_cell": "Table of Contents",
   "title_sidebar": "Contents",
   "toc_cell": false,
   "toc_position": {
    "height": "calc(100% - 180px)",
    "left": "10px",
    "top": "150px",
    "width": "165px"
   },
   "toc_section_display": true,
   "toc_window_display": false
  }
 },
 "nbformat": 4,
 "nbformat_minor": 2
}
