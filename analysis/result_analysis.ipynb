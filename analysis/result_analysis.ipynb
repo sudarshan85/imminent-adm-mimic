{
 "cells": [
  {
   "cell_type": "markdown",
   "metadata": {},
   "source": [
    "# Dataset Preparation for First ICU Prediction"
   ]
  },
  {
   "cell_type": "markdown",
   "metadata": {},
   "source": [
    "## Imports & Inits"
   ]
  },
  {
   "cell_type": "code",
   "execution_count": 1,
   "metadata": {
    "ExecuteTime": {
     "end_time": "2019-06-09T13:47:14.436039Z",
     "start_time": "2019-06-09T13:47:14.424532Z"
    }
   },
   "outputs": [],
   "source": [
    "%load_ext autoreload\n",
    "%autoreload 2"
   ]
  },
  {
   "cell_type": "code",
   "execution_count": 2,
   "metadata": {
    "ExecuteTime": {
     "end_time": "2019-06-09T13:47:15.748564Z",
     "start_time": "2019-06-09T13:47:14.437284Z"
    }
   },
   "outputs": [],
   "source": [
    "import sys\n",
    "sys.path.append('../')\n",
    "\n",
    "import matplotlib.pyplot as plt\n",
    "%matplotlib inline\n",
    "\n",
    "import numpy as np\n",
    "np.set_printoptions(precision=2)\n",
    "\n",
    "from utils.metrics import BinaryAvgMetrics\n",
    "from utils.plots import *\n",
    "\n",
    "import pandas as pd\n",
    "import pickle\n",
    "from pathlib import Path"
   ]
  },
  {
   "cell_type": "code",
   "execution_count": 3,
   "metadata": {
    "ExecuteTime": {
     "end_time": "2019-06-09T13:47:15.768383Z",
     "start_time": "2019-06-09T13:47:15.750252Z"
    },
    "scrolled": true
   },
   "outputs": [
    {
     "data": {
      "text/plain": [
       "{'path': PosixPath('../data'),\n",
       " 'workdir': PosixPath('../data/work_dir'),\n",
       " 'dataset_csv': PosixPath('../data/processed_dataset.csv'),\n",
       " 'temporal_pkl': PosixPath('../data/temporal_notes.pkl'),\n",
       " 'min_freq': 3,\n",
       " 'bc_threshold': {'lr': 0.47, 'rf': 0.32, 'cnn': 0.23}}"
      ]
     },
     "execution_count": 3,
     "metadata": {},
     "output_type": "execute_result"
    }
   ],
   "source": [
    "from args import args\n",
    "vars(args)"
   ]
  },
  {
   "cell_type": "markdown",
   "metadata": {
    "heading_collapsed": true
   },
   "source": [
    "## 100 Run Performance Results"
   ]
  },
  {
   "cell_type": "code",
   "execution_count": 4,
   "metadata": {
    "ExecuteTime": {
     "end_time": "2019-06-09T11:26:38.165059Z",
     "start_time": "2019-06-09T11:26:31.700965Z"
    },
    "hidden": true
   },
   "outputs": [
    {
     "data": {
      "text/html": [
       "<div>\n",
       "<style scoped>\n",
       "    .dataframe tbody tr th:only-of-type {\n",
       "        vertical-align: middle;\n",
       "    }\n",
       "\n",
       "    .dataframe tbody tr th {\n",
       "        vertical-align: top;\n",
       "    }\n",
       "\n",
       "    .dataframe thead th {\n",
       "        text-align: right;\n",
       "    }\n",
       "</style>\n",
       "<table border=\"1\" class=\"dataframe\">\n",
       "  <thead>\n",
       "    <tr style=\"text-align: right;\">\n",
       "      <th></th>\n",
       "      <th>lr</th>\n",
       "      <th>rf</th>\n",
       "      <th>cnn</th>\n",
       "    </tr>\n",
       "  </thead>\n",
       "  <tbody>\n",
       "    <tr>\n",
       "      <th>sensitivity</th>\n",
       "      <td>0.894</td>\n",
       "      <td>0.822</td>\n",
       "      <td>0.808</td>\n",
       "    </tr>\n",
       "    <tr>\n",
       "      <th>specificity</th>\n",
       "      <td>0.620</td>\n",
       "      <td>0.732</td>\n",
       "      <td>0.748</td>\n",
       "    </tr>\n",
       "    <tr>\n",
       "      <th>ppv</th>\n",
       "      <td>0.422</td>\n",
       "      <td>0.487</td>\n",
       "      <td>0.504</td>\n",
       "    </tr>\n",
       "    <tr>\n",
       "      <th>auroc</th>\n",
       "      <td>0.843</td>\n",
       "      <td>0.857</td>\n",
       "      <td>0.860</td>\n",
       "    </tr>\n",
       "    <tr>\n",
       "      <th>npv</th>\n",
       "      <td>0.950</td>\n",
       "      <td>0.930</td>\n",
       "      <td>0.928</td>\n",
       "    </tr>\n",
       "    <tr>\n",
       "      <th>f1</th>\n",
       "      <td>0.573</td>\n",
       "      <td>0.612</td>\n",
       "      <td>0.621</td>\n",
       "    </tr>\n",
       "  </tbody>\n",
       "</table>\n",
       "</div>"
      ],
      "text/plain": [
       "                lr     rf    cnn\n",
       "sensitivity  0.894  0.822  0.808\n",
       "specificity  0.620  0.732  0.748\n",
       "ppv          0.422  0.487  0.504\n",
       "auroc        0.843  0.857  0.860\n",
       "npv          0.950  0.930  0.928\n",
       "f1           0.573  0.612  0.621"
      ]
     },
     "execution_count": 4,
     "metadata": {},
     "output_type": "execute_result"
    }
   ],
   "source": [
    "models = list(args.bc_threshold.keys())\n",
    "\n",
    "bams = {}\n",
    "\n",
    "for model in models:\n",
    "  with open(args.workdir/model/'preds.pkl', 'rb') as f:\n",
    "    targs = pickle.load(f)\n",
    "    preds = pickle.load(f)\n",
    "    probs = pickle.load(f)\n",
    "    \n",
    "  bams[model] = BinaryAvgMetrics(targs, preds, probs)\n",
    "\n",
    "all_metrics = {}\n",
    "\n",
    "for key in bams.keys():\n",
    "  all_metrics[key] = []\n",
    "  for i in range(len(bams[key].get_avg_metrics())):\n",
    "    all_metrics[key].append(bams[key].get_avg_metrics().iloc[i]['Value'])\n",
    "\n",
    "metrics = pd.DataFrame(all_metrics, index=['sensitivity', 'specificity', 'ppv', 'auroc', 'npv', 'f1'])\n",
    "metrics"
   ]
  },
  {
   "cell_type": "code",
   "execution_count": 5,
   "metadata": {
    "ExecuteTime": {
     "end_time": "2019-06-09T11:26:47.074078Z",
     "start_time": "2019-06-09T11:26:46.833107Z"
    },
    "hidden": true
   },
   "outputs": [
    {
     "data": {
      "text/html": [
       "<div>\n",
       "<style scoped>\n",
       "    .dataframe tbody tr th:only-of-type {\n",
       "        vertical-align: middle;\n",
       "    }\n",
       "\n",
       "    .dataframe tbody tr th {\n",
       "        vertical-align: top;\n",
       "    }\n",
       "\n",
       "    .dataframe thead th {\n",
       "        text-align: right;\n",
       "    }\n",
       "</style>\n",
       "<table border=\"1\" class=\"dataframe\">\n",
       "  <thead>\n",
       "    <tr style=\"text-align: right;\">\n",
       "      <th></th>\n",
       "      <th>Value</th>\n",
       "      <th>Definition</th>\n",
       "    </tr>\n",
       "  </thead>\n",
       "  <tbody>\n",
       "    <tr>\n",
       "      <th>sensitivity</th>\n",
       "      <td>0.808</td>\n",
       "      <td>When it's ACTUALLY YES, how often does it PREDICT YES?</td>\n",
       "    </tr>\n",
       "    <tr>\n",
       "      <th>specificity</th>\n",
       "      <td>0.748</td>\n",
       "      <td>When it's ACTUALLY NO, how often does it PREDICT NO?</td>\n",
       "    </tr>\n",
       "    <tr>\n",
       "      <th>ppv</th>\n",
       "      <td>0.504</td>\n",
       "      <td>When it PREDICTS YES, how often is it correct?</td>\n",
       "    </tr>\n",
       "    <tr>\n",
       "      <th>auroc</th>\n",
       "      <td>0.860</td>\n",
       "      <td>Indicates how well the model is capable of distinguishing between classes</td>\n",
       "    </tr>\n",
       "    <tr>\n",
       "      <th>npv</th>\n",
       "      <td>0.928</td>\n",
       "      <td>When it PREDICTS NO, how often is it correct?</td>\n",
       "    </tr>\n",
       "    <tr>\n",
       "      <th>f1</th>\n",
       "      <td>0.621</td>\n",
       "      <td>Harmonic mean of sensitivity and ppv</td>\n",
       "    </tr>\n",
       "  </tbody>\n",
       "</table>\n",
       "</div>"
      ],
      "text/plain": [
       "             Value  \\\n",
       "sensitivity  0.808   \n",
       "specificity  0.748   \n",
       "ppv          0.504   \n",
       "auroc        0.860   \n",
       "npv          0.928   \n",
       "f1           0.621   \n",
       "\n",
       "                                                                            Definition  \n",
       "sensitivity  When it's ACTUALLY YES, how often does it PREDICT YES?                     \n",
       "specificity  When it's ACTUALLY NO, how often does it PREDICT NO?                       \n",
       "ppv          When it PREDICTS YES, how often is it correct?                             \n",
       "auroc        Indicates how well the model is capable of distinguishing between classes  \n",
       "npv          When it PREDICTS NO, how often is it correct?                              \n",
       "f1           Harmonic mean of sensitivity and ppv                                       "
      ]
     },
     "execution_count": 5,
     "metadata": {},
     "output_type": "execute_result"
    }
   ],
   "source": [
    "model = 'cnn'\n",
    "bams[model].get_avg_metrics()"
   ]
  },
  {
   "cell_type": "code",
   "execution_count": 6,
   "metadata": {
    "ExecuteTime": {
     "end_time": "2019-06-09T11:26:47.755205Z",
     "start_time": "2019-06-09T11:26:47.075319Z"
    },
    "hidden": true
   },
   "outputs": [
    {
     "data": {
      "image/png": "[encoded data removed]",
      "text/plain": [
       "<Figure size 720x576 with 1 Axes>"
      ]
     },
     "metadata": {
      "needs_background": "light"
     },
     "output_type": "display_data"
    }
   ],
   "source": [
    "fig, ax = plt.subplots(1, 1, figsize=(10, 8))\n",
    "plot_mean_roc(ax, bams[model].targs, bams[model].probs)"
   ]
  },
  {
   "cell_type": "code",
   "execution_count": 7,
   "metadata": {
    "ExecuteTime": {
     "end_time": "2019-06-09T11:26:48.015234Z",
     "start_time": "2019-06-09T11:26:47.756633Z"
    },
    "hidden": true
   },
   "outputs": [
    {
     "data": {
      "image/png": "[encoded data removed]",
      "text/plain": [
       "<Figure size 1080x432 with 4 Axes>"
      ]
     },
     "metadata": {
      "needs_background": "light"
     },
     "output_type": "display_data"
    }
   ],
   "source": [
    "fig, ax = plt.subplots(1, 2, figsize=(15, 6))\n",
    "\n",
    "plot_confusion_matrix(ax[0], bams[model].cm_avg, classes=['not imminent', 'imminent'], normalize=False,\\\n",
    "                      title='Confusion Matrix Over Runs')\n",
    "plot_confusion_matrix(ax[1], bams[model].cm_avg, classes=['not imminent', 'imminent'], normalize=True,\\\n",
    "                      title='Normalized Confusion Matrix Over Runs')\n",
    "plt.show()"
   ]
  },
  {
   "cell_type": "markdown",
   "metadata": {},
   "source": [
    "## Subsect data for Temporal Analysis"
   ]
  },
  {
   "cell_type": "code",
   "execution_count": 4,
   "metadata": {
    "ExecuteTime": {
     "end_time": "2019-06-09T13:47:21.287050Z",
     "start_time": "2019-06-09T13:47:18.538984Z"
    }
   },
   "outputs": [
    {
     "data": {
      "text/plain": [
       "count    50828.000000\n",
       "mean    -285.889588  \n",
       "std      288.572212  \n",
       "min     -3388.000000 \n",
       "25%     -361.000000  \n",
       "50%     -207.000000  \n",
       "75%     -123.000000  \n",
       "max     -24.000000   \n",
       "Name: relative_charttime, dtype: float64"
      ]
     },
     "execution_count": 4,
     "metadata": {},
     "output_type": "execute_result"
    }
   ],
   "source": [
    "df = pd.read_csv(args.dataset_csv, parse_dates=['admittime', 'dischtime', 'intime', 'charttime'])\n",
    "\n",
    "df['relative_charttime'] = (df['charttime'] - df['intime']).apply(lambda x: int(x.value/(1e9*60*60)))\n",
    "df['relative_charttime'].describe()"
   ]
  },
  {
   "cell_type": "code",
   "execution_count": 8,
   "metadata": {
    "ExecuteTime": {
     "end_time": "2019-06-09T13:51:06.030364Z",
     "start_time": "2019-06-09T13:51:05.948436Z"
    }
   },
   "outputs": [
    {
     "data": {
      "text/plain": [
       "50828"
      ]
     },
     "execution_count": 8,
     "metadata": {},
     "output_type": "execute_result"
    }
   ],
   "source": [
    "len(df.loc[(df['charttime'] < df['intime'])])"
   ]
  },
  {
   "cell_type": "code",
   "execution_count": null,
   "metadata": {
    "ExecuteTime": {
     "end_time": "2019-06-08T20:10:50.595308Z",
     "start_time": "2019-06-08T20:10:50.305972Z"
    }
   },
   "outputs": [],
   "source": [
    "# value in hours\n",
    "e1 = -480\n",
    "s1 = -120\n",
    "e2 = -72\n",
    "s2 = -24\n",
    "step = 6\n",
    "\n",
    "temporal_notes = []\n",
    "period = []\n",
    "\n",
    "for i in range(e1, s1, step):\n",
    "  tmp = df.loc[((df['relative_charttime'] >= i) & (df['relative_charttime'] <= (i+step)))].copy()\n",
    "  period.append(f'{i} ≤ t ≤ {i+step}')\n",
    "  temporal_notes.append(tmp)\n",
    "\n",
    "for i in range(e2, s2, step):\n",
    "  tmp = df.loc[((df['relative_charttime'] >= i) & (df['relative_charttime'] <= (i+step)))].copy()\n",
    "  period.append(f'{i} ≤ t ≤ {i+step}')\n",
    "  temporal_notes.append(tmp)"
   ]
  },
  {
   "cell_type": "markdown",
   "metadata": {},
   "source": [
    "These lengths should not be different..."
   ]
  },
  {
   "cell_type": "code",
   "execution_count": null,
   "metadata": {
    "ExecuteTime": {
     "end_time": "2019-06-08T20:10:59.836766Z",
     "start_time": "2019-06-08T20:10:59.789355Z"
    }
   },
   "outputs": [],
   "source": [
    "s = 0\n",
    "for x in temporal_notes:\n",
    "  s += len(x)\n",
    "tmp = df.loc[((df['relative_charttime'] >= e1) & (df['relative_charttime'] <= s1))\\\n",
    "               | ((df['relative_charttime'] >= e2) & (df['relative_charttime'] <= s2))].copy()\n",
    "print(s - len(tmp))"
   ]
  },
  {
   "cell_type": "code",
   "execution_count": null,
   "metadata": {
    "ExecuteTime": {
     "end_time": "2019-06-08T20:11:03.636722Z",
     "start_time": "2019-06-08T20:11:02.987549Z"
    }
   },
   "outputs": [],
   "source": [
    "with open(args.temporal_pkl, 'wb') as f:\n",
    "  pickle.dump(temporal_notes, f)\n",
    "  pickle.dump(period, f)"
   ]
  },
  {
   "cell_type": "markdown",
   "metadata": {},
   "source": [
    "## Temporal Performance Analysis"
   ]
  },
  {
   "cell_type": "code",
   "execution_count": null,
   "metadata": {
    "ExecuteTime": {
     "end_time": "2019-06-09T11:24:45.258265Z",
     "start_time": "2019-06-09T11:24:45.241181Z"
    }
   },
   "outputs": [],
   "source": [
    "def get_metrics(cm, mu=1e-7):\n",
    "  tn,fp,fn,tp = cm[0][0],cm[0][1],cm[1][0],cm[1][1]\n",
    "  sensitivity = tp/(tp+fn+mu)\n",
    "  specificity = tn/(tn+fp+mu)\n",
    "  ppv = tp/(tp+fp+mu)\n",
    "  npv = tn/(tn+fn+mu)\n",
    "\n",
    "#   d = {\n",
    "#     'sensitivity': np.round(sensitivity, 3),\n",
    "#     'specificity': np.round(specificity, 3),\n",
    "#     'ppv': np.round(ppv, 3),\n",
    "#     'npv': np.round(npv, 3),\n",
    "#   }\n",
    "\n",
    "#   return pd.DataFrame(d.values(), index=d.keys(), columns=['Value'])\n",
    "  return np.array([sensitivity, specificity, ppv, npv])"
   ]
  },
  {
   "cell_type": "code",
   "execution_count": null,
   "metadata": {
    "ExecuteTime": {
     "end_time": "2019-06-08T20:19:00.860372Z",
     "start_time": "2019-06-08T20:19:00.453288Z"
    }
   },
   "outputs": [],
   "source": [
    "with open(args.temporal_pkl, 'rb') as f:\n",
    "  temporal_notes = pickle.load(f)\n",
    "  period = pickle.load(f)"
   ]
  },
  {
   "cell_type": "markdown",
   "metadata": {},
   "source": [
    "### Logistic Regression Model"
   ]
  },
  {
   "cell_type": "code",
   "execution_count": null,
   "metadata": {
    "ExecuteTime": {
     "end_time": "2019-06-08T20:19:00.911395Z",
     "start_time": "2019-06-08T20:19:00.862127Z"
    }
   },
   "outputs": [],
   "source": [
    "from sklearn.feature_extraction.text import TfidfVectorizer\n",
    "from sklearn.linear_model import LogisticRegression"
   ]
  },
  {
   "cell_type": "code",
   "execution_count": null,
   "metadata": {
    "ExecuteTime": {
     "end_time": "2019-06-08T20:19:00.967095Z",
     "start_time": "2019-06-08T20:19:00.912946Z"
    }
   },
   "outputs": [],
   "source": [
    "with open(args.workdir/'lr'/'full_run.pkl', 'rb') as f:\n",
    "  clf = pickle.load(f)\n",
    "  vocabulary = pickle.load(f)\n",
    "  \n",
    "vectorizer = TfidfVectorizer(min_df=3, analyzer=str.split, sublinear_tf=True,\\\n",
    "                              ngram_range=(2,2), vocabulary=vocabulary)  "
   ]
  },
  {
   "cell_type": "code",
   "execution_count": null,
   "metadata": {
    "ExecuteTime": {
     "end_time": "2019-06-08T20:19:10.079506Z",
     "start_time": "2019-06-08T20:19:10.059871Z"
    }
   },
   "outputs": [],
   "source": [
    "metrics = np.zeros((len(period), 4))"
   ]
  },
  {
   "cell_type": "code",
   "execution_count": null,
   "metadata": {
    "ExecuteTime": {
     "end_time": "2019-06-08T20:21:01.014770Z",
     "start_time": "2019-06-08T20:21:00.874593Z"
    }
   },
   "outputs": [],
   "source": [
    "import pdb"
   ]
  },
  {
   "cell_type": "code",
   "execution_count": null,
   "metadata": {
    "ExecuteTime": {
     "end_time": "2019-06-08T20:29:37.671490Z",
     "start_time": "2019-06-08T20:21:40.823638Z"
    }
   },
   "outputs": [],
   "source": [
    "for i in range(len(period)):\n",
    "  label = period[i]\n",
    "  df = temporal_notes[i][['scispacy_note', 'class_label']]\n",
    "  prob = clf.predict_proba(vectorizer.fit_transform(df['scispacy_note']))[:, 1]\n",
    "  y_pred = (prob > args.bc_threshold['lr']).astype(np.int64)\n",
    "  cm = confusion_matrix(df['class_label'].to_numpy(), y_pred)\n",
    "  print(label)\n",
    "  print(cmccc)\n",
    "  pdb.set_trace()\n",
    "  metrics[i] = get_metrics(cm)"
   ]
  }
 ],
 "metadata": {
  "kernelspec": {
   "display_name": "Python 3",
   "language": "python",
   "name": "python3"
  },
  "language_info": {
   "codemirror_mode": {
    "name": "ipython",
    "version": 3
   },
   "file_extension": ".py",
   "mimetype": "text/x-python",
   "name": "python",
   "nbconvert_exporter": "python",
   "pygments_lexer": "ipython3",
   "version": "3.7.3"
  },
  "toc": {
   "base_numbering": 1,
   "nav_menu": {},
   "number_sections": true,
   "sideBar": true,
   "skip_h1_title": true,
   "title_cell": "Table of Contents",
   "title_sidebar": "Contents",
   "toc_cell": false,
   "toc_position": {
    "height": "calc(100% - 180px)",
    "left": "10px",
    "top": "150px",
    "width": "165px"
   },
   "toc_section_display": true,
   "toc_window_display": false
  }
 },
 "nbformat": 4,
 "nbformat_minor": 2
}
