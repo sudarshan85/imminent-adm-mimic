{
 "cells": [
  {
   "cell_type": "markdown",
   "metadata": {},
   "source": [
    "# Imminent ICU Admission and Prolonged Stay Prediction using Gradient Boosting Machines"
   ]
  },
  {
   "cell_type": "markdown",
   "metadata": {},
   "source": [
    "## Imports & Inits"
   ]
  },
  {
   "cell_type": "code",
   "execution_count": 1,
   "metadata": {
    "ExecuteTime": {
     "end_time": "2019-07-08T16:52:24.033240Z",
     "start_time": "2019-07-08T16:52:24.021368Z"
    }
   },
   "outputs": [],
   "source": [
    "%load_ext autoreload\n",
    "%autoreload 2"
   ]
  },
  {
   "cell_type": "code",
   "execution_count": 2,
   "metadata": {
    "ExecuteTime": {
     "end_time": "2019-07-08T16:52:25.285783Z",
     "start_time": "2019-07-08T16:52:24.034485Z"
    }
   },
   "outputs": [
    {
     "data": {
      "text/plain": [
       "{'workdir': PosixPath('../data/workdir/gbm'),\n",
       " 'dataset_csv': PosixPath('../data/proc_dataset.csv'),\n",
       " 'cols': ['hadm_id',\n",
       "  'imminent_adm_label',\n",
       "  'prolonged_stay_label',\n",
       "  'processed_note',\n",
       "  'charttime',\n",
       "  'intime'],\n",
       " 'imminent_adm_cols': ['hadm_id', 'processed_note', 'imminent_adm_label'],\n",
       " 'prolonged_stay_cols': ['hadm_id', 'processed_note', 'prolonged_stay_label'],\n",
       " 'dates': ['charttime', 'intime'],\n",
       " 'modeldir': PosixPath('../data/workdir/gbm/models'),\n",
       " 'min_freq': 3,\n",
       " 'ia_thresh': 0.526,\n",
       " 'ps_thresh': 0.45,\n",
       " 'start_seed': 127}"
      ]
     },
     "execution_count": 2,
     "metadata": {},
     "output_type": "execute_result"
    }
   ],
   "source": [
    "import sys\n",
    "sys.path.append('../')\n",
    "\n",
    "import warnings\n",
    "warnings.filterwarnings(\"ignore\", category=UserWarning)\n",
    "\n",
    "import matplotlib.pyplot as plt\n",
    "import seaborn as sns\n",
    "sns.set_style(\"darkgrid\")\n",
    "%matplotlib inline\n",
    "\n",
    "import numpy as np\n",
    "np.set_printoptions(precision=2)\n",
    "\n",
    "import pandas as pd\n",
    "import pickle\n",
    "\n",
    "from sklearn.feature_extraction.text import TfidfVectorizer\n",
    "import lightgbm\n",
    "\n",
    "from utils.splits import set_group_splits\n",
    "from utils.metrics import BinaryAvgMetrics, get_best_model\n",
    "from utils.plots import *\n",
    "from args import args\n",
    "vars(args)"
   ]
  },
  {
   "cell_type": "markdown",
   "metadata": {},
   "source": [
    "## GBM Dev"
   ]
  },
  {
   "cell_type": "code",
   "execution_count": 3,
   "metadata": {
    "ExecuteTime": {
     "end_time": "2019-07-08T16:52:26.979370Z",
     "start_time": "2019-07-08T16:52:25.287284Z"
    }
   },
   "outputs": [
    {
     "name": "stdout",
     "output_type": "stream",
     "text": [
      "(50809, 3)\n",
      "(75271, 3)\n"
     ]
    }
   ],
   "source": [
    "seed = 42\n",
    "ori_df = pd.read_csv(args.dataset_csv, usecols=args.cols, parse_dates=args.dates)\n",
    "ia_df = ori_df.loc[(ori_df['imminent_adm_label'] != -1)][args.imminent_adm_cols].reset_index(drop=True)\n",
    "ps_df = ori_df[args.prolonged_stay_cols].copy()\n",
    "\n",
    "print(ia_df.shape)\n",
    "print(ps_df.shape)"
   ]
  },
  {
   "cell_type": "markdown",
   "metadata": {},
   "source": [
    "### Predict Imminent ICU Admission"
   ]
  },
  {
   "cell_type": "code",
   "execution_count": null,
   "metadata": {
    "ExecuteTime": {
     "end_time": "2019-07-08T16:31:39.953978Z",
     "start_time": "2019-07-08T16:31:33.715039Z"
    }
   },
   "outputs": [],
   "source": [
    "df = set_group_splits(ia_df.copy(), group_col='hadm_id', seed=seed)\n",
    "vectorizer = TfidfVectorizer(min_df=args.min_freq, analyzer=str.split, sublinear_tf=True, ngram_range=(2,2))\n",
    "x_train = vectorizer.fit_transform(df.loc[(df['split'] == 'train')]['processed_note'])\n",
    "x_test = vectorizer.transform(df.loc[(df['split'] == 'test')]['processed_note'])\n",
    "y_train = df.loc[(df['split'] == 'train')]['imminent_adm_label'].to_numpy()\n",
    "y_test = df.loc[(df['split'] == 'test')]['imminent_adm_label'].to_numpy()\n",
    "df.shape, x_train.shape, x_test.shape, y_train.shape, y_test.shape"
   ]
  },
  {
   "cell_type": "code",
   "execution_count": null,
   "metadata": {
    "ExecuteTime": {
     "end_time": "2019-07-08T16:31:39.990534Z",
     "start_time": "2019-07-08T16:31:39.955886Z"
    }
   },
   "outputs": [],
   "source": [
    "params = {\n",
    "  \"objective\": \"binary\",\n",
    "  \"metric\": \"binary_logloss\",\n",
    "  \"bagging_fraction\": 0.413,\n",
    "  \"bagging_freq\": 20,\n",
    "  \"boosting\": \"dart\",\n",
    "  \"feature_fraction\": 0.288,\n",
    "  \"is_unbalance\": True,\n",
    "  \"lambda_l1\": 3.367,\n",
    "  \"learning_rate\": 0.037,\n",
    "  \"max_bin\": 9,\n",
    "  \"min_data_in_leaf\": 12,\n",
    "  \"num_iterations\": 163,\n",
    "  \"num_leaves\": 45\n",
    "}"
   ]
  },
  {
   "cell_type": "code",
   "execution_count": null,
   "metadata": {
    "ExecuteTime": {
     "end_time": "2019-07-08T16:31:46.281265Z",
     "start_time": "2019-07-08T16:31:39.992035Z"
    }
   },
   "outputs": [],
   "source": [
    "clf = lightgbm.LGBMClassifier(**params, n_threads=32)\n",
    "clf.fit(x_train, y_train)\n",
    "prob = clf.predict_proba(x_test)[:, 1]\n",
    "\n",
    "fig, ax = plt.subplots(figsize=(12,8))\n",
    "plot_thresh_range(ax, y_test, prob, 0.3, 0.7, 25)"
   ]
  },
  {
   "cell_type": "code",
   "execution_count": null,
   "metadata": {
    "ExecuteTime": {
     "end_time": "2019-07-08T16:33:26.293426Z",
     "start_time": "2019-07-08T16:33:26.259595Z"
    }
   },
   "outputs": [],
   "source": [
    "args.imminent_threshold = 0.526\n",
    "y_pred = (prob > args.imminent_threshold).astype(np.int64)\n",
    "cm = confusion_matrix(y_test, y_pred)\n",
    "tn,fp,fn,tp = cm[0][0],cm[0][1],cm[1][0],cm[1][1]\n",
    "sensitivity = tp/(tp+fn)\n",
    "specificity = tn/(tn+fp)\n",
    "ppv = tp/(tp+fp)\n",
    "npv = tn/(tn+fn)\n",
    "f1 = (2*ppv*sensitivity)/(ppv+sensitivity)\n",
    "auroc = roc_auc_score(y_test, prob)\n",
    "\n",
    "d = {\n",
    "  'sensitivity': np.round(sensitivity, 3),\n",
    "  'specificity': np.round(specificity, 3),\n",
    "  'ppv': np.round(ppv, 3),\n",
    "  'npv': np.round(npv, 3),\n",
    "  'f1': np.round(f1, 3),\n",
    "  'auroc': np.round(auroc, 3),\n",
    "}\n",
    "\n",
    "metrics = pd.DataFrame(d.values(), index=d.keys(), columns=['Value'])\n",
    "metrics"
   ]
  },
  {
   "cell_type": "code",
   "execution_count": 4,
   "metadata": {
    "ExecuteTime": {
     "end_time": "2019-07-08T17:02:56.542623Z",
     "start_time": "2019-07-08T16:52:30.826990Z"
    }
   },
   "outputs": [],
   "source": [
    "targs, preds, probs = [], [], []\n",
    "task = 'imminent_adm'\n",
    "task_df = ia_df\n",
    "\n",
    "for seed in range(127, 227):\n",
    "  df = set_group_splits(task_df.copy(), group_col='hadm_id', seed=seed)\n",
    "  vectorizer = TfidfVectorizer(min_df=args.min_freq, analyzer=str.split, ngram_range=(2,2))\n",
    "\n",
    "  x_train = vectorizer.fit_transform(df.loc[(df['split'] == 'train')]['processed_note'])\n",
    "  x_test = vectorizer.transform(df.loc[(df['split'] == 'test')]['processed_note'])\n",
    "\n",
    "  y_train = df.loc[(df['split'] == 'train')][f'{task}_label'].to_numpy()\n",
    "  targ = df.loc[(df['split'] == 'test')][f'{task}_label'].to_numpy()\n",
    "\n",
    "  with open(args.modeldir/f'{task}_seed_{seed}.pkl', 'rb') as f:\n",
    "    clf = pickle.load(f)\n",
    "\n",
    "  pos_prob = clf.predict_proba(x_test)[:, 1]\n",
    "  y_pred = (pos_prob > args.ia_thresh).astype(np.int64)\n",
    "\n",
    "  targs.append(targ)\n",
    "  preds.append(y_pred)\n",
    "  probs.append(pos_prob)"
   ]
  },
  {
   "cell_type": "code",
   "execution_count": 5,
   "metadata": {
    "ExecuteTime": {
     "end_time": "2019-07-08T17:15:26.705510Z",
     "start_time": "2019-07-08T17:15:26.451074Z"
    }
   },
   "outputs": [],
   "source": [
    "with open(args.workdir/f'{task}_preds.pkl', 'wb') as f:\n",
    "  pickle.dump(targs, f)\n",
    "  pickle.dump(preds, f)\n",
    "  pickle.dump(probs, f)"
   ]
  },
  {
   "cell_type": "code",
   "execution_count": 6,
   "metadata": {
    "ExecuteTime": {
     "end_time": "2019-07-08T17:15:32.648165Z",
     "start_time": "2019-07-08T17:15:32.624071Z"
    }
   },
   "outputs": [
    {
     "data": {
      "text/plain": [
       "0.526"
      ]
     },
     "execution_count": 6,
     "metadata": {},
     "output_type": "execute_result"
    }
   ],
   "source": [
    "args.ia_thresh"
   ]
  },
  {
   "cell_type": "code",
   "execution_count": null,
   "metadata": {
    "ExecuteTime": {
     "end_time": "2019-07-04T20:08:45.392490Z",
     "start_time": "2019-07-04T20:08:44.986702Z"
    }
   },
   "outputs": [],
   "source": [
    "fig, ax = plt.subplots(figsize=(10, 8))\n",
    "plot_confusion_matrix(ax, cm, classes=['Delayed', 'Imminent'], normalize=False, title='Confusion matrix')"
   ]
  },
  {
   "cell_type": "code",
   "execution_count": null,
   "metadata": {
    "ExecuteTime": {
     "end_time": "2019-07-04T20:08:46.413247Z",
     "start_time": "2019-07-04T20:08:45.395275Z"
    }
   },
   "outputs": [],
   "source": [
    "scores = clf.feature_importances_ / clf.feature_importances_.sum()\n",
    "\n",
    "fig, ax = plt.subplots(1, 2, figsize=(20, 10))\n",
    "neg_cloud, pos_cloud = get_wordcloud(vectorizer.get_feature_names(), scores, n_words=50)\n",
    "ax[0].imshow(neg_cloud)\n",
    "ax[0].axis('off')\n",
    "ax[0].set_title('Delayed')\n",
    "ax[1].imshow(pos_cloud)\n",
    "ax[1].axis('off')\n",
    "ax[1].set_title('Imminent')"
   ]
  },
  {
   "cell_type": "markdown",
   "metadata": {},
   "source": [
    "### Predict Prolonged ICU Stay"
   ]
  },
  {
   "cell_type": "code",
   "execution_count": null,
   "metadata": {
    "ExecuteTime": {
     "end_time": "2019-07-08T12:06:12.009188Z",
     "start_time": "2019-07-08T12:06:01.769933Z"
    }
   },
   "outputs": [],
   "source": [
    "df = set_group_splits(ps_df.copy(), group_col='hadm_id', seed=50)\n",
    "vectorizer = TfidfVectorizer(min_df=args.min_freq, analyzer=str.split, sublinear_tf=True, ngram_range=(2,2))\n",
    "x_train = vectorizer.fit_transform(df.loc[(df['split'] == 'train')]['processed_note'])\n",
    "x_test = vectorizer.transform(df.loc[(df['split'] == 'test')]['processed_note'])\n",
    "y_train = df.loc[(df['split'] == 'train')]['prolonged_stay_label'].to_numpy()\n",
    "y_test = df.loc[(df['split'] == 'test')]['prolonged_stay_label'].to_numpy()\n",
    "df.shape, x_train.shape, x_test.shape, y_train.shape, y_test.shape"
   ]
  },
  {
   "cell_type": "code",
   "execution_count": null,
   "metadata": {
    "ExecuteTime": {
     "end_time": "2019-07-08T12:06:12.045738Z",
     "start_time": "2019-07-08T12:06:12.011802Z"
    }
   },
   "outputs": [],
   "source": [
    "params = {\n",
    "  \"objective\": \"binary\",\n",
    "  \"metric\": \"binary_logloss\",  \n",
    "  \"boosting\": \"dart\",\n",
    "  \"bagging_fraction\": 0.7,\n",
    "  \"bagging_freq\": 7,\n",
    "  \"feature_fraction\": 0.4,\n",
    "  \"is_unbalance\": True,\n",
    "  \"lambda_l1\": 0.35,\n",
    "  \"learning_rate\": 0.25,\n",
    "  \"max_bin\": 150,\n",
    "  \"min_data_in_leaf\": 3,\n",
    "  \"num_iterations\": 105,\n",
    "  \"num_leaves\": 50,\n",
    "}"
   ]
  },
  {
   "cell_type": "code",
   "execution_count": null,
   "metadata": {
    "ExecuteTime": {
     "end_time": "2019-07-08T12:06:29.613997Z",
     "start_time": "2019-07-08T12:06:12.047583Z"
    }
   },
   "outputs": [],
   "source": [
    "clf = lightgbm.LGBMClassifier(**params, n_threads=32)\n",
    "clf.fit(x_train, y_train)\n",
    "prob = clf.predict_proba(x_test)[:, 1]"
   ]
  },
  {
   "cell_type": "code",
   "execution_count": null,
   "metadata": {
    "ExecuteTime": {
     "end_time": "2019-07-08T12:06:30.646336Z",
     "start_time": "2019-07-08T12:06:29.616589Z"
    },
    "scrolled": false
   },
   "outputs": [],
   "source": [
    "fig, ax = plt.subplots(figsize=(12,8))\n",
    "plot_thresh_range(ax, y_test, prob, 0.3, 0.7, 25)"
   ]
  },
  {
   "cell_type": "code",
   "execution_count": null,
   "metadata": {
    "ExecuteTime": {
     "end_time": "2019-07-04T20:41:06.524256Z",
     "start_time": "2019-07-04T20:41:06.195245Z"
    }
   },
   "outputs": [],
   "source": [
    "args.discharge_threshold = 0.45\n",
    "y_pred = (prob > args.discharge_threshold).astype(np.int64)\n",
    "cm = confusion_matrix(y_test, y_pred)\n",
    "tn,fp,fn,tp = cm[0][0],cm[0][1],cm[1][0],cm[1][1]\n",
    "prevalence = (fn+tp)/(tn+fp+fn+tp)\n",
    "sensitivity = tp/(tp+fn)\n",
    "specificity = tn/(tn+fp)\n",
    "ppv = tp/(tp+fp)\n",
    "npv = tn/(tn+fn)\n",
    "f1 = (2*ppv*sensitivity)/(ppv+sensitivity)\n",
    "auroc = roc_auc_score(y_test, prob)\n",
    "\n",
    "d = {\n",
    "  'sensitivity': np.round(sensitivity, 3),\n",
    "  'specificity': np.round(specificity, 3),\n",
    "  'ppv': np.round(ppv, 3),\n",
    "  'npv': np.round(npv, 3),\n",
    "  'f1': np.round(f1, 3),\n",
    "  'auroc': np.round(auroc, 3),\n",
    "  'prevalence': np.round(prevalence, 3),  \n",
    "}\n",
    "\n",
    "metrics = pd.DataFrame(d.values(), index=d.keys(), columns=['Value'])\n",
    "metrics"
   ]
  },
  {
   "cell_type": "code",
   "execution_count": null,
   "metadata": {
    "ExecuteTime": {
     "end_time": "2019-07-04T20:41:08.112049Z",
     "start_time": "2019-07-04T20:41:07.638002Z"
    }
   },
   "outputs": [],
   "source": [
    "fig, ax = plt.subplots(figsize=(10, 8))\n",
    "plot_confusion_matrix(ax, cm, classes=['Short Stay', 'Prolonged Stay'], normalize=False, title='Confusion matrix')"
   ]
  },
  {
   "cell_type": "code",
   "execution_count": null,
   "metadata": {
    "ExecuteTime": {
     "end_time": "2019-07-04T20:41:09.290738Z",
     "start_time": "2019-07-04T20:41:08.114229Z"
    }
   },
   "outputs": [],
   "source": [
    "scores = clf.feature_importances_ / clf.feature_importances_.sum()\n",
    "\n",
    "fig, ax = plt.subplots(1, 2, figsize=(20, 10))\n",
    "neg_cloud, pos_cloud = get_wordcloud(vectorizer.get_feature_names(), clf.feature_importances_/clf.feature_importances_.sum(), n_words=50)\n",
    "ax[0].imshow(neg_cloud)\n",
    "ax[0].axis('off')\n",
    "ax[0].set_title('Negative Class')\n",
    "ax[1].imshow(pos_cloud)\n",
    "ax[1].axis('off')\n",
    "ax[1].set_title('Positive Class')"
   ]
  },
  {
   "cell_type": "markdown",
   "metadata": {
    "heading_collapsed": true
   },
   "source": [
    "## Metrics"
   ]
  },
  {
   "cell_type": "markdown",
   "metadata": {
    "hidden": true
   },
   "source": [
    "Taken from [here](https://www.dataschool.io/simple-guide-to-confusion-matrix-terminology/):\n",
    "\n",
    "1. Prevalence: `(fn + tp) / total`\n",
    "2. Sensitivity: AKA recall, true positive rate `tp / (tp + fn)`\n",
    "3. Specificity: AKA true negative rate `tn / (tn + fp)`\n",
    "4. Positive Predictive Value (PPV): AKA precision `tp / (tp + fp)`\n",
    "5. Negative Predictive Value (NPV): `tn / (tn + fn)`"
   ]
  },
  {
   "cell_type": "markdown",
   "metadata": {
    "hidden": true
   },
   "source": [
    "### Imminent ICU Admission"
   ]
  },
  {
   "cell_type": "code",
   "execution_count": null,
   "metadata": {
    "ExecuteTime": {
     "end_time": "2019-06-30T18:12:35.357144Z",
     "start_time": "2019-06-30T18:12:34.769648Z"
    },
    "hidden": true
   },
   "outputs": [],
   "source": [
    "with open(args.workdir/f'imminent_preds.pkl', 'rb') as f:\n",
    "  targs = pickle.load(f)\n",
    "  preds = pickle.load(f)\n",
    "  probs = pickle.load(f)\n",
    "\n",
    "fnames = [f'imminent_seed_{seed}.pkl' for seed in range(args.start_seed, args.start_seed + 100)]\n",
    "bam = BinaryAvgMetrics(targs, preds, probs)"
   ]
  },
  {
   "cell_type": "code",
   "execution_count": null,
   "metadata": {
    "ExecuteTime": {
     "end_time": "2019-06-30T18:12:35.565335Z",
     "start_time": "2019-06-30T18:12:35.358553Z"
    },
    "hidden": true
   },
   "outputs": [],
   "source": [
    "bam.get_avg_metrics(conf=0.95)"
   ]
  },
  {
   "cell_type": "code",
   "execution_count": null,
   "metadata": {
    "ExecuteTime": {
     "end_time": "2019-06-30T18:12:35.769432Z",
     "start_time": "2019-06-30T18:12:35.566735Z"
    },
    "hidden": true
   },
   "outputs": [],
   "source": [
    "get_best_model(bam, fnames)"
   ]
  },
  {
   "cell_type": "code",
   "execution_count": null,
   "metadata": {
    "ExecuteTime": {
     "end_time": "2019-06-30T18:12:36.500046Z",
     "start_time": "2019-06-30T18:12:35.770651Z"
    },
    "hidden": true
   },
   "outputs": [],
   "source": [
    "fig, ax = plt.subplots(figsize=(10, 8))\n",
    "plot_mean_roc(ax, bam.targs, bam.probs)"
   ]
  },
  {
   "cell_type": "code",
   "execution_count": null,
   "metadata": {
    "ExecuteTime": {
     "end_time": "2019-06-30T18:12:36.788233Z",
     "start_time": "2019-06-30T18:12:36.501383Z"
    },
    "hidden": true
   },
   "outputs": [],
   "source": [
    "fig, ax = plt.subplots(1, 2, figsize=(15, 6))\n",
    "\n",
    "plot_confusion_matrix(ax[0], bam.cm_avg, classes=['not imminent', 'imminent'], normalize=False,\\\n",
    "                      title='Confusion Matrix Over Runs')\n",
    "plot_confusion_matrix(ax[1], bam.cm_avg, classes=['not imminent', 'imminent'], normalize=True,\\\n",
    "                      title='Normalized Confusion Matrix Over Runs')\n",
    "plt.show()"
   ]
  },
  {
   "cell_type": "markdown",
   "metadata": {
    "hidden": true
   },
   "source": [
    "### ICU Discharge"
   ]
  },
  {
   "cell_type": "code",
   "execution_count": null,
   "metadata": {
    "ExecuteTime": {
     "end_time": "2019-06-30T18:12:37.450510Z",
     "start_time": "2019-06-30T18:12:36.789507Z"
    },
    "hidden": true
   },
   "outputs": [],
   "source": [
    "with open(args.workdir/f'discharge_preds.pkl', 'rb') as f:\n",
    "  targs = pickle.load(f)\n",
    "  preds = pickle.load(f)\n",
    "  probs = pickle.load(f)\n",
    "\n",
    "fnames = [f'discharge_seed_{seed}.pkl' for seed in range(args.start_seed, args.start_seed + 100)]\n",
    "bam = BinaryAvgMetrics(targs, preds, probs)"
   ]
  },
  {
   "cell_type": "code",
   "execution_count": null,
   "metadata": {
    "ExecuteTime": {
     "end_time": "2019-06-30T18:12:37.729709Z",
     "start_time": "2019-06-30T18:12:37.451902Z"
    },
    "hidden": true
   },
   "outputs": [],
   "source": [
    "bam.get_avg_metrics(conf=0.95)"
   ]
  },
  {
   "cell_type": "code",
   "execution_count": null,
   "metadata": {
    "ExecuteTime": {
     "end_time": "2019-06-30T18:12:38.025672Z",
     "start_time": "2019-06-30T18:12:37.730890Z"
    },
    "hidden": true
   },
   "outputs": [],
   "source": [
    "get_best_model(bam, fnames)"
   ]
  },
  {
   "cell_type": "code",
   "execution_count": null,
   "metadata": {
    "ExecuteTime": {
     "end_time": "2019-06-30T18:12:38.947130Z",
     "start_time": "2019-06-30T18:12:38.028285Z"
    },
    "hidden": true
   },
   "outputs": [],
   "source": [
    "fig, ax = plt.subplots(figsize=(10, 8))\n",
    "plot_mean_roc(ax, bam.targs, bam.probs)"
   ]
  },
  {
   "cell_type": "code",
   "execution_count": null,
   "metadata": {
    "ExecuteTime": {
     "end_time": "2019-06-30T18:12:39.238984Z",
     "start_time": "2019-06-30T18:12:38.948643Z"
    },
    "hidden": true
   },
   "outputs": [],
   "source": [
    "fig, ax = plt.subplots(1, 2, figsize=(15, 6))\n",
    "\n",
    "plot_confusion_matrix(ax[0], bam.cm_avg, classes=['Discharge within 5 days', 'Discharge after 5 days'], normalize=False, title='Confusion Matrix Over Runs')\n",
    "plot_confusion_matrix(ax[1], bam.cm_avg, classes=['Discharge within 5 days', 'Discharge after 5 days'], normalize=True, title='Normalized Confusion Matrix Over Runs')\n",
    "plt.show()"
   ]
  },
  {
   "cell_type": "markdown",
   "metadata": {},
   "source": [
    "## Full Run"
   ]
  },
  {
   "cell_type": "code",
   "execution_count": null,
   "metadata": {
    "ExecuteTime": {
     "end_time": "2019-06-30T18:12:40.957151Z",
     "start_time": "2019-06-30T18:12:39.240193Z"
    }
   },
   "outputs": [],
   "source": [
    "df = pd.read_csv(args.dataset_csv, usecols=args.full_run_cols, parse_dates=args.dates)\n",
    "df['relative_charttime'] = (df['charttime'] - df['intime'])\n",
    "\n",
    "imminent_df = df.loc[(df['imminent_label'] != -1)][['scispacy_note', 'imminent_label', 'relative_charttime']].reset_index()\n",
    "discharge_df = df[['scispacy_note', 'discharge_label', 'relative_charttime']].reset_index()"
   ]
  },
  {
   "cell_type": "code",
   "execution_count": null,
   "metadata": {
    "ExecuteTime": {
     "end_time": "2019-06-30T18:12:40.985905Z",
     "start_time": "2019-06-30T18:12:40.958981Z"
    }
   },
   "outputs": [],
   "source": [
    "parameters = {\n",
    "    'objective': 'binary',\n",
    "    'metric': 'binary_logloss',\n",
    "    'is_unbalance': 'true',\n",
    "    'boosting': 'gbdt',\n",
    "    'num_leaves': 50,\n",
    "    'feature_fraction': 0.5,\n",
    "    'bagging_fraction': 0.5,\n",
    "    'bagging_freq': 20,\n",
    "    'learning_rate': 0.05,\n",
    "    'verbose': 0,\n",
    "    'num_threads': 32,\n",
    "    'min_data_in_leaf': 3,\n",
    "    'num_iterations': 1000,\n",
    "}"
   ]
  },
  {
   "cell_type": "markdown",
   "metadata": {},
   "source": [
    "### Imminent ICU Admission"
   ]
  },
  {
   "cell_type": "code",
   "execution_count": null,
   "metadata": {
    "ExecuteTime": {
     "end_time": "2019-06-30T18:14:21.392429Z",
     "start_time": "2019-06-30T18:12:40.987061Z"
    }
   },
   "outputs": [],
   "source": [
    "vectorizer = TfidfVectorizer(min_df=args.min_freq, analyzer=str.split, sublinear_tf=True, ngram_range=(2,2))\n",
    "x = vectorizer.fit_transform(imminent_df['scispacy_note'])\n",
    "y = imminent_df['imminent_label'].to_numpy()\n",
    "clf = lightgbm.LGBMClassifier(**parameters)\n",
    "clf.fit(x, y)\n",
    "imminent_df['prob'] = clf.predict_proba(vectorizer.fit_transform(imminent_df['scispacy_note']))[:, 1]"
   ]
  },
  {
   "cell_type": "code",
   "execution_count": null,
   "metadata": {
    "ExecuteTime": {
     "end_time": "2019-06-30T18:14:21.878300Z",
     "start_time": "2019-06-30T18:14:21.395270Z"
    }
   },
   "outputs": [],
   "source": [
    "with open(args.workdir/'imminent_model.pkl', 'wb') as f:\n",
    "  pickle.dump(clf, f)\n",
    "  pickle.dump(vectorizer.vocabulary_, f)"
   ]
  },
  {
   "cell_type": "code",
   "execution_count": null,
   "metadata": {
    "ExecuteTime": {
     "end_time": "2019-06-30T18:14:21.902172Z",
     "start_time": "2019-06-30T18:14:21.879626Z"
    }
   },
   "outputs": [],
   "source": [
    "interval_hours = 12\n",
    "starting_day = -20\n",
    "ending_day = -1"
   ]
  },
  {
   "cell_type": "code",
   "execution_count": null,
   "metadata": {
    "ExecuteTime": {
     "end_time": "2019-06-30T18:14:33.794388Z",
     "start_time": "2019-06-30T18:14:21.903326Z"
    }
   },
   "outputs": [],
   "source": [
    "fig, ax = plt.subplots(figsize=(15, 8))\n",
    "plot_prob(ax, imminent_df, args.imminent_threshold, starting_day, ending_day, interval_hours)"
   ]
  },
  {
   "cell_type": "code",
   "execution_count": null,
   "metadata": {
    "ExecuteTime": {
     "end_time": "2019-06-30T18:14:33.822001Z",
     "start_time": "2019-06-30T18:14:33.795576Z"
    }
   },
   "outputs": [],
   "source": [
    "scores = clf.feature_importances_ / clf.feature_importances_.sum()"
   ]
  },
  {
   "cell_type": "code",
   "execution_count": null,
   "metadata": {
    "ExecuteTime": {
     "end_time": "2019-06-30T18:14:34.384864Z",
     "start_time": "2019-06-30T18:14:33.823128Z"
    }
   },
   "outputs": [],
   "source": [
    "fig, ax = plt.subplots(1, 2, figsize=(20, 10))\n",
    "neg_cloud, pos_cloud = get_wordcloud(vectorizer.get_feature_names(), clf.feature_importances_, n_words=50)\n",
    "ax[0].imshow(neg_cloud)\n",
    "ax[0].axis('off')\n",
    "ax[0].set_title('Negative Class')\n",
    "ax[1].imshow(pos_cloud)\n",
    "ax[1].axis('off')\n",
    "ax[1].set_title('Positive Class')"
   ]
  },
  {
   "cell_type": "markdown",
   "metadata": {},
   "source": [
    "### ICU Discharge"
   ]
  },
  {
   "cell_type": "code",
   "execution_count": null,
   "metadata": {
    "ExecuteTime": {
     "end_time": "2019-06-30T18:16:49.744645Z",
     "start_time": "2019-06-30T18:14:34.386147Z"
    }
   },
   "outputs": [],
   "source": [
    "vectorizer = TfidfVectorizer(min_df=args.min_freq, analyzer=str.split, sublinear_tf=True, ngram_range=(2,2))\n",
    "x = vectorizer.fit_transform(discharge_df['scispacy_note'])\n",
    "y = discharge_df['discharge_label'].to_numpy()\n",
    "clf = lightgbm.LGBMClassifier(**parameters)\n",
    "clf.fit(x, y)\n",
    "discharge_df['prob'] = clf.predict_proba(vectorizer.fit_transform(discharge_df['scispacy_note']))[:, 1]"
   ]
  },
  {
   "cell_type": "code",
   "execution_count": null,
   "metadata": {
    "ExecuteTime": {
     "end_time": "2019-06-30T18:16:50.255476Z",
     "start_time": "2019-06-30T18:16:49.746678Z"
    }
   },
   "outputs": [],
   "source": [
    "with open(args.workdir/'discharge_model.pkl', 'wb') as f:\n",
    "  pickle.dump(clf, f)\n",
    "  pickle.dump(vectorizer.vocabulary_, f)"
   ]
  },
  {
   "cell_type": "code",
   "execution_count": null,
   "metadata": {
    "ExecuteTime": {
     "end_time": "2019-06-30T18:16:50.279572Z",
     "start_time": "2019-06-30T18:16:50.256758Z"
    }
   },
   "outputs": [],
   "source": [
    "interval_hours = 12\n",
    "starting_day = -20\n",
    "ending_day = 0"
   ]
  },
  {
   "cell_type": "code",
   "execution_count": null,
   "metadata": {
    "ExecuteTime": {
     "end_time": "2019-06-30T18:17:15.835122Z",
     "start_time": "2019-06-30T18:16:50.280709Z"
    }
   },
   "outputs": [],
   "source": [
    "fig, ax = plt.subplots(figsize=(15, 8))\n",
    "plot_prob(ax, discharge_df, args.discharge_threshold, starting_day, ending_day, interval_hours)"
   ]
  },
  {
   "cell_type": "code",
   "execution_count": null,
   "metadata": {
    "ExecuteTime": {
     "end_time": "2019-06-30T18:17:15.866197Z",
     "start_time": "2019-06-30T18:17:15.836691Z"
    }
   },
   "outputs": [],
   "source": [
    "scores = clf.feature_importances_ / clf.feature_importances_.sum()"
   ]
  },
  {
   "cell_type": "code",
   "execution_count": null,
   "metadata": {
    "ExecuteTime": {
     "end_time": "2019-06-30T18:17:16.448322Z",
     "start_time": "2019-06-30T18:17:15.867349Z"
    }
   },
   "outputs": [],
   "source": [
    "fig, ax = plt.subplots(1, 2, figsize=(20, 10))\n",
    "neg_cloud, pos_cloud = get_wordcloud(vectorizer.get_feature_names(), clf.feature_importances_, n_words=50)\n",
    "ax[0].imshow(neg_cloud)\n",
    "ax[0].axis('off')\n",
    "ax[0].set_title('Negative Class')\n",
    "ax[1].imshow(pos_cloud)\n",
    "ax[1].axis('off')\n",
    "ax[1].set_title('Positive Class')"
   ]
  }
 ],
 "metadata": {
  "kernelspec": {
   "display_name": "Python 3",
   "language": "python",
   "name": "python3"
  },
  "language_info": {
   "codemirror_mode": {
    "name": "ipython",
    "version": 3
   },
   "file_extension": ".py",
   "mimetype": "text/x-python",
   "name": "python",
   "nbconvert_exporter": "python",
   "pygments_lexer": "ipython3",
   "version": "3.7.3"
  },
  "toc": {
   "base_numbering": 1,
   "nav_menu": {},
   "number_sections": true,
   "sideBar": true,
   "skip_h1_title": true,
   "title_cell": "Table of Contents",
   "title_sidebar": "Contents",
   "toc_cell": false,
   "toc_position": {},
   "toc_section_display": true,
   "toc_window_display": false
  }
 },
 "nbformat": 4,
 "nbformat_minor": 2
}
