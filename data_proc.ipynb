{
 "cells": [
  {
   "cell_type": "markdown",
   "metadata": {},
   "source": [
    "# Dataset Preparation for First ICU Prediction"
   ]
  },
  {
   "cell_type": "markdown",
   "metadata": {},
   "source": [
    "## Imports & Inits"
   ]
  },
  {
   "cell_type": "code",
   "execution_count": 1,
   "metadata": {
    "ExecuteTime": {
     "end_time": "2019-06-07T12:50:30.439088Z",
     "start_time": "2019-06-07T12:50:30.426315Z"
    }
   },
   "outputs": [],
   "source": [
    "%load_ext autoreload\n",
    "%autoreload 2"
   ]
  },
  {
   "cell_type": "code",
   "execution_count": 2,
   "metadata": {
    "ExecuteTime": {
     "end_time": "2019-06-07T12:50:31.507285Z",
     "start_time": "2019-06-07T12:50:30.440297Z"
    }
   },
   "outputs": [],
   "source": [
    "import math\n",
    "import numpy as np\n",
    "import pandas as pd\n",
    "import spacy\n",
    "\n",
    "from pathlib import Path"
   ]
  },
  {
   "cell_type": "code",
   "execution_count": 3,
   "metadata": {
    "ExecuteTime": {
     "end_time": "2019-06-07T12:50:31.523785Z",
     "start_time": "2019-06-07T12:50:31.508885Z"
    }
   },
   "outputs": [],
   "source": [
    "path = Path('./data')"
   ]
  },
  {
   "cell_type": "markdown",
   "metadata": {},
   "source": [
    "## Dataset Processing"
   ]
  },
  {
   "cell_type": "markdown",
   "metadata": {},
   "source": [
    "1. Load in the data\n",
    "2. Drop duplicates\n",
    "3. Merge `category`, `description`, and `text` into a new column called `note`\n",
    "4. Tokenize text using `scispacy` and create new column called `scispacy_note` to save tokenized text\n",
    "5. Save the relevant columns to a csv file onto disk"
   ]
  },
  {
   "cell_type": "code",
   "execution_count": 4,
   "metadata": {
    "ExecuteTime": {
     "end_time": "2019-06-07T12:50:31.539971Z",
     "start_time": "2019-06-07T12:50:31.524988Z"
    }
   },
   "outputs": [],
   "source": [
    "def tokenize_text(text):\n",
    "  tokens = [token.text for token in nlp(text)]\n",
    "  return ' '.join(tokens)\n",
    "\n",
    "def group_eth(eth):\n",
    "  eth = eth.lower()\n",
    "  if 'white' in eth:\n",
    "    return 'white'\n",
    "  elif 'black' in eth:\n",
    "    return 'black'\n",
    "  elif 'hispanic' in eth:\n",
    "    return 'hispanic'\n",
    "  elif 'asian' in eth:\n",
    "    return 'asian'\n",
    "  else:\n",
    "    return 'unknown'"
   ]
  },
  {
   "cell_type": "code",
   "execution_count": 5,
   "metadata": {
    "ExecuteTime": {
     "end_time": "2019-06-07T12:50:33.007017Z",
     "start_time": "2019-06-07T12:50:31.541022Z"
    }
   },
   "outputs": [],
   "source": [
    "nlp = spacy.load('en_core_sci_md', disable=['parser', 'ner', 'tagger'])"
   ]
  },
  {
   "cell_type": "code",
   "execution_count": 6,
   "metadata": {
    "ExecuteTime": {
     "end_time": "2019-06-07T12:52:34.698639Z",
     "start_time": "2019-06-07T12:50:33.008312Z"
    }
   },
   "outputs": [
    {
     "data": {
      "text/html": [
       "<div>\n",
       "<style scoped>\n",
       "    .dataframe tbody tr th:only-of-type {\n",
       "        vertical-align: middle;\n",
       "    }\n",
       "\n",
       "    .dataframe tbody tr th {\n",
       "        vertical-align: top;\n",
       "    }\n",
       "\n",
       "    .dataframe thead th {\n",
       "        text-align: right;\n",
       "    }\n",
       "</style>\n",
       "<table border=\"1\" class=\"dataframe\">\n",
       "  <thead>\n",
       "    <tr style=\"text-align: right;\">\n",
       "      <th></th>\n",
       "      <th>subject_id</th>\n",
       "      <th>hadm_id</th>\n",
       "      <th>icustay_id</th>\n",
       "      <th>admission_type</th>\n",
       "      <th>admittime</th>\n",
       "      <th>dischtime</th>\n",
       "      <th>intime</th>\n",
       "      <th>charttime</th>\n",
       "      <th>adm_icu_period</th>\n",
       "      <th>chart_icu_period</th>\n",
       "      <th>...</th>\n",
       "      <th>ethnicity</th>\n",
       "      <th>dob</th>\n",
       "      <th>gender</th>\n",
       "      <th>admission_age</th>\n",
       "      <th>category</th>\n",
       "      <th>description</th>\n",
       "      <th>text</th>\n",
       "      <th>class_label</th>\n",
       "      <th>note</th>\n",
       "      <th>scispacy_note</th>\n",
       "    </tr>\n",
       "  </thead>\n",
       "  <tbody>\n",
       "    <tr>\n",
       "      <th>0</th>\n",
       "      <td>60039</td>\n",
       "      <td>100012</td>\n",
       "      <td>239289</td>\n",
       "      <td>EMERGENCY</td>\n",
       "      <td>2177-03-12 11:48:00</td>\n",
       "      <td>2177-03-22 14:30:00</td>\n",
       "      <td>2177-03-14 10:52:23</td>\n",
       "      <td>2177-03-12 16:40:00</td>\n",
       "      <td>1.96</td>\n",
       "      <td>1.76</td>\n",
       "      <td>...</td>\n",
       "      <td>white</td>\n",
       "      <td>2109-06-26 00:00:00</td>\n",
       "      <td>M</td>\n",
       "      <td>67.71</td>\n",
       "      <td>Radiology</td>\n",
       "      <td>CHEST (PRE-OP PA &amp; LAT)</td>\n",
       "      <td>[**2177-3-12**] 4:40 PM\\n CHEST (PRE-OP PA &amp; L...</td>\n",
       "      <td>1</td>\n",
       "      <td>Radiology\\nCHEST (PRE-OP PA &amp; LAT)\\n[**2177-3-...</td>\n",
       "      <td>Radiology \\n CHEST ( PRE-OP PA &amp; LAT ) \\n [ * ...</td>\n",
       "    </tr>\n",
       "    <tr>\n",
       "      <th>1</th>\n",
       "      <td>30078</td>\n",
       "      <td>100036</td>\n",
       "      <td>296976</td>\n",
       "      <td>EMERGENCY</td>\n",
       "      <td>2187-07-13 13:58:00</td>\n",
       "      <td>2187-07-23 15:45:00</td>\n",
       "      <td>2187-07-17 09:09:36</td>\n",
       "      <td>2187-07-16 08:34:00</td>\n",
       "      <td>3.80</td>\n",
       "      <td>1.02</td>\n",
       "      <td>...</td>\n",
       "      <td>white</td>\n",
       "      <td>2104-08-30 00:00:00</td>\n",
       "      <td>F</td>\n",
       "      <td>82.87</td>\n",
       "      <td>Radiology</td>\n",
       "      <td>CHEST (PA &amp; LAT)</td>\n",
       "      <td>[**2187-7-16**] 8:34 AM\\n CHEST (PA &amp; LAT)    ...</td>\n",
       "      <td>1</td>\n",
       "      <td>Radiology\\nCHEST (PA &amp; LAT)\\n[**2187-7-16**] 8...</td>\n",
       "      <td>Radiology \\n CHEST ( PA &amp; LAT ) \\n [ * * 2187 ...</td>\n",
       "    </tr>\n",
       "    <tr>\n",
       "      <th>2</th>\n",
       "      <td>58947</td>\n",
       "      <td>100037</td>\n",
       "      <td>221136</td>\n",
       "      <td>EMERGENCY</td>\n",
       "      <td>2183-03-23 18:21:00</td>\n",
       "      <td>2183-05-09 12:00:00</td>\n",
       "      <td>2183-04-20 13:16:43</td>\n",
       "      <td>2183-03-24 06:26:00</td>\n",
       "      <td>27.79</td>\n",
       "      <td>27.29</td>\n",
       "      <td>...</td>\n",
       "      <td>white</td>\n",
       "      <td>2124-10-29 00:00:00</td>\n",
       "      <td>M</td>\n",
       "      <td>58.40</td>\n",
       "      <td>Physician</td>\n",
       "      <td>Physician Resident Progress Note</td>\n",
       "      <td>Chief Complaint:\\n   24 Hour Events:\\n   -rece...</td>\n",
       "      <td>0</td>\n",
       "      <td>Physician \\nPhysician Resident Progress Note\\n...</td>\n",
       "      <td>Physician \\n Physician Resident Progress Note ...</td>\n",
       "    </tr>\n",
       "    <tr>\n",
       "      <th>3</th>\n",
       "      <td>58947</td>\n",
       "      <td>100037</td>\n",
       "      <td>221136</td>\n",
       "      <td>EMERGENCY</td>\n",
       "      <td>2183-03-23 18:21:00</td>\n",
       "      <td>2183-05-09 12:00:00</td>\n",
       "      <td>2183-04-20 13:16:43</td>\n",
       "      <td>2183-03-23 20:47:00</td>\n",
       "      <td>27.79</td>\n",
       "      <td>27.69</td>\n",
       "      <td>...</td>\n",
       "      <td>white</td>\n",
       "      <td>2124-10-29 00:00:00</td>\n",
       "      <td>M</td>\n",
       "      <td>58.40</td>\n",
       "      <td>Physician</td>\n",
       "      <td>Physician Resident Admission Note</td>\n",
       "      <td>Chief Complaint:  Pancytopenia, ICH\\n   HPI:\\n...</td>\n",
       "      <td>0</td>\n",
       "      <td>Physician \\nPhysician Resident Admission Note\\...</td>\n",
       "      <td>Physician \\n Physician Resident Admission Note...</td>\n",
       "    </tr>\n",
       "    <tr>\n",
       "      <th>4</th>\n",
       "      <td>58947</td>\n",
       "      <td>100037</td>\n",
       "      <td>221136</td>\n",
       "      <td>EMERGENCY</td>\n",
       "      <td>2183-03-23 18:21:00</td>\n",
       "      <td>2183-05-09 12:00:00</td>\n",
       "      <td>2183-04-20 13:16:43</td>\n",
       "      <td>2183-03-24 06:26:00</td>\n",
       "      <td>27.79</td>\n",
       "      <td>27.29</td>\n",
       "      <td>...</td>\n",
       "      <td>white</td>\n",
       "      <td>2124-10-29 00:00:00</td>\n",
       "      <td>M</td>\n",
       "      <td>58.40</td>\n",
       "      <td>Physician</td>\n",
       "      <td>Physician Resident Progress Note</td>\n",
       "      <td>Chief Complaint:\\n   24 Hour Events:\\n   -rece...</td>\n",
       "      <td>0</td>\n",
       "      <td>Physician \\nPhysician Resident Progress Note\\n...</td>\n",
       "      <td>Physician \\n Physician Resident Progress Note ...</td>\n",
       "    </tr>\n",
       "  </tbody>\n",
       "</table>\n",
       "<p>5 rows × 21 columns</p>\n",
       "</div>"
      ],
      "text/plain": [
       "   subject_id  hadm_id  icustay_id admission_type            admittime  \\\n",
       "0       60039   100012      239289      EMERGENCY  2177-03-12 11:48:00   \n",
       "1       30078   100036      296976      EMERGENCY  2187-07-13 13:58:00   \n",
       "2       58947   100037      221136      EMERGENCY  2183-03-23 18:21:00   \n",
       "3       58947   100037      221136      EMERGENCY  2183-03-23 18:21:00   \n",
       "4       58947   100037      221136      EMERGENCY  2183-03-23 18:21:00   \n",
       "\n",
       "             dischtime               intime            charttime  \\\n",
       "0  2177-03-22 14:30:00  2177-03-14 10:52:23  2177-03-12 16:40:00   \n",
       "1  2187-07-23 15:45:00  2187-07-17 09:09:36  2187-07-16 08:34:00   \n",
       "2  2183-05-09 12:00:00  2183-04-20 13:16:43  2183-03-24 06:26:00   \n",
       "3  2183-05-09 12:00:00  2183-04-20 13:16:43  2183-03-23 20:47:00   \n",
       "4  2183-05-09 12:00:00  2183-04-20 13:16:43  2183-03-24 06:26:00   \n",
       "\n",
       "   adm_icu_period  chart_icu_period  ...  ethnicity                  dob  \\\n",
       "0            1.96              1.76  ...      white  2109-06-26 00:00:00   \n",
       "1            3.80              1.02  ...      white  2104-08-30 00:00:00   \n",
       "2           27.79             27.29  ...      white  2124-10-29 00:00:00   \n",
       "3           27.79             27.69  ...      white  2124-10-29 00:00:00   \n",
       "4           27.79             27.29  ...      white  2124-10-29 00:00:00   \n",
       "\n",
       "  gender admission_age    category                        description  \\\n",
       "0      M         67.71   Radiology            CHEST (PRE-OP PA & LAT)   \n",
       "1      F         82.87   Radiology                   CHEST (PA & LAT)   \n",
       "2      M         58.40  Physician    Physician Resident Progress Note   \n",
       "3      M         58.40  Physician   Physician Resident Admission Note   \n",
       "4      M         58.40  Physician    Physician Resident Progress Note   \n",
       "\n",
       "                                                text class_label  \\\n",
       "0  [**2177-3-12**] 4:40 PM\\n CHEST (PRE-OP PA & L...           1   \n",
       "1  [**2187-7-16**] 8:34 AM\\n CHEST (PA & LAT)    ...           1   \n",
       "2  Chief Complaint:\\n   24 Hour Events:\\n   -rece...           0   \n",
       "3  Chief Complaint:  Pancytopenia, ICH\\n   HPI:\\n...           0   \n",
       "4  Chief Complaint:\\n   24 Hour Events:\\n   -rece...           0   \n",
       "\n",
       "                                                note  \\\n",
       "0  Radiology\\nCHEST (PRE-OP PA & LAT)\\n[**2177-3-...   \n",
       "1  Radiology\\nCHEST (PA & LAT)\\n[**2187-7-16**] 8...   \n",
       "2  Physician \\nPhysician Resident Progress Note\\n...   \n",
       "3  Physician \\nPhysician Resident Admission Note\\...   \n",
       "4  Physician \\nPhysician Resident Progress Note\\n...   \n",
       "\n",
       "                                       scispacy_note  \n",
       "0  Radiology \\n CHEST ( PRE-OP PA & LAT ) \\n [ * ...  \n",
       "1  Radiology \\n CHEST ( PA & LAT ) \\n [ * * 2187 ...  \n",
       "2  Physician \\n Physician Resident Progress Note ...  \n",
       "3  Physician \\n Physician Resident Admission Note...  \n",
       "4  Physician \\n Physician Resident Progress Note ...  \n",
       "\n",
       "[5 rows x 21 columns]"
      ]
     },
     "execution_count": 6,
     "metadata": {},
     "output_type": "execute_result"
    }
   ],
   "source": [
    "df = pd.read_csv(path/'raw_dataset.csv')\n",
    "df.drop_duplicates(inplace=True)\n",
    "df['note'] = df['category'].str.cat(df['description'], sep='\\n')\n",
    "df['note'] = df['note'].str.cat(df['text'], sep='\\n')\n",
    "df['ethnicity'] = df['ethnicity'].apply(group_eth)\n",
    "df['scispacy_note'] = df['note'].apply(tokenize_text)\n",
    "df.head()"
   ]
  },
  {
   "cell_type": "code",
   "execution_count": 7,
   "metadata": {
    "ExecuteTime": {
     "end_time": "2019-06-07T12:52:39.205820Z",
     "start_time": "2019-06-07T12:52:34.700150Z"
    }
   },
   "outputs": [],
   "source": [
    "df.to_csv(path/'processed_dataset.csv', index=False)"
   ]
  },
  {
   "cell_type": "markdown",
   "metadata": {},
   "source": [
    "## Stats"
   ]
  },
  {
   "cell_type": "code",
   "execution_count": null,
   "metadata": {
    "ExecuteTime": {
     "end_time": "2019-06-06T19:52:51.586654Z",
     "start_time": "2019-06-06T19:52:49.199286Z"
    }
   },
   "outputs": [],
   "source": [
    "df = pd.read_csv(path/'processed_dataset.csv')"
   ]
  },
  {
   "cell_type": "code",
   "execution_count": null,
   "metadata": {
    "ExecuteTime": {
     "end_time": "2019-06-06T20:54:57.718667Z",
     "start_time": "2019-06-06T20:54:57.677318Z"
    }
   },
   "outputs": [],
   "source": [
    "df.loc[(df['class_label'] == 0)].groupby('category').apply(lambda g: pd.Series(g['subject_id'].nunique()))"
   ]
  },
  {
   "cell_type": "code",
   "execution_count": null,
   "metadata": {
    "ExecuteTime": {
     "end_time": "2019-06-06T20:58:49.439931Z",
     "start_time": "2019-06-06T20:58:49.273675Z"
    }
   },
   "outputs": [],
   "source": [
    "df.loc[(df['class_label'] == 0)].groupby('category').size()"
   ]
  }
 ],
 "metadata": {
  "kernelspec": {
   "display_name": "Python 3",
   "language": "python",
   "name": "python3"
  },
  "language_info": {
   "codemirror_mode": {
    "name": "ipython",
    "version": 3
   },
   "file_extension": ".py",
   "mimetype": "text/x-python",
   "name": "python",
   "nbconvert_exporter": "python",
   "pygments_lexer": "ipython3",
   "version": "3.7.3"
  },
  "toc": {
   "base_numbering": 1,
   "nav_menu": {},
   "number_sections": true,
   "sideBar": true,
   "skip_h1_title": true,
   "title_cell": "Table of Contents",
   "title_sidebar": "Contents",
   "toc_cell": false,
   "toc_position": {
    "height": "calc(100% - 180px)",
    "left": "10px",
    "top": "150px",
    "width": "165px"
   },
   "toc_section_display": true,
   "toc_window_display": false
  }
 },
 "nbformat": 4,
 "nbformat_minor": 2
}
