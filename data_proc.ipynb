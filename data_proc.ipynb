{
 "cells": [
  {
   "cell_type": "markdown",
   "metadata": {},
   "source": [
    "# Dataset Preparation for First ICU Prediction"
   ]
  },
  {
   "cell_type": "markdown",
   "metadata": {},
   "source": [
    "## Imports & Inits"
   ]
  },
  {
   "cell_type": "code",
   "execution_count": 1,
   "metadata": {
    "ExecuteTime": {
     "end_time": "2019-06-10T09:45:23.079019Z",
     "start_time": "2019-06-10T09:45:23.067249Z"
    }
   },
   "outputs": [],
   "source": [
    "%load_ext autoreload\n",
    "%autoreload 2"
   ]
  },
  {
   "cell_type": "code",
   "execution_count": 2,
   "metadata": {
    "ExecuteTime": {
     "end_time": "2019-06-10T09:45:23.953753Z",
     "start_time": "2019-06-10T09:45:23.080232Z"
    }
   },
   "outputs": [],
   "source": [
    "import math\n",
    "import numpy as np\n",
    "import pandas as pd\n",
    "import spacy\n",
    "\n",
    "from pathlib import Path"
   ]
  },
  {
   "cell_type": "code",
   "execution_count": 3,
   "metadata": {
    "ExecuteTime": {
     "end_time": "2019-06-10T09:45:23.972167Z",
     "start_time": "2019-06-10T09:45:23.955439Z"
    }
   },
   "outputs": [],
   "source": [
    "path = Path('./data')"
   ]
  },
  {
   "cell_type": "markdown",
   "metadata": {},
   "source": [
    "## Dataset Processing"
   ]
  },
  {
   "cell_type": "markdown",
   "metadata": {},
   "source": [
    "1. Load in the data\n",
    "2. Drop duplicates\n",
    "3. Merge `category`, `description`, and `text` into a new column called `note`\n",
    "4. Tokenize text using `scispacy` and create new column called `scispacy_note` to save tokenized text\n",
    "5. Save the relevant columns to a csv file onto disk"
   ]
  },
  {
   "cell_type": "code",
   "execution_count": 4,
   "metadata": {
    "ExecuteTime": {
     "end_time": "2019-06-10T09:45:24.260683Z",
     "start_time": "2019-06-10T09:45:24.243356Z"
    }
   },
   "outputs": [],
   "source": [
    "def tokenize_text(text):\n",
    "  tokens = [token.text for token in nlp(text)]\n",
    "  return ' '.join(tokens)\n",
    "\n",
    "def group_eth(eth):\n",
    "  eth = eth.lower()\n",
    "  if 'white' in eth:\n",
    "    return 'white'\n",
    "  elif 'black' in eth:\n",
    "    return 'black'\n",
    "  elif 'hispanic' in eth:\n",
    "    return 'hispanic'\n",
    "  elif 'asian' in eth:\n",
    "    return 'asian'\n",
    "  else:\n",
    "    return 'unknown'"
   ]
  },
  {
   "cell_type": "code",
   "execution_count": 5,
   "metadata": {
    "ExecuteTime": {
     "end_time": "2019-06-10T09:45:27.254936Z",
     "start_time": "2019-06-10T09:45:25.781661Z"
    }
   },
   "outputs": [],
   "source": [
    "nlp = spacy.load('en_core_sci_md', disable=['parser', 'ner', 'tagger'])"
   ]
  },
  {
   "cell_type": "code",
   "execution_count": null,
   "metadata": {
    "ExecuteTime": {
     "end_time": "2019-06-07T12:52:34.698639Z",
     "start_time": "2019-06-07T12:50:33.008312Z"
    }
   },
   "outputs": [],
   "source": [
    "df = pd.read_csv(path/'raw_dataset.csv')\n",
    "df.drop_duplicates(inplace=True)\n",
    "df['note'] = df['category'].str.cat(df['description'], sep='\\n')\n",
    "df['note'] = df['note'].str.cat(df['text'], sep='\\n')\n",
    "df['ethnicity'] = df['ethnicity'].apply(group_eth)\n",
    "df['scispacy_note'] = df['note'].apply(tokenize_text)\n",
    "df.head()"
   ]
  },
  {
   "cell_type": "code",
   "execution_count": null,
   "metadata": {
    "ExecuteTime": {
     "end_time": "2019-06-07T12:52:39.205820Z",
     "start_time": "2019-06-07T12:52:34.700150Z"
    }
   },
   "outputs": [],
   "source": [
    "df.to_csv(path/'processed_dataset.csv', index=False)"
   ]
  },
  {
   "cell_type": "code",
   "execution_count": 6,
   "metadata": {
    "ExecuteTime": {
     "end_time": "2019-06-10T09:49:52.468217Z",
     "start_time": "2019-06-10T09:47:07.276134Z"
    }
   },
   "outputs": [
    {
     "name": "stdout",
     "output_type": "stream",
     "text": [
      "(75273, 21)\n"
     ]
    },
    {
     "data": {
      "text/html": [
       "<div>\n",
       "<style scoped>\n",
       "    .dataframe tbody tr th:only-of-type {\n",
       "        vertical-align: middle;\n",
       "    }\n",
       "\n",
       "    .dataframe tbody tr th {\n",
       "        vertical-align: top;\n",
       "    }\n",
       "\n",
       "    .dataframe thead th {\n",
       "        text-align: right;\n",
       "    }\n",
       "</style>\n",
       "<table border=\"1\" class=\"dataframe\">\n",
       "  <thead>\n",
       "    <tr style=\"text-align: right;\">\n",
       "      <th></th>\n",
       "      <th>subject_id</th>\n",
       "      <th>hadm_id</th>\n",
       "      <th>icustay_id</th>\n",
       "      <th>admission_type</th>\n",
       "      <th>admittime</th>\n",
       "      <th>dischtime</th>\n",
       "      <th>intime</th>\n",
       "      <th>charttime</th>\n",
       "      <th>adm_icu_period</th>\n",
       "      <th>chart_icu_period</th>\n",
       "      <th>...</th>\n",
       "      <th>ethnicity</th>\n",
       "      <th>dob</th>\n",
       "      <th>gender</th>\n",
       "      <th>admission_age</th>\n",
       "      <th>category</th>\n",
       "      <th>description</th>\n",
       "      <th>text</th>\n",
       "      <th>class_label</th>\n",
       "      <th>note</th>\n",
       "      <th>scispacy_note</th>\n",
       "    </tr>\n",
       "  </thead>\n",
       "  <tbody>\n",
       "    <tr>\n",
       "      <th>0</th>\n",
       "      <td>533</td>\n",
       "      <td>100009</td>\n",
       "      <td>253656</td>\n",
       "      <td>EMERGENCY</td>\n",
       "      <td>2162-05-16 15:56:00</td>\n",
       "      <td>2162-05-21 13:37:00</td>\n",
       "      <td>2162-05-17 10:18:31</td>\n",
       "      <td>2162-05-16 19:23:00</td>\n",
       "      <td>0.77</td>\n",
       "      <td>0.62</td>\n",
       "      <td>...</td>\n",
       "      <td>white</td>\n",
       "      <td>2101-07-30 00:00:00</td>\n",
       "      <td>M</td>\n",
       "      <td>60.80</td>\n",
       "      <td>Radiology</td>\n",
       "      <td>CHEST (PA &amp; LAT)</td>\n",
       "      <td>[**2162-5-16**] 7:23 PM\\n CHEST (PA &amp; LAT)    ...</td>\n",
       "      <td>-1</td>\n",
       "      <td>Radiology\\nCHEST (PA &amp; LAT)\\n[**2162-5-16**] 7...</td>\n",
       "      <td>Radiology \\n CHEST ( PA &amp; LAT ) \\n [ * * 2162 ...</td>\n",
       "    </tr>\n",
       "    <tr>\n",
       "      <th>1</th>\n",
       "      <td>533</td>\n",
       "      <td>100009</td>\n",
       "      <td>253656</td>\n",
       "      <td>EMERGENCY</td>\n",
       "      <td>2162-05-16 15:56:00</td>\n",
       "      <td>2162-05-21 13:37:00</td>\n",
       "      <td>2162-05-17 10:18:31</td>\n",
       "      <td>2162-05-17 08:12:00</td>\n",
       "      <td>0.77</td>\n",
       "      <td>0.09</td>\n",
       "      <td>...</td>\n",
       "      <td>white</td>\n",
       "      <td>2101-07-30 00:00:00</td>\n",
       "      <td>M</td>\n",
       "      <td>60.80</td>\n",
       "      <td>Radiology</td>\n",
       "      <td>VEN DUP EXTEXT BIL (MAP/DVT)</td>\n",
       "      <td>[**2162-5-17**] 8:12 AM\\n [**Last Name (un) 12...</td>\n",
       "      <td>-1</td>\n",
       "      <td>Radiology\\nVEN DUP EXTEXT BIL (MAP/DVT)\\n[**21...</td>\n",
       "      <td>Radiology \\n VEN DUP EXTEXT BIL ( MAP/DVT ) \\n...</td>\n",
       "    </tr>\n",
       "    <tr>\n",
       "      <th>2</th>\n",
       "      <td>60039</td>\n",
       "      <td>100012</td>\n",
       "      <td>239289</td>\n",
       "      <td>EMERGENCY</td>\n",
       "      <td>2177-03-12 11:48:00</td>\n",
       "      <td>2177-03-22 14:30:00</td>\n",
       "      <td>2177-03-14 10:52:23</td>\n",
       "      <td>2177-03-12 16:40:00</td>\n",
       "      <td>1.96</td>\n",
       "      <td>1.76</td>\n",
       "      <td>...</td>\n",
       "      <td>white</td>\n",
       "      <td>2109-06-26 00:00:00</td>\n",
       "      <td>M</td>\n",
       "      <td>67.71</td>\n",
       "      <td>Radiology</td>\n",
       "      <td>CHEST (PRE-OP PA &amp; LAT)</td>\n",
       "      <td>[**2177-3-12**] 4:40 PM\\n CHEST (PRE-OP PA &amp; L...</td>\n",
       "      <td>1</td>\n",
       "      <td>Radiology\\nCHEST (PRE-OP PA &amp; LAT)\\n[**2177-3-...</td>\n",
       "      <td>Radiology \\n CHEST ( PRE-OP PA &amp; LAT ) \\n [ * ...</td>\n",
       "    </tr>\n",
       "    <tr>\n",
       "      <th>3</th>\n",
       "      <td>60039</td>\n",
       "      <td>100012</td>\n",
       "      <td>239289</td>\n",
       "      <td>EMERGENCY</td>\n",
       "      <td>2177-03-12 11:48:00</td>\n",
       "      <td>2177-03-22 14:30:00</td>\n",
       "      <td>2177-03-14 10:52:23</td>\n",
       "      <td>2177-03-13 13:23:00</td>\n",
       "      <td>1.96</td>\n",
       "      <td>0.90</td>\n",
       "      <td>...</td>\n",
       "      <td>white</td>\n",
       "      <td>2109-06-26 00:00:00</td>\n",
       "      <td>M</td>\n",
       "      <td>67.71</td>\n",
       "      <td>Radiology</td>\n",
       "      <td>P CAROTID SERIES COMPLETE PORT</td>\n",
       "      <td>[**2177-3-13**] 1:23 PM\\n CAROTID SERIES COMPL...</td>\n",
       "      <td>-1</td>\n",
       "      <td>Radiology\\nP CAROTID SERIES COMPLETE PORT\\n[**...</td>\n",
       "      <td>Radiology \\n P CAROTID SERIES COMPLETE PORT \\n...</td>\n",
       "    </tr>\n",
       "    <tr>\n",
       "      <th>4</th>\n",
       "      <td>58128</td>\n",
       "      <td>100018</td>\n",
       "      <td>269533</td>\n",
       "      <td>ELECTIVE</td>\n",
       "      <td>2176-08-29 10:30:00</td>\n",
       "      <td>2176-09-06 17:13:00</td>\n",
       "      <td>2176-08-29 16:56:37</td>\n",
       "      <td>2176-08-29 15:42:00</td>\n",
       "      <td>0.27</td>\n",
       "      <td>0.05</td>\n",
       "      <td>...</td>\n",
       "      <td>white</td>\n",
       "      <td>2121-02-13 00:00:00</td>\n",
       "      <td>M</td>\n",
       "      <td>55.54</td>\n",
       "      <td>Radiology</td>\n",
       "      <td>O C-SPINE SGL 1 VIEW IN O.R.</td>\n",
       "      <td>[**2176-8-29**] 3:42 PM\\n C-SPINE SGL 1 VIEW I...</td>\n",
       "      <td>-1</td>\n",
       "      <td>Radiology\\nO C-SPINE SGL 1 VIEW IN O.R.\\n[**21...</td>\n",
       "      <td>Radiology \\n O C-SPINE SGL 1 VIEW IN O.R. \\n [...</td>\n",
       "    </tr>\n",
       "  </tbody>\n",
       "</table>\n",
       "<p>5 rows × 21 columns</p>\n",
       "</div>"
      ],
      "text/plain": [
       "   subject_id  hadm_id  icustay_id admission_type            admittime  \\\n",
       "0         533   100009      253656      EMERGENCY  2162-05-16 15:56:00   \n",
       "1         533   100009      253656      EMERGENCY  2162-05-16 15:56:00   \n",
       "2       60039   100012      239289      EMERGENCY  2177-03-12 11:48:00   \n",
       "3       60039   100012      239289      EMERGENCY  2177-03-12 11:48:00   \n",
       "4       58128   100018      269533       ELECTIVE  2176-08-29 10:30:00   \n",
       "\n",
       "             dischtime               intime            charttime  \\\n",
       "0  2162-05-21 13:37:00  2162-05-17 10:18:31  2162-05-16 19:23:00   \n",
       "1  2162-05-21 13:37:00  2162-05-17 10:18:31  2162-05-17 08:12:00   \n",
       "2  2177-03-22 14:30:00  2177-03-14 10:52:23  2177-03-12 16:40:00   \n",
       "3  2177-03-22 14:30:00  2177-03-14 10:52:23  2177-03-13 13:23:00   \n",
       "4  2176-09-06 17:13:00  2176-08-29 16:56:37  2176-08-29 15:42:00   \n",
       "\n",
       "   adm_icu_period  chart_icu_period  ...  ethnicity                  dob  \\\n",
       "0            0.77              0.62  ...      white  2101-07-30 00:00:00   \n",
       "1            0.77              0.09  ...      white  2101-07-30 00:00:00   \n",
       "2            1.96              1.76  ...      white  2109-06-26 00:00:00   \n",
       "3            1.96              0.90  ...      white  2109-06-26 00:00:00   \n",
       "4            0.27              0.05  ...      white  2121-02-13 00:00:00   \n",
       "\n",
       "  gender admission_age   category                     description  \\\n",
       "0      M         60.80  Radiology                CHEST (PA & LAT)   \n",
       "1      M         60.80  Radiology    VEN DUP EXTEXT BIL (MAP/DVT)   \n",
       "2      M         67.71  Radiology         CHEST (PRE-OP PA & LAT)   \n",
       "3      M         67.71  Radiology  P CAROTID SERIES COMPLETE PORT   \n",
       "4      M         55.54  Radiology    O C-SPINE SGL 1 VIEW IN O.R.   \n",
       "\n",
       "                                                text class_label  \\\n",
       "0  [**2162-5-16**] 7:23 PM\\n CHEST (PA & LAT)    ...          -1   \n",
       "1  [**2162-5-17**] 8:12 AM\\n [**Last Name (un) 12...          -1   \n",
       "2  [**2177-3-12**] 4:40 PM\\n CHEST (PRE-OP PA & L...           1   \n",
       "3  [**2177-3-13**] 1:23 PM\\n CAROTID SERIES COMPL...          -1   \n",
       "4  [**2176-8-29**] 3:42 PM\\n C-SPINE SGL 1 VIEW I...          -1   \n",
       "\n",
       "                                                note  \\\n",
       "0  Radiology\\nCHEST (PA & LAT)\\n[**2162-5-16**] 7...   \n",
       "1  Radiology\\nVEN DUP EXTEXT BIL (MAP/DVT)\\n[**21...   \n",
       "2  Radiology\\nCHEST (PRE-OP PA & LAT)\\n[**2177-3-...   \n",
       "3  Radiology\\nP CAROTID SERIES COMPLETE PORT\\n[**...   \n",
       "4  Radiology\\nO C-SPINE SGL 1 VIEW IN O.R.\\n[**21...   \n",
       "\n",
       "                                       scispacy_note  \n",
       "0  Radiology \\n CHEST ( PA & LAT ) \\n [ * * 2162 ...  \n",
       "1  Radiology \\n VEN DUP EXTEXT BIL ( MAP/DVT ) \\n...  \n",
       "2  Radiology \\n CHEST ( PRE-OP PA & LAT ) \\n [ * ...  \n",
       "3  Radiology \\n P CAROTID SERIES COMPLETE PORT \\n...  \n",
       "4  Radiology \\n O C-SPINE SGL 1 VIEW IN O.R. \\n [...  \n",
       "\n",
       "[5 rows x 21 columns]"
      ]
     },
     "execution_count": 6,
     "metadata": {},
     "output_type": "execute_result"
    }
   ],
   "source": [
    "full_df = pd.read_csv(path/'full_raw_dataset.csv')\n",
    "full_df.drop_duplicates(inplace=True)\n",
    "full_df['note'] = full_df['category'].str.cat(full_df['description'], sep='\\n')\n",
    "full_df['note'] = full_df['note'].str.cat(full_df['text'], sep='\\n')\n",
    "full_df['ethnicity'] = full_df['ethnicity'].apply(group_eth)\n",
    "full_df['scispacy_note'] = full_df['note'].apply(tokenize_text)\n",
    "print(full_df.shape)\n",
    "full_df.head()"
   ]
  },
  {
   "cell_type": "code",
   "execution_count": 7,
   "metadata": {
    "ExecuteTime": {
     "end_time": "2019-06-10T09:50:08.666362Z",
     "start_time": "2019-06-10T09:50:02.208402Z"
    }
   },
   "outputs": [],
   "source": [
    "full_df.to_csv(path/'full_processed_dataset.csv', index=False)"
   ]
  },
  {
   "cell_type": "markdown",
   "metadata": {},
   "source": [
    "## Stats"
   ]
  },
  {
   "cell_type": "code",
   "execution_count": null,
   "metadata": {
    "ExecuteTime": {
     "end_time": "2019-06-06T19:52:51.586654Z",
     "start_time": "2019-06-06T19:52:49.199286Z"
    }
   },
   "outputs": [],
   "source": [
    "df = pd.read_csv(path/'processed_dataset.csv')"
   ]
  },
  {
   "cell_type": "code",
   "execution_count": null,
   "metadata": {
    "ExecuteTime": {
     "end_time": "2019-06-06T20:54:57.718667Z",
     "start_time": "2019-06-06T20:54:57.677318Z"
    }
   },
   "outputs": [],
   "source": [
    "df.loc[(df['class_label'] == 0)].groupby('category').apply(lambda g: pd.Series(g['subject_id'].nunique()))"
   ]
  },
  {
   "cell_type": "code",
   "execution_count": null,
   "metadata": {
    "ExecuteTime": {
     "end_time": "2019-06-06T20:58:49.439931Z",
     "start_time": "2019-06-06T20:58:49.273675Z"
    }
   },
   "outputs": [],
   "source": [
    "df.loc[(df['class_label'] == 0)].groupby('category').size()"
   ]
  }
 ],
 "metadata": {
  "kernelspec": {
   "display_name": "Python 3",
   "language": "python",
   "name": "python3"
  },
  "language_info": {
   "codemirror_mode": {
    "name": "ipython",
    "version": 3
   },
   "file_extension": ".py",
   "mimetype": "text/x-python",
   "name": "python",
   "nbconvert_exporter": "python",
   "pygments_lexer": "ipython3",
   "version": "3.7.3"
  },
  "toc": {
   "base_numbering": 1,
   "nav_menu": {},
   "number_sections": true,
   "sideBar": true,
   "skip_h1_title": true,
   "title_cell": "Table of Contents",
   "title_sidebar": "Contents",
   "toc_cell": false,
   "toc_position": {
    "height": "calc(100% - 180px)",
    "left": "10px",
    "top": "150px",
    "width": "165px"
   },
   "toc_section_display": true,
   "toc_window_display": false
  }
 },
 "nbformat": 4,
 "nbformat_minor": 2
}
