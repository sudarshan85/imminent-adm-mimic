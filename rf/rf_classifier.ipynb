{
 "cells": [
  {
   "cell_type": "markdown",
   "metadata": {},
   "source": [
    "# Imminent ICU Admission and Prolonged Stay Prediction using Random Forests"
   ]
  },
  {
   "cell_type": "markdown",
   "metadata": {},
   "source": [
    "## Imports & Inits"
   ]
  },
  {
   "cell_type": "code",
   "execution_count": 1,
   "metadata": {
    "ExecuteTime": {
     "end_time": "2019-07-10T09:12:25.732994Z",
     "start_time": "2019-07-10T09:12:25.717072Z"
    }
   },
   "outputs": [],
   "source": [
    "%load_ext autoreload\n",
    "%autoreload 2"
   ]
  },
  {
   "cell_type": "code",
   "execution_count": 2,
   "metadata": {
    "ExecuteTime": {
     "end_time": "2019-07-10T09:12:27.933895Z",
     "start_time": "2019-07-10T09:12:25.734435Z"
    }
   },
   "outputs": [
    {
     "data": {
      "text/plain": [
       "{'workdir': PosixPath('../data/workdir/rf'),\n",
       " 'dataset_csv': PosixPath('../data/proc_dataset.csv'),\n",
       " 'cols': ['hadm_id',\n",
       "  'imminent_adm_label',\n",
       "  'prolonged_stay_label',\n",
       "  'processed_note',\n",
       "  'charttime',\n",
       "  'intime',\n",
       "  'chartinterval'],\n",
       " 'imminent_adm_cols': ['hadm_id', 'processed_note', 'imminent_adm_label'],\n",
       " 'prolonged_stay_cols': ['hadm_id', 'processed_note', 'prolonged_stay_label'],\n",
       " 'dates': ['charttime', 'intime'],\n",
       " 'modeldir': PosixPath('../data/workdir/rf/models'),\n",
       " 'min_freq': 3,\n",
       " 'ia_thresh': 0.27,\n",
       " 'ps_thresh': 0.36,\n",
       " 'start_seed': 127}"
      ]
     },
     "execution_count": 2,
     "metadata": {},
     "output_type": "execute_result"
    }
   ],
   "source": [
    "import sys\n",
    "sys.path.append('../')\n",
    "\n",
    "import matplotlib.pyplot as plt\n",
    "%matplotlib inline\n",
    "\n",
    "import numpy as np\n",
    "np.set_printoptions(precision=2)\n",
    "\n",
    "import pandas as pd\n",
    "import pickle\n",
    "from pathlib import Path\n",
    "\n",
    "from sklearn.ensemble import RandomForestClassifier\n",
    "from sklearn.feature_extraction.text import TfidfVectorizer\n",
    "\n",
    "from utils.splits import set_group_splits\n",
    "from utils.metrics import BinaryAvgMetrics, get_best_model\n",
    "from utils.plots import *\n",
    "from args import args\n",
    "vars(args)"
   ]
  },
  {
   "cell_type": "markdown",
   "metadata": {
    "heading_collapsed": true
   },
   "source": [
    "## RF Model Dev"
   ]
  },
  {
   "cell_type": "code",
   "execution_count": null,
   "metadata": {
    "ExecuteTime": {
     "end_time": "2019-07-09T15:39:13.499621Z",
     "start_time": "2019-07-09T15:39:11.266715Z"
    },
    "hidden": true
   },
   "outputs": [],
   "source": [
    "seed = 643\n",
    "ori_df = pd.read_csv(args.dataset_csv, usecols=args.cols, parse_dates=args.dates)\n",
    "ia_df = ori_df.loc[(ori_df['imminent_adm_label'] != -1)][args.imminent_adm_cols].reset_index(drop=True)\n",
    "ps_df = ori_df.loc[(ori_df['chartinterval'] != 0)][args.prolonged_stay_cols].reset_index(drop=True)\n",
    "\n",
    "print(ia_df.shape)\n",
    "print(ps_df.shape)"
   ]
  },
  {
   "cell_type": "markdown",
   "metadata": {
    "hidden": true
   },
   "source": [
    "### Predict Imminent ICU Admission"
   ]
  },
  {
   "cell_type": "code",
   "execution_count": null,
   "metadata": {
    "ExecuteTime": {
     "end_time": "2019-07-09T15:39:23.456202Z",
     "start_time": "2019-07-09T15:39:15.958383Z"
    },
    "hidden": true
   },
   "outputs": [],
   "source": [
    "df = set_group_splits(ia_df.copy(), group_col='hadm_id', seed=seed)\n",
    "vectorizer = TfidfVectorizer(min_df=args.min_freq, analyzer=str.split, sublinear_tf=True, ngram_range=(2,2))\n",
    "x_train = vectorizer.fit_transform(df.loc[(df['split'] == 'train')]['processed_note'])\n",
    "x_test = vectorizer.transform(df.loc[(df['split'] == 'test')]['processed_note'])\n",
    "y_train = df.loc[(df['split'] == 'train')]['imminent_adm_label'].to_numpy()\n",
    "y_test = df.loc[(df['split'] == 'test')]['imminent_adm_label'].to_numpy()\n",
    "df.shape, x_train.shape, x_test.shape, y_train.shape, y_test.shape"
   ]
  },
  {
   "cell_type": "code",
   "execution_count": null,
   "metadata": {
    "ExecuteTime": {
     "end_time": "2019-07-09T15:39:23.596502Z",
     "start_time": "2019-07-09T15:39:23.458641Z"
    },
    "hidden": true
   },
   "outputs": [],
   "source": [
    "params = {\n",
    "  \"class_weight\": 'balanced',\n",
    "  \"criterion\": \"entropy\",\n",
    "  \"max_features\": 0.12,\n",
    "  \"min_samples_leaf\": 3,\n",
    "  \"min_samples_split\": 7,\n",
    "  \"n_estimators\": 108,\n",
    "  \"oob_score\": True,\n",
    "}"
   ]
  },
  {
   "cell_type": "code",
   "execution_count": null,
   "metadata": {
    "ExecuteTime": {
     "end_time": "2019-07-09T15:40:17.044240Z",
     "start_time": "2019-07-09T15:39:24.344560Z"
    },
    "hidden": true
   },
   "outputs": [],
   "source": [
    "clf = RandomForestClassifier(**params, n_jobs=32)\n",
    "clf.fit(x_train, y_train)\n",
    "prob = clf.predict_proba(x_test)[:, 1]"
   ]
  },
  {
   "cell_type": "code",
   "execution_count": null,
   "metadata": {
    "ExecuteTime": {
     "end_time": "2019-07-09T15:40:39.946254Z",
     "start_time": "2019-07-09T15:40:39.322578Z"
    },
    "hidden": true
   },
   "outputs": [],
   "source": [
    "fig, ax = plt.subplots(figsize=(20, 8))\n",
    "plot_youden(ax, y_test, prob, 0.1, 0.9, 40)"
   ]
  },
  {
   "cell_type": "code",
   "execution_count": null,
   "metadata": {
    "ExecuteTime": {
     "end_time": "2019-07-09T15:40:36.390530Z",
     "start_time": "2019-07-09T15:40:35.592902Z"
    },
    "hidden": true
   },
   "outputs": [],
   "source": [
    "fig, ax = plt.subplots(figsize=(12,8))\n",
    "plot_thresh_range(ax, y_test, prob, 0.1, 0.9, 25)"
   ]
  },
  {
   "cell_type": "code",
   "execution_count": null,
   "metadata": {
    "ExecuteTime": {
     "end_time": "2019-07-09T15:41:25.690347Z",
     "start_time": "2019-07-09T15:41:25.482180Z"
    },
    "hidden": true
   },
   "outputs": [],
   "source": [
    "fig, ax = plt.subplots(figsize=(8,8))\n",
    "plot_roc(ax, y_test, prob)"
   ]
  },
  {
   "cell_type": "code",
   "execution_count": null,
   "metadata": {
    "ExecuteTime": {
     "end_time": "2019-07-09T15:42:33.075335Z",
     "start_time": "2019-07-09T15:42:33.029255Z"
    },
    "hidden": true
   },
   "outputs": [],
   "source": [
    "threshold = 0.27\n",
    "y_pred = (prob > threshold).astype(np.int64)\n",
    "cm = confusion_matrix(y_test, y_pred)\n",
    "tn,fp,fn,tp = cm[0][0],cm[0][1],cm[1][0],cm[1][1]\n",
    "sensitivity = tp/(tp+fn)\n",
    "specificity = tn/(tn+fp)\n",
    "ppv = tp/(tp+fp)\n",
    "npv = tn/(tn+fn)\n",
    "f1 = (2*ppv*sensitivity)/(ppv+sensitivity)\n",
    "auroc = roc_auc_score(y_test, prob)\n",
    "\n",
    "d = {\n",
    "  'sensitivity': np.round(sensitivity, 3),\n",
    "  'specificity': np.round(specificity, 3),\n",
    "  'ppv': np.round(ppv, 3),\n",
    "  'npv': np.round(npv, 3),\n",
    "  'f1': np.round(f1, 3),\n",
    "  'auroc': np.round(auroc, 3),\n",
    "}\n",
    "\n",
    "metrics = pd.DataFrame(d.values(), index=d.keys(), columns=['Value'])\n",
    "metrics"
   ]
  },
  {
   "cell_type": "code",
   "execution_count": null,
   "metadata": {
    "ExecuteTime": {
     "end_time": "2019-07-04T15:37:21.877205Z",
     "start_time": "2019-07-04T15:37:20.769581Z"
    },
    "hidden": true
   },
   "outputs": [],
   "source": [
    "fig, ax = plt.subplots(figsize=(10, 8))\n",
    "plot_confusion_matrix(ax, cm, classes=['Delayed', 'Imminent'], normalize=False, title='Confusion matrix')"
   ]
  },
  {
   "cell_type": "code",
   "execution_count": null,
   "metadata": {
    "ExecuteTime": {
     "end_time": "2019-07-04T15:37:26.179351Z",
     "start_time": "2019-07-04T15:37:23.944552Z"
    },
    "hidden": true
   },
   "outputs": [],
   "source": [
    "scores = clf.feature_importances_ / clf.feature_importances_.sum()\n",
    "\n",
    "fig, ax = plt.subplots(1, 2, figsize=(20, 10))\n",
    "neg_cloud, pos_cloud = get_wordcloud(vectorizer.get_feature_names(), scores, n_words=50)\n",
    "ax[0].imshow(neg_cloud)\n",
    "ax[0].axis('off')\n",
    "ax[0].set_title('Delayed')\n",
    "ax[1].imshow(pos_cloud)\n",
    "ax[1].axis('off')\n",
    "ax[1].set_title('Imminent')"
   ]
  },
  {
   "cell_type": "markdown",
   "metadata": {
    "hidden": true
   },
   "source": [
    "### Predict Prolonged ICU Stay"
   ]
  },
  {
   "cell_type": "code",
   "execution_count": null,
   "metadata": {
    "ExecuteTime": {
     "end_time": "2019-07-09T15:43:37.229976Z",
     "start_time": "2019-07-09T15:43:28.010753Z"
    },
    "hidden": true
   },
   "outputs": [],
   "source": [
    "df = set_group_splits(ps_df.copy(), group_col='hadm_id', seed=seed)\n",
    "vectorizer = TfidfVectorizer(min_df=args.min_freq, analyzer=str.split, sublinear_tf=True, ngram_range=(2,2))\n",
    "x_train = vectorizer.fit_transform(df.loc[(df['split'] == 'train')]['processed_note'])\n",
    "x_test = vectorizer.transform(df.loc[(df['split'] == 'test')]['processed_note'])\n",
    "y_train = df.loc[(df['split'] == 'train')]['prolonged_stay_label'].to_numpy()\n",
    "y_test = df.loc[(df['split'] == 'test')]['prolonged_stay_label'].to_numpy()\n",
    "df.shape, x_train.shape, x_test.shape, y_train.shape, y_test.shape"
   ]
  },
  {
   "cell_type": "code",
   "execution_count": null,
   "metadata": {
    "ExecuteTime": {
     "end_time": "2019-07-09T15:48:47.422805Z",
     "start_time": "2019-07-09T15:48:47.207491Z"
    },
    "hidden": true
   },
   "outputs": [],
   "source": [
    "params = {\n",
    "  \"class_weight\": 'balanced',\n",
    "  \"criterion\": \"entropy\",\n",
    "  \"max_features\": 0.114,\n",
    "  \"min_samples_leaf\": 5,\n",
    "  \"min_samples_split\": 3,\n",
    "  \"n_estimators\": 116,\n",
    "  \"oob_score\": True\n",
    "}"
   ]
  },
  {
   "cell_type": "code",
   "execution_count": null,
   "metadata": {
    "ExecuteTime": {
     "end_time": "2019-07-09T15:50:29.320533Z",
     "start_time": "2019-07-09T15:48:47.424347Z"
    },
    "hidden": true
   },
   "outputs": [],
   "source": [
    "clf = RandomForestClassifier(**params, n_jobs=32)\n",
    "clf.fit(x_train, y_train)\n",
    "prob = clf.predict_proba(x_test)[:, 1]"
   ]
  },
  {
   "cell_type": "code",
   "execution_count": null,
   "metadata": {
    "ExecuteTime": {
     "end_time": "2019-07-09T15:50:30.221923Z",
     "start_time": "2019-07-09T15:50:29.323810Z"
    },
    "hidden": true
   },
   "outputs": [],
   "source": [
    "fig, ax = plt.subplots(figsize=(20, 8))\n",
    "plot_youden(ax, y_test, prob, 0.1, 0.9, 40)"
   ]
  },
  {
   "cell_type": "code",
   "execution_count": null,
   "metadata": {
    "ExecuteTime": {
     "end_time": "2019-07-09T15:50:30.895030Z",
     "start_time": "2019-07-09T15:50:30.223453Z"
    },
    "hidden": true
   },
   "outputs": [],
   "source": [
    "fig, ax = plt.subplots(figsize=(12,8))\n",
    "plot_thresh_range(ax, y_test, prob, 0.1, 0.9, 25)"
   ]
  },
  {
   "cell_type": "code",
   "execution_count": null,
   "metadata": {
    "ExecuteTime": {
     "end_time": "2019-07-09T15:50:31.104640Z",
     "start_time": "2019-07-09T15:50:30.896275Z"
    },
    "hidden": true
   },
   "outputs": [],
   "source": [
    "fig, ax = plt.subplots(figsize=(8,8))\n",
    "plot_roc(ax, y_test, prob)"
   ]
  },
  {
   "cell_type": "code",
   "execution_count": null,
   "metadata": {
    "ExecuteTime": {
     "end_time": "2019-07-09T15:51:00.969073Z",
     "start_time": "2019-07-09T15:51:00.919303Z"
    },
    "hidden": true
   },
   "outputs": [],
   "source": [
    "threshold = 0.36\n",
    "y_pred = (prob > threshold).astype(np.int64)\n",
    "cm = confusion_matrix(y_test, y_pred)\n",
    "tn,fp,fn,tp = cm[0][0],cm[0][1],cm[1][0],cm[1][1]\n",
    "sensitivity = tp/(tp+fn)\n",
    "specificity = tn/(tn+fp)\n",
    "ppv = tp/(tp+fp)\n",
    "npv = tn/(tn+fn)\n",
    "f1 = (2*ppv*sensitivity)/(ppv+sensitivity)\n",
    "auroc = roc_auc_score(y_test, prob)\n",
    "\n",
    "d = {\n",
    "  'sensitivity': np.round(sensitivity, 3),\n",
    "  'specificity': np.round(specificity, 3),\n",
    "  'ppv': np.round(ppv, 3),\n",
    "  'npv': np.round(npv, 3),\n",
    "  'f1': np.round(f1, 3),\n",
    "  'auroc': np.round(auroc, 3),\n",
    "}\n",
    "\n",
    "metrics = pd.DataFrame(d.values(), index=d.keys(), columns=['Value'])\n",
    "metrics"
   ]
  },
  {
   "cell_type": "code",
   "execution_count": null,
   "metadata": {
    "ExecuteTime": {
     "end_time": "2019-07-09T15:48:09.783319Z",
     "start_time": "2019-07-09T15:48:09.498288Z"
    },
    "hidden": true
   },
   "outputs": [],
   "source": [
    "fig, ax = plt.subplots(figsize=(10, 8))\n",
    "plot_confusion_matrix(ax, cm, classes=['Short Stay', 'Prolonged Stay'], normalize=False, title='Confusion matrix')"
   ]
  },
  {
   "cell_type": "code",
   "execution_count": null,
   "metadata": {
    "ExecuteTime": {
     "end_time": "2019-07-05T13:23:16.082642Z",
     "start_time": "2019-07-05T13:23:14.996261Z"
    },
    "hidden": true
   },
   "outputs": [],
   "source": [
    "scores = clf.feature_importances_ / clf.feature_importances_.sum()\n",
    "\n",
    "fig, ax = plt.subplots(1, 2, figsize=(20, 10))\n",
    "neg_cloud, pos_cloud = get_wordcloud(vectorizer.get_feature_names(), scores, n_words=50)\n",
    "ax[0].imshow(neg_cloud)\n",
    "ax[0].axis('off')\n",
    "ax[0].set_title('Short Stay')\n",
    "ax[1].imshow(pos_cloud)\n",
    "ax[1].axis('off')\n",
    "ax[1].set_title('Prolonged Stay')"
   ]
  },
  {
   "cell_type": "markdown",
   "metadata": {},
   "source": [
    "## Metrics"
   ]
  },
  {
   "cell_type": "markdown",
   "metadata": {},
   "source": [
    "Taken from [here](https://www.dataschool.io/simple-guide-to-confusion-matrix-terminology/):\n",
    "\n",
    "1. Prevalence: `(fn + tp) / total`\n",
    "2. Sensitivity: AKA recall, true positive rate `tp / (tp + fn)`\n",
    "3. Specificity: AKA true negative rate `tn / (tn + fp)`\n",
    "4. Positive Predictive Value (PPV): AKA precision `tp / (tp + fp)`\n",
    "5. Negative Predictive Value (NPV): `tn / (tn + fn)`"
   ]
  },
  {
   "cell_type": "markdown",
   "metadata": {},
   "source": [
    "### Imminent ICU Admission"
   ]
  },
  {
   "cell_type": "code",
   "execution_count": null,
   "metadata": {
    "ExecuteTime": {
     "end_time": "2019-06-30T17:53:06.151666Z",
     "start_time": "2019-06-30T17:53:05.728882Z"
    }
   },
   "outputs": [],
   "source": [
    "with open(args.workdir/f'imminent_preds.pkl', 'rb') as f:\n",
    "  targs = pickle.load(f)\n",
    "  preds = pickle.load(f)\n",
    "  probs = pickle.load(f)\n",
    "\n",
    "fnames = [f'imminent_seed_{seed}.pkl' for seed in range(args.start_seed, args.start_seed + 100)]\n",
    "bam = BinaryAvgMetrics(targs, preds, probs)"
   ]
  },
  {
   "cell_type": "code",
   "execution_count": null,
   "metadata": {
    "ExecuteTime": {
     "end_time": "2019-06-30T17:53:15.783975Z",
     "start_time": "2019-06-30T17:53:15.565542Z"
    }
   },
   "outputs": [],
   "source": [
    "bam.get_avg_metrics(conf=0.95)"
   ]
  },
  {
   "cell_type": "code",
   "execution_count": null,
   "metadata": {
    "ExecuteTime": {
     "end_time": "2019-06-30T17:53:22.297438Z",
     "start_time": "2019-06-30T17:53:22.067161Z"
    }
   },
   "outputs": [],
   "source": [
    "get_best_model(bam, fnames)"
   ]
  },
  {
   "cell_type": "code",
   "execution_count": null,
   "metadata": {
    "ExecuteTime": {
     "end_time": "2019-06-30T17:53:30.143569Z",
     "start_time": "2019-06-30T17:53:29.391022Z"
    }
   },
   "outputs": [],
   "source": [
    "fig, ax = plt.subplots(figsize=(10, 8))\n",
    "plot_mean_roc(ax, bam.targs, bam.probs)"
   ]
  },
  {
   "cell_type": "code",
   "execution_count": null,
   "metadata": {
    "ExecuteTime": {
     "end_time": "2019-06-30T17:53:37.745461Z",
     "start_time": "2019-06-30T17:53:37.351368Z"
    }
   },
   "outputs": [],
   "source": [
    "fig, ax = plt.subplots(1, 2, figsize=(15, 6))\n",
    "\n",
    "plot_confusion_matrix(ax[0], bam.cm_avg, classes=['not imminent', 'imminent'], normalize=False,\\\n",
    "                      title='Confusion Matrix Over Runs')\n",
    "plot_confusion_matrix(ax[1], bam.cm_avg, classes=['not imminent', 'imminent'], normalize=True,\\\n",
    "                      title='Normalized Confusion Matrix Over Runs')\n",
    "plt.show()"
   ]
  },
  {
   "cell_type": "markdown",
   "metadata": {},
   "source": [
    "### ICU Dishcarge"
   ]
  },
  {
   "cell_type": "code",
   "execution_count": null,
   "metadata": {
    "ExecuteTime": {
     "end_time": "2019-06-30T17:53:53.059118Z",
     "start_time": "2019-06-30T17:53:52.398270Z"
    }
   },
   "outputs": [],
   "source": [
    "with open(args.workdir/f'discharge_preds.pkl', 'rb') as f:\n",
    "  targs = pickle.load(f)\n",
    "  preds = pickle.load(f)\n",
    "  probs = pickle.load(f)\n",
    "\n",
    "fnames = [f'discharge_seed_{seed}.pkl' for seed in range(args.start_seed, args.start_seed + 100)]\n",
    "bam = BinaryAvgMetrics(targs, preds, probs)"
   ]
  },
  {
   "cell_type": "code",
   "execution_count": null,
   "metadata": {
    "ExecuteTime": {
     "end_time": "2019-06-30T17:53:57.836167Z",
     "start_time": "2019-06-30T17:53:57.557224Z"
    }
   },
   "outputs": [],
   "source": [
    "bam.get_avg_metrics(conf=0.95)"
   ]
  },
  {
   "cell_type": "code",
   "execution_count": null,
   "metadata": {
    "ExecuteTime": {
     "end_time": "2019-06-30T17:54:01.945669Z",
     "start_time": "2019-06-30T17:54:01.665155Z"
    }
   },
   "outputs": [],
   "source": [
    "get_best_model(bam, fnames)"
   ]
  },
  {
   "cell_type": "code",
   "execution_count": null,
   "metadata": {
    "ExecuteTime": {
     "end_time": "2019-06-30T17:54:08.631025Z",
     "start_time": "2019-06-30T17:54:07.797538Z"
    }
   },
   "outputs": [],
   "source": [
    "fig, ax = plt.subplots(figsize=(10, 8))\n",
    "plot_mean_roc(ax, bam.targs, bam.probs)"
   ]
  },
  {
   "cell_type": "code",
   "execution_count": null,
   "metadata": {
    "ExecuteTime": {
     "end_time": "2019-06-30T17:54:12.853617Z",
     "start_time": "2019-06-30T17:54:12.591917Z"
    }
   },
   "outputs": [],
   "source": [
    "fig, ax = plt.subplots(1, 2, figsize=(15, 6))\n",
    "\n",
    "plot_confusion_matrix(ax[0], bam.cm_avg, classes=['Discharge within 5 days', 'Discharge after 5 days'], normalize=False, title='Confusion Matrix Over Runs')\n",
    "plot_confusion_matrix(ax[1], bam.cm_avg, classes=['Discharge within 5 days', 'Discharge after 5 days'], normalize=True, title='Normalized Confusion Matrix Over Runs')\n",
    "plt.show()"
   ]
  },
  {
   "cell_type": "markdown",
   "metadata": {},
   "source": [
    "## Full Run"
   ]
  },
  {
   "cell_type": "code",
   "execution_count": null,
   "metadata": {
    "ExecuteTime": {
     "end_time": "2019-06-30T17:55:16.217704Z",
     "start_time": "2019-06-30T17:55:14.349194Z"
    }
   },
   "outputs": [],
   "source": [
    "df = pd.read_csv(args.dataset_csv, usecols=args.full_run_cols, parse_dates=args.dates)\n",
    "df['relative_charttime'] = (df['charttime'] - df['intime'])\n",
    "\n",
    "imminent_df = df.loc[(df['imminent_label'] != -1)][['scispacy_note', 'imminent_label', 'relative_charttime']].reset_index()\n",
    "discharge_df = df[['scispacy_note', 'discharge_label', 'relative_charttime']].reset_index()"
   ]
  },
  {
   "cell_type": "markdown",
   "metadata": {},
   "source": [
    "### Imminent ICU Admission"
   ]
  },
  {
   "cell_type": "code",
   "execution_count": null,
   "metadata": {
    "ExecuteTime": {
     "end_time": "2019-06-30T17:58:39.456954Z",
     "start_time": "2019-06-30T17:55:59.488212Z"
    }
   },
   "outputs": [],
   "source": [
    "vectorizer = TfidfVectorizer(min_df=args.min_freq, analyzer=str.split, sublinear_tf=True, ngram_range=(2,2))\n",
    "x = vectorizer.fit_transform(imminent_df['scispacy_note'])\n",
    "y = imminent_df['imminent_label'].to_numpy()\n",
    "clf = RandomForestClassifier(n_estimators=100, class_weight='balanced', n_jobs=-1, min_samples_leaf=3, max_features=0.5, oob_score=True)\n",
    "clf.fit(x, y)\n",
    "imminent_df['prob'] = clf.predict_proba(vectorizer.fit_transform(imminent_df['scispacy_note']))[:, 1]"
   ]
  },
  {
   "cell_type": "code",
   "execution_count": null,
   "metadata": {
    "ExecuteTime": {
     "end_time": "2019-06-30T17:58:40.284758Z",
     "start_time": "2019-06-30T17:58:39.459043Z"
    }
   },
   "outputs": [],
   "source": [
    "with open(args.workdir/'imminent_model.pkl', 'wb') as f:\n",
    "  pickle.dump(clf, f)\n",
    "  pickle.dump(vectorizer.vocabulary_, f)"
   ]
  },
  {
   "cell_type": "code",
   "execution_count": null,
   "metadata": {
    "ExecuteTime": {
     "end_time": "2019-06-30T17:58:40.311136Z",
     "start_time": "2019-06-30T17:58:40.286514Z"
    }
   },
   "outputs": [],
   "source": [
    "interval_hours = 12\n",
    "starting_day = -20\n",
    "ending_day = -1"
   ]
  },
  {
   "cell_type": "code",
   "execution_count": null,
   "metadata": {
    "ExecuteTime": {
     "end_time": "2019-06-30T17:58:51.680205Z",
     "start_time": "2019-06-30T17:58:40.312378Z"
    }
   },
   "outputs": [],
   "source": [
    "fig, ax = plt.subplots(figsize=(15, 8))\n",
    "plot_prob(ax, imminent_df, args.imminent_threshold, starting_day, ending_day, interval_hours)"
   ]
  },
  {
   "cell_type": "code",
   "execution_count": null,
   "metadata": {
    "ExecuteTime": {
     "end_time": "2019-06-30T17:59:06.745238Z",
     "start_time": "2019-06-30T17:59:06.438412Z"
    }
   },
   "outputs": [],
   "source": [
    "scores = clf.feature_importances_ / clf.feature_importances_.sum()"
   ]
  },
  {
   "cell_type": "code",
   "execution_count": null,
   "metadata": {
    "ExecuteTime": {
     "end_time": "2019-06-30T17:59:07.983967Z",
     "start_time": "2019-06-30T17:59:07.431645Z"
    }
   },
   "outputs": [],
   "source": [
    "fig, ax = plt.subplots(1, 2, figsize=(20, 10))\n",
    "neg_cloud, pos_cloud = get_wordcloud(vectorizer.get_feature_names(), clf.feature_importances_, n_words=50)\n",
    "ax[0].imshow(neg_cloud)\n",
    "ax[0].axis('off')\n",
    "ax[0].set_title('Negative Class')\n",
    "ax[1].imshow(pos_cloud)\n",
    "ax[1].axis('off')\n",
    "ax[1].set_title('Positive Class')"
   ]
  },
  {
   "cell_type": "markdown",
   "metadata": {},
   "source": [
    "### ICU Dishcarge"
   ]
  },
  {
   "cell_type": "code",
   "execution_count": null,
   "metadata": {
    "ExecuteTime": {
     "end_time": "2019-06-30T18:04:37.333653Z",
     "start_time": "2019-06-30T17:59:21.250583Z"
    }
   },
   "outputs": [],
   "source": [
    "vectorizer = TfidfVectorizer(min_df=args.min_freq, analyzer=str.split, sublinear_tf=True, ngram_range=(2,2))\n",
    "x = vectorizer.fit_transform(discharge_df['scispacy_note'])\n",
    "y = discharge_df['discharge_label'].to_numpy()\n",
    "clf = RandomForestClassifier(n_estimators=100, class_weight='balanced', n_jobs=-1, min_samples_leaf=3, max_features=0.5, oob_score=True)\n",
    "clf.fit(x, y)\n",
    "discharge_df['prob'] = clf.predict_proba(vectorizer.fit_transform(discharge_df['scispacy_note']))[:, 1]"
   ]
  },
  {
   "cell_type": "code",
   "execution_count": null,
   "metadata": {
    "ExecuteTime": {
     "end_time": "2019-06-30T18:04:38.724694Z",
     "start_time": "2019-06-30T18:04:37.335880Z"
    }
   },
   "outputs": [],
   "source": [
    "with open(args.workdir/'discharge_model.pkl', 'wb') as f:\n",
    "  pickle.dump(clf, f)\n",
    "  pickle.dump(vectorizer.vocabulary_, f)"
   ]
  },
  {
   "cell_type": "code",
   "execution_count": null,
   "metadata": {
    "ExecuteTime": {
     "end_time": "2019-06-30T18:04:38.750128Z",
     "start_time": "2019-06-30T18:04:38.726240Z"
    }
   },
   "outputs": [],
   "source": [
    "interval_hours = 12\n",
    "starting_day = -20\n",
    "ending_day = 0"
   ]
  },
  {
   "cell_type": "code",
   "execution_count": null,
   "metadata": {
    "ExecuteTime": {
     "end_time": "2019-06-30T18:05:02.391054Z",
     "start_time": "2019-06-30T18:04:38.751303Z"
    }
   },
   "outputs": [],
   "source": [
    "fig, ax = plt.subplots(figsize=(15, 8))\n",
    "plot_prob(ax, discharge_df, args.discharge_threshold, starting_day, ending_day, interval_hours)"
   ]
  },
  {
   "cell_type": "code",
   "execution_count": null,
   "metadata": {
    "ExecuteTime": {
     "end_time": "2019-06-30T18:05:02.710276Z",
     "start_time": "2019-06-30T18:05:02.393122Z"
    }
   },
   "outputs": [],
   "source": [
    "scores = clf.feature_importances_ / clf.feature_importances_.sum()"
   ]
  },
  {
   "cell_type": "code",
   "execution_count": null,
   "metadata": {
    "ExecuteTime": {
     "end_time": "2019-06-30T18:05:28.346157Z",
     "start_time": "2019-06-30T18:05:27.788296Z"
    }
   },
   "outputs": [],
   "source": [
    "fig, ax = plt.subplots(1, 2, figsize=(20, 10))\n",
    "neg_cloud, pos_cloud = get_wordcloud(vectorizer.get_feature_names(), clf.feature_importances_, n_words=50)\n",
    "ax[0].imshow(neg_cloud)\n",
    "ax[0].axis('off')\n",
    "ax[0].set_title('Negative Class')\n",
    "ax[1].imshow(pos_cloud)\n",
    "ax[1].axis('off')\n",
    "ax[1].set_title('Positive Class')"
   ]
  }
 ],
 "metadata": {
  "kernelspec": {
   "display_name": "Python 3",
   "language": "python",
   "name": "python3"
  },
  "language_info": {
   "codemirror_mode": {
    "name": "ipython",
    "version": 3
   },
   "file_extension": ".py",
   "mimetype": "text/x-python",
   "name": "python",
   "nbconvert_exporter": "python",
   "pygments_lexer": "ipython3",
   "version": "3.7.3"
  },
  "toc": {
   "base_numbering": 1,
   "nav_menu": {},
   "number_sections": true,
   "sideBar": true,
   "skip_h1_title": true,
   "title_cell": "Table of Contents",
   "title_sidebar": "Contents",
   "toc_cell": false,
   "toc_position": {
    "height": "calc(100% - 180px)",
    "left": "10px",
    "top": "150px",
    "width": "384px"
   },
   "toc_section_display": true,
   "toc_window_display": false
  }
 },
 "nbformat": 4,
 "nbformat_minor": 2
}
