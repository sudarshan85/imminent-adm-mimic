{
 "cells": [
  {
   "cell_type": "markdown",
   "metadata": {},
   "source": [
    "# Dataset Preparation for First ICU Prediction"
   ]
  },
  {
   "cell_type": "markdown",
   "metadata": {},
   "source": [
    "## Imports & Inits"
   ]
  },
  {
   "cell_type": "code",
   "execution_count": 1,
   "metadata": {
    "ExecuteTime": {
     "end_time": "2019-06-07T23:01:50.695955Z",
     "start_time": "2019-06-07T23:01:50.679841Z"
    }
   },
   "outputs": [],
   "source": [
    "%load_ext autoreload\n",
    "%autoreload 2"
   ]
  },
  {
   "cell_type": "code",
   "execution_count": 2,
   "metadata": {
    "ExecuteTime": {
     "end_time": "2019-06-07T23:01:52.511833Z",
     "start_time": "2019-06-07T23:01:50.698612Z"
    }
   },
   "outputs": [],
   "source": [
    "import math\n",
    "import numpy as np\n",
    "import pandas as pd\n",
    "import spacy\n",
    "\n",
    "from pathlib import Path"
   ]
  },
  {
   "cell_type": "code",
   "execution_count": 3,
   "metadata": {
    "ExecuteTime": {
     "end_time": "2019-06-07T23:01:56.422092Z",
     "start_time": "2019-06-07T23:01:52.515528Z"
    }
   },
   "outputs": [],
   "source": [
    "path = Path('./data')\n",
    "df = pd.read_csv(path/'processed_dataset.csv', parse_dates=['admittime', 'dischtime', 'intime', 'charttime'])"
   ]
  },
  {
   "cell_type": "markdown",
   "metadata": {},
   "source": [
    "## Process"
   ]
  },
  {
   "cell_type": "code",
   "execution_count": 4,
   "metadata": {
    "ExecuteTime": {
     "end_time": "2019-06-07T23:01:57.120389Z",
     "start_time": "2019-06-07T23:01:56.425187Z"
    }
   },
   "outputs": [
    {
     "data": {
      "text/plain": [
       "count    50828.000000\n",
       "mean      -285.889588\n",
       "std        288.572212\n",
       "min      -3388.000000\n",
       "25%       -361.000000\n",
       "50%       -207.000000\n",
       "75%       -123.000000\n",
       "max        -24.000000\n",
       "Name: relative_charttime, dtype: float64"
      ]
     },
     "execution_count": 4,
     "metadata": {},
     "output_type": "execute_result"
    }
   ],
   "source": [
    "df['relative_charttime'] = (df['charttime'] - df['intime']).apply(lambda x: int(x.value/(1e9*60*60)))\n",
    "df['relative_charttime'].describe()"
   ]
  },
  {
   "cell_type": "code",
   "execution_count": 5,
   "metadata": {
    "ExecuteTime": {
     "end_time": "2019-06-07T23:01:57.157619Z",
     "start_time": "2019-06-07T23:01:57.123250Z"
    }
   },
   "outputs": [],
   "source": [
    "e1 = -480\n",
    "s1 = -120\n",
    "e2 = -72\n",
    "s2 = -24\n",
    "step = 6"
   ]
  },
  {
   "cell_type": "code",
   "execution_count": 6,
   "metadata": {
    "ExecuteTime": {
     "end_time": "2019-06-07T23:01:57.485867Z",
     "start_time": "2019-06-07T23:01:57.160603Z"
    }
   },
   "outputs": [],
   "source": [
    "dfs = []\n",
    "\n",
    "for i in range(e1, s1, step):\n",
    "  period = f'{i} ≤ t ≤ {i+step}'\n",
    "  inter = df.loc[((df['relative_charttime'] >= i) & (df['relative_charttime'] <= (i+step)))].copy()\n",
    "  dfs.append((period, inter))\n",
    "\n",
    "for i in range(e2, s2, step):\n",
    "  period = f'{i} ≤ t ≤ {i+step}'\n",
    "  inter = df.loc[((df['relative_charttime'] >= i) & (df['relative_charttime'] <= (i+step)))].copy()\n",
    "  dfs.append((period, inter))"
   ]
  },
  {
   "cell_type": "code",
   "execution_count": 7,
   "metadata": {
    "ExecuteTime": {
     "end_time": "2019-06-07T23:01:57.518239Z",
     "start_time": "2019-06-07T23:01:57.488623Z"
    }
   },
   "outputs": [
    {
     "name": "stdout",
     "output_type": "stream",
     "text": [
      "49774\n"
     ]
    }
   ],
   "source": [
    "s = 0\n",
    "for (_, x) in dfs:\n",
    "  s += len(x)\n",
    "print(s)"
   ]
  },
  {
   "cell_type": "code",
   "execution_count": 8,
   "metadata": {
    "ExecuteTime": {
     "end_time": "2019-06-07T23:01:57.588687Z",
     "start_time": "2019-06-07T23:01:57.520328Z"
    }
   },
   "outputs": [
    {
     "name": "stdout",
     "output_type": "stream",
     "text": [
      "42795\n"
     ]
    }
   ],
   "source": [
    "inter = df.loc[((df['relative_charttime'] >= e1) & (df['relative_charttime'] <= s1))\\\n",
    "               | ((df['relative_charttime'] >= e2) & (df['relative_charttime'] <= s2))].copy()\n",
    "print(len(inter))"
   ]
  }
 ],
 "metadata": {
  "kernelspec": {
   "display_name": "Python 3",
   "language": "python",
   "name": "python3"
  },
  "language_info": {
   "codemirror_mode": {
    "name": "ipython",
    "version": 3
   },
   "file_extension": ".py",
   "mimetype": "text/x-python",
   "name": "python",
   "nbconvert_exporter": "python",
   "pygments_lexer": "ipython3",
   "version": "3.7.3"
  },
  "toc": {
   "base_numbering": 1,
   "nav_menu": {},
   "number_sections": true,
   "sideBar": true,
   "skip_h1_title": true,
   "title_cell": "Table of Contents",
   "title_sidebar": "Contents",
   "toc_cell": false,
   "toc_position": {
    "height": "calc(100% - 180px)",
    "left": "10px",
    "top": "150px",
    "width": "165px"
   },
   "toc_section_display": true,
   "toc_window_display": false
  }
 },
 "nbformat": 4,
 "nbformat_minor": 2
}
