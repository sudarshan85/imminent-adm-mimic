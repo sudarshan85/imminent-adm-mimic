{
 "cells": [
  {
   "cell_type": "markdown",
   "metadata": {},
   "source": [
    "# Bert Classifier for First ICU Prediction"
   ]
  },
  {
   "cell_type": "markdown",
   "metadata": {},
   "source": [
    "## Import & Inits"
   ]
  },
  {
   "cell_type": "code",
   "execution_count": 1,
   "metadata": {
    "ExecuteTime": {
     "end_time": "2019-06-11T19:57:44.808537Z",
     "start_time": "2019-06-11T19:57:44.795204Z"
    }
   },
   "outputs": [],
   "source": [
    "%load_ext autoreload\n",
    "%autoreload 2"
   ]
  },
  {
   "cell_type": "code",
   "execution_count": 2,
   "metadata": {
    "ExecuteTime": {
     "end_time": "2019-06-11T19:57:46.238073Z",
     "start_time": "2019-06-11T19:57:44.809918Z"
    }
   },
   "outputs": [],
   "source": [
    "import sys\n",
    "sys.path.append('../')\n",
    "\n",
    "import matplotlib.pyplot as plt\n",
    "import seaborn as sns\n",
    "sns.set_style(\"darkgrid\")\n",
    "%matplotlib inline\n",
    "\n",
    "import numpy as np\n",
    "np.set_printoptions(precision=2)\n",
    "\n",
    "import pandas as pd\n",
    "import pickle\n",
    "import torch\n",
    "from pathlib import Path\n",
    "\n",
    "import torch\n",
    "from torch import nn\n",
    "from torch.nn import functional as F\n",
    "from torch.utils.data import TensorDataset, DataLoader\n",
    "from torch.utils.data.sampler import RandomSampler"
   ]
  },
  {
   "cell_type": "code",
   "execution_count": 3,
   "metadata": {
    "ExecuteTime": {
     "end_time": "2019-06-11T19:57:46.462840Z",
     "start_time": "2019-06-11T19:57:46.239702Z"
    }
   },
   "outputs": [],
   "source": [
    "from pytorch_pretrained_bert import BertTokenizer, BertAdam\n",
    "from pytorch_pretrained_bert.modeling import BertForSequenceClassification"
   ]
  },
  {
   "cell_type": "code",
   "execution_count": 4,
   "metadata": {
    "ExecuteTime": {
     "end_time": "2019-06-11T19:57:46.535681Z",
     "start_time": "2019-06-11T19:57:46.464099Z"
    }
   },
   "outputs": [
    {
     "data": {
      "text/plain": [
       "{'workdir': PosixPath('../data/work_dir/bert'),\n",
       " 'dataset_csv': PosixPath('../data/processed_dataset.csv'),\n",
       " 'bert_model': 'bert-base-mimic-cased',\n",
       " 'bert_dir': PosixPath('../pretrained/pytorch-bert/bert-base-mimic-cased'),\n",
       " 'max_seq_len': 512,\n",
       " 'do_lower_case': False,\n",
       " 'bs': 32,\n",
       " 'device': 'cuda:0',\n",
       " 'start_seed': 127,\n",
       " 'cols': ['class_label', 'note'],\n",
       " 'lr': 5e-05,\n",
       " 'n_epochs': 1,\n",
       " 'wd': 0.1,\n",
       " 'warmup_prop': 0.1,\n",
       " 'schedule': 'warmup_linear'}"
      ]
     },
     "execution_count": 4,
     "metadata": {},
     "output_type": "execute_result"
    }
   ],
   "source": [
    "from data_processor import convert_examples_to_features, read_df\n",
    "from optimizer import build_optimizer\n",
    "from utils.splits import set_two_splits\n",
    "from args import args\n",
    "vars(args)"
   ]
  },
  {
   "cell_type": "markdown",
   "metadata": {},
   "source": [
    "## Data Setup"
   ]
  },
  {
   "cell_type": "code",
   "execution_count": 5,
   "metadata": {
    "ExecuteTime": {
     "end_time": "2019-06-11T19:57:47.799283Z",
     "start_time": "2019-06-11T19:57:46.536749Z"
    }
   },
   "outputs": [],
   "source": [
    "ori_df = pd.read_csv(args.dataset_csv, usecols=args.cols)\n",
    "df = set_two_splits(ori_df.copy(), 'val')\n",
    "labels = 1-df['class_label'].unique()"
   ]
  },
  {
   "cell_type": "code",
   "execution_count": null,
   "metadata": {
    "ExecuteTime": {
     "start_time": "2019-06-11T19:57:44.767Z"
    }
   },
   "outputs": [
    {
     "data": {
      "application/vnd.jupyter.widget-view+json": {
       "model_id": "241eee86220a4741a29d3fa4bae3570e",
       "version_major": 2,
       "version_minor": 0
      },
      "text/plain": [
       "HBox(children=(IntProgress(value=0, max=43203), HTML(value='')))"
      ]
     },
     "metadata": {},
     "output_type": "display_data"
    },
    {
     "name": "stdout",
     "output_type": "stream",
     "text": [
      "\n"
     ]
    },
    {
     "data": {
      "application/vnd.jupyter.widget-view+json": {
       "model_id": "cd472c309c6744f2b9768c287c512b9c",
       "version_major": 2,
       "version_minor": 0
      },
      "text/plain": [
       "HBox(children=(IntProgress(value=0, max=43203), HTML(value='')))"
      ]
     },
     "metadata": {},
     "output_type": "display_data"
    }
   ],
   "source": [
    "tokenizer = BertTokenizer.from_pretrained(args.bert_dir, do_lower_case=args.do_lower_case)\n",
    "train_ex = read_df(df.loc[(df['split'] == 'train')], 'note', 'class_label')\n",
    "train_feats = convert_examples_to_features(train_ex, labels, args.max_seq_len, tokenizer)\n",
    "# val_ex = read_df(df.loc[(df['split'] == 'train')], 'note', 'class_label', set_type='val')\n",
    "# val_feats = convert_examples_to_features(val_ex, args.labels, args.max_seq_len, tokenizer)"
   ]
  },
  {
   "cell_type": "code",
   "execution_count": null,
   "metadata": {
    "ExecuteTime": {
     "start_time": "2019-06-11T19:57:44.770Z"
    }
   },
   "outputs": [],
   "source": [
    "input_ids = torch.tensor([f.input_ids for f in train_feats], dtype=torch.long)\n",
    "input_mask = torch.tensor([f.input_mask for f in train_feats], dtype=torch.long)\n",
    "segment_ids = torch.tensor([f.segment_ids for f in train_feats], dtype=torch.long)\n",
    "label_ids = torch.tensor([f.label_id for f in train_feats], dtype=torch.long)\n",
    "\n",
    "train_ds = TensorDataset(input_ids, input_mask, segment_ids, label_ids)"
   ]
  },
  {
   "cell_type": "code",
   "execution_count": null,
   "metadata": {
    "ExecuteTime": {
     "start_time": "2019-06-11T19:57:44.771Z"
    }
   },
   "outputs": [],
   "source": [
    "train_dl = DataLoader(train_ds, sampler=RandomSampler(train_ds), batch_size=args.bs)\n",
    "itr = iter(train_dl)"
   ]
  },
  {
   "cell_type": "markdown",
   "metadata": {},
   "source": [
    "## Model"
   ]
  },
  {
   "cell_type": "code",
   "execution_count": null,
   "metadata": {
    "ExecuteTime": {
     "start_time": "2019-06-11T19:57:44.773Z"
    }
   },
   "outputs": [],
   "source": [
    "model = BertForSequenceClassification.from_pretrained(args.bert_dir, num_labels=1)\n",
    "n_steps = (len(train_ds)//args.bs) * args.n_epochs\n",
    "optimizer = build_optimizer(list(model.named_parameters()), n_steps, args.lr,\n",
    "                            args.warmup_prop, args.wd, args.schedule)\n",
    "\n",
    "loss_fn = nn.BCEWithLogitsLoss()\n",
    "model = model.to(args.device)"
   ]
  },
  {
   "cell_type": "code",
   "execution_count": null,
   "metadata": {
    "ExecuteTime": {
     "start_time": "2019-06-11T19:57:44.774Z"
    }
   },
   "outputs": [],
   "source": [
    "model = torch.nn.DataParallel(model)"
   ]
  },
  {
   "cell_type": "code",
   "execution_count": null,
   "metadata": {
    "ExecuteTime": {
     "start_time": "2019-06-11T19:57:44.776Z"
    }
   },
   "outputs": [],
   "source": [
    "batch = tuple(t.to(args.device) for t in next(itr))\n",
    "iids, masks, sids, labels = batch"
   ]
  },
  {
   "cell_type": "code",
   "execution_count": null,
   "metadata": {
    "ExecuteTime": {
     "start_time": "2019-06-11T19:57:46.200Z"
    },
    "scrolled": false
   },
   "outputs": [],
   "source": [
    "pred = model(iids, sids, masks)\n",
    "loss = loss_fn(pred.view(-1), labels.float())\n",
    "print(loss.item())"
   ]
  },
  {
   "cell_type": "code",
   "execution_count": null,
   "metadata": {
    "ExecuteTime": {
     "end_time": "2019-06-11T19:45:04.445538Z",
     "start_time": "2019-06-11T19:45:04.396506Z"
    }
   },
   "outputs": [],
   "source": [
    "torch.cuda.empty_cache()"
   ]
  }
 ],
 "metadata": {
  "kernelspec": {
   "display_name": "Python 3",
   "language": "python",
   "name": "python3"
  },
  "language_info": {
   "codemirror_mode": {
    "name": "ipython",
    "version": 3
   },
   "file_extension": ".py",
   "mimetype": "text/x-python",
   "name": "python",
   "nbconvert_exporter": "python",
   "pygments_lexer": "ipython3",
   "version": "3.7.3"
  },
  "toc": {
   "base_numbering": 1,
   "nav_menu": {},
   "number_sections": true,
   "sideBar": true,
   "skip_h1_title": true,
   "title_cell": "Table of Contents",
   "title_sidebar": "Contents",
   "toc_cell": false,
   "toc_position": {},
   "toc_section_display": true,
   "toc_window_display": false
  }
 },
 "nbformat": 4,
 "nbformat_minor": 2
}
