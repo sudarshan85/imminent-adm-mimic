{
 "cells": [
  {
   "cell_type": "markdown",
   "metadata": {},
   "source": [
    "# Bert Classifier for First ICU Prediction"
   ]
  },
  {
   "cell_type": "markdown",
   "metadata": {},
   "source": [
    "## Import & Inits"
   ]
  },
  {
   "cell_type": "code",
   "execution_count": 1,
   "metadata": {
    "ExecuteTime": {
     "end_time": "2019-06-11T17:45:39.513805Z",
     "start_time": "2019-06-11T17:45:39.501942Z"
    }
   },
   "outputs": [],
   "source": [
    "%load_ext autoreload\n",
    "%autoreload 2"
   ]
  },
  {
   "cell_type": "code",
   "execution_count": 2,
   "metadata": {
    "ExecuteTime": {
     "end_time": "2019-06-11T17:45:40.359476Z",
     "start_time": "2019-06-11T17:45:39.515038Z"
    }
   },
   "outputs": [],
   "source": [
    "import sys\n",
    "sys.path.append('../')\n",
    "\n",
    "import matplotlib.pyplot as plt\n",
    "import seaborn as sns\n",
    "sns.set_style(\"darkgrid\")\n",
    "%matplotlib inline\n",
    "\n",
    "import numpy as np\n",
    "np.set_printoptions(precision=2)\n",
    "\n",
    "import pandas as pd\n",
    "import pickle\n",
    "import torch\n",
    "from pathlib import Path\n",
    "\n",
    "from torch.utils.data import TensorDataset, DataLoader\n",
    "from torch.utils.data.sampler import RandomSampler"
   ]
  },
  {
   "cell_type": "code",
   "execution_count": 3,
   "metadata": {
    "ExecuteTime": {
     "end_time": "2019-06-11T17:45:40.498644Z",
     "start_time": "2019-06-11T17:45:40.361564Z"
    }
   },
   "outputs": [],
   "source": [
    "from pytorch_pretrained_bert import BertTokenizer, BertAdam\n",
    "from pytorch_pretrained_bert.modeling import BertForSequenceClassification"
   ]
  },
  {
   "cell_type": "code",
   "execution_count": 12,
   "metadata": {
    "ExecuteTime": {
     "end_time": "2019-06-11T19:17:23.926655Z",
     "start_time": "2019-06-11T19:17:23.711108Z"
    }
   },
   "outputs": [
    {
     "data": {
      "text/plain": [
       "{'workdir': PosixPath('../data/work_dir/bert'),\n",
       " 'dataset_csv': PosixPath('../data/processed_dataset.csv'),\n",
       " 'bert_model': 'bert-base-mimic-cased',\n",
       " 'bert_dir': PosixPath('../pretrained/pytorch-bert/bert-base-mimic-cased'),\n",
       " 'max_seq_len': 512,\n",
       " 'do_lower_case': False,\n",
       " 'bs': 128,\n",
       " 'device': 'cuda:3',\n",
       " 'start_seed': 127,\n",
       " 'cols': ['class_label', 'note'],\n",
       " 'lr': 5e-05,\n",
       " 'n_epochs': 1,\n",
       " 'wd': 0.1,\n",
       " 'warmup_prop': 0.1,\n",
       " 'schedule': 'warmup_linear'}"
      ]
     },
     "execution_count": 12,
     "metadata": {},
     "output_type": "execute_result"
    }
   ],
   "source": [
    "from data_processor import convert_examples_to_features, read_df\n",
    "from optimizer import build_optimizer\n",
    "from utils.splits import set_two_splits\n",
    "from args import args\n",
    "vars(args)"
   ]
  },
  {
   "cell_type": "markdown",
   "metadata": {},
   "source": [
    "## Data Setup"
   ]
  },
  {
   "cell_type": "code",
   "execution_count": 6,
   "metadata": {
    "ExecuteTime": {
     "end_time": "2019-06-11T17:45:45.765299Z",
     "start_time": "2019-06-11T17:45:44.451970Z"
    }
   },
   "outputs": [],
   "source": [
    "ori_df = pd.read_csv(args.dataset_csv, usecols=args.cols)\n",
    "df = set_two_splits(ori_df.copy(), 'val')\n",
    "labels = 1-df['class_label'].unique()"
   ]
  },
  {
   "cell_type": "code",
   "execution_count": 7,
   "metadata": {
    "ExecuteTime": {
     "end_time": "2019-06-11T17:48:28.028993Z",
     "start_time": "2019-06-11T17:45:45.767346Z"
    }
   },
   "outputs": [
    {
     "data": {
      "application/vnd.jupyter.widget-view+json": {
       "model_id": "a0dbd079309c4fdda3350bb4f9f2ee1c",
       "version_major": 2,
       "version_minor": 0
      },
      "text/plain": [
       "HBox(children=(IntProgress(value=0, max=43203), HTML(value='')))"
      ]
     },
     "metadata": {},
     "output_type": "display_data"
    },
    {
     "name": "stdout",
     "output_type": "stream",
     "text": [
      "\n"
     ]
    },
    {
     "data": {
      "application/vnd.jupyter.widget-view+json": {
       "model_id": "2aa4c975e2fe44b48db3a7e282c4796c",
       "version_major": 2,
       "version_minor": 0
      },
      "text/plain": [
       "HBox(children=(IntProgress(value=0, max=43203), HTML(value='')))"
      ]
     },
     "metadata": {},
     "output_type": "display_data"
    },
    {
     "name": "stderr",
     "output_type": "stream",
     "text": [
      "WARNING:data_processor: 48.6% (21013) of total examples have sequence length longer than max_seq_len (512)\n"
     ]
    },
    {
     "name": "stdout",
     "output_type": "stream",
     "text": [
      "\n"
     ]
    }
   ],
   "source": [
    "tokenizer = BertTokenizer.from_pretrained(args.bert_dir, do_lower_case=args.do_lower_case)\n",
    "train_ex = read_df(df.loc[(df['split'] == 'train')], 'note', 'class_label')\n",
    "train_feats = convert_examples_to_features(train_ex, labels, args.max_seq_len, tokenizer)\n",
    "# val_ex = read_df(df.loc[(df['split'] == 'train')], 'note', 'class_label', set_type='val')\n",
    "# val_feats = convert_examples_to_features(val_ex, args.labels, args.max_seq_len, tokenizer)"
   ]
  },
  {
   "cell_type": "code",
   "execution_count": 8,
   "metadata": {
    "ExecuteTime": {
     "end_time": "2019-06-11T17:48:29.080218Z",
     "start_time": "2019-06-11T17:48:28.030731Z"
    }
   },
   "outputs": [],
   "source": [
    "input_ids = torch.tensor([f.input_ids for f in train_feats], dtype=torch.long)\n",
    "input_mask = torch.tensor([f.input_mask for f in train_feats], dtype=torch.long)\n",
    "segment_ids = torch.tensor([f.segment_ids for f in train_feats], dtype=torch.long)\n",
    "label_ids = torch.tensor([f.label_id for f in train_feats], dtype=torch.long)\n",
    "\n",
    "train_ds = TensorDataset(input_ids, input_mask, segment_ids, label_ids)\n",
    "train_dl = DataLoader(train_ds, sampler=RandomSampler(train_ds), batch_size=args.bs)\n",
    "itr = iter(train_dl)"
   ]
  },
  {
   "cell_type": "code",
   "execution_count": 9,
   "metadata": {
    "ExecuteTime": {
     "end_time": "2019-06-11T17:48:29.111992Z",
     "start_time": "2019-06-11T17:48:29.081572Z"
    }
   },
   "outputs": [
    {
     "data": {
      "text/plain": [
       "(torch.Size([128, 512]),\n",
       " torch.Size([128, 512]),\n",
       " torch.Size([128, 512]),\n",
       " torch.Size([128]))"
      ]
     },
     "execution_count": 9,
     "metadata": {},
     "output_type": "execute_result"
    }
   ],
   "source": [
    "iids, masks, sids, labels = next(itr)\n",
    "iids.shape, masks.shape, sids.shape, labels.shape"
   ]
  },
  {
   "cell_type": "markdown",
   "metadata": {},
   "source": [
    "## Model"
   ]
  },
  {
   "cell_type": "code",
   "execution_count": 10,
   "metadata": {
    "ExecuteTime": {
     "end_time": "2019-06-11T17:48:37.167271Z",
     "start_time": "2019-06-11T17:48:29.113048Z"
    }
   },
   "outputs": [],
   "source": [
    "model = BertForSequenceClassification.from_pretrained(args.bert_dir, num_labels=1)\n",
    "model = model.to(args.device)"
   ]
  },
  {
   "cell_type": "code",
   "execution_count": 13,
   "metadata": {
    "ExecuteTime": {
     "end_time": "2019-06-11T19:17:26.752569Z",
     "start_time": "2019-06-11T19:17:26.729012Z"
    }
   },
   "outputs": [],
   "source": [
    "n_steps = (len(train_ds)//args.bs) * args.n_epochs\n",
    "optimizer = build_optimizer(list(model.named_parameters()), n_steps, args.lr,\n",
    "                            args.warmup_prop, args.wd, args.schedule)"
   ]
  }
 ],
 "metadata": {
  "kernelspec": {
   "display_name": "Python 3",
   "language": "python",
   "name": "python3"
  },
  "language_info": {
   "codemirror_mode": {
    "name": "ipython",
    "version": 3
   },
   "file_extension": ".py",
   "mimetype": "text/x-python",
   "name": "python",
   "nbconvert_exporter": "python",
   "pygments_lexer": "ipython3",
   "version": "3.7.3"
  },
  "toc": {
   "base_numbering": 1,
   "nav_menu": {},
   "number_sections": true,
   "sideBar": true,
   "skip_h1_title": true,
   "title_cell": "Table of Contents",
   "title_sidebar": "Contents",
   "toc_cell": false,
   "toc_position": {},
   "toc_section_display": true,
   "toc_window_display": false
  }
 },
 "nbformat": 4,
 "nbformat_minor": 2
}
