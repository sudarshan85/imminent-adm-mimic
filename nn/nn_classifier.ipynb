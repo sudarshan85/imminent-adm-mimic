{
 "cells": [
  {
   "cell_type": "markdown",
   "metadata": {},
   "source": [
    "# Imminent ICU Admission and Prolonged Stay Prediction using Neural Networks"
   ]
  },
  {
   "cell_type": "markdown",
   "metadata": {},
   "source": [
    "## Imports & Inits"
   ]
  },
  {
   "cell_type": "code",
   "execution_count": 1,
   "metadata": {
    "ExecuteTime": {
     "end_time": "2019-07-22T12:05:57.670568Z",
     "start_time": "2019-07-22T12:05:57.659055Z"
    }
   },
   "outputs": [],
   "source": [
    "%load_ext autoreload\n",
    "%autoreload 2"
   ]
  },
  {
   "cell_type": "code",
   "execution_count": 2,
   "metadata": {
    "ExecuteTime": {
     "end_time": "2019-07-22T12:05:58.992371Z",
     "start_time": "2019-07-22T12:05:57.671663Z"
    },
    "scrolled": false
   },
   "outputs": [
    {
     "data": {
      "text/plain": [
       "{'workdir': PosixPath('../data/workdir/nn'),\n",
       " 'dataset_csv': PosixPath('../data/proc_dataset.csv'),\n",
       " 'cols': ['hadm_id',\n",
       "  'imminent_adm_label',\n",
       "  'prolonged_stay_label',\n",
       "  'processed_note',\n",
       "  'charttime',\n",
       "  'intime',\n",
       "  'chartinterval'],\n",
       " 'imminent_adm_cols': ['hadm_id', 'processed_note', 'imminent_adm_label'],\n",
       " 'prolonged_stay_cols': ['hadm_id', 'processed_note', 'prolonged_stay_label'],\n",
       " 'dates': ['charttime', 'intime'],\n",
       " 'device': 'cuda:3',\n",
       " 'start_seed': 127,\n",
       " 'min_freq': 3,\n",
       " 'batch_size': 128,\n",
       " 'hidden_dim': 100,\n",
       " 'dropout_p': 0.1,\n",
       " 'lr': 0.001,\n",
       " 'wd': 0.001,\n",
       " 'max_lr': 0.1,\n",
       " 'max_epochs': 100,\n",
       " 'ia_thresh': 0.2,\n",
       " 'ps_thresh': 0.27}"
      ]
     },
     "execution_count": 2,
     "metadata": {},
     "output_type": "execute_result"
    }
   ],
   "source": [
    "import sys\n",
    "sys.path.append('../')\n",
    "\n",
    "import pdb\n",
    "import matplotlib.pyplot as plt\n",
    "import seaborn as sns\n",
    "sns.set_style(\"darkgrid\")\n",
    "%matplotlib inline\n",
    "\n",
    "import numpy as np\n",
    "np.set_printoptions(precision=5)\n",
    "\n",
    "import pandas as pd\n",
    "import pickle\n",
    "\n",
    "import torch\n",
    "from torch import nn\n",
    "from torch import optim\n",
    "from torch.nn import functional as F\n",
    "from torch.utils.data import DataLoader, TensorDataset\n",
    "\n",
    "from sklearn.feature_extraction.text import TfidfVectorizer\n",
    "\n",
    "from skorch import NeuralNetBinaryClassifier\n",
    "from skorch.toy import MLPModule\n",
    "from skorch.dataset import CVSplit\n",
    "from skorch.callbacks import EarlyStopping, LRScheduler, Checkpoint\n",
    "\n",
    "from utils.splits import set_group_splits\n",
    "from utils.metrics import BinaryAvgMetrics, get_best_model\n",
    "from utils.plots import *\n",
    "\n",
    "from args import args\n",
    "vars(args)"
   ]
  },
  {
   "cell_type": "markdown",
   "metadata": {},
   "source": [
    "## NN Dev"
   ]
  },
  {
   "cell_type": "code",
   "execution_count": null,
   "metadata": {
    "ExecuteTime": {
     "end_time": "2019-07-16T17:51:28.288602Z",
     "start_time": "2019-07-16T17:51:26.360967Z"
    }
   },
   "outputs": [],
   "source": [
    "seed = 643\n",
    "full_df = pd.read_csv(args.dataset_csv, usecols=args.cols, parse_dates=args.dates)\n",
    "ia_df = full_df.loc[(full_df['imminent_adm_label'] != -1)][args.imminent_adm_cols].reset_index(drop=True)\n",
    "ps_df = full_df.loc[(full_df['chartinterval'] != 0)][args.prolonged_stay_cols].reset_index(drop=True)"
   ]
  },
  {
   "cell_type": "markdown",
   "metadata": {
    "heading_collapsed": true
   },
   "source": [
    "### Imminent ICU Admission"
   ]
  },
  {
   "cell_type": "code",
   "execution_count": null,
   "metadata": {
    "ExecuteTime": {
     "end_time": "2019-07-16T15:07:25.543199Z",
     "start_time": "2019-07-16T15:07:25.476909Z"
    },
    "hidden": true
   },
   "outputs": [],
   "source": [
    "ori_df = set_group_splits(ia_df.copy(), group_col='hadm_id', seed=seed)\n",
    "df = ori_df\n",
    "# df = ori_df.sample(1000).reset_index(drop=True)\n",
    "df.groupby(['split', 'imminent_adm_label']).size()"
   ]
  },
  {
   "cell_type": "code",
   "execution_count": null,
   "metadata": {
    "ExecuteTime": {
     "end_time": "2019-07-16T15:07:36.033536Z",
     "start_time": "2019-07-16T15:07:26.334132Z"
    },
    "hidden": true
   },
   "outputs": [],
   "source": [
    "vectorizer = TfidfVectorizer(min_df=args.min_freq, binary=True, analyzer=str.split, sublinear_tf=True)\n",
    "\n",
    "x_train = vectorizer.fit_transform(df.loc[(df['split'] == 'train')]['processed_note']).astype(np.float32)\n",
    "x_test = vectorizer.transform(df.loc[(df['split'] == 'test')]['processed_note']).astype(np.float32)\n",
    "\n",
    "x_train = np.asarray(x_train.todense())\n",
    "x_test = np.asarray(x_test.todense())\n",
    "\n",
    "vocab_sz = len(vectorizer.vocabulary_)\n",
    "\n",
    "y_train = df.loc[(df['split'] == 'train')]['imminent_adm_label'].to_numpy()\n",
    "y_test = df.loc[(df['split'] == 'test')]['imminent_adm_label'].to_numpy()"
   ]
  },
  {
   "cell_type": "code",
   "execution_count": null,
   "metadata": {
    "ExecuteTime": {
     "end_time": "2019-07-16T15:07:37.280807Z",
     "start_time": "2019-07-16T15:07:36.849966Z"
    },
    "hidden": true
   },
   "outputs": [],
   "source": [
    "train_ds = TensorDataset(torch.tensor(x_train), torch.tensor(y_train.astype(np.float32)))\n",
    "train_dl = DataLoader(train_ds, batch_size=args.batch_size, shuffle=True, drop_last=True)\n",
    "itr = iter(train_dl)\n",
    "\n",
    "clf = MLPModule(input_units=vocab_sz, output_units=1, hidden_units=args.hidden_dim, num_hidden=1, dropout=args.dropout_p, squeeze_output=True)\n",
    "loss_fn = nn.BCEWithLogitsLoss()"
   ]
  },
  {
   "cell_type": "code",
   "execution_count": null,
   "metadata": {
    "ExecuteTime": {
     "end_time": "2019-07-16T15:07:38.184962Z",
     "start_time": "2019-07-16T15:07:38.131489Z"
    },
    "hidden": true
   },
   "outputs": [],
   "source": [
    "x, y = next(itr)\n",
    "y_pred = clf(x)\n",
    "\n",
    "loss_fn(y_pred, y)"
   ]
  },
  {
   "cell_type": "code",
   "execution_count": null,
   "metadata": {
    "ExecuteTime": {
     "end_time": "2019-07-16T15:07:49.843896Z",
     "start_time": "2019-07-16T15:07:49.819539Z"
    },
    "hidden": true
   },
   "outputs": [],
   "source": [
    "reduce_lr = LRScheduler(\n",
    "  policy='ReduceLROnPlateau',\n",
    "  mode='min',\n",
    "  factor=0.5,\n",
    "  patience=1,\n",
    ")\n",
    "\n",
    "checkpoint = Checkpoint(\n",
    "  dirname=args.workdir/'models/dev_run2',\n",
    ")"
   ]
  },
  {
   "cell_type": "code",
   "execution_count": null,
   "metadata": {
    "ExecuteTime": {
     "end_time": "2019-07-16T15:08:03.943526Z",
     "start_time": "2019-07-16T15:08:03.899675Z"
    },
    "hidden": true
   },
   "outputs": [],
   "source": [
    "net = NeuralNetBinaryClassifier(\n",
    "  clf,\n",
    "  max_epochs=args.max_epochs,\n",
    "  lr=args.lr,\n",
    "  device=args.device,\n",
    "  optimizer=optim.Adam,\n",
    "  optimizer__weight_decay=args.wd,\n",
    "  batch_size=args.batch_size,\n",
    "  verbose=1,\n",
    "  callbacks=[EarlyStopping, checkpoint, reduce_lr],\n",
    "  train_split=CVSplit(cv=0.15, stratified=True),\n",
    "  iterator_train__shuffle=True, \n",
    "  iterator_train__num_workers=4,\n",
    "  iterator_train__pin_memory=True,\n",
    "  iterator_train__drop_last=True,\n",
    "  iterator_valid__num_workers=4,\n",
    "  iterator_valid__pin_memory=True,\n",
    "  threshold=args.ia_thresh,\n",
    ")\n",
    "\n",
    "net.set_params(callbacks__valid_acc=None);"
   ]
  },
  {
   "cell_type": "code",
   "execution_count": null,
   "metadata": {
    "ExecuteTime": {
     "end_time": "2019-07-16T15:11:13.558016Z",
     "start_time": "2019-07-16T15:08:09.192229Z"
    },
    "hidden": true
   },
   "outputs": [],
   "source": [
    "net.fit(x_train, y_train.astype(np.float32))\n",
    "# net.initialize()\n",
    "# net.load_params(checkpoint=checkpoint)"
   ]
  },
  {
   "cell_type": "code",
   "execution_count": null,
   "metadata": {
    "ExecuteTime": {
     "end_time": "2019-07-16T15:11:23.218915Z",
     "start_time": "2019-07-16T15:11:22.732185Z"
    },
    "hidden": true,
    "scrolled": false
   },
   "outputs": [],
   "source": [
    "fig, ax = plt.subplots(figsize=(10, 8))\n",
    "n_epochs = len(net.history)\n",
    "sns.lineplot(range(n_epochs), net.history[:, 'train_loss'])\n",
    "sns.lineplot(range(n_epochs), net.history[:, 'valid_loss'])\n",
    "ax.legend(['train_loss', 'valid_loss'])"
   ]
  },
  {
   "cell_type": "code",
   "execution_count": null,
   "metadata": {
    "ExecuteTime": {
     "end_time": "2019-07-16T15:11:28.393981Z",
     "start_time": "2019-07-16T15:11:26.015748Z"
    },
    "hidden": true,
    "scrolled": true
   },
   "outputs": [],
   "source": [
    "prob = net.predict_proba(x_test)\n",
    "prob"
   ]
  },
  {
   "cell_type": "code",
   "execution_count": null,
   "metadata": {
    "ExecuteTime": {
     "end_time": "2019-07-16T15:11:31.230408Z",
     "start_time": "2019-07-16T15:11:28.923076Z"
    },
    "hidden": true
   },
   "outputs": [],
   "source": [
    "y_pred = net.predict(x_test)\n",
    "y_pred"
   ]
  },
  {
   "cell_type": "code",
   "execution_count": null,
   "metadata": {
    "ExecuteTime": {
     "end_time": "2019-07-16T15:11:32.528412Z",
     "start_time": "2019-07-16T15:11:31.671646Z"
    },
    "hidden": true
   },
   "outputs": [],
   "source": [
    "fig, ax = plt.subplots(figsize=(20, 10))\n",
    "plot_youden(ax, y_test, prob, 0.1, 0.9, 40)"
   ]
  },
  {
   "cell_type": "code",
   "execution_count": null,
   "metadata": {
    "ExecuteTime": {
     "end_time": "2019-07-16T15:11:36.127544Z",
     "start_time": "2019-07-16T15:11:35.127965Z"
    },
    "hidden": true
   },
   "outputs": [],
   "source": [
    "fig, ax = plt.subplots(figsize=(20, 10))\n",
    "plot_thresh_range(ax, y_test, prob, 0.1, 0.9, 40)"
   ]
  },
  {
   "cell_type": "code",
   "execution_count": null,
   "metadata": {
    "ExecuteTime": {
     "end_time": "2019-07-16T15:11:37.930184Z",
     "start_time": "2019-07-16T15:11:37.639558Z"
    },
    "hidden": true,
    "scrolled": false
   },
   "outputs": [],
   "source": [
    "fig, ax = plt.subplots(figsize=(10,8))\n",
    "plot_roc(ax, y_test, prob)"
   ]
  },
  {
   "cell_type": "code",
   "execution_count": null,
   "metadata": {
    "ExecuteTime": {
     "end_time": "2019-07-16T15:11:39.477086Z",
     "start_time": "2019-07-16T15:11:39.435924Z"
    },
    "hidden": true
   },
   "outputs": [],
   "source": [
    "threshold = 0.2\n",
    "y_pred = (prob > threshold).astype(np.int64)\n",
    "cm = confusion_matrix(y_test, y_pred)\n",
    "tn,fp,fn,tp = cm[0][0],cm[0][1],cm[1][0],cm[1][1]\n",
    "sensitivity = tp/(tp+fn)\n",
    "specificity = tn/(tn+fp)\n",
    "ppv = tp/(tp+fp)\n",
    "npv = tn/(tn+fn)\n",
    "f1 = (2*ppv*sensitivity)/(ppv+sensitivity)\n",
    "auroc = roc_auc_score(y_test, prob)\n",
    "\n",
    "d = {\n",
    "  'sensitivity': np.round(sensitivity, 3),\n",
    "  'specificity': np.round(specificity, 3),\n",
    "  'ppv': np.round(ppv, 3),\n",
    "  'npv': np.round(npv, 3),\n",
    "  'f1': np.round(f1, 3),\n",
    "  'auroc': np.round(auroc, 3),\n",
    "}\n",
    "\n",
    "metrics = pd.DataFrame(d.values(), index=d.keys(), columns=['Value'])\n",
    "metrics"
   ]
  },
  {
   "cell_type": "code",
   "execution_count": null,
   "metadata": {
    "ExecuteTime": {
     "end_time": "2019-07-16T15:11:43.180597Z",
     "start_time": "2019-07-16T15:11:42.955948Z"
    },
    "hidden": true
   },
   "outputs": [],
   "source": [
    "fig, ax = plt.subplots(figsize=(10, 8))\n",
    "plot_confusion_matrix(ax, cm, classes=['Delayed', 'Imminent'], normalize=False, title='Confusion matrix')"
   ]
  },
  {
   "cell_type": "markdown",
   "metadata": {
    "heading_collapsed": true
   },
   "source": [
    "### Prolonged ICU Stay"
   ]
  },
  {
   "cell_type": "code",
   "execution_count": null,
   "metadata": {
    "ExecuteTime": {
     "end_time": "2019-07-16T17:51:28.363469Z",
     "start_time": "2019-07-16T17:51:28.290172Z"
    },
    "hidden": true
   },
   "outputs": [],
   "source": [
    "ori_df = set_group_splits(ps_df.copy(), group_col='hadm_id', seed=seed)\n",
    "df = ori_df\n",
    "# df = ori_df.sample(1000).reset_index(drop=True)\n",
    "df.groupby(['split', 'prolonged_stay_label']).size()"
   ]
  },
  {
   "cell_type": "code",
   "execution_count": null,
   "metadata": {
    "ExecuteTime": {
     "end_time": "2019-07-16T17:51:42.606766Z",
     "start_time": "2019-07-16T17:51:30.525161Z"
    },
    "hidden": true
   },
   "outputs": [],
   "source": [
    "vectorizer = TfidfVectorizer(min_df=args.min_freq, binary=True, analyzer=str.split, sublinear_tf=True)\n",
    "\n",
    "x_train = vectorizer.fit_transform(df.loc[(df['split'] == 'train')]['processed_note']).astype(np.float32)\n",
    "x_test = vectorizer.transform(df.loc[(df['split'] == 'test')]['processed_note']).astype(np.float32)\n",
    "\n",
    "x_train = np.asarray(x_train.todense())\n",
    "x_test = np.asarray(x_test.todense())\n",
    "\n",
    "vocab_sz = len(vectorizer.vocabulary_)\n",
    "\n",
    "y_train = df.loc[(df['split'] == 'train')]['prolonged_stay_label'].to_numpy()\n",
    "y_test = df.loc[(df['split'] == 'test')]['prolonged_stay_label'].to_numpy()"
   ]
  },
  {
   "cell_type": "code",
   "execution_count": null,
   "metadata": {
    "ExecuteTime": {
     "end_time": "2019-07-16T17:51:43.119874Z",
     "start_time": "2019-07-16T17:51:42.609136Z"
    },
    "hidden": true
   },
   "outputs": [],
   "source": [
    "train_ds = TensorDataset(torch.tensor(x_train), torch.tensor(y_train.astype(np.float32)))\n",
    "train_dl = DataLoader(train_ds, batch_size=args.batch_size, shuffle=True, drop_last=True)\n",
    "itr = iter(train_dl)"
   ]
  },
  {
   "cell_type": "code",
   "execution_count": null,
   "metadata": {
    "ExecuteTime": {
     "end_time": "2019-07-16T17:54:39.638664Z",
     "start_time": "2019-07-16T17:54:39.570579Z"
    },
    "hidden": true
   },
   "outputs": [],
   "source": [
    "clf = MLPModule(input_units=vocab_sz, output_units=1, hidden_units=args.hidden_dim, num_hidden=1, dropout=args.dropout_p, squeeze_output=True)\n",
    "loss_fn = nn.BCEWithLogitsLoss()"
   ]
  },
  {
   "cell_type": "code",
   "execution_count": null,
   "metadata": {
    "ExecuteTime": {
     "end_time": "2019-07-16T17:54:39.686167Z",
     "start_time": "2019-07-16T17:54:39.640195Z"
    },
    "hidden": true
   },
   "outputs": [],
   "source": [
    "x, y = next(itr)\n",
    "y_pred = clf(x)\n",
    "loss_fn(y_pred, y)"
   ]
  },
  {
   "cell_type": "code",
   "execution_count": null,
   "metadata": {
    "ExecuteTime": {
     "end_time": "2019-07-16T17:54:39.725026Z",
     "start_time": "2019-07-16T17:54:39.688344Z"
    },
    "hidden": true
   },
   "outputs": [],
   "source": [
    "reduce_lr = LRScheduler(\n",
    "  policy='ReduceLROnPlateau',\n",
    "  mode='min',\n",
    "  factor=0.5,\n",
    "  patience=1,\n",
    ")\n",
    "\n",
    "checkpoint = Checkpoint(\n",
    "  dirname=args.workdir/'models/ps_dev_run1',\n",
    ")"
   ]
  },
  {
   "cell_type": "code",
   "execution_count": null,
   "metadata": {
    "ExecuteTime": {
     "end_time": "2019-07-16T17:54:39.765221Z",
     "start_time": "2019-07-16T17:54:39.727123Z"
    },
    "hidden": true
   },
   "outputs": [],
   "source": [
    "net = NeuralNetBinaryClassifier(\n",
    "  clf,\n",
    "  max_epochs=args.max_epochs,\n",
    "  lr=args.lr,\n",
    "  device=args.device,\n",
    "  optimizer=optim.Adam,\n",
    "  optimizer__weight_decay=args.wd,\n",
    "  batch_size=args.batch_size,\n",
    "  verbose=1,\n",
    "  callbacks=[EarlyStopping, checkpoint, reduce_lr],\n",
    "  train_split=CVSplit(cv=0.15, stratified=True),\n",
    "  iterator_train__shuffle=True, \n",
    "  iterator_train__num_workers=4,\n",
    "  iterator_train__pin_memory=True,\n",
    "  iterator_train__drop_last=True,\n",
    "  iterator_valid__num_workers=4,\n",
    "  iterator_valid__pin_memory=True,\n",
    ")\n",
    "\n",
    "net.set_params(callbacks__valid_acc=None);"
   ]
  },
  {
   "cell_type": "code",
   "execution_count": null,
   "metadata": {
    "ExecuteTime": {
     "end_time": "2019-07-16T18:06:54.087498Z",
     "start_time": "2019-07-16T17:54:39.766829Z"
    },
    "hidden": true,
    "scrolled": false
   },
   "outputs": [],
   "source": [
    "net.fit(x_train, y_train.astype(np.float32))\n",
    "# net.initialize()\n",
    "# net.load_params(checkpoint=checkpoint)"
   ]
  },
  {
   "cell_type": "code",
   "execution_count": null,
   "metadata": {
    "ExecuteTime": {
     "end_time": "2019-07-16T18:07:01.291896Z",
     "start_time": "2019-07-16T18:07:00.831924Z"
    },
    "hidden": true
   },
   "outputs": [],
   "source": [
    "fig, ax = plt.subplots(figsize=(10, 8))\n",
    "n_epochs = len(net.history)\n",
    "sns.lineplot(range(n_epochs), net.history[:, 'train_loss'])\n",
    "sns.lineplot(range(n_epochs), net.history[:, 'valid_loss'])\n",
    "ax.legend(['train_loss', 'valid_loss'])"
   ]
  },
  {
   "cell_type": "code",
   "execution_count": null,
   "metadata": {
    "ExecuteTime": {
     "end_time": "2019-07-16T18:07:07.107116Z",
     "start_time": "2019-07-16T18:07:04.364597Z"
    },
    "hidden": true,
    "scrolled": true
   },
   "outputs": [],
   "source": [
    "prob = net.predict_proba(x_test)\n",
    "prob"
   ]
  },
  {
   "cell_type": "code",
   "execution_count": null,
   "metadata": {
    "ExecuteTime": {
     "end_time": "2019-07-16T18:07:10.313807Z",
     "start_time": "2019-07-16T18:07:07.852738Z"
    },
    "hidden": true
   },
   "outputs": [],
   "source": [
    "y_pred = net.predict(x_test)\n",
    "y_pred"
   ]
  },
  {
   "cell_type": "code",
   "execution_count": null,
   "metadata": {
    "ExecuteTime": {
     "end_time": "2019-07-16T18:07:13.446306Z",
     "start_time": "2019-07-16T18:07:12.587331Z"
    },
    "hidden": true
   },
   "outputs": [],
   "source": [
    "fig, ax = plt.subplots(figsize=(20, 10))\n",
    "plot_youden(ax, y_test, prob, 0.1, 0.9, 40)"
   ]
  },
  {
   "cell_type": "code",
   "execution_count": null,
   "metadata": {
    "ExecuteTime": {
     "end_time": "2019-07-16T18:07:22.544859Z",
     "start_time": "2019-07-16T18:07:21.268496Z"
    },
    "hidden": true
   },
   "outputs": [],
   "source": [
    "fig, ax = plt.subplots(figsize=(20, 10))\n",
    "plot_thresh_range(ax, y_test, prob, 0.1, 0.9, 40)"
   ]
  },
  {
   "cell_type": "code",
   "execution_count": null,
   "metadata": {
    "ExecuteTime": {
     "end_time": "2019-07-16T18:07:35.943871Z",
     "start_time": "2019-07-16T18:07:35.666076Z"
    },
    "hidden": true,
    "scrolled": false
   },
   "outputs": [],
   "source": [
    "fig, ax = plt.subplots(figsize=(10,8))\n",
    "plot_roc(ax, y_test, prob)"
   ]
  },
  {
   "cell_type": "code",
   "execution_count": null,
   "metadata": {
    "ExecuteTime": {
     "end_time": "2019-07-16T18:08:16.740656Z",
     "start_time": "2019-07-16T18:08:16.700595Z"
    },
    "hidden": true
   },
   "outputs": [],
   "source": [
    "threshold = 0.27\n",
    "y_pred = (prob > threshold).astype(np.int64)\n",
    "cm = confusion_matrix(y_test, y_pred)\n",
    "tn,fp,fn,tp = cm[0][0],cm[0][1],cm[1][0],cm[1][1]\n",
    "sensitivity = tp/(tp+fn)\n",
    "specificity = tn/(tn+fp)\n",
    "ppv = tp/(tp+fp)\n",
    "npv = tn/(tn+fn)\n",
    "f1 = (2*ppv*sensitivity)/(ppv+sensitivity)\n",
    "auroc = roc_auc_score(y_test, prob)\n",
    "\n",
    "d = {\n",
    "  'sensitivity': np.round(sensitivity, 3),\n",
    "  'specificity': np.round(specificity, 3),\n",
    "  'ppv': np.round(ppv, 3),\n",
    "  'npv': np.round(npv, 3),\n",
    "  'f1': np.round(f1, 3),\n",
    "  'auroc': np.round(auroc, 3),\n",
    "}\n",
    "\n",
    "metrics = pd.DataFrame(d.values(), index=d.keys(), columns=['Value'])\n",
    "metrics"
   ]
  },
  {
   "cell_type": "code",
   "execution_count": null,
   "metadata": {
    "ExecuteTime": {
     "end_time": "2019-07-16T17:27:21.639571Z",
     "start_time": "2019-07-16T17:27:21.397075Z"
    },
    "hidden": true
   },
   "outputs": [],
   "source": [
    "fig, ax = plt.subplots(figsize=(10, 8))\n",
    "plot_confusion_matrix(ax, cm, classes=['Delayed', 'Imminent'], normalize=False, title='Confusion matrix')"
   ]
  },
  {
   "cell_type": "markdown",
   "metadata": {
    "heading_collapsed": true
   },
   "source": [
    "## Metrics"
   ]
  },
  {
   "cell_type": "markdown",
   "metadata": {
    "hidden": true
   },
   "source": [
    "### Imminent ICU Admission"
   ]
  },
  {
   "cell_type": "code",
   "execution_count": null,
   "metadata": {
    "ExecuteTime": {
     "end_time": "2019-07-22T11:55:29.364845Z",
     "start_time": "2019-07-22T11:55:28.722095Z"
    },
    "hidden": true
   },
   "outputs": [],
   "source": [
    "with open(args.workdir/f'imminent_adm_preds.pkl', 'rb') as f:\n",
    "  targs = pickle.load(f)\n",
    "  preds = pickle.load(f)\n",
    "  probs = pickle.load(f)\n",
    "\n",
    "fnames = [f'imminent_adm_seed_{seed}.pkl' for seed in range(args.start_seed, args.start_seed + 100)]\n",
    "bam = BinaryAvgMetrics(targs, preds, probs)"
   ]
  },
  {
   "cell_type": "code",
   "execution_count": null,
   "metadata": {
    "ExecuteTime": {
     "end_time": "2019-07-22T11:55:29.586114Z",
     "start_time": "2019-07-22T11:55:29.366363Z"
    },
    "hidden": true
   },
   "outputs": [],
   "source": [
    "bam.get_avg_metrics(conf=0.95)"
   ]
  },
  {
   "cell_type": "code",
   "execution_count": null,
   "metadata": {
    "ExecuteTime": {
     "end_time": "2019-07-22T11:55:29.818141Z",
     "start_time": "2019-07-22T11:55:29.587526Z"
    },
    "hidden": true
   },
   "outputs": [],
   "source": [
    "get_best_model(bam, fnames)"
   ]
  },
  {
   "cell_type": "code",
   "execution_count": null,
   "metadata": {
    "ExecuteTime": {
     "end_time": "2019-07-22T11:55:30.206128Z",
     "start_time": "2019-07-22T11:55:29.819466Z"
    },
    "hidden": true
   },
   "outputs": [],
   "source": [
    "fig, ax = plt.subplots(figsize=(10, 8))\n",
    "plot_mean_roc(ax, bam.targs, bam.probs)"
   ]
  },
  {
   "cell_type": "code",
   "execution_count": null,
   "metadata": {
    "ExecuteTime": {
     "end_time": "2019-07-22T11:55:30.515657Z",
     "start_time": "2019-07-22T11:55:30.207420Z"
    },
    "hidden": true
   },
   "outputs": [],
   "source": [
    "fig, ax = plt.subplots(1, 2, figsize=(15, 6))\n",
    "\n",
    "plot_confusion_matrix(ax[0], bam.cm_avg, classes=['not imminent', 'imminent'], normalize=False,\\\n",
    "                      title='Confusion Matrix Over Runs')\n",
    "plot_confusion_matrix(ax[1], bam.cm_avg, classes=['not imminent', 'imminent'], normalize=True,\\\n",
    "                      title='Normalized Confusion Matrix Over Runs')\n",
    "plt.show()"
   ]
  },
  {
   "cell_type": "markdown",
   "metadata": {
    "hidden": true
   },
   "source": [
    "### Prolonged ICU Stay"
   ]
  },
  {
   "cell_type": "code",
   "execution_count": null,
   "metadata": {
    "ExecuteTime": {
     "end_time": "2019-07-22T11:55:55.670109Z",
     "start_time": "2019-07-22T11:55:54.957696Z"
    },
    "hidden": true
   },
   "outputs": [],
   "source": [
    "with open(args.workdir/f'prolonged_stay_preds.pkl', 'rb') as f:\n",
    "  targs = pickle.load(f)\n",
    "  preds = pickle.load(f)\n",
    "  probs = pickle.load(f)\n",
    "\n",
    "fnames = [f'prolonged_stay_seed_{seed}.pkl' for seed in range(args.start_seed, args.start_seed + 100)]\n",
    "bam = BinaryAvgMetrics(targs, preds, probs)"
   ]
  },
  {
   "cell_type": "code",
   "execution_count": null,
   "metadata": {
    "ExecuteTime": {
     "end_time": "2019-07-22T11:55:59.488758Z",
     "start_time": "2019-07-22T11:55:59.229856Z"
    },
    "hidden": true
   },
   "outputs": [],
   "source": [
    "bam.get_avg_metrics(conf=0.95)"
   ]
  },
  {
   "cell_type": "code",
   "execution_count": null,
   "metadata": {
    "ExecuteTime": {
     "end_time": "2019-07-22T11:56:04.618880Z",
     "start_time": "2019-07-22T11:56:04.366173Z"
    },
    "hidden": true
   },
   "outputs": [],
   "source": [
    "get_best_model(bam, fnames)"
   ]
  },
  {
   "cell_type": "code",
   "execution_count": null,
   "metadata": {
    "ExecuteTime": {
     "end_time": "2019-07-22T11:56:08.900406Z",
     "start_time": "2019-07-22T11:56:08.487768Z"
    },
    "hidden": true
   },
   "outputs": [],
   "source": [
    "fig, ax = plt.subplots(figsize=(10, 8))\n",
    "plot_mean_roc(ax, bam.targs, bam.probs)"
   ]
  },
  {
   "cell_type": "code",
   "execution_count": null,
   "metadata": {
    "ExecuteTime": {
     "end_time": "2019-07-22T11:56:16.786590Z",
     "start_time": "2019-07-22T11:56:16.425934Z"
    },
    "hidden": true
   },
   "outputs": [],
   "source": [
    "fig, ax = plt.subplots(1, 2, figsize=(15, 6))\n",
    "\n",
    "plot_confusion_matrix(ax[0], bam.cm_avg, classes=['Discharge within 5 days', 'Discharge after 5 days'], normalize=False, title='Confusion Matrix Over Runs')\n",
    "plot_confusion_matrix(ax[1], bam.cm_avg, classes=['Discharge within 5 days', 'Discharge after 5 days'], normalize=True, title='Normalized Confusion Matrix Over Runs')\n",
    "plt.show()"
   ]
  },
  {
   "cell_type": "markdown",
   "metadata": {},
   "source": [
    "## Full Run"
   ]
  },
  {
   "cell_type": "code",
   "execution_count": 3,
   "metadata": {
    "ExecuteTime": {
     "end_time": "2019-07-22T12:06:04.466706Z",
     "start_time": "2019-07-22T12:06:02.766145Z"
    }
   },
   "outputs": [],
   "source": [
    "seed = 643\n",
    "ori_df = pd.read_csv(args.dataset_csv, usecols=args.cols, parse_dates=args.dates)\n",
    "ori_df['relative_charttime'] = (ori_df['charttime'] - ori_df['intime'])\n",
    "\n",
    "ia_df = ori_df.loc[(ori_df['imminent_adm_label'] != -1)][args.imminent_adm_cols + ['relative_charttime']].reset_index(drop=True)\n",
    "\n",
    "ps_df = ori_df.loc[(ori_df['chartinterval'] != 0)][args.prolonged_stay_cols + ['relative_charttime']].reset_index(drop=True)"
   ]
  },
  {
   "cell_type": "code",
   "execution_count": 4,
   "metadata": {
    "ExecuteTime": {
     "end_time": "2019-07-22T12:06:04.491622Z",
     "start_time": "2019-07-22T12:06:04.468225Z"
    }
   },
   "outputs": [],
   "source": [
    "interval_hours = 12\n",
    "starting_day = -20\n",
    "ending_day = -1"
   ]
  },
  {
   "cell_type": "markdown",
   "metadata": {},
   "source": [
    "### Imminent ICU Admission"
   ]
  },
  {
   "cell_type": "code",
   "execution_count": 5,
   "metadata": {
    "ExecuteTime": {
     "end_time": "2019-07-22T12:06:04.550287Z",
     "start_time": "2019-07-22T12:06:04.492938Z"
    }
   },
   "outputs": [],
   "source": [
    "df = set_group_splits(ia_df.copy(), pct=0.25, group_col='hadm_id', seed=seed)\n",
    "df['prob'] = -1"
   ]
  },
  {
   "cell_type": "code",
   "execution_count": 6,
   "metadata": {
    "ExecuteTime": {
     "end_time": "2019-07-22T12:06:13.284651Z",
     "start_time": "2019-07-22T12:06:04.551535Z"
    }
   },
   "outputs": [
    {
     "data": {
      "text/plain": [
       "((50809, 6), (38192, 53056), (12617, 53056), (38192,), (12617,))"
      ]
     },
     "execution_count": 6,
     "metadata": {},
     "output_type": "execute_result"
    }
   ],
   "source": [
    "vectorizer = TfidfVectorizer(min_df=args.min_freq, binary=True, analyzer=str.split, sublinear_tf=True)\n",
    "\n",
    "x_train = vectorizer.fit_transform(df.loc[(df['split'] == 'train')]['processed_note']).astype(np.float32)\n",
    "x_test = vectorizer.transform(df.loc[(df['split'] == 'test')]['processed_note']).astype(np.float32)\n",
    "\n",
    "x_train = np.asarray(x_train.todense())\n",
    "x_test = np.asarray(x_test.todense())\n",
    "\n",
    "vocab_sz = len(vectorizer.vocabulary_)\n",
    "\n",
    "y_train = df.loc[(df['split'] == 'train')]['imminent_adm_label'].to_numpy()\n",
    "y_test = df.loc[(df['split'] == 'test')]['imminent_adm_label'].to_numpy()\n",
    "\n",
    "df.shape, x_train.shape, x_test.shape, y_train.shape, y_test.shape"
   ]
  },
  {
   "cell_type": "code",
   "execution_count": null,
   "metadata": {
    "ExecuteTime": {
     "end_time": "2019-07-22T12:04:38.168048Z",
     "start_time": "2019-07-22T12:04:37.823108Z"
    }
   },
   "outputs": [],
   "source": [
    "train_ds = TensorDataset(torch.tensor(x_train), torch.tensor(y_train.astype(np.float32)))\n",
    "train_dl = DataLoader(train_ds, batch_size=args.batch_size, shuffle=True, drop_last=True)\n",
    "itr = iter(train_dl)\n",
    "\n",
    "clf = MLPModule(input_units=vocab_sz, output_units=1, hidden_units=args.hidden_dim, num_hidden=1, dropout=args.dropout_p, squeeze_output=True)\n",
    "loss_fn = nn.BCEWithLogitsLoss()"
   ]
  },
  {
   "cell_type": "code",
   "execution_count": null,
   "metadata": {
    "ExecuteTime": {
     "end_time": "2019-07-22T12:04:38.239707Z",
     "start_time": "2019-07-22T12:04:38.170461Z"
    }
   },
   "outputs": [],
   "source": [
    "x, y = next(itr)\n",
    "y_pred = clf(x)\n",
    "\n",
    "loss_fn(y_pred, y)"
   ]
  },
  {
   "cell_type": "code",
   "execution_count": 7,
   "metadata": {
    "ExecuteTime": {
     "end_time": "2019-07-22T12:06:26.700111Z",
     "start_time": "2019-07-22T12:06:26.457513Z"
    }
   },
   "outputs": [],
   "source": [
    "reduce_lr = LRScheduler(\n",
    "  policy='ReduceLROnPlateau',\n",
    "  mode='min',\n",
    "  factor=0.5,\n",
    "  patience=1,\n",
    ")\n",
    "\n",
    "checkpoint = Checkpoint(\n",
    "  dirname=args.workdir/'models/ia_full_run_01',\n",
    ")"
   ]
  },
  {
   "cell_type": "code",
   "execution_count": 11,
   "metadata": {
    "ExecuteTime": {
     "end_time": "2019-07-22T12:06:51.913709Z",
     "start_time": "2019-07-22T12:06:51.852150Z"
    }
   },
   "outputs": [],
   "source": [
    "clf = MLPModule(input_units=vocab_sz, output_units=1, hidden_units=args.hidden_dim, num_hidden=1, dropout=args.dropout_p, squeeze_output=True)\n",
    "\n",
    "args.batch_size=64\n",
    "args.device='cuda:2'"
   ]
  },
  {
   "cell_type": "code",
   "execution_count": 12,
   "metadata": {
    "ExecuteTime": {
     "end_time": "2019-07-22T12:06:51.940021Z",
     "start_time": "2019-07-22T12:06:51.915151Z"
    }
   },
   "outputs": [],
   "source": [
    "net = NeuralNetBinaryClassifier(\n",
    "  clf,\n",
    "  max_epochs=args.max_epochs,\n",
    "  lr=args.lr,\n",
    "  device=args.device,\n",
    "  optimizer=optim.Adam,\n",
    "  optimizer__weight_decay=args.wd,\n",
    "  batch_size=args.batch_size,\n",
    "  verbose=1,\n",
    "  callbacks=[EarlyStopping, checkpoint, reduce_lr],\n",
    "  train_split=CVSplit(cv=0.15, stratified=True),\n",
    "  iterator_train__shuffle=True, \n",
    "#   iterator_train__num_workers=4,\n",
    "#   iterator_train__pin_memory=True,\n",
    "#   iterator_train__drop_last=True,\n",
    "#   iterator_valid__num_workers=4,\n",
    "#   iterator_valid__pin_memory=True,\n",
    "  threshold=args.ia_thresh,\n",
    ")\n",
    "\n",
    "net.set_params(callbacks__valid_acc=None);"
   ]
  },
  {
   "cell_type": "code",
   "execution_count": 13,
   "metadata": {
    "ExecuteTime": {
     "end_time": "2019-07-22T12:07:07.392335Z",
     "start_time": "2019-07-22T12:06:53.182073Z"
    }
   },
   "outputs": [
    {
     "name": "stdout",
     "output_type": "stream",
     "text": [
      "  epoch    train_loss    valid_loss    cp     dur\n",
      "-------  ------------  ------------  ----  ------\n",
      "      1        \u001b[36m0.4700\u001b[0m        \u001b[32m0.4363\u001b[0m     +  5.4220\n",
      "      2        \u001b[36m0.4233\u001b[0m        \u001b[32m0.4160\u001b[0m     +  5.1334\n"
     ]
    },
    {
     "data": {
      "text/plain": [
       "<class 'skorch.classifier.NeuralNetBinaryClassifier'>[initialized](\n",
       "  module_=MLPModule(\n",
       "    (nonlin): ReLU()\n",
       "    (sequential): Sequential(\n",
       "      (0): Linear(in_features=53056, out_features=100, bias=True)\n",
       "      (1): ReLU()\n",
       "      (2): Dropout(p=0.1)\n",
       "      (3): Linear(in_features=100, out_features=1, bias=True)\n",
       "    )\n",
       "  ),\n",
       ")"
      ]
     },
     "execution_count": 13,
     "metadata": {},
     "output_type": "execute_result"
    }
   ],
   "source": [
    "net.fit(x_train, y_train.astype(np.float32))\n",
    "# net.initialize()\n",
    "# net.load_params(checkpoint=checkpoint)"
   ]
  }
 ],
 "metadata": {
  "kernelspec": {
   "display_name": "Python 3",
   "language": "python",
   "name": "python3"
  },
  "language_info": {
   "codemirror_mode": {
    "name": "ipython",
    "version": 3
   },
   "file_extension": ".py",
   "mimetype": "text/x-python",
   "name": "python",
   "nbconvert_exporter": "python",
   "pygments_lexer": "ipython3",
   "version": "3.7.3"
  },
  "toc": {
   "base_numbering": 1,
   "nav_menu": {},
   "number_sections": true,
   "sideBar": true,
   "skip_h1_title": true,
   "title_cell": "Table of Contents",
   "title_sidebar": "Contents",
   "toc_cell": false,
   "toc_position": {},
   "toc_section_display": true,
   "toc_window_display": false
  }
 },
 "nbformat": 4,
 "nbformat_minor": 2
}
