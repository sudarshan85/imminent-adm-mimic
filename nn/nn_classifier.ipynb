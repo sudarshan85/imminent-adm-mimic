{
 "cells": [
  {
   "cell_type": "markdown",
   "metadata": {},
   "source": [
    "# Imminent ICU Admission and Prolonged Stay Prediction using Neural Networks"
   ]
  },
  {
   "cell_type": "markdown",
   "metadata": {},
   "source": [
    "## Imports & Inits"
   ]
  },
  {
   "cell_type": "code",
   "execution_count": 2,
   "metadata": {
    "ExecuteTime": {
     "end_time": "2019-07-16T13:50:13.104313Z",
     "start_time": "2019-07-16T13:50:13.089685Z"
    }
   },
   "outputs": [],
   "source": [
    "%load_ext autoreload\n",
    "%autoreload 2"
   ]
  },
  {
   "cell_type": "code",
   "execution_count": 3,
   "metadata": {
    "ExecuteTime": {
     "end_time": "2019-07-16T13:50:15.362404Z",
     "start_time": "2019-07-16T13:50:13.106176Z"
    },
    "scrolled": false
   },
   "outputs": [
    {
     "data": {
      "text/plain": [
       "{'workdir': PosixPath('../data/workdir/nn'),\n",
       " 'dataset_csv': PosixPath('../data/proc_dataset.csv'),\n",
       " 'cols': ['hadm_id',\n",
       "  'imminent_adm_label',\n",
       "  'prolonged_stay_label',\n",
       "  'processed_note',\n",
       "  'charttime',\n",
       "  'intime',\n",
       "  'chartinterval'],\n",
       " 'imminent_adm_cols': ['hadm_id', 'processed_note', 'imminent_adm_label'],\n",
       " 'prolonged_stay_cols': ['hadm_id', 'processed_note', 'prolonged_stay_label'],\n",
       " 'dates': ['charttime', 'intime'],\n",
       " 'device': 'cuda:3',\n",
       " 'start_seed': 127,\n",
       " 'min_freq': 3,\n",
       " 'batch_size': 128,\n",
       " 'hidden_dim': 100,\n",
       " 'dropout_p': 0.1,\n",
       " 'lr': 0.001,\n",
       " 'wd': 0.001,\n",
       " 'max_lr': 0.1,\n",
       " 'max_epochs': 100,\n",
       " 'ia_thresh': 0.2,\n",
       " 'ps_thresh': 0.5}"
      ]
     },
     "execution_count": 3,
     "metadata": {},
     "output_type": "execute_result"
    }
   ],
   "source": [
    "import sys\n",
    "sys.path.append('../')\n",
    "\n",
    "import pdb\n",
    "import matplotlib.pyplot as plt\n",
    "import seaborn as sns\n",
    "sns.set_style(\"darkgrid\")\n",
    "%matplotlib inline\n",
    "\n",
    "import numpy as np\n",
    "np.set_printoptions(precision=5)\n",
    "\n",
    "import pandas as pd\n",
    "import pickle\n",
    "\n",
    "import torch\n",
    "from torch import nn\n",
    "from torch import optim\n",
    "from torch.nn import functional as F\n",
    "from torch.utils.data import DataLoader, TensorDataset\n",
    "\n",
    "from sklearn.feature_extraction.text import TfidfVectorizer\n",
    "from sklearn.metrics import *\n",
    "\n",
    "from skorch import NeuralNetBinaryClassifier, NeuralNetClassifier, NeuralNet\n",
    "from skorch.dataset import CVSplit\n",
    "from skorch.callbacks import *\n",
    "\n",
    "from classifier_model import NNClassifier\n",
    "from utils.embeddings import PretrainedEmbeddings\n",
    "from utils.splits import set_group_splits\n",
    "from utils.metrics import BinaryAvgMetrics, get_best_model\n",
    "from utils.plots import *\n",
    "\n",
    "from args import args\n",
    "vars(args)"
   ]
  },
  {
   "cell_type": "markdown",
   "metadata": {},
   "source": [
    "## NN Dev"
   ]
  },
  {
   "cell_type": "markdown",
   "metadata": {},
   "source": [
    "### Imminent ICU Admission"
   ]
  },
  {
   "cell_type": "code",
   "execution_count": 3,
   "metadata": {
    "ExecuteTime": {
     "end_time": "2019-07-15T13:39:53.367773Z",
     "start_time": "2019-07-15T13:39:51.657909Z"
    }
   },
   "outputs": [],
   "source": [
    "seed = 643\n",
    "full_df = pd.read_csv(args.dataset_csv, usecols=args.cols, parse_dates=args.dates)\n",
    "ori_df = full_df.loc[(full_df['imminent_adm_label'] != -1)][args.imminent_adm_cols].reset_index(drop=True)\n",
    "ori_df = set_group_splits(ori_df.copy(), group_col='hadm_id', seed=seed)"
   ]
  },
  {
   "cell_type": "code",
   "execution_count": 4,
   "metadata": {
    "ExecuteTime": {
     "end_time": "2019-07-15T13:39:53.397939Z",
     "start_time": "2019-07-15T13:39:53.369389Z"
    }
   },
   "outputs": [
    {
     "data": {
      "text/plain": [
       "split  imminent_adm_label\n",
       "test   0                     6309 \n",
       "       1                     1817 \n",
       "train  0                     32494\n",
       "       1                     10189\n",
       "dtype: int64"
      ]
     },
     "execution_count": 4,
     "metadata": {},
     "output_type": "execute_result"
    }
   ],
   "source": [
    "df = ori_df\n",
    "# df = ori_df.sample(1000).reset_index(drop=True)\n",
    "df.groupby(['split', 'imminent_adm_label']).size()"
   ]
  },
  {
   "cell_type": "code",
   "execution_count": 5,
   "metadata": {
    "ExecuteTime": {
     "end_time": "2019-07-15T13:40:02.357387Z",
     "start_time": "2019-07-15T13:39:53.399303Z"
    }
   },
   "outputs": [],
   "source": [
    "vectorizer = TfidfVectorizer(min_df=args.min_freq, binary=True, analyzer=str.split, sublinear_tf=True)\n",
    "\n",
    "x_train = vectorizer.fit_transform(df.loc[(df['split'] == 'train')]['processed_note']).astype(np.float32)\n",
    "x_test = vectorizer.transform(df.loc[(df['split'] == 'test')]['processed_note']).astype(np.float32)\n",
    "\n",
    "x_train = np.asarray(x_train.todense())\n",
    "x_test = np.asarray(x_test.todense())\n",
    "\n",
    "vocab_sz = len(vectorizer.vocabulary_)\n",
    "\n",
    "y_train = df.loc[(df['split'] == 'train')]['imminent_adm_label'].to_numpy()\n",
    "y_test = df.loc[(df['split'] == 'test')]['imminent_adm_label'].to_numpy()"
   ]
  },
  {
   "cell_type": "code",
   "execution_count": null,
   "metadata": {
    "ExecuteTime": {
     "end_time": "2019-07-15T12:10:58.623706Z",
     "start_time": "2019-07-15T12:10:58.232830Z"
    }
   },
   "outputs": [],
   "source": [
    "train_ds = TensorDataset(torch.tensor(x_train), torch.tensor(y_train.astype(np.float32)))\n",
    "train_dl = DataLoader(train_ds, batch_size=args.batch_size, shuffle=True, drop_last=True)\n",
    "itr = iter(train_dl)\n",
    "\n",
    "clf = NNClassifier(vocab_sz, args.hidden_dim, args.dropout_p)\n",
    "loss_fn = nn.BCEWithLogitsLoss()"
   ]
  },
  {
   "cell_type": "code",
   "execution_count": null,
   "metadata": {
    "ExecuteTime": {
     "end_time": "2019-07-15T12:10:58.683990Z",
     "start_time": "2019-07-15T12:10:58.625399Z"
    }
   },
   "outputs": [],
   "source": [
    "x, y = next(itr)\n",
    "y_pred = clf(x)\n",
    "\n",
    "loss_fn(y_pred, y)"
   ]
  },
  {
   "cell_type": "code",
   "execution_count": 6,
   "metadata": {
    "ExecuteTime": {
     "end_time": "2019-07-15T13:40:02.392424Z",
     "start_time": "2019-07-15T13:40:02.359375Z"
    }
   },
   "outputs": [],
   "source": [
    "reduce_lr = LRScheduler(\n",
    "  policy='ReduceLROnPlateau',\n",
    "  mode='min',\n",
    "  factor=0.5,\n",
    "  patience=1,\n",
    ")\n",
    "\n",
    "cyclic_lr = LRScheduler(\n",
    "  policy=\"CyclicLR\",\n",
    "  base_lr=args.lr,\n",
    "  max_lr=args.max_lr,\n",
    "  step_size_up=500,\n",
    "  step_size_down=500,\n",
    "  mode='exp_range',\n",
    "  gamma=0.9,\n",
    ")\n",
    "\n",
    "checkpoint = Checkpoint(\n",
    "  dirname=args.workdir/'models/dev_run',\n",
    ")"
   ]
  },
  {
   "cell_type": "code",
   "execution_count": 7,
   "metadata": {
    "ExecuteTime": {
     "end_time": "2019-07-15T13:40:02.418955Z",
     "start_time": "2019-07-15T13:40:02.394031Z"
    }
   },
   "outputs": [],
   "source": [
    "net = NeuralNetBinaryClassifier(\n",
    "  NNClassifier,\n",
    "  module__vocab_sz=vocab_sz,\n",
    "  module__hidden_dim=args.hidden_dim,\n",
    "  module__dropout_p=args.dropout_p,\n",
    "  max_epochs=args.max_epochs,\n",
    "  lr=args.lr,\n",
    "  device=args.device,\n",
    "  optimizer=optim.Adam,\n",
    "  optimizer__weight_decay=args.wd,\n",
    "  batch_size=args.batch_size,\n",
    "  verbose=1,\n",
    "  callbacks=[EarlyStopping, checkpoint, reduce_lr],\n",
    "  train_split=CVSplit(cv=0.15, stratified=True),\n",
    "  iterator_train__shuffle=True, \n",
    "  iterator_train__num_workers=4,\n",
    "  iterator_train__pin_memory=True,\n",
    "  iterator_train__drop_last=True,\n",
    "  iterator_valid__num_workers=4,\n",
    "  iterator_valid__pin_memory=True,\n",
    "  threshold=args.ia_thresh,\n",
    ")\n",
    "\n",
    "net.set_params(callbacks__valid_acc=None);"
   ]
  },
  {
   "cell_type": "code",
   "execution_count": 8,
   "metadata": {
    "ExecuteTime": {
     "end_time": "2019-07-15T13:40:09.103289Z",
     "start_time": "2019-07-15T13:40:03.195340Z"
    }
   },
   "outputs": [],
   "source": [
    "# net.fit(x_train, y_train.astype(np.float32))\n",
    "net.initialize()\n",
    "net.load_params(checkpoint=checkpoint)"
   ]
  },
  {
   "cell_type": "code",
   "execution_count": 9,
   "metadata": {
    "ExecuteTime": {
     "end_time": "2019-07-15T13:40:10.366817Z",
     "start_time": "2019-07-15T13:40:10.069566Z"
    },
    "scrolled": false
   },
   "outputs": [
    {
     "data": {
      "text/plain": [
       "<matplotlib.legend.Legend at 0x7f407744b748>"
      ]
     },
     "execution_count": 9,
     "metadata": {},
     "output_type": "execute_result"
    },
    {
     "data": {
      "image/png": "[encoded data removed]",
      "text/plain": [
       "<Figure size 720x576 with 1 Axes>"
      ]
     },
     "metadata": {
      "needs_background": "light"
     },
     "output_type": "display_data"
    }
   ],
   "source": [
    "fig, ax = plt.subplots(figsize=(10, 8))\n",
    "n_epochs = len(net.history)\n",
    "sns.lineplot(range(n_epochs), net.history[:, 'train_loss'])\n",
    "sns.lineplot(range(n_epochs), net.history[:, 'valid_loss'])\n",
    "ax.legend(['train_loss', 'valid_loss'])"
   ]
  },
  {
   "cell_type": "code",
   "execution_count": 10,
   "metadata": {
    "ExecuteTime": {
     "end_time": "2019-07-15T13:40:17.878706Z",
     "start_time": "2019-07-15T13:40:12.741154Z"
    },
    "scrolled": true
   },
   "outputs": [
    {
     "data": {
      "text/plain": [
       "array([0.75646, 0.50674, 0.63981, ..., 0.37142, 0.63996, 0.65172],\n",
       "      dtype=float32)"
      ]
     },
     "execution_count": 10,
     "metadata": {},
     "output_type": "execute_result"
    }
   ],
   "source": [
    "prob = net.predict_proba(x_test)\n",
    "prob"
   ]
  },
  {
   "cell_type": "code",
   "execution_count": 13,
   "metadata": {
    "ExecuteTime": {
     "end_time": "2019-07-15T13:40:38.224644Z",
     "start_time": "2019-07-15T13:40:36.324346Z"
    }
   },
   "outputs": [
    {
     "data": {
      "text/plain": [
       "array([1, 1, 1, ..., 1, 1, 1], dtype=uint8)"
      ]
     },
     "execution_count": 13,
     "metadata": {},
     "output_type": "execute_result"
    }
   ],
   "source": [
    "y_pred = net.predict(x_test)\n",
    "y_pred"
   ]
  },
  {
   "cell_type": "code",
   "execution_count": null,
   "metadata": {
    "ExecuteTime": {
     "end_time": "2019-07-15T12:42:27.327788Z",
     "start_time": "2019-07-15T12:42:26.637490Z"
    }
   },
   "outputs": [],
   "source": [
    "fig, ax = plt.subplots(figsize=(20, 10))\n",
    "plot_youden(ax, y_test, prob, 0.1, 0.9, 40)"
   ]
  },
  {
   "cell_type": "code",
   "execution_count": null,
   "metadata": {
    "ExecuteTime": {
     "end_time": "2019-07-15T12:42:30.044472Z",
     "start_time": "2019-07-15T12:42:29.105165Z"
    }
   },
   "outputs": [],
   "source": [
    "fig, ax = plt.subplots(figsize=(20, 10))\n",
    "plot_thresh_range(ax, y_test, prob, 0.1, 0.9, 40)"
   ]
  },
  {
   "cell_type": "code",
   "execution_count": null,
   "metadata": {
    "ExecuteTime": {
     "end_time": "2019-07-15T12:42:32.376094Z",
     "start_time": "2019-07-15T12:42:32.131228Z"
    },
    "scrolled": false
   },
   "outputs": [],
   "source": [
    "fig, ax = plt.subplots(figsize=(10,8))\n",
    "plot_roc(ax, y_test, prob)"
   ]
  },
  {
   "cell_type": "code",
   "execution_count": null,
   "metadata": {
    "ExecuteTime": {
     "end_time": "2019-07-15T12:49:39.817000Z",
     "start_time": "2019-07-15T12:49:39.779994Z"
    }
   },
   "outputs": [],
   "source": [
    "threshold = 0.2\n",
    "y_pred = (prob > threshold).astype(np.int64)\n",
    "cm = confusion_matrix(y_test, y_pred)\n",
    "tn,fp,fn,tp = cm[0][0],cm[0][1],cm[1][0],cm[1][1]\n",
    "sensitivity = tp/(tp+fn)\n",
    "specificity = tn/(tn+fp)\n",
    "ppv = tp/(tp+fp)\n",
    "npv = tn/(tn+fn)\n",
    "f1 = (2*ppv*sensitivity)/(ppv+sensitivity)\n",
    "auroc = roc_auc_score(y_test, prob)\n",
    "\n",
    "d = {\n",
    "  'sensitivity': np.round(sensitivity, 3),\n",
    "  'specificity': np.round(specificity, 3),\n",
    "  'ppv': np.round(ppv, 3),\n",
    "  'npv': np.round(npv, 3),\n",
    "  'f1': np.round(f1, 3),\n",
    "  'auroc': np.round(auroc, 3),\n",
    "}\n",
    "\n",
    "metrics = pd.DataFrame(d.values(), index=d.keys(), columns=['Value'])\n",
    "metrics"
   ]
  },
  {
   "cell_type": "code",
   "execution_count": null,
   "metadata": {
    "ExecuteTime": {
     "end_time": "2019-07-15T12:09:39.042791Z",
     "start_time": "2019-07-15T12:09:38.583195Z"
    }
   },
   "outputs": [],
   "source": [
    "fig, ax = plt.subplots(figsize=(10, 8))\n",
    "plot_confusion_matrix(ax, cm, classes=['Delayed', 'Imminent'], normalize=False, title='Confusion matrix')"
   ]
  },
  {
   "cell_type": "markdown",
   "metadata": {},
   "source": [
    "### Prolonged ICU Stay"
   ]
  },
  {
   "cell_type": "markdown",
   "metadata": {},
   "source": [
    "## Metrics"
   ]
  },
  {
   "cell_type": "markdown",
   "metadata": {},
   "source": [
    "### Imminent ICU Admission"
   ]
  },
  {
   "cell_type": "code",
   "execution_count": 4,
   "metadata": {
    "ExecuteTime": {
     "end_time": "2019-07-16T13:50:31.337442Z",
     "start_time": "2019-07-16T13:50:30.848536Z"
    }
   },
   "outputs": [],
   "source": [
    "with open(args.workdir/f'imminent_adm_preds.pkl', 'rb') as f:\n",
    "  targs = pickle.load(f)\n",
    "  preds = pickle.load(f)\n",
    "  probs = pickle.load(f)\n",
    "\n",
    "fnames = [f'imminent_adm_seed_{seed}.pkl' for seed in range(args.start_seed, args.start_seed + 100)]\n",
    "bam = BinaryAvgMetrics(targs, preds, probs)"
   ]
  },
  {
   "cell_type": "code",
   "execution_count": 5,
   "metadata": {
    "ExecuteTime": {
     "end_time": "2019-07-16T13:50:41.705971Z",
     "start_time": "2019-07-16T13:50:41.487886Z"
    }
   },
   "outputs": [
    {
     "data": {
      "text/html": [
       "<div>\n",
       "<style scoped>\n",
       "    .dataframe tbody tr th:only-of-type {\n",
       "        vertical-align: middle;\n",
       "    }\n",
       "\n",
       "    .dataframe tbody tr th {\n",
       "        vertical-align: top;\n",
       "    }\n",
       "\n",
       "    .dataframe thead th {\n",
       "        text-align: right;\n",
       "    }\n",
       "</style>\n",
       "<table border=\"1\" class=\"dataframe\">\n",
       "  <thead>\n",
       "    <tr style=\"text-align: right;\">\n",
       "      <th></th>\n",
       "      <th>Lower</th>\n",
       "      <th>Mean</th>\n",
       "      <th>Upper</th>\n",
       "    </tr>\n",
       "  </thead>\n",
       "  <tbody>\n",
       "    <tr>\n",
       "      <th>sensitivity</th>\n",
       "      <td>81.6</td>\n",
       "      <td>82.1</td>\n",
       "      <td>82.5</td>\n",
       "    </tr>\n",
       "    <tr>\n",
       "      <th>specificity</th>\n",
       "      <td>62.9</td>\n",
       "      <td>63.6</td>\n",
       "      <td>64.3</td>\n",
       "    </tr>\n",
       "    <tr>\n",
       "      <th>ppv</th>\n",
       "      <td>41.2</td>\n",
       "      <td>41.6</td>\n",
       "      <td>42.0</td>\n",
       "    </tr>\n",
       "    <tr>\n",
       "      <th>auroc</th>\n",
       "      <td>80.1</td>\n",
       "      <td>80.4</td>\n",
       "      <td>80.7</td>\n",
       "    </tr>\n",
       "    <tr>\n",
       "      <th>npv</th>\n",
       "      <td>91.5</td>\n",
       "      <td>91.8</td>\n",
       "      <td>92.1</td>\n",
       "    </tr>\n",
       "    <tr>\n",
       "      <th>f1</th>\n",
       "      <td>54.8</td>\n",
       "      <td>55.2</td>\n",
       "      <td>55.5</td>\n",
       "    </tr>\n",
       "  </tbody>\n",
       "</table>\n",
       "</div>"
      ],
      "text/plain": [
       "             Lower  Mean  Upper\n",
       "sensitivity  81.6   82.1  82.5 \n",
       "specificity  62.9   63.6  64.3 \n",
       "ppv          41.2   41.6  42.0 \n",
       "auroc        80.1   80.4  80.7 \n",
       "npv          91.5   91.8  92.1 \n",
       "f1           54.8   55.2  55.5 "
      ]
     },
     "execution_count": 5,
     "metadata": {},
     "output_type": "execute_result"
    }
   ],
   "source": [
    "bam.get_avg_metrics(conf=0.95)"
   ]
  },
  {
   "cell_type": "code",
   "execution_count": 6,
   "metadata": {
    "ExecuteTime": {
     "end_time": "2019-07-16T13:50:54.452079Z",
     "start_time": "2019-07-16T13:50:54.228419Z"
    }
   },
   "outputs": [
    {
     "data": {
      "text/html": [
       "<div>\n",
       "<style scoped>\n",
       "    .dataframe tbody tr th:only-of-type {\n",
       "        vertical-align: middle;\n",
       "    }\n",
       "\n",
       "    .dataframe tbody tr th {\n",
       "        vertical-align: top;\n",
       "    }\n",
       "\n",
       "    .dataframe thead th {\n",
       "        text-align: right;\n",
       "    }\n",
       "</style>\n",
       "<table border=\"1\" class=\"dataframe\">\n",
       "  <thead>\n",
       "    <tr style=\"text-align: right;\">\n",
       "      <th></th>\n",
       "      <th>Value</th>\n",
       "      <th>Model File</th>\n",
       "    </tr>\n",
       "  </thead>\n",
       "  <tbody>\n",
       "    <tr>\n",
       "      <th>sensitivity</th>\n",
       "      <td>0.868993</td>\n",
       "      <td>imminent_adm_seed_167.pkl</td>\n",
       "    </tr>\n",
       "    <tr>\n",
       "      <th>specificity</th>\n",
       "      <td>0.726115</td>\n",
       "      <td>imminent_adm_seed_205.pkl</td>\n",
       "    </tr>\n",
       "    <tr>\n",
       "      <th>ppv</th>\n",
       "      <td>0.474668</td>\n",
       "      <td>imminent_adm_seed_143.pkl</td>\n",
       "    </tr>\n",
       "    <tr>\n",
       "      <th>auroc</th>\n",
       "      <td>0.835246</td>\n",
       "      <td>imminent_adm_seed_217.pkl</td>\n",
       "    </tr>\n",
       "    <tr>\n",
       "      <th>npv</th>\n",
       "      <td>0.949787</td>\n",
       "      <td>imminent_adm_seed_142.pkl</td>\n",
       "    </tr>\n",
       "    <tr>\n",
       "      <th>f1</th>\n",
       "      <td>0.590506</td>\n",
       "      <td>imminent_adm_seed_143.pkl</td>\n",
       "    </tr>\n",
       "  </tbody>\n",
       "</table>\n",
       "</div>"
      ],
      "text/plain": [
       "                Value                 Model File\n",
       "sensitivity  0.868993  imminent_adm_seed_167.pkl\n",
       "specificity  0.726115  imminent_adm_seed_205.pkl\n",
       "ppv          0.474668  imminent_adm_seed_143.pkl\n",
       "auroc        0.835246  imminent_adm_seed_217.pkl\n",
       "npv          0.949787  imminent_adm_seed_142.pkl\n",
       "f1           0.590506  imminent_adm_seed_143.pkl"
      ]
     },
     "execution_count": 6,
     "metadata": {},
     "output_type": "execute_result"
    }
   ],
   "source": [
    "get_best_model(bam, fnames)"
   ]
  },
  {
   "cell_type": "code",
   "execution_count": 7,
   "metadata": {
    "ExecuteTime": {
     "end_time": "2019-07-16T13:51:07.316330Z",
     "start_time": "2019-07-16T13:51:06.856302Z"
    }
   },
   "outputs": [
    {
     "data": {
      "image/png": "[encoded data removed]",
      "text/plain": [
       "<Figure size 720x576 with 1 Axes>"
      ]
     },
     "metadata": {
      "needs_background": "light"
     },
     "output_type": "display_data"
    }
   ],
   "source": [
    "fig, ax = plt.subplots(figsize=(10, 8))\n",
    "plot_mean_roc(ax, bam.targs, bam.probs)"
   ]
  },
  {
   "cell_type": "code",
   "execution_count": 8,
   "metadata": {
    "ExecuteTime": {
     "end_time": "2019-07-16T13:51:12.843253Z",
     "start_time": "2019-07-16T13:51:12.518132Z"
    }
   },
   "outputs": [
    {
     "data": {
      "image/png": "[encoded data removed]",
      "text/plain": [
       "<Figure size 1080x432 with 4 Axes>"
      ]
     },
     "metadata": {
      "needs_background": "light"
     },
     "output_type": "display_data"
    }
   ],
   "source": [
    "fig, ax = plt.subplots(1, 2, figsize=(15, 6))\n",
    "\n",
    "plot_confusion_matrix(ax[0], bam.cm_avg, classes=['not imminent', 'imminent'], normalize=False,\\\n",
    "                      title='Confusion Matrix Over Runs')\n",
    "plot_confusion_matrix(ax[1], bam.cm_avg, classes=['not imminent', 'imminent'], normalize=True,\\\n",
    "                      title='Normalized Confusion Matrix Over Runs')\n",
    "plt.show()"
   ]
  }
 ],
 "metadata": {
  "kernelspec": {
   "display_name": "Python 3",
   "language": "python",
   "name": "python3"
  },
  "language_info": {
   "codemirror_mode": {
    "name": "ipython",
    "version": 3
   },
   "file_extension": ".py",
   "mimetype": "text/x-python",
   "name": "python",
   "nbconvert_exporter": "python",
   "pygments_lexer": "ipython3",
   "version": "3.7.3"
  },
  "toc": {
   "base_numbering": 1,
   "nav_menu": {},
   "number_sections": true,
   "sideBar": true,
   "skip_h1_title": true,
   "title_cell": "Table of Contents",
   "title_sidebar": "Contents",
   "toc_cell": false,
   "toc_position": {},
   "toc_section_display": true,
   "toc_window_display": false
  }
 },
 "nbformat": 4,
 "nbformat_minor": 2
}
