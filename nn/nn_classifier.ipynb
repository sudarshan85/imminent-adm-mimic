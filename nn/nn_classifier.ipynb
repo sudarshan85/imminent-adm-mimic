{
 "cells": [
  {
   "cell_type": "markdown",
   "metadata": {},
   "source": [
    "# Imminent ICU Admission and Prolonged Stay Prediction using Neural Networks"
   ]
  },
  {
   "cell_type": "markdown",
   "metadata": {},
   "source": [
    "## Imports & Inits"
   ]
  },
  {
   "cell_type": "code",
   "execution_count": null,
   "metadata": {
    "ExecuteTime": {
     "end_time": "2019-07-16T17:51:24.275325Z",
     "start_time": "2019-07-16T17:51:24.258940Z"
    }
   },
   "outputs": [],
   "source": [
    "%load_ext autoreload\n",
    "%autoreload 2"
   ]
  },
  {
   "cell_type": "code",
   "execution_count": null,
   "metadata": {
    "ExecuteTime": {
     "end_time": "2019-07-16T17:51:26.359259Z",
     "start_time": "2019-07-16T17:51:24.276652Z"
    },
    "scrolled": false
   },
   "outputs": [],
   "source": [
    "import sys\n",
    "sys.path.append('../')\n",
    "\n",
    "import pdb\n",
    "import matplotlib.pyplot as plt\n",
    "import seaborn as sns\n",
    "sns.set_style(\"darkgrid\")\n",
    "%matplotlib inline\n",
    "\n",
    "import numpy as np\n",
    "np.set_printoptions(precision=5)\n",
    "\n",
    "import pandas as pd\n",
    "import pickle\n",
    "\n",
    "import torch\n",
    "from torch import nn\n",
    "from torch import optim\n",
    "from torch.nn import functional as F\n",
    "from torch.utils.data import DataLoader, TensorDataset\n",
    "\n",
    "from sklearn.feature_extraction.text import TfidfVectorizer\n",
    "\n",
    "from skorch import NeuralNetBinaryClassifier\n",
    "from skorch.toy import MLPModule\n",
    "from skorch.dataset import CVSplit\n",
    "from skorch.callbacks import EarlyStopping, LRScheduler, Checkpoint\n",
    "\n",
    "from utils.splits import set_group_splits\n",
    "from utils.metrics import BinaryAvgMetrics, get_best_model\n",
    "from utils.plots import *\n",
    "\n",
    "from args import args\n",
    "vars(args)"
   ]
  },
  {
   "cell_type": "markdown",
   "metadata": {},
   "source": [
    "## NN Dev"
   ]
  },
  {
   "cell_type": "code",
   "execution_count": null,
   "metadata": {
    "ExecuteTime": {
     "end_time": "2019-07-16T17:51:28.288602Z",
     "start_time": "2019-07-16T17:51:26.360967Z"
    }
   },
   "outputs": [],
   "source": [
    "seed = 643\n",
    "full_df = pd.read_csv(args.dataset_csv, usecols=args.cols, parse_dates=args.dates)\n",
    "ia_df = full_df.loc[(full_df['imminent_adm_label'] != -1)][args.imminent_adm_cols].reset_index(drop=True)\n",
    "ps_df = full_df.loc[(full_df['chartinterval'] != 0)][args.prolonged_stay_cols].reset_index(drop=True)"
   ]
  },
  {
   "cell_type": "markdown",
   "metadata": {},
   "source": [
    "### Imminent ICU Admission"
   ]
  },
  {
   "cell_type": "code",
   "execution_count": null,
   "metadata": {
    "ExecuteTime": {
     "end_time": "2019-07-16T15:07:25.543199Z",
     "start_time": "2019-07-16T15:07:25.476909Z"
    }
   },
   "outputs": [],
   "source": [
    "ori_df = set_group_splits(ia_df.copy(), group_col='hadm_id', seed=seed)\n",
    "df = ori_df\n",
    "# df = ori_df.sample(1000).reset_index(drop=True)\n",
    "df.groupby(['split', 'imminent_adm_label']).size()"
   ]
  },
  {
   "cell_type": "code",
   "execution_count": null,
   "metadata": {
    "ExecuteTime": {
     "end_time": "2019-07-16T15:07:36.033536Z",
     "start_time": "2019-07-16T15:07:26.334132Z"
    }
   },
   "outputs": [],
   "source": [
    "vectorizer = TfidfVectorizer(min_df=args.min_freq, binary=True, analyzer=str.split, sublinear_tf=True)\n",
    "\n",
    "x_train = vectorizer.fit_transform(df.loc[(df['split'] == 'train')]['processed_note']).astype(np.float32)\n",
    "x_test = vectorizer.transform(df.loc[(df['split'] == 'test')]['processed_note']).astype(np.float32)\n",
    "\n",
    "x_train = np.asarray(x_train.todense())\n",
    "x_test = np.asarray(x_test.todense())\n",
    "\n",
    "vocab_sz = len(vectorizer.vocabulary_)\n",
    "\n",
    "y_train = df.loc[(df['split'] == 'train')]['imminent_adm_label'].to_numpy()\n",
    "y_test = df.loc[(df['split'] == 'test')]['imminent_adm_label'].to_numpy()"
   ]
  },
  {
   "cell_type": "code",
   "execution_count": null,
   "metadata": {
    "ExecuteTime": {
     "end_time": "2019-07-16T15:07:37.280807Z",
     "start_time": "2019-07-16T15:07:36.849966Z"
    }
   },
   "outputs": [],
   "source": [
    "train_ds = TensorDataset(torch.tensor(x_train), torch.tensor(y_train.astype(np.float32)))\n",
    "train_dl = DataLoader(train_ds, batch_size=args.batch_size, shuffle=True, drop_last=True)\n",
    "itr = iter(train_dl)\n",
    "\n",
    "clf = MLPModule(input_units=vocab_sz, output_units=1, hidden_units=args.hidden_dim, num_hidden=1, dropout=args.dropout_p, squeeze_output=True)\n",
    "loss_fn = nn.BCEWithLogitsLoss()"
   ]
  },
  {
   "cell_type": "code",
   "execution_count": null,
   "metadata": {
    "ExecuteTime": {
     "end_time": "2019-07-16T15:07:38.184962Z",
     "start_time": "2019-07-16T15:07:38.131489Z"
    }
   },
   "outputs": [],
   "source": [
    "x, y = next(itr)\n",
    "y_pred = clf(x)\n",
    "\n",
    "loss_fn(y_pred, y)"
   ]
  },
  {
   "cell_type": "code",
   "execution_count": null,
   "metadata": {
    "ExecuteTime": {
     "end_time": "2019-07-16T15:07:49.843896Z",
     "start_time": "2019-07-16T15:07:49.819539Z"
    }
   },
   "outputs": [],
   "source": [
    "reduce_lr = LRScheduler(\n",
    "  policy='ReduceLROnPlateau',\n",
    "  mode='min',\n",
    "  factor=0.5,\n",
    "  patience=1,\n",
    ")\n",
    "\n",
    "checkpoint = Checkpoint(\n",
    "  dirname=args.workdir/'models/dev_run2',\n",
    ")"
   ]
  },
  {
   "cell_type": "code",
   "execution_count": null,
   "metadata": {
    "ExecuteTime": {
     "end_time": "2019-07-16T15:08:03.943526Z",
     "start_time": "2019-07-16T15:08:03.899675Z"
    }
   },
   "outputs": [],
   "source": [
    "net = NeuralNetBinaryClassifier(\n",
    "  clf,\n",
    "  max_epochs=args.max_epochs,\n",
    "  lr=args.lr,\n",
    "  device=args.device,\n",
    "  optimizer=optim.Adam,\n",
    "  optimizer__weight_decay=args.wd,\n",
    "  batch_size=args.batch_size,\n",
    "  verbose=1,\n",
    "  callbacks=[EarlyStopping, checkpoint, reduce_lr],\n",
    "  train_split=CVSplit(cv=0.15, stratified=True),\n",
    "  iterator_train__shuffle=True, \n",
    "  iterator_train__num_workers=4,\n",
    "  iterator_train__pin_memory=True,\n",
    "  iterator_train__drop_last=True,\n",
    "  iterator_valid__num_workers=4,\n",
    "  iterator_valid__pin_memory=True,\n",
    "  threshold=args.ia_thresh,\n",
    ")\n",
    "\n",
    "net.set_params(callbacks__valid_acc=None);"
   ]
  },
  {
   "cell_type": "code",
   "execution_count": null,
   "metadata": {
    "ExecuteTime": {
     "end_time": "2019-07-16T15:11:13.558016Z",
     "start_time": "2019-07-16T15:08:09.192229Z"
    }
   },
   "outputs": [],
   "source": [
    "net.fit(x_train, y_train.astype(np.float32))\n",
    "# net.initialize()\n",
    "# net.load_params(checkpoint=checkpoint)"
   ]
  },
  {
   "cell_type": "code",
   "execution_count": null,
   "metadata": {
    "ExecuteTime": {
     "end_time": "2019-07-16T15:11:23.218915Z",
     "start_time": "2019-07-16T15:11:22.732185Z"
    },
    "scrolled": false
   },
   "outputs": [],
   "source": [
    "fig, ax = plt.subplots(figsize=(10, 8))\n",
    "n_epochs = len(net.history)\n",
    "sns.lineplot(range(n_epochs), net.history[:, 'train_loss'])\n",
    "sns.lineplot(range(n_epochs), net.history[:, 'valid_loss'])\n",
    "ax.legend(['train_loss', 'valid_loss'])"
   ]
  },
  {
   "cell_type": "code",
   "execution_count": null,
   "metadata": {
    "ExecuteTime": {
     "end_time": "2019-07-16T15:11:28.393981Z",
     "start_time": "2019-07-16T15:11:26.015748Z"
    },
    "scrolled": true
   },
   "outputs": [],
   "source": [
    "prob = net.predict_proba(x_test)\n",
    "prob"
   ]
  },
  {
   "cell_type": "code",
   "execution_count": null,
   "metadata": {
    "ExecuteTime": {
     "end_time": "2019-07-16T15:11:31.230408Z",
     "start_time": "2019-07-16T15:11:28.923076Z"
    }
   },
   "outputs": [],
   "source": [
    "y_pred = net.predict(x_test)\n",
    "y_pred"
   ]
  },
  {
   "cell_type": "code",
   "execution_count": null,
   "metadata": {
    "ExecuteTime": {
     "end_time": "2019-07-16T15:11:32.528412Z",
     "start_time": "2019-07-16T15:11:31.671646Z"
    }
   },
   "outputs": [],
   "source": [
    "fig, ax = plt.subplots(figsize=(20, 10))\n",
    "plot_youden(ax, y_test, prob, 0.1, 0.9, 40)"
   ]
  },
  {
   "cell_type": "code",
   "execution_count": null,
   "metadata": {
    "ExecuteTime": {
     "end_time": "2019-07-16T15:11:36.127544Z",
     "start_time": "2019-07-16T15:11:35.127965Z"
    }
   },
   "outputs": [],
   "source": [
    "fig, ax = plt.subplots(figsize=(20, 10))\n",
    "plot_thresh_range(ax, y_test, prob, 0.1, 0.9, 40)"
   ]
  },
  {
   "cell_type": "code",
   "execution_count": null,
   "metadata": {
    "ExecuteTime": {
     "end_time": "2019-07-16T15:11:37.930184Z",
     "start_time": "2019-07-16T15:11:37.639558Z"
    },
    "scrolled": false
   },
   "outputs": [],
   "source": [
    "fig, ax = plt.subplots(figsize=(10,8))\n",
    "plot_roc(ax, y_test, prob)"
   ]
  },
  {
   "cell_type": "code",
   "execution_count": null,
   "metadata": {
    "ExecuteTime": {
     "end_time": "2019-07-16T15:11:39.477086Z",
     "start_time": "2019-07-16T15:11:39.435924Z"
    }
   },
   "outputs": [],
   "source": [
    "threshold = 0.2\n",
    "y_pred = (prob > threshold).astype(np.int64)\n",
    "cm = confusion_matrix(y_test, y_pred)\n",
    "tn,fp,fn,tp = cm[0][0],cm[0][1],cm[1][0],cm[1][1]\n",
    "sensitivity = tp/(tp+fn)\n",
    "specificity = tn/(tn+fp)\n",
    "ppv = tp/(tp+fp)\n",
    "npv = tn/(tn+fn)\n",
    "f1 = (2*ppv*sensitivity)/(ppv+sensitivity)\n",
    "auroc = roc_auc_score(y_test, prob)\n",
    "\n",
    "d = {\n",
    "  'sensitivity': np.round(sensitivity, 3),\n",
    "  'specificity': np.round(specificity, 3),\n",
    "  'ppv': np.round(ppv, 3),\n",
    "  'npv': np.round(npv, 3),\n",
    "  'f1': np.round(f1, 3),\n",
    "  'auroc': np.round(auroc, 3),\n",
    "}\n",
    "\n",
    "metrics = pd.DataFrame(d.values(), index=d.keys(), columns=['Value'])\n",
    "metrics"
   ]
  },
  {
   "cell_type": "code",
   "execution_count": null,
   "metadata": {
    "ExecuteTime": {
     "end_time": "2019-07-16T15:11:43.180597Z",
     "start_time": "2019-07-16T15:11:42.955948Z"
    }
   },
   "outputs": [],
   "source": [
    "fig, ax = plt.subplots(figsize=(10, 8))\n",
    "plot_confusion_matrix(ax, cm, classes=['Delayed', 'Imminent'], normalize=False, title='Confusion matrix')"
   ]
  },
  {
   "cell_type": "markdown",
   "metadata": {},
   "source": [
    "### Prolonged ICU Stay"
   ]
  },
  {
   "cell_type": "code",
   "execution_count": null,
   "metadata": {
    "ExecuteTime": {
     "end_time": "2019-07-16T17:51:28.363469Z",
     "start_time": "2019-07-16T17:51:28.290172Z"
    }
   },
   "outputs": [],
   "source": [
    "ori_df = set_group_splits(ps_df.copy(), group_col='hadm_id', seed=seed)\n",
    "df = ori_df\n",
    "# df = ori_df.sample(1000).reset_index(drop=True)\n",
    "df.groupby(['split', 'prolonged_stay_label']).size()"
   ]
  },
  {
   "cell_type": "code",
   "execution_count": null,
   "metadata": {
    "ExecuteTime": {
     "end_time": "2019-07-16T17:51:42.606766Z",
     "start_time": "2019-07-16T17:51:30.525161Z"
    }
   },
   "outputs": [],
   "source": [
    "vectorizer = TfidfVectorizer(min_df=args.min_freq, binary=True, analyzer=str.split, sublinear_tf=True)\n",
    "\n",
    "x_train = vectorizer.fit_transform(df.loc[(df['split'] == 'train')]['processed_note']).astype(np.float32)\n",
    "x_test = vectorizer.transform(df.loc[(df['split'] == 'test')]['processed_note']).astype(np.float32)\n",
    "\n",
    "x_train = np.asarray(x_train.todense())\n",
    "x_test = np.asarray(x_test.todense())\n",
    "\n",
    "vocab_sz = len(vectorizer.vocabulary_)\n",
    "\n",
    "y_train = df.loc[(df['split'] == 'train')]['prolonged_stay_label'].to_numpy()\n",
    "y_test = df.loc[(df['split'] == 'test')]['prolonged_stay_label'].to_numpy()"
   ]
  },
  {
   "cell_type": "code",
   "execution_count": null,
   "metadata": {
    "ExecuteTime": {
     "end_time": "2019-07-16T17:51:43.119874Z",
     "start_time": "2019-07-16T17:51:42.609136Z"
    }
   },
   "outputs": [],
   "source": [
    "train_ds = TensorDataset(torch.tensor(x_train), torch.tensor(y_train.astype(np.float32)))\n",
    "train_dl = DataLoader(train_ds, batch_size=args.batch_size, shuffle=True, drop_last=True)\n",
    "itr = iter(train_dl)"
   ]
  },
  {
   "cell_type": "code",
   "execution_count": null,
   "metadata": {
    "ExecuteTime": {
     "end_time": "2019-07-16T17:54:39.638664Z",
     "start_time": "2019-07-16T17:54:39.570579Z"
    }
   },
   "outputs": [],
   "source": [
    "clf = MLPModule(input_units=vocab_sz, output_units=1, hidden_units=args.hidden_dim, num_hidden=1, dropout=args.dropout_p, squeeze_output=True)\n",
    "loss_fn = nn.BCEWithLogitsLoss()"
   ]
  },
  {
   "cell_type": "code",
   "execution_count": null,
   "metadata": {
    "ExecuteTime": {
     "end_time": "2019-07-16T17:54:39.686167Z",
     "start_time": "2019-07-16T17:54:39.640195Z"
    }
   },
   "outputs": [],
   "source": [
    "x, y = next(itr)\n",
    "y_pred = clf(x)\n",
    "loss_fn(y_pred, y)"
   ]
  },
  {
   "cell_type": "code",
   "execution_count": null,
   "metadata": {
    "ExecuteTime": {
     "end_time": "2019-07-16T17:54:39.725026Z",
     "start_time": "2019-07-16T17:54:39.688344Z"
    }
   },
   "outputs": [],
   "source": [
    "reduce_lr = LRScheduler(\n",
    "  policy='ReduceLROnPlateau',\n",
    "  mode='min',\n",
    "  factor=0.5,\n",
    "  patience=1,\n",
    ")\n",
    "\n",
    "checkpoint = Checkpoint(\n",
    "  dirname=args.workdir/'models/ps_dev_run1',\n",
    ")"
   ]
  },
  {
   "cell_type": "code",
   "execution_count": null,
   "metadata": {
    "ExecuteTime": {
     "end_time": "2019-07-16T17:54:39.765221Z",
     "start_time": "2019-07-16T17:54:39.727123Z"
    }
   },
   "outputs": [],
   "source": [
    "net = NeuralNetBinaryClassifier(\n",
    "  clf,\n",
    "  max_epochs=args.max_epochs,\n",
    "  lr=args.lr,\n",
    "  device=args.device,\n",
    "  optimizer=optim.Adam,\n",
    "  optimizer__weight_decay=args.wd,\n",
    "  batch_size=args.batch_size,\n",
    "  verbose=1,\n",
    "  callbacks=[EarlyStopping, checkpoint, reduce_lr],\n",
    "  train_split=CVSplit(cv=0.15, stratified=True),\n",
    "  iterator_train__shuffle=True, \n",
    "  iterator_train__num_workers=4,\n",
    "  iterator_train__pin_memory=True,\n",
    "  iterator_train__drop_last=True,\n",
    "  iterator_valid__num_workers=4,\n",
    "  iterator_valid__pin_memory=True,\n",
    ")\n",
    "\n",
    "net.set_params(callbacks__valid_acc=None);"
   ]
  },
  {
   "cell_type": "code",
   "execution_count": null,
   "metadata": {
    "ExecuteTime": {
     "end_time": "2019-07-16T18:06:54.087498Z",
     "start_time": "2019-07-16T17:54:39.766829Z"
    },
    "scrolled": false
   },
   "outputs": [],
   "source": [
    "net.fit(x_train, y_train.astype(np.float32))\n",
    "# net.initialize()\n",
    "# net.load_params(checkpoint=checkpoint)"
   ]
  },
  {
   "cell_type": "code",
   "execution_count": null,
   "metadata": {
    "ExecuteTime": {
     "end_time": "2019-07-16T18:07:01.291896Z",
     "start_time": "2019-07-16T18:07:00.831924Z"
    }
   },
   "outputs": [],
   "source": [
    "fig, ax = plt.subplots(figsize=(10, 8))\n",
    "n_epochs = len(net.history)\n",
    "sns.lineplot(range(n_epochs), net.history[:, 'train_loss'])\n",
    "sns.lineplot(range(n_epochs), net.history[:, 'valid_loss'])\n",
    "ax.legend(['train_loss', 'valid_loss'])"
   ]
  },
  {
   "cell_type": "code",
   "execution_count": null,
   "metadata": {
    "ExecuteTime": {
     "end_time": "2019-07-16T18:07:07.107116Z",
     "start_time": "2019-07-16T18:07:04.364597Z"
    },
    "scrolled": true
   },
   "outputs": [],
   "source": [
    "prob = net.predict_proba(x_test)\n",
    "prob"
   ]
  },
  {
   "cell_type": "code",
   "execution_count": null,
   "metadata": {
    "ExecuteTime": {
     "end_time": "2019-07-16T18:07:10.313807Z",
     "start_time": "2019-07-16T18:07:07.852738Z"
    }
   },
   "outputs": [],
   "source": [
    "y_pred = net.predict(x_test)\n",
    "y_pred"
   ]
  },
  {
   "cell_type": "code",
   "execution_count": null,
   "metadata": {
    "ExecuteTime": {
     "end_time": "2019-07-16T18:07:13.446306Z",
     "start_time": "2019-07-16T18:07:12.587331Z"
    }
   },
   "outputs": [],
   "source": [
    "fig, ax = plt.subplots(figsize=(20, 10))\n",
    "plot_youden(ax, y_test, prob, 0.1, 0.9, 40)"
   ]
  },
  {
   "cell_type": "code",
   "execution_count": null,
   "metadata": {
    "ExecuteTime": {
     "end_time": "2019-07-16T18:07:22.544859Z",
     "start_time": "2019-07-16T18:07:21.268496Z"
    }
   },
   "outputs": [],
   "source": [
    "fig, ax = plt.subplots(figsize=(20, 10))\n",
    "plot_thresh_range(ax, y_test, prob, 0.1, 0.9, 40)"
   ]
  },
  {
   "cell_type": "code",
   "execution_count": null,
   "metadata": {
    "ExecuteTime": {
     "end_time": "2019-07-16T18:07:35.943871Z",
     "start_time": "2019-07-16T18:07:35.666076Z"
    },
    "scrolled": false
   },
   "outputs": [],
   "source": [
    "fig, ax = plt.subplots(figsize=(10,8))\n",
    "plot_roc(ax, y_test, prob)"
   ]
  },
  {
   "cell_type": "code",
   "execution_count": null,
   "metadata": {
    "ExecuteTime": {
     "end_time": "2019-07-16T18:08:16.740656Z",
     "start_time": "2019-07-16T18:08:16.700595Z"
    }
   },
   "outputs": [],
   "source": [
    "threshold = 0.27\n",
    "y_pred = (prob > threshold).astype(np.int64)\n",
    "cm = confusion_matrix(y_test, y_pred)\n",
    "tn,fp,fn,tp = cm[0][0],cm[0][1],cm[1][0],cm[1][1]\n",
    "sensitivity = tp/(tp+fn)\n",
    "specificity = tn/(tn+fp)\n",
    "ppv = tp/(tp+fp)\n",
    "npv = tn/(tn+fn)\n",
    "f1 = (2*ppv*sensitivity)/(ppv+sensitivity)\n",
    "auroc = roc_auc_score(y_test, prob)\n",
    "\n",
    "d = {\n",
    "  'sensitivity': np.round(sensitivity, 3),\n",
    "  'specificity': np.round(specificity, 3),\n",
    "  'ppv': np.round(ppv, 3),\n",
    "  'npv': np.round(npv, 3),\n",
    "  'f1': np.round(f1, 3),\n",
    "  'auroc': np.round(auroc, 3),\n",
    "}\n",
    "\n",
    "metrics = pd.DataFrame(d.values(), index=d.keys(), columns=['Value'])\n",
    "metrics"
   ]
  },
  {
   "cell_type": "code",
   "execution_count": null,
   "metadata": {
    "ExecuteTime": {
     "end_time": "2019-07-16T17:27:21.639571Z",
     "start_time": "2019-07-16T17:27:21.397075Z"
    }
   },
   "outputs": [],
   "source": [
    "fig, ax = plt.subplots(figsize=(10, 8))\n",
    "plot_confusion_matrix(ax, cm, classes=['Delayed', 'Imminent'], normalize=False, title='Confusion matrix')"
   ]
  },
  {
   "cell_type": "markdown",
   "metadata": {},
   "source": [
    "## Metrics"
   ]
  },
  {
   "cell_type": "markdown",
   "metadata": {},
   "source": [
    "### Imminent ICU Admission"
   ]
  },
  {
   "cell_type": "code",
   "execution_count": null,
   "metadata": {
    "ExecuteTime": {
     "end_time": "2019-07-16T13:50:31.337442Z",
     "start_time": "2019-07-16T13:50:30.848536Z"
    }
   },
   "outputs": [],
   "source": [
    "with open(args.workdir/f'imminent_adm_preds.pkl', 'rb') as f:\n",
    "  targs = pickle.load(f)\n",
    "  preds = pickle.load(f)\n",
    "  probs = pickle.load(f)\n",
    "\n",
    "fnames = [f'imminent_adm_seed_{seed}.pkl' for seed in range(args.start_seed, args.start_seed + 100)]\n",
    "bam = BinaryAvgMetrics(targs, preds, probs)"
   ]
  },
  {
   "cell_type": "code",
   "execution_count": null,
   "metadata": {
    "ExecuteTime": {
     "end_time": "2019-07-16T13:50:41.705971Z",
     "start_time": "2019-07-16T13:50:41.487886Z"
    }
   },
   "outputs": [],
   "source": [
    "bam.get_avg_metrics(conf=0.95)"
   ]
  },
  {
   "cell_type": "code",
   "execution_count": null,
   "metadata": {
    "ExecuteTime": {
     "end_time": "2019-07-16T13:50:54.452079Z",
     "start_time": "2019-07-16T13:50:54.228419Z"
    }
   },
   "outputs": [],
   "source": [
    "get_best_model(bam, fnames)"
   ]
  },
  {
   "cell_type": "code",
   "execution_count": null,
   "metadata": {
    "ExecuteTime": {
     "end_time": "2019-07-16T13:51:07.316330Z",
     "start_time": "2019-07-16T13:51:06.856302Z"
    }
   },
   "outputs": [],
   "source": [
    "fig, ax = plt.subplots(figsize=(10, 8))\n",
    "plot_mean_roc(ax, bam.targs, bam.probs)"
   ]
  },
  {
   "cell_type": "code",
   "execution_count": null,
   "metadata": {
    "ExecuteTime": {
     "end_time": "2019-07-16T13:51:12.843253Z",
     "start_time": "2019-07-16T13:51:12.518132Z"
    }
   },
   "outputs": [],
   "source": [
    "fig, ax = plt.subplots(1, 2, figsize=(15, 6))\n",
    "\n",
    "plot_confusion_matrix(ax[0], bam.cm_avg, classes=['not imminent', 'imminent'], normalize=False,\\\n",
    "                      title='Confusion Matrix Over Runs')\n",
    "plot_confusion_matrix(ax[1], bam.cm_avg, classes=['not imminent', 'imminent'], normalize=True,\\\n",
    "                      title='Normalized Confusion Matrix Over Runs')\n",
    "plt.show()"
   ]
  }
 ],
 "metadata": {
  "kernelspec": {
   "display_name": "Python 3",
   "language": "python",
   "name": "python3"
  },
  "language_info": {
   "codemirror_mode": {
    "name": "ipython",
    "version": 3
   },
   "file_extension": ".py",
   "mimetype": "text/x-python",
   "name": "python",
   "nbconvert_exporter": "python",
   "pygments_lexer": "ipython3",
   "version": "3.7.3"
  },
  "toc": {
   "base_numbering": 1,
   "nav_menu": {},
   "number_sections": true,
   "sideBar": true,
   "skip_h1_title": true,
   "title_cell": "Table of Contents",
   "title_sidebar": "Contents",
   "toc_cell": false,
   "toc_position": {},
   "toc_section_display": true,
   "toc_window_display": false
  }
 },
 "nbformat": 4,
 "nbformat_minor": 2
}
