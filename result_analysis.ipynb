{
 "cells": [
  {
   "cell_type": "markdown",
   "metadata": {},
   "source": [
    "# Dataset Preparation for First ICU Prediction"
   ]
  },
  {
   "cell_type": "markdown",
   "metadata": {},
   "source": [
    "## Imports & Inits"
   ]
  },
  {
   "cell_type": "code",
   "execution_count": 1,
   "metadata": {
    "ExecuteTime": {
     "end_time": "2019-06-08T16:20:20.905041Z",
     "start_time": "2019-06-08T16:20:20.891214Z"
    }
   },
   "outputs": [],
   "source": [
    "%load_ext autoreload\n",
    "%autoreload 2"
   ]
  },
  {
   "cell_type": "code",
   "execution_count": 2,
   "metadata": {
    "ExecuteTime": {
     "end_time": "2019-06-08T16:20:22.149110Z",
     "start_time": "2019-06-08T16:20:20.906404Z"
    }
   },
   "outputs": [],
   "source": [
    "import sys\n",
    "sys.path.append('../')\n",
    "\n",
    "import matplotlib.pyplot as plt\n",
    "%matplotlib inline\n",
    "\n",
    "import numpy as np\n",
    "np.set_printoptions(precision=2)\n",
    "\n",
    "from utils.metrics import BinaryAvgMetrics\n",
    "from utils.plots import *\n",
    "\n",
    "import pandas as pd\n",
    "import pickle\n",
    "from pathlib import Path"
   ]
  },
  {
   "cell_type": "markdown",
   "metadata": {},
   "source": [
    "## 100 Run Performance Results"
   ]
  },
  {
   "cell_type": "code",
   "execution_count": 3,
   "metadata": {
    "ExecuteTime": {
     "end_time": "2019-06-08T16:20:22.167922Z",
     "start_time": "2019-06-08T16:20:22.150745Z"
    }
   },
   "outputs": [],
   "source": [
    "workdir = Path('./data/work_dir')"
   ]
  },
  {
   "cell_type": "code",
   "execution_count": 4,
   "metadata": {
    "ExecuteTime": {
     "end_time": "2019-06-08T16:20:25.836807Z",
     "start_time": "2019-06-08T16:20:22.169279Z"
    }
   },
   "outputs": [
    {
     "data": {
      "text/html": [
       "<div>\n",
       "<style scoped>\n",
       "    .dataframe tbody tr th:only-of-type {\n",
       "        vertical-align: middle;\n",
       "    }\n",
       "\n",
       "    .dataframe tbody tr th {\n",
       "        vertical-align: top;\n",
       "    }\n",
       "\n",
       "    .dataframe thead th {\n",
       "        text-align: right;\n",
       "    }\n",
       "</style>\n",
       "<table border=\"1\" class=\"dataframe\">\n",
       "  <thead>\n",
       "    <tr style=\"text-align: right;\">\n",
       "      <th></th>\n",
       "      <th>lr</th>\n",
       "      <th>rf</th>\n",
       "    </tr>\n",
       "  </thead>\n",
       "  <tbody>\n",
       "    <tr>\n",
       "      <th>sensitivity</th>\n",
       "      <td>0.894</td>\n",
       "      <td>0.822</td>\n",
       "    </tr>\n",
       "    <tr>\n",
       "      <th>specificity</th>\n",
       "      <td>0.620</td>\n",
       "      <td>0.732</td>\n",
       "    </tr>\n",
       "    <tr>\n",
       "      <th>ppv</th>\n",
       "      <td>0.422</td>\n",
       "      <td>0.487</td>\n",
       "    </tr>\n",
       "    <tr>\n",
       "      <th>auroc</th>\n",
       "      <td>0.843</td>\n",
       "      <td>0.857</td>\n",
       "    </tr>\n",
       "    <tr>\n",
       "      <th>npv</th>\n",
       "      <td>0.950</td>\n",
       "      <td>0.930</td>\n",
       "    </tr>\n",
       "    <tr>\n",
       "      <th>f1</th>\n",
       "      <td>0.573</td>\n",
       "      <td>0.612</td>\n",
       "    </tr>\n",
       "  </tbody>\n",
       "</table>\n",
       "</div>"
      ],
      "text/plain": [
       "                lr     rf\n",
       "sensitivity  0.894  0.822\n",
       "specificity  0.620  0.732\n",
       "ppv          0.422  0.487\n",
       "auroc        0.843  0.857\n",
       "npv          0.950  0.930\n",
       "f1           0.573  0.612"
      ]
     },
     "execution_count": 4,
     "metadata": {},
     "output_type": "execute_result"
    }
   ],
   "source": [
    "models = ['lr', 'rf']\n",
    "\n",
    "bams = {}\n",
    "\n",
    "for model in models:\n",
    "  with open(workdir/model/'preds.pkl', 'rb') as f:\n",
    "    targs = pickle.load(f)\n",
    "    preds = pickle.load(f)\n",
    "    probs = pickle.load(f)\n",
    "    \n",
    "  bams[model] = BinaryAvgMetrics(targs, preds, probs)\n",
    "\n",
    "all_metrics = {}\n",
    "\n",
    "for key in bams.keys():\n",
    "  all_metrics[key] = []\n",
    "  for i in range(len(bams[key].get_avg_metrics())):\n",
    "    all_metrics[key].append(bams[key].get_avg_metrics().iloc[i]['Value'])\n",
    "\n",
    "metrics = pd.DataFrame(all_metrics, index=['sensitivity', 'specificity', 'ppv', 'auroc', 'npv', 'f1'])\n",
    "metrics"
   ]
  },
  {
   "cell_type": "code",
   "execution_count": 5,
   "metadata": {
    "ExecuteTime": {
     "end_time": "2019-06-08T16:20:28.653696Z",
     "start_time": "2019-06-08T16:20:28.433292Z"
    }
   },
   "outputs": [
    {
     "data": {
      "text/html": [
       "<div>\n",
       "<style scoped>\n",
       "    .dataframe tbody tr th:only-of-type {\n",
       "        vertical-align: middle;\n",
       "    }\n",
       "\n",
       "    .dataframe tbody tr th {\n",
       "        vertical-align: top;\n",
       "    }\n",
       "\n",
       "    .dataframe thead th {\n",
       "        text-align: right;\n",
       "    }\n",
       "</style>\n",
       "<table border=\"1\" class=\"dataframe\">\n",
       "  <thead>\n",
       "    <tr style=\"text-align: right;\">\n",
       "      <th></th>\n",
       "      <th>Value</th>\n",
       "      <th>Definition</th>\n",
       "    </tr>\n",
       "  </thead>\n",
       "  <tbody>\n",
       "    <tr>\n",
       "      <th>sensitivity</th>\n",
       "      <td>0.894</td>\n",
       "      <td>When it's ACTUALLY YES, how often does it PREDICT YES?</td>\n",
       "    </tr>\n",
       "    <tr>\n",
       "      <th>specificity</th>\n",
       "      <td>0.620</td>\n",
       "      <td>When it's ACTUALLY NO, how often does it PREDICT NO?</td>\n",
       "    </tr>\n",
       "    <tr>\n",
       "      <th>ppv</th>\n",
       "      <td>0.422</td>\n",
       "      <td>When it PREDICTS YES, how often is it correct?</td>\n",
       "    </tr>\n",
       "    <tr>\n",
       "      <th>auroc</th>\n",
       "      <td>0.843</td>\n",
       "      <td>Indicates how well the model is capable of distinguishing between classes</td>\n",
       "    </tr>\n",
       "    <tr>\n",
       "      <th>npv</th>\n",
       "      <td>0.950</td>\n",
       "      <td>When it PREDICTS NO, how often is it correct?</td>\n",
       "    </tr>\n",
       "    <tr>\n",
       "      <th>f1</th>\n",
       "      <td>0.573</td>\n",
       "      <td>Harmonic mean of sensitivity and ppv</td>\n",
       "    </tr>\n",
       "  </tbody>\n",
       "</table>\n",
       "</div>"
      ],
      "text/plain": [
       "             Value  \\\n",
       "sensitivity  0.894   \n",
       "specificity  0.620   \n",
       "ppv          0.422   \n",
       "auroc        0.843   \n",
       "npv          0.950   \n",
       "f1           0.573   \n",
       "\n",
       "                                                                            Definition  \n",
       "sensitivity  When it's ACTUALLY YES, how often does it PREDICT YES?                     \n",
       "specificity  When it's ACTUALLY NO, how often does it PREDICT NO?                       \n",
       "ppv          When it PREDICTS YES, how often is it correct?                             \n",
       "auroc        Indicates how well the model is capable of distinguishing between classes  \n",
       "npv          When it PREDICTS NO, how often is it correct?                              \n",
       "f1           Harmonic mean of sensitivity and ppv                                       "
      ]
     },
     "execution_count": 5,
     "metadata": {},
     "output_type": "execute_result"
    }
   ],
   "source": [
    "model = 'lr'\n",
    "bams[model].get_avg_metrics()"
   ]
  },
  {
   "cell_type": "code",
   "execution_count": 6,
   "metadata": {
    "ExecuteTime": {
     "end_time": "2019-06-08T16:20:29.412412Z",
     "start_time": "2019-06-08T16:20:28.654974Z"
    }
   },
   "outputs": [
    {
     "data": {
      "image/png": "[encoded data removed]",
      "text/plain": [
       "<Figure size 720x576 with 1 Axes>"
      ]
     },
     "metadata": {
      "needs_background": "light"
     },
     "output_type": "display_data"
    }
   ],
   "source": [
    "fig, ax = plt.subplots(1, 1, figsize=(10, 8))\n",
    "plot_mean_roc(ax, bams[model].targs, bams[model].probs)"
   ]
  },
  {
   "cell_type": "code",
   "execution_count": 7,
   "metadata": {
    "ExecuteTime": {
     "end_time": "2019-06-08T16:20:29.690093Z",
     "start_time": "2019-06-08T16:20:29.414623Z"
    }
   },
   "outputs": [
    {
     "data": {
      "image/png": "[encoded data removed]",
      "text/plain": [
       "<Figure size 1080x432 with 4 Axes>"
      ]
     },
     "metadata": {
      "needs_background": "light"
     },
     "output_type": "display_data"
    }
   ],
   "source": [
    "fig, ax = plt.subplots(1, 2, figsize=(15, 6))\n",
    "\n",
    "plot_confusion_matrix(ax[0], bams[model].cm_avg, classes=['not imminent', 'imminent'], normalize=False,\\\n",
    "                      title='Confusion Matrix Over Runs')\n",
    "plot_confusion_matrix(ax[1], bams[model].cm_avg, classes=['not imminent', 'imminent'], normalize=True,\\\n",
    "                      title='Normalized Confusion Matrix Over Runs')\n",
    "plt.show()"
   ]
  },
  {
   "cell_type": "markdown",
   "metadata": {},
   "source": [
    "## Temporal Performance Analysis"
   ]
  },
  {
   "cell_type": "markdown",
   "metadata": {},
   "source": [
    "### Subsect data"
   ]
  },
  {
   "cell_type": "code",
   "execution_count": 8,
   "metadata": {
    "ExecuteTime": {
     "end_time": "2019-06-08T16:20:48.876983Z",
     "start_time": "2019-06-08T16:20:45.883190Z"
    }
   },
   "outputs": [
    {
     "data": {
      "text/plain": [
       "count    50828.000000\n",
       "mean    -285.889588  \n",
       "std      288.572212  \n",
       "min     -3388.000000 \n",
       "25%     -361.000000  \n",
       "50%     -207.000000  \n",
       "75%     -123.000000  \n",
       "max     -24.000000   \n",
       "Name: relative_charttime, dtype: float64"
      ]
     },
     "execution_count": 8,
     "metadata": {},
     "output_type": "execute_result"
    }
   ],
   "source": [
    "path = Path('./data')\n",
    "df = pd.read_csv(path/'processed_dataset.csv', parse_dates=['admittime', 'dischtime', 'intime', 'charttime'])\n",
    "\n",
    "df['relative_charttime'] = (df['charttime'] - df['intime']).apply(lambda x: int(x.value/(1e9*60*60)))\n",
    "df['relative_charttime'].describe()"
   ]
  },
  {
   "cell_type": "code",
   "execution_count": 9,
   "metadata": {
    "ExecuteTime": {
     "end_time": "2019-06-08T16:20:49.026414Z",
     "start_time": "2019-06-08T16:20:48.878799Z"
    }
   },
   "outputs": [],
   "source": [
    "# value in hours\n",
    "e1 = -480\n",
    "s1 = -120\n",
    "e2 = -72\n",
    "s2 = -24\n",
    "step = 6\n",
    "\n",
    "temporal_notes = []\n",
    "\n",
    "for i in range(e1, s1, step):\n",
    "  period = f'{i} ≤ t ≤ {i+step}'\n",
    "  tmp = df.loc[((df['relative_charttime'] >= i) & (df['relative_charttime'] <= (i+step)))].copy()\n",
    "  temporal_notes.append((period, tmp))\n",
    "\n",
    "for i in range(e2, s2, step):\n",
    "  period = f'{i} ≤ t ≤ {i+step}'\n",
    "  tmp = df.loc[((df['relative_charttime'] >= i) & (df['relative_charttime'] <= (i+step)))].copy()\n",
    "  temporal_notes.append((period, tmp))"
   ]
  },
  {
   "cell_type": "code",
   "execution_count": 10,
   "metadata": {
    "ExecuteTime": {
     "end_time": "2019-06-08T16:20:49.351632Z",
     "start_time": "2019-06-08T16:20:49.028049Z"
    }
   },
   "outputs": [
    {
     "data": {
      "text/plain": [
       "count    50828.000000\n",
       "mean    -285.889588  \n",
       "std      288.572212  \n",
       "min     -3388.000000 \n",
       "25%     -361.000000  \n",
       "50%     -207.000000  \n",
       "75%     -123.000000  \n",
       "max     -24.000000   \n",
       "Name: relative_charttime, dtype: float64"
      ]
     },
     "execution_count": 10,
     "metadata": {},
     "output_type": "execute_result"
    }
   ],
   "source": [
    "df['relative_charttime'] = (df['charttime'] - df['intime']).apply(lambda x: int(x.value/(1e9*60*60)))\n",
    "df['relative_charttime'].describe()"
   ]
  },
  {
   "cell_type": "markdown",
   "metadata": {},
   "source": [
    "These lengths should not be different..."
   ]
  },
  {
   "cell_type": "code",
   "execution_count": 11,
   "metadata": {
    "ExecuteTime": {
     "end_time": "2019-06-08T16:20:49.496232Z",
     "start_time": "2019-06-08T16:20:49.353169Z"
    }
   },
   "outputs": [],
   "source": [
    "temporal_notes = []\n",
    "\n",
    "for i in range(e1, s1, step):\n",
    "  period = f'{i} ≤ t ≤ {i+step}'\n",
    "  tmp = df.loc[((df['relative_charttime'] >= i) & (df['relative_charttime'] <= (i+step)))].copy()\n",
    "  temporal_notes.append((period, tmp))\n",
    "\n",
    "for i in range(e2, s2, step):\n",
    "  period = f'{i} ≤ t ≤ {i+step}'\n",
    "  tmp = df.loc[((df['relative_charttime'] >= i) & (df['relative_charttime'] <= (i+step)))].copy()\n",
    "  temporal_notes.append((period, tmp))"
   ]
  },
  {
   "cell_type": "code",
   "execution_count": 12,
   "metadata": {
    "ExecuteTime": {
     "end_time": "2019-06-08T16:20:49.540547Z",
     "start_time": "2019-06-08T16:20:49.497676Z"
    }
   },
   "outputs": [
    {
     "name": "stdout",
     "output_type": "stream",
     "text": [
      "6979\n"
     ]
    }
   ],
   "source": [
    "s = 0\n",
    "for (_, x) in temporal_notes:\n",
    "  s += len(x)\n",
    "tmp = df.loc[((df['relative_charttime'] >= e1) & (df['relative_charttime'] <= s1))\\\n",
    "               | ((df['relative_charttime'] >= e2) & (df['relative_charttime'] <= s2))].copy()\n",
    "print(s - len(tmp))"
   ]
  },
  {
   "cell_type": "code",
   "execution_count": 13,
   "metadata": {
    "ExecuteTime": {
     "end_time": "2019-06-08T16:20:50.282068Z",
     "start_time": "2019-06-08T16:20:49.542030Z"
    }
   },
   "outputs": [],
   "source": [
    "pickle.dump(temporal_notes, open(path/'temporal_notes.pkl', 'wb'))"
   ]
  }
 ],
 "metadata": {
  "kernelspec": {
   "display_name": "Python 3",
   "language": "python",
   "name": "python3"
  },
  "language_info": {
   "codemirror_mode": {
    "name": "ipython",
    "version": 3
   },
   "file_extension": ".py",
   "mimetype": "text/x-python",
   "name": "python",
   "nbconvert_exporter": "python",
   "pygments_lexer": "ipython3",
   "version": "3.7.3"
  },
  "toc": {
   "base_numbering": 1,
   "nav_menu": {},
   "number_sections": true,
   "sideBar": true,
   "skip_h1_title": true,
   "title_cell": "Table of Contents",
   "title_sidebar": "Contents",
   "toc_cell": false,
   "toc_position": {
    "height": "calc(100% - 180px)",
    "left": "10px",
    "top": "150px",
    "width": "165px"
   },
   "toc_section_display": true,
   "toc_window_display": false
  }
 },
 "nbformat": 4,
 "nbformat_minor": 2
}
