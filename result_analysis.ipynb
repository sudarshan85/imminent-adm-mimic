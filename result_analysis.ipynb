{
 "cells": [
  {
   "cell_type": "markdown",
   "metadata": {},
   "source": [
    "# Dataset Preparation for First ICU Prediction"
   ]
  },
  {
   "cell_type": "markdown",
   "metadata": {},
   "source": [
    "## Imports & Inits"
   ]
  },
  {
   "cell_type": "code",
   "execution_count": 1,
   "metadata": {
    "ExecuteTime": {
     "end_time": "2019-06-08T17:13:05.167545Z",
     "start_time": "2019-06-08T17:13:05.154786Z"
    }
   },
   "outputs": [],
   "source": [
    "%load_ext autoreload\n",
    "%autoreload 2"
   ]
  },
  {
   "cell_type": "code",
   "execution_count": 2,
   "metadata": {
    "ExecuteTime": {
     "end_time": "2019-06-08T17:13:05.858313Z",
     "start_time": "2019-06-08T17:13:05.168921Z"
    }
   },
   "outputs": [],
   "source": [
    "import sys\n",
    "sys.path.append('../')\n",
    "\n",
    "import matplotlib.pyplot as plt\n",
    "%matplotlib inline\n",
    "\n",
    "import numpy as np\n",
    "np.set_printoptions(precision=2)\n",
    "\n",
    "from utils.metrics import BinaryAvgMetrics\n",
    "from utils.plots import *\n",
    "\n",
    "import pandas as pd\n",
    "import pickle\n",
    "from pathlib import Path"
   ]
  },
  {
   "cell_type": "code",
   "execution_count": 3,
   "metadata": {
    "ExecuteTime": {
     "end_time": "2019-06-08T17:13:05.877386Z",
     "start_time": "2019-06-08T17:13:05.860295Z"
    }
   },
   "outputs": [],
   "source": [
    "path = Path('./data')\n",
    "workdir = path/'work_dir'"
   ]
  },
  {
   "cell_type": "markdown",
   "metadata": {
    "heading_collapsed": true
   },
   "source": [
    "## 100 Run Performance Results"
   ]
  },
  {
   "cell_type": "code",
   "execution_count": null,
   "metadata": {
    "ExecuteTime": {
     "end_time": "2019-06-08T17:00:43.663081Z",
     "start_time": "2019-06-08T17:00:40.034165Z"
    },
    "hidden": true
   },
   "outputs": [],
   "source": [
    "models = ['lr', 'rf']\n",
    "\n",
    "bams = {}\n",
    "\n",
    "for model in models:\n",
    "  with open(workdir/model/'preds.pkl', 'rb') as f:\n",
    "    targs = pickle.load(f)\n",
    "    preds = pickle.load(f)\n",
    "    probs = pickle.load(f)\n",
    "    \n",
    "  bams[model] = BinaryAvgMetrics(targs, preds, probs)\n",
    "\n",
    "all_metrics = {}\n",
    "\n",
    "for key in bams.keys():\n",
    "  all_metrics[key] = []\n",
    "  for i in range(len(bams[key].get_avg_metrics())):\n",
    "    all_metrics[key].append(bams[key].get_avg_metrics().iloc[i]['Value'])\n",
    "\n",
    "metrics = pd.DataFrame(all_metrics, index=['sensitivity', 'specificity', 'ppv', 'auroc', 'npv', 'f1'])\n",
    "metrics"
   ]
  },
  {
   "cell_type": "code",
   "execution_count": null,
   "metadata": {
    "ExecuteTime": {
     "end_time": "2019-06-08T17:00:45.961530Z",
     "start_time": "2019-06-08T17:00:45.721512Z"
    },
    "hidden": true
   },
   "outputs": [],
   "source": [
    "model = 'lr'\n",
    "bams[model].get_avg_metrics()"
   ]
  },
  {
   "cell_type": "code",
   "execution_count": null,
   "metadata": {
    "ExecuteTime": {
     "end_time": "2019-06-08T17:00:46.697570Z",
     "start_time": "2019-06-08T17:00:45.962857Z"
    },
    "hidden": true
   },
   "outputs": [],
   "source": [
    "fig, ax = plt.subplots(1, 1, figsize=(10, 8))\n",
    "plot_mean_roc(ax, bams[model].targs, bams[model].probs)"
   ]
  },
  {
   "cell_type": "code",
   "execution_count": null,
   "metadata": {
    "ExecuteTime": {
     "end_time": "2019-06-08T17:00:46.969581Z",
     "start_time": "2019-06-08T17:00:46.699359Z"
    },
    "hidden": true
   },
   "outputs": [],
   "source": [
    "fig, ax = plt.subplots(1, 2, figsize=(15, 6))\n",
    "\n",
    "plot_confusion_matrix(ax[0], bams[model].cm_avg, classes=['not imminent', 'imminent'], normalize=False,\\\n",
    "                      title='Confusion Matrix Over Runs')\n",
    "plot_confusion_matrix(ax[1], bams[model].cm_avg, classes=['not imminent', 'imminent'], normalize=True,\\\n",
    "                      title='Normalized Confusion Matrix Over Runs')\n",
    "plt.show()"
   ]
  },
  {
   "cell_type": "markdown",
   "metadata": {
    "heading_collapsed": true
   },
   "source": [
    "## Subsect data for Temporal Analysis"
   ]
  },
  {
   "cell_type": "code",
   "execution_count": null,
   "metadata": {
    "ExecuteTime": {
     "end_time": "2019-06-08T16:20:48.876983Z",
     "start_time": "2019-06-08T16:20:45.883190Z"
    },
    "hidden": true
   },
   "outputs": [],
   "source": [
    "df = pd.read_csv(path/'processed_dataset.csv', parse_dates=['admittime', 'dischtime', 'intime', 'charttime'])\n",
    "\n",
    "df['relative_charttime'] = (df['charttime'] - df['intime']).apply(lambda x: int(x.value/(1e9*60*60)))\n",
    "df['relative_charttime'].describe()"
   ]
  },
  {
   "cell_type": "code",
   "execution_count": null,
   "metadata": {
    "ExecuteTime": {
     "end_time": "2019-06-08T16:20:49.026414Z",
     "start_time": "2019-06-08T16:20:48.878799Z"
    },
    "hidden": true
   },
   "outputs": [],
   "source": [
    "# value in hours\n",
    "e1 = -480\n",
    "s1 = -120\n",
    "e2 = -72\n",
    "s2 = -24\n",
    "step = 6\n",
    "\n",
    "temporal_notes = []\n",
    "\n",
    "for i in range(e1, s1, step):\n",
    "  period = f'{i} ≤ t ≤ {i+step}'\n",
    "  tmp = df.loc[((df['relative_charttime'] >= i) & (df['relative_charttime'] <= (i+step)))].copy()\n",
    "  temporal_notes.append((period, tmp))\n",
    "\n",
    "for i in range(e2, s2, step):\n",
    "  period = f'{i} ≤ t ≤ {i+step}'\n",
    "  tmp = df.loc[((df['relative_charttime'] >= i) & (df['relative_charttime'] <= (i+step)))].copy()\n",
    "  temporal_notes.append((period, tmp))"
   ]
  },
  {
   "cell_type": "code",
   "execution_count": null,
   "metadata": {
    "ExecuteTime": {
     "end_time": "2019-06-08T16:20:49.351632Z",
     "start_time": "2019-06-08T16:20:49.028049Z"
    },
    "hidden": true
   },
   "outputs": [],
   "source": [
    "df['relative_charttime'] = (df['charttime'] - df['intime']).apply(lambda x: int(x.value/(1e9*60*60)))\n",
    "df['relative_charttime'].describe()"
   ]
  },
  {
   "cell_type": "markdown",
   "metadata": {
    "hidden": true
   },
   "source": [
    "These lengths should not be different..."
   ]
  },
  {
   "cell_type": "code",
   "execution_count": null,
   "metadata": {
    "ExecuteTime": {
     "end_time": "2019-06-08T16:20:49.496232Z",
     "start_time": "2019-06-08T16:20:49.353169Z"
    },
    "hidden": true
   },
   "outputs": [],
   "source": [
    "temporal_notes = []\n",
    "\n",
    "for i in range(e1, s1, step):\n",
    "  period = f'{i} ≤ t ≤ {i+step}'\n",
    "  tmp = df.loc[((df['relative_charttime'] >= i) & (df['relative_charttime'] <= (i+step)))].copy()\n",
    "  temporal_notes.append((period, tmp))\n",
    "\n",
    "for i in range(e2, s2, step):\n",
    "  period = f'{i} ≤ t ≤ {i+step}'\n",
    "  tmp = df.loc[((df['relative_charttime'] >= i) & (df['relative_charttime'] <= (i+step)))].copy()\n",
    "  temporal_notes.append((period, tmp))"
   ]
  },
  {
   "cell_type": "code",
   "execution_count": null,
   "metadata": {
    "ExecuteTime": {
     "end_time": "2019-06-08T16:20:49.540547Z",
     "start_time": "2019-06-08T16:20:49.497676Z"
    },
    "hidden": true
   },
   "outputs": [],
   "source": [
    "s = 0\n",
    "for (_, x) in temporal_notes:\n",
    "  s += len(x)\n",
    "tmp = df.loc[((df['relative_charttime'] >= e1) & (df['relative_charttime'] <= s1))\\\n",
    "               | ((df['relative_charttime'] >= e2) & (df['relative_charttime'] <= s2))].copy()\n",
    "print(s - len(tmp))"
   ]
  },
  {
   "cell_type": "code",
   "execution_count": null,
   "metadata": {
    "ExecuteTime": {
     "end_time": "2019-06-08T16:20:50.282068Z",
     "start_time": "2019-06-08T16:20:49.542030Z"
    },
    "hidden": true
   },
   "outputs": [],
   "source": [
    "pickle.dump(temporal_notes, open(path/'temporal_notes.pkl', 'wb'))"
   ]
  },
  {
   "cell_type": "markdown",
   "metadata": {},
   "source": [
    "## Temporal Performance Analysis"
   ]
  },
  {
   "cell_type": "code",
   "execution_count": 4,
   "metadata": {
    "ExecuteTime": {
     "end_time": "2019-06-08T17:13:06.961500Z",
     "start_time": "2019-06-08T17:13:06.541958Z"
    }
   },
   "outputs": [],
   "source": [
    "temporal_notes = pickle.load(open(path/'temporal_notes.pkl', 'rb'))"
   ]
  },
  {
   "cell_type": "markdown",
   "metadata": {},
   "source": [
    "### Logistic Regression Model"
   ]
  },
  {
   "cell_type": "code",
   "execution_count": 5,
   "metadata": {
    "ExecuteTime": {
     "end_time": "2019-06-08T17:13:07.983652Z",
     "start_time": "2019-06-08T17:13:07.946620Z"
    }
   },
   "outputs": [],
   "source": [
    "from sklearn.feature_extraction.text import TfidfVectorizer\n",
    "from sklearn.linear_model import LogisticRegression"
   ]
  },
  {
   "cell_type": "code",
   "execution_count": 6,
   "metadata": {
    "ExecuteTime": {
     "end_time": "2019-06-08T17:13:13.663767Z",
     "start_time": "2019-06-08T17:13:13.572165Z"
    }
   },
   "outputs": [],
   "source": [
    "with open(workdir/'lr'/'full_run.pkl', 'rb') as f:\n",
    "  clf = pickle.load(f)\n",
    "  transformer = pickle.load(f)"
   ]
  },
  {
   "cell_type": "code",
   "execution_count": 7,
   "metadata": {
    "ExecuteTime": {
     "end_time": "2019-06-08T17:13:15.210605Z",
     "start_time": "2019-06-08T17:13:15.188668Z"
    }
   },
   "outputs": [],
   "source": [
    "label = temporal_notes[0][0]\n",
    "df = temporal_notes[0][1][['scispacy_note', 'class_label']]"
   ]
  },
  {
   "cell_type": "code",
   "execution_count": 9,
   "metadata": {
    "ExecuteTime": {
     "end_time": "2019-06-08T17:14:19.127482Z",
     "start_time": "2019-06-08T17:14:19.108651Z"
    }
   },
   "outputs": [],
   "source": [
    "vectorizer = TfidfVectorizer(min_df=3, analyzer=str.split, sublinear_tf=True,\\\n",
    "                              ngram_range=(2,2), vocabulary=transformer.vocabulary_)"
   ]
  },
  {
   "cell_type": "code",
   "execution_count": 10,
   "metadata": {
    "ExecuteTime": {
     "end_time": "2019-06-08T17:14:23.769754Z",
     "start_time": "2019-06-08T17:14:23.681224Z"
    }
   },
   "outputs": [],
   "source": [
    "x = vectorizer.fit_transform(df['scispacy_note'])"
   ]
  },
  {
   "cell_type": "code",
   "execution_count": 11,
   "metadata": {
    "ExecuteTime": {
     "end_time": "2019-06-08T17:14:24.676736Z",
     "start_time": "2019-06-08T17:14:24.656529Z"
    }
   },
   "outputs": [],
   "source": [
    "prob = clf.predict_proba(x)[:, 1]"
   ]
  }
 ],
 "metadata": {
  "kernelspec": {
   "display_name": "Python 3",
   "language": "python",
   "name": "python3"
  },
  "language_info": {
   "codemirror_mode": {
    "name": "ipython",
    "version": 3
   },
   "file_extension": ".py",
   "mimetype": "text/x-python",
   "name": "python",
   "nbconvert_exporter": "python",
   "pygments_lexer": "ipython3",
   "version": "3.7.3"
  },
  "toc": {
   "base_numbering": 1,
   "nav_menu": {},
   "number_sections": true,
   "sideBar": true,
   "skip_h1_title": true,
   "title_cell": "Table of Contents",
   "title_sidebar": "Contents",
   "toc_cell": false,
   "toc_position": {
    "height": "calc(100% - 180px)",
    "left": "10px",
    "top": "150px",
    "width": "165px"
   },
   "toc_section_display": true,
   "toc_window_display": false
  }
 },
 "nbformat": 4,
 "nbformat_minor": 2
}
